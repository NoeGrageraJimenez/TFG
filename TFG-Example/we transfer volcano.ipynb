{
 "cells": [
  {
   "cell_type": "code",
   "execution_count": 1,
   "id": "3b55d0fd",
   "metadata": {},
   "outputs": [],
   "source": [
    "import glob\n",
    "import os\n",
    "import time\n",
    "from scipy.io import loadmat\n",
    "import cobra\n",
    "import pandas as pd\n",
    "import matplotlib.pyplot as plt\n",
    "import numpy as np"
   ]
  },
  {
   "cell_type": "code",
   "execution_count": 2,
   "id": "42484909",
   "metadata": {
    "scrolled": true
   },
   "outputs": [
    {
     "name": "stderr",
     "output_type": "stream",
     "text": [
      "No defined compartments in model ContextModel_Hippocampus. Compartments will be deduced heuristically using regular expressions.\n",
      "Using regular expression found the following compartments:c, e, g, i, l, m, n, r, x\n"
     ]
    },
    {
     "name": "stdout",
     "output_type": "stream",
     "text": [
      "The simulation of HippocampusModel-GTEX-11DXW-0011-R1a-SM-DNZZD fluxes takes: 2.777123212814331 seconds\n"
     ]
    },
    {
     "name": "stderr",
     "output_type": "stream",
     "text": [
      "No defined compartments in model ContextModel_Hippocampus. Compartments will be deduced heuristically using regular expressions.\n",
      "Using regular expression found the following compartments:c, e, g, i, l, m, n, r, x\n"
     ]
    },
    {
     "name": "stdout",
     "output_type": "stream",
     "text": [
      "The simulation of HippocampusModel-GTEX-11EI6-0011-R1a-SM-DO93L fluxes takes: 2.7177395820617676 seconds\n"
     ]
    },
    {
     "name": "stderr",
     "output_type": "stream",
     "text": [
      "No defined compartments in model ContextModel_Hippocampus. Compartments will be deduced heuristically using regular expressions.\n",
      "Using regular expression found the following compartments:c, e, g, i, l, m, n, r, x\n"
     ]
    },
    {
     "name": "stdout",
     "output_type": "stream",
     "text": [
      "The simulation of HippocampusModel-GTEX-11GS4-0011-R1a-SM-DO129 fluxes takes: 2.7189998626708984 seconds\n"
     ]
    },
    {
     "name": "stderr",
     "output_type": "stream",
     "text": [
      "No defined compartments in model ContextModel_Hippocampus. Compartments will be deduced heuristically using regular expressions.\n",
      "Using regular expression found the following compartments:c, e, g, l, m, n, r, x\n"
     ]
    },
    {
     "name": "stdout",
     "output_type": "stream",
     "text": [
      "The simulation of HippocampusModel-GTEX-11GSO-0011-R1b-SM-57WD3 fluxes takes: 2.730694055557251 seconds\n"
     ]
    },
    {
     "name": "stderr",
     "output_type": "stream",
     "text": [
      "No defined compartments in model ContextModel_Hippocampus. Compartments will be deduced heuristically using regular expressions.\n",
      "Using regular expression found the following compartments:c, e, g, l, m, n, r, x\n"
     ]
    },
    {
     "name": "stdout",
     "output_type": "stream",
     "text": [
      "The simulation of HippocampusModel-GTEX-11GSP-0011-R1a-SM-9QEJ3 fluxes takes: 2.671496868133545 seconds\n"
     ]
    },
    {
     "name": "stderr",
     "output_type": "stream",
     "text": [
      "No defined compartments in model ContextModel_Hippocampus. Compartments will be deduced heuristically using regular expressions.\n",
      "Using regular expression found the following compartments:c, e, g, i, l, m, n, r, x\n"
     ]
    },
    {
     "name": "stdout",
     "output_type": "stream",
     "text": [
      "The simulation of HippocampusModel-GTEX-11ONC-0011-R1a-SM-57WD4 fluxes takes: 2.5112056732177734 seconds\n"
     ]
    },
    {
     "name": "stderr",
     "output_type": "stream",
     "text": [
      "No defined compartments in model ContextModel_Hippocampus. Compartments will be deduced heuristically using regular expressions.\n",
      "Using regular expression found the following compartments:c, e, g, l, m, n, r, x\n"
     ]
    },
    {
     "name": "stdout",
     "output_type": "stream",
     "text": [
      "The simulation of HippocampusModel-GTEX-11TUW-0011-R1a-SM-DO92S fluxes takes: 2.260368585586548 seconds\n"
     ]
    },
    {
     "name": "stderr",
     "output_type": "stream",
     "text": [
      "No defined compartments in model ContextModel_Hippocampus. Compartments will be deduced heuristically using regular expressions.\n",
      "Using regular expression found the following compartments:c, e, g, l, m, n, r, x\n"
     ]
    },
    {
     "name": "stdout",
     "output_type": "stream",
     "text": [
      "The simulation of HippocampusModel-GTEX-11UD1-0011-R1b-SM-5BC7D fluxes takes: 2.8875374794006348 seconds\n"
     ]
    },
    {
     "name": "stderr",
     "output_type": "stream",
     "text": [
      "No defined compartments in model ContextModel_Hippocampus. Compartments will be deduced heuristically using regular expressions.\n",
      "Using regular expression found the following compartments:c, e, g, l, m, n, r, x\n"
     ]
    },
    {
     "name": "stdout",
     "output_type": "stream",
     "text": [
      "The simulation of HippocampusModel-GTEX-11WQC-0011-R1b-SM-DO932 fluxes takes: 2.7271134853363037 seconds\n"
     ]
    },
    {
     "name": "stderr",
     "output_type": "stream",
     "text": [
      "No defined compartments in model ContextModel_Hippocampus. Compartments will be deduced heuristically using regular expressions.\n",
      "Using regular expression found the following compartments:c, e, g, l, m, n, r, x\n"
     ]
    },
    {
     "name": "stdout",
     "output_type": "stream",
     "text": [
      "The simulation of HippocampusModel-GTEX-11ZTS-0011-R1a-SM-5BC71 fluxes takes: 2.383643627166748 seconds\n"
     ]
    },
    {
     "name": "stderr",
     "output_type": "stream",
     "text": [
      "No defined compartments in model ContextModel_Hippocampus. Compartments will be deduced heuristically using regular expressions.\n",
      "Using regular expression found the following compartments:c, e, g, i, l, m, n, r, x\n"
     ]
    },
    {
     "name": "stdout",
     "output_type": "stream",
     "text": [
      "The simulation of HippocampusModel-GTEX-11ZVC-0011-R1b-SM-5BC6M fluxes takes: 2.740462303161621 seconds\n"
     ]
    },
    {
     "name": "stderr",
     "output_type": "stream",
     "text": [
      "No defined compartments in model ContextModel_Hippocampus. Compartments will be deduced heuristically using regular expressions.\n",
      "Using regular expression found the following compartments:c, e, g, l, m, n, r, x\n"
     ]
    },
    {
     "name": "stdout",
     "output_type": "stream",
     "text": [
      "The simulation of HippocampusModel-GTEX-1212Z-0011-R1b-SM-5BC72 fluxes takes: 2.5880684852600098 seconds\n"
     ]
    },
    {
     "name": "stderr",
     "output_type": "stream",
     "text": [
      "No defined compartments in model ContextModel_Hippocampus. Compartments will be deduced heuristically using regular expressions.\n",
      "Using regular expression found the following compartments:c, e, g, i, l, m, n, r, x\n"
     ]
    },
    {
     "name": "stdout",
     "output_type": "stream",
     "text": [
      "The simulation of HippocampusModel-GTEX-12WSD-0011-R1b-SM-5LZVY fluxes takes: 3.199512004852295 seconds\n"
     ]
    },
    {
     "name": "stderr",
     "output_type": "stream",
     "text": [
      "No defined compartments in model ContextModel_Hippocampus. Compartments will be deduced heuristically using regular expressions.\n",
      "Using regular expression found the following compartments:c, e, g, i, l, m, n, r, x\n"
     ]
    },
    {
     "name": "stdout",
     "output_type": "stream",
     "text": [
      "The simulation of HippocampusModel-GTEX-12WSE-0011-R1b-SM-5GU4V fluxes takes: 2.3720014095306396 seconds\n"
     ]
    },
    {
     "name": "stderr",
     "output_type": "stream",
     "text": [
      "No defined compartments in model ContextModel_Hippocampus. Compartments will be deduced heuristically using regular expressions.\n",
      "Using regular expression found the following compartments:c, e, g, i, l, m, n, r, x\n"
     ]
    },
    {
     "name": "stdout",
     "output_type": "stream",
     "text": [
      "The simulation of HippocampusModel-GTEX-12WSF-0011-R1a-SM-5DUVI fluxes takes: 2.4773828983306885 seconds\n"
     ]
    },
    {
     "name": "stderr",
     "output_type": "stream",
     "text": [
      "No defined compartments in model ContextModel_Hippocampus. Compartments will be deduced heuristically using regular expressions.\n",
      "Using regular expression found the following compartments:c, e, g, i, l, m, n, r, x\n"
     ]
    },
    {
     "name": "stdout",
     "output_type": "stream",
     "text": [
      "The simulation of HippocampusModel-GTEX-12WSH-0011-R1a-SM-5GU5V fluxes takes: 2.3863282203674316 seconds\n"
     ]
    },
    {
     "name": "stderr",
     "output_type": "stream",
     "text": [
      "No defined compartments in model ContextModel_Hippocampus. Compartments will be deduced heuristically using regular expressions.\n",
      "Using regular expression found the following compartments:c, e, g, i, l, m, n, r, x\n"
     ]
    },
    {
     "name": "stdout",
     "output_type": "stream",
     "text": [
      "The simulation of HippocampusModel-GTEX-12WSM-0011-R1a-SM-5LZW6 fluxes takes: 2.4814538955688477 seconds\n"
     ]
    },
    {
     "name": "stderr",
     "output_type": "stream",
     "text": [
      "No defined compartments in model ContextModel_Hippocampus. Compartments will be deduced heuristically using regular expressions.\n",
      "Using regular expression found the following compartments:c, e, g, i, l, m, n, r, x\n"
     ]
    },
    {
     "name": "stdout",
     "output_type": "stream",
     "text": [
      "The simulation of HippocampusModel-GTEX-12ZZX-0011-R1a-SM-5EQ6B fluxes takes: 2.587888479232788 seconds\n"
     ]
    },
    {
     "name": "stderr",
     "output_type": "stream",
     "text": [
      "No defined compartments in model ContextModel_Hippocampus. Compartments will be deduced heuristically using regular expressions.\n",
      "Using regular expression found the following compartments:c, e, g, i, l, m, n, r, x\n"
     ]
    },
    {
     "name": "stdout",
     "output_type": "stream",
     "text": [
      "The simulation of HippocampusModel-GTEX-13112-0011-R1b-SM-5HL7K fluxes takes: 2.3863964080810547 seconds\n"
     ]
    },
    {
     "name": "stderr",
     "output_type": "stream",
     "text": [
      "No defined compartments in model ContextModel_Hippocampus. Compartments will be deduced heuristically using regular expressions.\n",
      "Using regular expression found the following compartments:c, e, g, i, l, m, n, r, x\n"
     ]
    },
    {
     "name": "stdout",
     "output_type": "stream",
     "text": [
      "The simulation of HippocampusModel-GTEX-1313W-0011-R1b-SM-5EQ4A fluxes takes: 2.5263547897338867 seconds\n"
     ]
    },
    {
     "name": "stderr",
     "output_type": "stream",
     "text": [
      "No defined compartments in model ContextModel_Hippocampus. Compartments will be deduced heuristically using regular expressions.\n",
      "Using regular expression found the following compartments:c, e, g, i, l, m, n, r, x\n"
     ]
    },
    {
     "name": "stdout",
     "output_type": "stream",
     "text": [
      "The simulation of HippocampusModel-GTEX-131XH-0011-R1a-SM-5DUWA fluxes takes: 3.589751720428467 seconds\n"
     ]
    },
    {
     "name": "stderr",
     "output_type": "stream",
     "text": [
      "No defined compartments in model ContextModel_Hippocampus. Compartments will be deduced heuristically using regular expressions.\n",
      "Using regular expression found the following compartments:c, e, g, i, l, m, n, r, x\n"
     ]
    },
    {
     "name": "stdout",
     "output_type": "stream",
     "text": [
      "The simulation of HippocampusModel-GTEX-131YS-0011-R1a-SM-5DUXC fluxes takes: 3.3660776615142822 seconds\n"
     ]
    },
    {
     "name": "stderr",
     "output_type": "stream",
     "text": [
      "No defined compartments in model ContextModel_Hippocampus. Compartments will be deduced heuristically using regular expressions.\n",
      "Using regular expression found the following compartments:c, e, g, l, m, n, r, x\n"
     ]
    },
    {
     "name": "stdout",
     "output_type": "stream",
     "text": [
      "The simulation of HippocampusModel-GTEX-132Q8-0011-R1a-SM-5EGLK fluxes takes: 2.5921199321746826 seconds\n"
     ]
    },
    {
     "name": "stderr",
     "output_type": "stream",
     "text": [
      "No defined compartments in model ContextModel_Hippocampus. Compartments will be deduced heuristically using regular expressions.\n",
      "Using regular expression found the following compartments:c, e, g, i, l, m, n, r, x\n"
     ]
    },
    {
     "name": "stdout",
     "output_type": "stream",
     "text": [
      "The simulation of HippocampusModel-GTEX-1399T-0011-R1b-SM-5DUWN fluxes takes: 2.56052565574646 seconds\n"
     ]
    },
    {
     "name": "stderr",
     "output_type": "stream",
     "text": [
      "No defined compartments in model ContextModel_Hippocampus. Compartments will be deduced heuristically using regular expressions.\n",
      "Using regular expression found the following compartments:c, e, g, l, m, n, r, x\n"
     ]
    },
    {
     "name": "stdout",
     "output_type": "stream",
     "text": [
      "The simulation of HippocampusModel-GTEX-139T8-0011-R1a-SM-5HL75 fluxes takes: 2.4551682472229004 seconds\n"
     ]
    },
    {
     "name": "stderr",
     "output_type": "stream",
     "text": [
      "No defined compartments in model ContextModel_Hippocampus. Compartments will be deduced heuristically using regular expressions.\n",
      "Using regular expression found the following compartments:c, e, g, i, l, m, n, r, x\n"
     ]
    },
    {
     "name": "stdout",
     "output_type": "stream",
     "text": [
      "The simulation of HippocampusModel-GTEX-139TT-0011-R1a-SM-5LZVD fluxes takes: 3.7698609828948975 seconds\n"
     ]
    },
    {
     "name": "stderr",
     "output_type": "stream",
     "text": [
      "No defined compartments in model ContextModel_Hippocampus. Compartments will be deduced heuristically using regular expressions.\n",
      "Using regular expression found the following compartments:c, e, g, i, l, m, n, r, x\n"
     ]
    },
    {
     "name": "stdout",
     "output_type": "stream",
     "text": [
      "The simulation of HippocampusModel-GTEX-13CF2-0011-R1a-SM-5LZY1 fluxes takes: 2.5932416915893555 seconds\n"
     ]
    },
    {
     "name": "stderr",
     "output_type": "stream",
     "text": [
      "No defined compartments in model ContextModel_Hippocampus. Compartments will be deduced heuristically using regular expressions.\n",
      "Using regular expression found the following compartments:c, e, g, i, l, m, n, r, x\n"
     ]
    },
    {
     "name": "stdout",
     "output_type": "stream",
     "text": [
      "The simulation of HippocampusModel-GTEX-13FHO-0011-R1b-SM-5KLZG fluxes takes: 2.6063992977142334 seconds\n"
     ]
    },
    {
     "name": "stderr",
     "output_type": "stream",
     "text": [
      "No defined compartments in model ContextModel_Hippocampus. Compartments will be deduced heuristically using regular expressions.\n",
      "Using regular expression found the following compartments:c, e, g, i, l, m, n, r, x\n"
     ]
    },
    {
     "name": "stdout",
     "output_type": "stream",
     "text": [
      "The simulation of HippocampusModel-GTEX-13FHP-0011-R1b-SM-5K7XL fluxes takes: 2.513292074203491 seconds\n"
     ]
    },
    {
     "name": "stderr",
     "output_type": "stream",
     "text": [
      "No defined compartments in model ContextModel_Hippocampus. Compartments will be deduced heuristically using regular expressions.\n",
      "Using regular expression found the following compartments:c, e, g, i, l, m, n, r, x\n"
     ]
    },
    {
     "name": "stdout",
     "output_type": "stream",
     "text": [
      "The simulation of HippocampusModel-GTEX-13FLW-0011-R1b-SM-5LZX2 fluxes takes: 3.725839376449585 seconds\n"
     ]
    },
    {
     "name": "stderr",
     "output_type": "stream",
     "text": [
      "No defined compartments in model ContextModel_Hippocampus. Compartments will be deduced heuristically using regular expressions.\n",
      "Using regular expression found the following compartments:c, e, g, l, m, n, r, x\n"
     ]
    },
    {
     "name": "stdout",
     "output_type": "stream",
     "text": [
      "The simulation of HippocampusModel-GTEX-13FTY-0011-R1a-SM-5LZXE fluxes takes: 2.622647285461426 seconds\n"
     ]
    },
    {
     "name": "stderr",
     "output_type": "stream",
     "text": [
      "No defined compartments in model ContextModel_Hippocampus. Compartments will be deduced heuristically using regular expressions.\n",
      "Using regular expression found the following compartments:c, e, g, i, l, m, n, r, x\n"
     ]
    },
    {
     "name": "stdout",
     "output_type": "stream",
     "text": [
      "The simulation of HippocampusModel-GTEX-13FXS-0011-R1a-SM-5K7U6 fluxes takes: 2.446155548095703 seconds\n"
     ]
    },
    {
     "name": "stderr",
     "output_type": "stream",
     "text": [
      "No defined compartments in model ContextModel_Hippocampus. Compartments will be deduced heuristically using regular expressions.\n",
      "Using regular expression found the following compartments:c, e, g, i, l, m, n, r, x\n"
     ]
    },
    {
     "name": "stdout",
     "output_type": "stream",
     "text": [
      "The simulation of HippocampusModel-GTEX-13G51-0011-R1a-SM-5LZYR fluxes takes: 4.022420406341553 seconds\n"
     ]
    },
    {
     "name": "stderr",
     "output_type": "stream",
     "text": [
      "No defined compartments in model ContextModel_Hippocampus. Compartments will be deduced heuristically using regular expressions.\n",
      "Using regular expression found the following compartments:c, e, g, i, l, m, n, r, x\n"
     ]
    },
    {
     "name": "stdout",
     "output_type": "stream",
     "text": [
      "The simulation of HippocampusModel-GTEX-13JUV-0011-R1a-SM-5LZY4 fluxes takes: 2.450160503387451 seconds\n"
     ]
    },
    {
     "name": "stderr",
     "output_type": "stream",
     "text": [
      "No defined compartments in model ContextModel_Hippocampus. Compartments will be deduced heuristically using regular expressions.\n",
      "Using regular expression found the following compartments:c, e, g, l, m, n, r, x\n"
     ]
    },
    {
     "name": "stdout",
     "output_type": "stream",
     "text": [
      "The simulation of HippocampusModel-GTEX-13JVG-0011-R1a-SM-5KM32 fluxes takes: 2.4410665035247803 seconds\n"
     ]
    },
    {
     "name": "stderr",
     "output_type": "stream",
     "text": [
      "No defined compartments in model ContextModel_Hippocampus. Compartments will be deduced heuristically using regular expressions.\n",
      "Using regular expression found the following compartments:c, e, g, i, l, m, n, r, x\n"
     ]
    },
    {
     "name": "stdout",
     "output_type": "stream",
     "text": [
      "The simulation of HippocampusModel-GTEX-13N1W-0011-R1b-SM-5MR4T fluxes takes: 3.237865447998047 seconds\n"
     ]
    },
    {
     "name": "stderr",
     "output_type": "stream",
     "text": [
      "No defined compartments in model ContextModel_Hippocampus. Compartments will be deduced heuristically using regular expressions.\n",
      "Using regular expression found the following compartments:c, e, g, i, l, m, n, r, x\n"
     ]
    },
    {
     "name": "stdout",
     "output_type": "stream",
     "text": [
      "The simulation of HippocampusModel-GTEX-13N2G-0011-R1b-SM-5MR3G fluxes takes: 2.4082369804382324 seconds\n"
     ]
    },
    {
     "name": "stderr",
     "output_type": "stream",
     "text": [
      "No defined compartments in model ContextModel_Hippocampus. Compartments will be deduced heuristically using regular expressions.\n",
      "Using regular expression found the following compartments:c, e, g, i, l, m, n, r, x\n"
     ]
    },
    {
     "name": "stdout",
     "output_type": "stream",
     "text": [
      "The simulation of HippocampusModel-GTEX-13NYB-0011-R1b-SM-5KM4F fluxes takes: 2.5703859329223633 seconds\n"
     ]
    },
    {
     "name": "stderr",
     "output_type": "stream",
     "text": [
      "No defined compartments in model ContextModel_Hippocampus. Compartments will be deduced heuristically using regular expressions.\n",
      "Using regular expression found the following compartments:c, e, g, i, l, m, n, r, x\n"
     ]
    },
    {
     "name": "stdout",
     "output_type": "stream",
     "text": [
      "The simulation of HippocampusModel-GTEX-13NYS-0011-R1b-SM-5MR55 fluxes takes: 2.519522190093994 seconds\n"
     ]
    },
    {
     "name": "stderr",
     "output_type": "stream",
     "text": [
      "No defined compartments in model ContextModel_Hippocampus. Compartments will be deduced heuristically using regular expressions.\n",
      "Using regular expression found the following compartments:c, e, g, l, m, n, r, x\n"
     ]
    },
    {
     "name": "stdout",
     "output_type": "stream",
     "text": [
      "The simulation of HippocampusModel-GTEX-13NZ8-0011-R1b-SM-5KM3V fluxes takes: 2.1842129230499268 seconds\n"
     ]
    },
    {
     "name": "stderr",
     "output_type": "stream",
     "text": [
      "No defined compartments in model ContextModel_Hippocampus. Compartments will be deduced heuristically using regular expressions.\n",
      "Using regular expression found the following compartments:c, e, g, l, m, n, r, x\n"
     ]
    },
    {
     "name": "stdout",
     "output_type": "stream",
     "text": [
      "The simulation of HippocampusModel-GTEX-13NZA-0011-R1b-SM-5LUAF fluxes takes: 2.3439841270446777 seconds\n"
     ]
    },
    {
     "name": "stderr",
     "output_type": "stream",
     "text": [
      "No defined compartments in model ContextModel_Hippocampus. Compartments will be deduced heuristically using regular expressions.\n",
      "Using regular expression found the following compartments:c, e, g, i, l, m, n, r, x\n"
     ]
    },
    {
     "name": "stdout",
     "output_type": "stream",
     "text": [
      "The simulation of HippocampusModel-GTEX-13O3O-0011-R1b-SM-5KM2K fluxes takes: 5.046760320663452 seconds\n"
     ]
    },
    {
     "name": "stderr",
     "output_type": "stream",
     "text": [
      "No defined compartments in model ContextModel_Hippocampus. Compartments will be deduced heuristically using regular expressions.\n",
      "Using regular expression found the following compartments:c, e, g, i, l, m, n, r, x\n"
     ]
    },
    {
     "name": "stdout",
     "output_type": "stream",
     "text": [
      "The simulation of HippocampusModel-GTEX-13O3Q-0011-R1b-SM-5KM3L fluxes takes: 2.5905966758728027 seconds\n"
     ]
    },
    {
     "name": "stderr",
     "output_type": "stream",
     "text": [
      "No defined compartments in model ContextModel_Hippocampus. Compartments will be deduced heuristically using regular expressions.\n",
      "Using regular expression found the following compartments:c, e, g, i, l, m, n, r, x\n"
     ]
    },
    {
     "name": "stdout",
     "output_type": "stream",
     "text": [
      "The simulation of HippocampusModel-GTEX-13OVJ-0011-R1b-SM-5L3I6 fluxes takes: 2.791938066482544 seconds\n"
     ]
    },
    {
     "name": "stderr",
     "output_type": "stream",
     "text": [
      "No defined compartments in model ContextModel_Hippocampus. Compartments will be deduced heuristically using regular expressions.\n",
      "Using regular expression found the following compartments:c, e, g, l, m, n, r, x\n"
     ]
    },
    {
     "name": "stdout",
     "output_type": "stream",
     "text": [
      "The simulation of HippocampusModel-GTEX-13OVL-0011-R1a-SM-5L3H5 fluxes takes: 2.4159770011901855 seconds\n"
     ]
    },
    {
     "name": "stderr",
     "output_type": "stream",
     "text": [
      "No defined compartments in model ContextModel_Hippocampus. Compartments will be deduced heuristically using regular expressions.\n",
      "Using regular expression found the following compartments:c, e, g, l, m, n, r, x\n"
     ]
    },
    {
     "name": "stdout",
     "output_type": "stream",
     "text": [
      "The simulation of HippocampusModel-GTEX-13OW5-0011-R1b-SM-5L3GE fluxes takes: 2.4869537353515625 seconds\n"
     ]
    },
    {
     "name": "stderr",
     "output_type": "stream",
     "text": [
      "No defined compartments in model ContextModel_Hippocampus. Compartments will be deduced heuristically using regular expressions.\n",
      "Using regular expression found the following compartments:c, e, g, i, l, m, n, r, x\n"
     ]
    },
    {
     "name": "stdout",
     "output_type": "stream",
     "text": [
      "The simulation of HippocampusModel-GTEX-13OW6-0011-R1a-SM-5L3HQ fluxes takes: 2.412221670150757 seconds\n"
     ]
    },
    {
     "name": "stderr",
     "output_type": "stream",
     "text": [
      "No defined compartments in model ContextModel_Hippocampus. Compartments will be deduced heuristically using regular expressions.\n",
      "Using regular expression found the following compartments:c, e, g, i, l, m, n, r, x\n"
     ]
    },
    {
     "name": "stdout",
     "output_type": "stream",
     "text": [
      "The simulation of HippocampusModel-GTEX-13OW7-0011-R1b-SM-5L3HF fluxes takes: 2.5904862880706787 seconds\n"
     ]
    },
    {
     "name": "stderr",
     "output_type": "stream",
     "text": [
      "No defined compartments in model ContextModel_Hippocampus. Compartments will be deduced heuristically using regular expressions.\n",
      "Using regular expression found the following compartments:c, e, g, l, m, n, r, x\n"
     ]
    },
    {
     "name": "stdout",
     "output_type": "stream",
     "text": [
      "The simulation of HippocampusModel-GTEX-13OW8-0011-R1a-SM-5L3HI fluxes takes: 2.4073169231414795 seconds\n"
     ]
    },
    {
     "name": "stderr",
     "output_type": "stream",
     "text": [
      "No defined compartments in model ContextModel_Hippocampus. Compartments will be deduced heuristically using regular expressions.\n",
      "Using regular expression found the following compartments:c, e, g, l, m, n, r, x\n"
     ]
    },
    {
     "name": "stdout",
     "output_type": "stream",
     "text": [
      "The simulation of HippocampusModel-GTEX-13PDP-0011-R1a-SM-5PNX5 fluxes takes: 2.4804117679595947 seconds\n"
     ]
    },
    {
     "name": "stderr",
     "output_type": "stream",
     "text": [
      "No defined compartments in model ContextModel_Hippocampus. Compartments will be deduced heuristically using regular expressions.\n",
      "Using regular expression found the following compartments:c, e, g, l, m, n, r, x\n"
     ]
    },
    {
     "name": "stdout",
     "output_type": "stream",
     "text": [
      "The simulation of HippocampusModel-GTEX-13QIC-0011-R1a-SM-5O9CJ fluxes takes: 2.388808250427246 seconds\n"
     ]
    },
    {
     "name": "stderr",
     "output_type": "stream",
     "text": [
      "No defined compartments in model ContextModel_Hippocampus. Compartments will be deduced heuristically using regular expressions.\n",
      "Using regular expression found the following compartments:c, e, g, l, m, n, r, x\n"
     ]
    },
    {
     "name": "stdout",
     "output_type": "stream",
     "text": [
      "The simulation of HippocampusModel-GTEX-13QJC-0011-R1b-SM-5S2UU fluxes takes: 2.453890085220337 seconds\n"
     ]
    },
    {
     "name": "stderr",
     "output_type": "stream",
     "text": [
      "No defined compartments in model ContextModel_Hippocampus. Compartments will be deduced heuristically using regular expressions.\n",
      "Using regular expression found the following compartments:c, e, g, l, m, n, r, x\n"
     ]
    },
    {
     "name": "stdout",
     "output_type": "stream",
     "text": [
      "The simulation of HippocampusModel-GTEX-13RTJ-0011-R1a-SM-5O9D9 fluxes takes: 2.6222782135009766 seconds\n"
     ]
    },
    {
     "name": "stderr",
     "output_type": "stream",
     "text": [
      "No defined compartments in model ContextModel_Hippocampus. Compartments will be deduced heuristically using regular expressions.\n",
      "Using regular expression found the following compartments:c, e, g, l, m, n, r, x\n"
     ]
    },
    {
     "name": "stdout",
     "output_type": "stream",
     "text": [
      "The simulation of HippocampusModel-GTEX-13RTL-0011-R1a-SM-5PNZ8 fluxes takes: 2.4472811222076416 seconds\n"
     ]
    },
    {
     "name": "stderr",
     "output_type": "stream",
     "text": [
      "No defined compartments in model ContextModel_Hippocampus. Compartments will be deduced heuristically using regular expressions.\n",
      "Using regular expression found the following compartments:c, e, g, i, l, m, n, r, x\n"
     ]
    },
    {
     "name": "stdout",
     "output_type": "stream",
     "text": [
      "The simulation of HippocampusModel-GTEX-13S7M-0011-R1b-SM-5PNZE fluxes takes: 2.461944818496704 seconds\n"
     ]
    },
    {
     "name": "stderr",
     "output_type": "stream",
     "text": [
      "No defined compartments in model ContextModel_Hippocampus. Compartments will be deduced heuristically using regular expressions.\n",
      "Using regular expression found the following compartments:c, e, g, l, m, n, r, x\n"
     ]
    },
    {
     "name": "stdout",
     "output_type": "stream",
     "text": [
      "The simulation of HippocampusModel-GTEX-13SLW-0011-R1a-SM-5S2W7 fluxes takes: 2.30401349067688 seconds\n"
     ]
    },
    {
     "name": "stderr",
     "output_type": "stream",
     "text": [
      "No defined compartments in model ContextModel_Hippocampus. Compartments will be deduced heuristically using regular expressions.\n",
      "Using regular expression found the following compartments:c, e, g, i, l, m, n, r, x\n"
     ]
    },
    {
     "name": "stdout",
     "output_type": "stream",
     "text": [
      "The simulation of HippocampusModel-GTEX-13X6I-0011-R1b-SM-5PNZC fluxes takes: 2.3739049434661865 seconds\n"
     ]
    },
    {
     "name": "stderr",
     "output_type": "stream",
     "text": [
      "No defined compartments in model ContextModel_Hippocampus. Compartments will be deduced heuristically using regular expressions.\n",
      "Using regular expression found the following compartments:c, e, g, i, l, m, n, r, x\n"
     ]
    },
    {
     "name": "stdout",
     "output_type": "stream",
     "text": [
      "The simulation of HippocampusModel-GTEX-144GL-0011-R1a-SM-5PNZ5 fluxes takes: 4.843583345413208 seconds\n"
     ]
    },
    {
     "name": "stderr",
     "output_type": "stream",
     "text": [
      "No defined compartments in model ContextModel_Hippocampus. Compartments will be deduced heuristically using regular expressions.\n",
      "Using regular expression found the following compartments:c, e, g, l, m, n, r, x\n"
     ]
    },
    {
     "name": "stdout",
     "output_type": "stream",
     "text": [
      "The simulation of HippocampusModel-GTEX-144GO-0011-R1a-SM-5PNWO fluxes takes: 2.2380876541137695 seconds\n"
     ]
    },
    {
     "name": "stderr",
     "output_type": "stream",
     "text": [
      "No defined compartments in model ContextModel_Hippocampus. Compartments will be deduced heuristically using regular expressions.\n",
      "Using regular expression found the following compartments:c, e, g, l, m, n, r, x\n"
     ]
    },
    {
     "name": "stdout",
     "output_type": "stream",
     "text": [
      "The simulation of HippocampusModel-GTEX-145LS-0011-R1b-SM-5PNUP fluxes takes: 2.3569226264953613 seconds\n"
     ]
    },
    {
     "name": "stderr",
     "output_type": "stream",
     "text": [
      "No defined compartments in model ContextModel_Hippocampus. Compartments will be deduced heuristically using regular expressions.\n",
      "Using regular expression found the following compartments:c, e, g, l, m, n, r, x\n"
     ]
    },
    {
     "name": "stdout",
     "output_type": "stream",
     "text": [
      "The simulation of HippocampusModel-GTEX-145LU-0011-R1a-SM-5Q5CE fluxes takes: 2.3418352603912354 seconds\n"
     ]
    },
    {
     "name": "stderr",
     "output_type": "stream",
     "text": [
      "No defined compartments in model ContextModel_Hippocampus. Compartments will be deduced heuristically using regular expressions.\n",
      "Using regular expression found the following compartments:c, e, g, i, l, m, n, r, x\n"
     ]
    },
    {
     "name": "stdout",
     "output_type": "stream",
     "text": [
      "The simulation of HippocampusModel-GTEX-145MH-0011-R1b-SM-5PNWY fluxes takes: 2.4191315174102783 seconds\n"
     ]
    },
    {
     "name": "stderr",
     "output_type": "stream",
     "text": [
      "No defined compartments in model ContextModel_Hippocampus. Compartments will be deduced heuristically using regular expressions.\n",
      "Using regular expression found the following compartments:c, e, g, i, l, m, n, r, x\n"
     ]
    },
    {
     "name": "stdout",
     "output_type": "stream",
     "text": [
      "The simulation of HippocampusModel-GTEX-14ABY-0011-R1a-SM-6EU2W fluxes takes: 5.491137266159058 seconds\n"
     ]
    },
    {
     "name": "stderr",
     "output_type": "stream",
     "text": [
      "No defined compartments in model ContextModel_Hippocampus. Compartments will be deduced heuristically using regular expressions.\n",
      "Using regular expression found the following compartments:c, e, g, i, l, m, n, r, x\n"
     ]
    },
    {
     "name": "stdout",
     "output_type": "stream",
     "text": [
      "The simulation of HippocampusModel-GTEX-14ASI-0011-R1b-SM-5S2TY fluxes takes: 2.5788321495056152 seconds\n"
     ]
    },
    {
     "name": "stderr",
     "output_type": "stream",
     "text": [
      "No defined compartments in model ContextModel_Hippocampus. Compartments will be deduced heuristically using regular expressions.\n",
      "Using regular expression found the following compartments:c, e, g, l, m, n, r, x\n"
     ]
    },
    {
     "name": "stdout",
     "output_type": "stream",
     "text": [
      "The simulation of HippocampusModel-GTEX-14BIM-0011-R1a-SM-69LQI fluxes takes: 2.1990320682525635 seconds\n"
     ]
    },
    {
     "name": "stderr",
     "output_type": "stream",
     "text": [
      "No defined compartments in model ContextModel_Hippocampus. Compartments will be deduced heuristically using regular expressions.\n",
      "Using regular expression found the following compartments:c, e, g, i, l, m, n, r, x\n"
     ]
    },
    {
     "name": "stdout",
     "output_type": "stream",
     "text": [
      "The simulation of HippocampusModel-GTEX-14C5O-0011-R1b-SM-6AJBW fluxes takes: 2.411743402481079 seconds\n"
     ]
    },
    {
     "name": "stderr",
     "output_type": "stream",
     "text": [
      "No defined compartments in model ContextModel_Hippocampus. Compartments will be deduced heuristically using regular expressions.\n",
      "Using regular expression found the following compartments:c, e, g, i, l, m, n, r, x\n"
     ]
    },
    {
     "name": "stdout",
     "output_type": "stream",
     "text": [
      "The simulation of HippocampusModel-GTEX-14E6D-0011-R1b-SM-5YYAW fluxes takes: 2.507173538208008 seconds\n"
     ]
    },
    {
     "name": "stderr",
     "output_type": "stream",
     "text": [
      "No defined compartments in model ContextModel_Hippocampus. Compartments will be deduced heuristically using regular expressions.\n",
      "Using regular expression found the following compartments:c, e, g, i, l, m, n, r, x\n"
     ]
    },
    {
     "name": "stdout",
     "output_type": "stream",
     "text": [
      "The simulation of HippocampusModel-GTEX-14E7W-0011-R1b-SM-5YYAT fluxes takes: 2.5116701126098633 seconds\n"
     ]
    },
    {
     "name": "stderr",
     "output_type": "stream",
     "text": [
      "No defined compartments in model ContextModel_Hippocampus. Compartments will be deduced heuristically using regular expressions.\n",
      "Using regular expression found the following compartments:c, e, g, i, l, m, n, r, x\n"
     ]
    },
    {
     "name": "stdout",
     "output_type": "stream",
     "text": [
      "The simulation of HippocampusModel-GTEX-14JIY-0011-R1a-SM-68713 fluxes takes: 2.4140872955322266 seconds\n"
     ]
    },
    {
     "name": "stderr",
     "output_type": "stream",
     "text": [
      "No defined compartments in model ContextModel_Hippocampus. Compartments will be deduced heuristically using regular expressions.\n",
      "Using regular expression found the following compartments:c, e, g, i, l, m, n, r, x\n"
     ]
    },
    {
     "name": "stdout",
     "output_type": "stream",
     "text": [
      "The simulation of HippocampusModel-GTEX-14LLW-0011-R1a-SM-5ZZVD fluxes takes: 2.7668769359588623 seconds\n"
     ]
    },
    {
     "name": "stderr",
     "output_type": "stream",
     "text": [
      "No defined compartments in model ContextModel_Hippocampus. Compartments will be deduced heuristically using regular expressions.\n",
      "Using regular expression found the following compartments:c, e, g, l, m, n, r, x\n"
     ]
    },
    {
     "name": "stdout",
     "output_type": "stream",
     "text": [
      "The simulation of HippocampusModel-GTEX-14LZ3-0011-R1a-SM-69LP5 fluxes takes: 2.3586013317108154 seconds\n"
     ]
    },
    {
     "name": "stderr",
     "output_type": "stream",
     "text": [
      "No defined compartments in model ContextModel_Hippocampus. Compartments will be deduced heuristically using regular expressions.\n",
      "Using regular expression found the following compartments:c, e, g, i, l, m, n, r, x\n"
     ]
    },
    {
     "name": "stdout",
     "output_type": "stream",
     "text": [
      "The simulation of HippocampusModel-GTEX-14PJM-0011-R1a-SM-CNPO3 fluxes takes: 2.52831768989563 seconds\n"
     ]
    },
    {
     "name": "stderr",
     "output_type": "stream",
     "text": [
      "No defined compartments in model ContextModel_Hippocampus. Compartments will be deduced heuristically using regular expressions.\n",
      "Using regular expression found the following compartments:c, e, g, l, m, n, r, x\n"
     ]
    },
    {
     "name": "stdout",
     "output_type": "stream",
     "text": [
      "The simulation of HippocampusModel-GTEX-14PJO-0011-R1b-SM-6AJAK fluxes takes: 2.5433828830718994 seconds\n"
     ]
    },
    {
     "name": "stderr",
     "output_type": "stream",
     "text": [
      "No defined compartments in model ContextModel_Hippocampus. Compartments will be deduced heuristically using regular expressions.\n",
      "Using regular expression found the following compartments:c, e, g, i, l, m, n, r, x\n"
     ]
    },
    {
     "name": "stdout",
     "output_type": "stream",
     "text": [
      "The simulation of HippocampusModel-GTEX-14PN4-0011-R1b-SM-69LP8 fluxes takes: 3.761979579925537 seconds\n"
     ]
    },
    {
     "name": "stderr",
     "output_type": "stream",
     "text": [
      "No defined compartments in model ContextModel_Hippocampus. Compartments will be deduced heuristically using regular expressions.\n",
      "Using regular expression found the following compartments:c, e, g, l, m, n, r, x\n"
     ]
    },
    {
     "name": "stdout",
     "output_type": "stream",
     "text": [
      "The simulation of HippocampusModel-GTEX-14PQA-0011-R1b-SM-6EU1G fluxes takes: 2.469836711883545 seconds\n"
     ]
    },
    {
     "name": "stderr",
     "output_type": "stream",
     "text": [
      "No defined compartments in model ContextModel_Hippocampus. Compartments will be deduced heuristically using regular expressions.\n",
      "Using regular expression found the following compartments:c, e, g, i, l, m, n, r, x\n"
     ]
    },
    {
     "name": "stdout",
     "output_type": "stream",
     "text": [
      "The simulation of HippocampusModel-GTEX-15CHQ-0011-R1a-SM-COH27 fluxes takes: 2.712519645690918 seconds\n"
     ]
    },
    {
     "name": "stderr",
     "output_type": "stream",
     "text": [
      "No defined compartments in model ContextModel_Hippocampus. Compartments will be deduced heuristically using regular expressions.\n",
      "Using regular expression found the following compartments:c, e, g, i, l, m, n, r, x\n"
     ]
    },
    {
     "name": "stdout",
     "output_type": "stream",
     "text": [
      "The simulation of HippocampusModel-GTEX-15DCD-0011-R1b-SM-6LPIJ fluxes takes: 2.452976942062378 seconds\n"
     ]
    },
    {
     "name": "stderr",
     "output_type": "stream",
     "text": [
      "No defined compartments in model ContextModel_Hippocampus. Compartments will be deduced heuristically using regular expressions.\n",
      "Using regular expression found the following compartments:c, e, g, i, l, m, n, r, x\n"
     ]
    },
    {
     "name": "stdout",
     "output_type": "stream",
     "text": [
      "The simulation of HippocampusModel-GTEX-15ER7-0011-R1b-SM-7KUE1 fluxes takes: 2.5207536220550537 seconds\n"
     ]
    },
    {
     "name": "stderr",
     "output_type": "stream",
     "text": [
      "No defined compartments in model ContextModel_Hippocampus. Compartments will be deduced heuristically using regular expressions.\n",
      "Using regular expression found the following compartments:c, e, g, l, m, n, r, x\n"
     ]
    },
    {
     "name": "stdout",
     "output_type": "stream",
     "text": [
      "The simulation of HippocampusModel-GTEX-15UF6-0011-R1a-SM-9QEGH fluxes takes: 2.3219480514526367 seconds\n"
     ]
    },
    {
     "name": "stderr",
     "output_type": "stream",
     "text": [
      "No defined compartments in model ContextModel_Hippocampus. Compartments will be deduced heuristically using regular expressions.\n",
      "Using regular expression found the following compartments:c, e, g, l, m, n, r, x\n"
     ]
    },
    {
     "name": "stdout",
     "output_type": "stream",
     "text": [
      "The simulation of HippocampusModel-GTEX-16GPK-0011-R1b-SM-7EWDH fluxes takes: 2.4257614612579346 seconds\n"
     ]
    },
    {
     "name": "stderr",
     "output_type": "stream",
     "text": [
      "No defined compartments in model ContextModel_Hippocampus. Compartments will be deduced heuristically using regular expressions.\n",
      "Using regular expression found the following compartments:c, e, g, l, m, n, r, x\n"
     ]
    },
    {
     "name": "stdout",
     "output_type": "stream",
     "text": [
      "The simulation of HippocampusModel-GTEX-16NPV-0011-R1b-SM-7MGVZ fluxes takes: 2.427060604095459 seconds\n"
     ]
    },
    {
     "name": "stderr",
     "output_type": "stream",
     "text": [
      "No defined compartments in model ContextModel_Hippocampus. Compartments will be deduced heuristically using regular expressions.\n",
      "Using regular expression found the following compartments:c, e, g, i, l, m, n, r, x\n"
     ]
    },
    {
     "name": "stdout",
     "output_type": "stream",
     "text": [
      "The simulation of HippocampusModel-GTEX-16XZZ-0011-R1a-SM-7LTAH fluxes takes: 2.5144248008728027 seconds\n"
     ]
    },
    {
     "name": "stderr",
     "output_type": "stream",
     "text": [
      "No defined compartments in model ContextModel_Hippocampus. Compartments will be deduced heuristically using regular expressions.\n",
      "Using regular expression found the following compartments:c, e, g, i, l, m, n, r, x\n"
     ]
    },
    {
     "name": "stdout",
     "output_type": "stream",
     "text": [
      "The simulation of HippocampusModel-GTEX-16YQH-0011-R1a-SM-7LT8R fluxes takes: 3.407975435256958 seconds\n"
     ]
    },
    {
     "name": "stderr",
     "output_type": "stream",
     "text": [
      "No defined compartments in model ContextModel_Hippocampus. Compartments will be deduced heuristically using regular expressions.\n",
      "Using regular expression found the following compartments:c, e, g, i, l, m, n, r, x\n"
     ]
    },
    {
     "name": "stdout",
     "output_type": "stream",
     "text": [
      "The simulation of HippocampusModel-GTEX-16Z82-0011-R1b-SM-7EPHZ fluxes takes: 2.5714969635009766 seconds\n"
     ]
    },
    {
     "name": "stderr",
     "output_type": "stream",
     "text": [
      "No defined compartments in model ContextModel_Hippocampus. Compartments will be deduced heuristically using regular expressions.\n",
      "Using regular expression found the following compartments:c, e, g, i, l, m, n, r, x\n"
     ]
    },
    {
     "name": "stdout",
     "output_type": "stream",
     "text": [
      "The simulation of HippocampusModel-GTEX-17EVP-0011-R1a-SM-7DHLA fluxes takes: 2.6505815982818604 seconds\n"
     ]
    },
    {
     "name": "stderr",
     "output_type": "stream",
     "text": [
      "No defined compartments in model ContextModel_Hippocampus. Compartments will be deduced heuristically using regular expressions.\n",
      "Using regular expression found the following compartments:c, e, g, l, m, n, r, x\n"
     ]
    },
    {
     "name": "stdout",
     "output_type": "stream",
     "text": [
      "The simulation of HippocampusModel-GTEX-17EVQ-0011-R1a-SM-7189S fluxes takes: 5.985047817230225 seconds\n"
     ]
    },
    {
     "name": "stderr",
     "output_type": "stream",
     "text": [
      "No defined compartments in model ContextModel_Hippocampus. Compartments will be deduced heuristically using regular expressions.\n",
      "Using regular expression found the following compartments:c, e, g, l, m, n, r, x\n"
     ]
    },
    {
     "name": "stdout",
     "output_type": "stream",
     "text": [
      "The simulation of HippocampusModel-GTEX-17F97-0011-R1b-SM-7IGM9 fluxes takes: 2.5487632751464844 seconds\n"
     ]
    },
    {
     "name": "stderr",
     "output_type": "stream",
     "text": [
      "No defined compartments in model ContextModel_Hippocampus. Compartments will be deduced heuristically using regular expressions.\n",
      "Using regular expression found the following compartments:c, e, g, i, l, m, n, r, x\n"
     ]
    },
    {
     "name": "stdout",
     "output_type": "stream",
     "text": [
      "The simulation of HippocampusModel-GTEX-17HG3-0011-R1a-SM-7LG6H fluxes takes: 3.3082423210144043 seconds\n"
     ]
    },
    {
     "name": "stderr",
     "output_type": "stream",
     "text": [
      "No defined compartments in model ContextModel_Hippocampus. Compartments will be deduced heuristically using regular expressions.\n",
      "Using regular expression found the following compartments:c, e, g, i, l, m, n, r, x\n"
     ]
    },
    {
     "name": "stdout",
     "output_type": "stream",
     "text": [
      "The simulation of HippocampusModel-GTEX-17HHY-0011-R1a-SM-7189V fluxes takes: 3.542520046234131 seconds\n"
     ]
    },
    {
     "name": "stderr",
     "output_type": "stream",
     "text": [
      "No defined compartments in model ContextModel_Hippocampus. Compartments will be deduced heuristically using regular expressions.\n",
      "Using regular expression found the following compartments:c, e, g, l, m, n, r, x\n"
     ]
    },
    {
     "name": "stdout",
     "output_type": "stream",
     "text": [
      "The simulation of HippocampusModel-GTEX-17HII-0011-R1b-SM-7MGVW fluxes takes: 2.604012966156006 seconds\n"
     ]
    },
    {
     "name": "stderr",
     "output_type": "stream",
     "text": [
      "No defined compartments in model ContextModel_Hippocampus. Compartments will be deduced heuristically using regular expressions.\n",
      "Using regular expression found the following compartments:c, e, g, i, l, m, n, r, x\n"
     ]
    },
    {
     "name": "stdout",
     "output_type": "stream",
     "text": [
      "The simulation of HippocampusModel-GTEX-17JCI-0011-R1b-SM-718A3 fluxes takes: 2.6589627265930176 seconds\n"
     ]
    },
    {
     "name": "stderr",
     "output_type": "stream",
     "text": [
      "No defined compartments in model ContextModel_Hippocampus. Compartments will be deduced heuristically using regular expressions.\n",
      "Using regular expression found the following compartments:c, e, g, l, m, n, r, x\n"
     ]
    },
    {
     "name": "stdout",
     "output_type": "stream",
     "text": [
      "The simulation of HippocampusModel-GTEX-17MF6-0011-R1a-SM-72D6O fluxes takes: 2.4930882453918457 seconds\n"
     ]
    },
    {
     "name": "stderr",
     "output_type": "stream",
     "text": [
      "No defined compartments in model ContextModel_Hippocampus. Compartments will be deduced heuristically using regular expressions.\n",
      "Using regular expression found the following compartments:c, e, g, l, m, n, r, x\n"
     ]
    },
    {
     "name": "stdout",
     "output_type": "stream",
     "text": [
      "The simulation of HippocampusModel-GTEX-183WM-0011-R1a-SM-718A8 fluxes takes: 2.7535054683685303 seconds\n"
     ]
    },
    {
     "name": "stderr",
     "output_type": "stream",
     "text": [
      "No defined compartments in model ContextModel_Hippocampus. Compartments will be deduced heuristically using regular expressions.\n",
      "Using regular expression found the following compartments:c, e, g, l, m, n, r, x\n"
     ]
    },
    {
     "name": "stdout",
     "output_type": "stream",
     "text": [
      "The simulation of HippocampusModel-GTEX-18A6Q-0011-R1b-SM-731DI fluxes takes: 2.6580727100372314 seconds\n"
     ]
    },
    {
     "name": "stderr",
     "output_type": "stream",
     "text": [
      "No defined compartments in model ContextModel_Hippocampus. Compartments will be deduced heuristically using regular expressions.\n",
      "Using regular expression found the following compartments:c, e, g, l, m, n, r, x\n"
     ]
    },
    {
     "name": "stdout",
     "output_type": "stream",
     "text": [
      "The simulation of HippocampusModel-GTEX-1A32A-0011-R1a-SM-7P8SQ fluxes takes: 2.3882932662963867 seconds\n"
     ]
    },
    {
     "name": "stderr",
     "output_type": "stream",
     "text": [
      "No defined compartments in model ContextModel_Hippocampus. Compartments will be deduced heuristically using regular expressions.\n",
      "Using regular expression found the following compartments:c, e, g, i, l, m, n, r, x\n"
     ]
    },
    {
     "name": "stdout",
     "output_type": "stream",
     "text": [
      "The simulation of HippocampusModel-GTEX-1A3MX-0011-R1b-SM-7P8PH fluxes takes: 2.528517723083496 seconds\n"
     ]
    },
    {
     "name": "stderr",
     "output_type": "stream",
     "text": [
      "No defined compartments in model ContextModel_Hippocampus. Compartments will be deduced heuristically using regular expressions.\n",
      "Using regular expression found the following compartments:c, e, g, i, l, m, n, r, x\n"
     ]
    },
    {
     "name": "stdout",
     "output_type": "stream",
     "text": [
      "The simulation of HippocampusModel-GTEX-1A8G6-0011-R1a-SM-7P8PC fluxes takes: 2.5290472507476807 seconds\n"
     ]
    },
    {
     "name": "stderr",
     "output_type": "stream",
     "text": [
      "No defined compartments in model ContextModel_Hippocampus. Compartments will be deduced heuristically using regular expressions.\n",
      "Using regular expression found the following compartments:c, e, g, i, l, m, n, r, x\n"
     ]
    },
    {
     "name": "stdout",
     "output_type": "stream",
     "text": [
      "The simulation of HippocampusModel-GTEX-1AX9I-0011-R1b-SM-7RHG2 fluxes takes: 2.7787764072418213 seconds\n"
     ]
    },
    {
     "name": "stderr",
     "output_type": "stream",
     "text": [
      "No defined compartments in model ContextModel_Hippocampus. Compartments will be deduced heuristically using regular expressions.\n",
      "Using regular expression found the following compartments:c, e, g, i, l, m, n, r, x\n"
     ]
    },
    {
     "name": "stdout",
     "output_type": "stream",
     "text": [
      "The simulation of HippocampusModel-GTEX-1B8L1-0011-R1a-SM-7P8SS fluxes takes: 3.5146985054016113 seconds\n"
     ]
    },
    {
     "name": "stderr",
     "output_type": "stream",
     "text": [
      "No defined compartments in model ContextModel_Hippocampus. Compartments will be deduced heuristically using regular expressions.\n",
      "Using regular expression found the following compartments:c, e, g, i, l, m, n, r, x\n"
     ]
    },
    {
     "name": "stdout",
     "output_type": "stream",
     "text": [
      "The simulation of HippocampusModel-GTEX-1B8SF-0011-R1b-SM-7P8Q8 fluxes takes: 2.580068588256836 seconds\n"
     ]
    },
    {
     "name": "stderr",
     "output_type": "stream",
     "text": [
      "No defined compartments in model ContextModel_Lung. Compartments will be deduced heuristically using regular expressions.\n",
      "Using regular expression found the following compartments:c, e, g, i, l, m, n, r, x\n"
     ]
    },
    {
     "name": "stdout",
     "output_type": "stream",
     "text": [
      "The simulation of LungModel-GTEX-111CU-0326-SM-5GZXO fluxes takes: 3.4718260765075684 seconds\n"
     ]
    },
    {
     "name": "stderr",
     "output_type": "stream",
     "text": [
      "No defined compartments in model ContextModel_Lung. Compartments will be deduced heuristically using regular expressions.\n",
      "Using regular expression found the following compartments:c, e, g, l, m, n, r, x\n"
     ]
    },
    {
     "name": "stdout",
     "output_type": "stream",
     "text": [
      "The simulation of LungModel-GTEX-111FC-1126-SM-5GZWU fluxes takes: 2.310128688812256 seconds\n"
     ]
    },
    {
     "name": "stderr",
     "output_type": "stream",
     "text": [
      "No defined compartments in model ContextModel_Lung. Compartments will be deduced heuristically using regular expressions.\n",
      "Using regular expression found the following compartments:c, e, g, i, l, m, n, r, x\n"
     ]
    },
    {
     "name": "stdout",
     "output_type": "stream",
     "text": [
      "The simulation of LungModel-GTEX-111VG-0726-SM-5GIDC fluxes takes: 3.509446382522583 seconds\n"
     ]
    },
    {
     "name": "stderr",
     "output_type": "stream",
     "text": [
      "No defined compartments in model ContextModel_Lung. Compartments will be deduced heuristically using regular expressions.\n",
      "Using regular expression found the following compartments:c, e, g, l, m, n, r, x\n"
     ]
    },
    {
     "name": "stdout",
     "output_type": "stream",
     "text": [
      "The simulation of LungModel-GTEX-111YS-0626-SM-5GZXV fluxes takes: 2.2941906452178955 seconds\n"
     ]
    },
    {
     "name": "stderr",
     "output_type": "stream",
     "text": [
      "No defined compartments in model ContextModel_Lung. Compartments will be deduced heuristically using regular expressions.\n",
      "Using regular expression found the following compartments:c, e, g, l, m, n, r, x\n"
     ]
    },
    {
     "name": "stdout",
     "output_type": "stream",
     "text": [
      "The simulation of LungModel-GTEX-1122O-0126-SM-5GICA fluxes takes: 2.381057024002075 seconds\n"
     ]
    },
    {
     "name": "stderr",
     "output_type": "stream",
     "text": [
      "No defined compartments in model ContextModel_Lung. Compartments will be deduced heuristically using regular expressions.\n",
      "Using regular expression found the following compartments:c, e, g, l, m, n, r, x\n"
     ]
    },
    {
     "name": "stdout",
     "output_type": "stream",
     "text": [
      "The simulation of LungModel-GTEX-1128S-0726-SM-5N9D6 fluxes takes: 2.368358850479126 seconds\n"
     ]
    },
    {
     "name": "stderr",
     "output_type": "stream",
     "text": [
      "No defined compartments in model ContextModel_Lung. Compartments will be deduced heuristically using regular expressions.\n",
      "Using regular expression found the following compartments:c, e, g, l, m, n, r, x\n"
     ]
    },
    {
     "name": "stdout",
     "output_type": "stream",
     "text": [
      "The simulation of LungModel-GTEX-117YW-0526-SM-5H11C fluxes takes: 2.0919508934020996 seconds\n"
     ]
    },
    {
     "name": "stderr",
     "output_type": "stream",
     "text": [
      "No defined compartments in model ContextModel_Lung. Compartments will be deduced heuristically using regular expressions.\n",
      "Using regular expression found the following compartments:c, e, g, l, m, n, r, x\n"
     ]
    },
    {
     "name": "stdout",
     "output_type": "stream",
     "text": [
      "The simulation of LungModel-GTEX-117YX-1326-SM-5H125 fluxes takes: 2.370884656906128 seconds\n"
     ]
    },
    {
     "name": "stderr",
     "output_type": "stream",
     "text": [
      "No defined compartments in model ContextModel_Lung. Compartments will be deduced heuristically using regular expressions.\n",
      "Using regular expression found the following compartments:c, e, g, l, m, n, r, x\n"
     ]
    },
    {
     "name": "stdout",
     "output_type": "stream",
     "text": [
      "The simulation of LungModel-GTEX-11DXX-0626-SM-5Q5AG fluxes takes: 2.535662889480591 seconds\n"
     ]
    },
    {
     "name": "stderr",
     "output_type": "stream",
     "text": [
      "No defined compartments in model ContextModel_Lung. Compartments will be deduced heuristically using regular expressions.\n",
      "Using regular expression found the following compartments:c, e, g, l, m, n, r, x\n"
     ]
    },
    {
     "name": "stdout",
     "output_type": "stream",
     "text": [
      "The simulation of LungModel-GTEX-11DXZ-0726-SM-5N9C4 fluxes takes: 2.6085004806518555 seconds\n"
     ]
    },
    {
     "name": "stderr",
     "output_type": "stream",
     "text": [
      "No defined compartments in model ContextModel_Lung. Compartments will be deduced heuristically using regular expressions.\n",
      "Using regular expression found the following compartments:c, e, g, l, m, n, r, x\n"
     ]
    },
    {
     "name": "stdout",
     "output_type": "stream",
     "text": [
      "The simulation of LungModel-GTEX-11DZ1-0426-SM-5H11A fluxes takes: 2.3564682006835938 seconds\n"
     ]
    },
    {
     "name": "stderr",
     "output_type": "stream",
     "text": [
      "No defined compartments in model ContextModel_Lung. Compartments will be deduced heuristically using regular expressions.\n",
      "Using regular expression found the following compartments:c, e, g, l, m, n, r, x\n"
     ]
    },
    {
     "name": "stdout",
     "output_type": "stream",
     "text": [
      "The simulation of LungModel-GTEX-11EI6-0826-SM-5985V fluxes takes: 2.320882797241211 seconds\n"
     ]
    },
    {
     "name": "stderr",
     "output_type": "stream",
     "text": [
      "No defined compartments in model ContextModel_Lung. Compartments will be deduced heuristically using regular expressions.\n",
      "Using regular expression found the following compartments:c, e, g, i, l, m, n, r, x\n"
     ]
    },
    {
     "name": "stdout",
     "output_type": "stream",
     "text": [
      "The simulation of LungModel-GTEX-11EMC-0126-SM-5EGKV fluxes takes: 3.2119317054748535 seconds\n"
     ]
    },
    {
     "name": "stderr",
     "output_type": "stream",
     "text": [
      "No defined compartments in model ContextModel_Lung. Compartments will be deduced heuristically using regular expressions.\n",
      "Using regular expression found the following compartments:c, e, g, l, m, n, r, x\n"
     ]
    },
    {
     "name": "stdout",
     "output_type": "stream",
     "text": [
      "The simulation of LungModel-GTEX-11EQ9-0226-SM-5A5JX fluxes takes: 2.470461130142212 seconds\n"
     ]
    },
    {
     "name": "stderr",
     "output_type": "stream",
     "text": [
      "No defined compartments in model ContextModel_Lung. Compartments will be deduced heuristically using regular expressions.\n",
      "Using regular expression found the following compartments:c, e, g, i, l, m, n, r, x\n"
     ]
    },
    {
     "name": "stdout",
     "output_type": "stream",
     "text": [
      "The simulation of LungModel-GTEX-11GSP-0726-SM-5986L fluxes takes: 3.471614360809326 seconds\n"
     ]
    },
    {
     "name": "stderr",
     "output_type": "stream",
     "text": [
      "No defined compartments in model ContextModel_Lung. Compartments will be deduced heuristically using regular expressions.\n",
      "Using regular expression found the following compartments:c, e, g, l, m, n, r, x\n"
     ]
    },
    {
     "name": "stdout",
     "output_type": "stream",
     "text": [
      "The simulation of LungModel-GTEX-11I78-0126-SM-5HL6F fluxes takes: 2.3652825355529785 seconds\n"
     ]
    },
    {
     "name": "stderr",
     "output_type": "stream",
     "text": [
      "No defined compartments in model ContextModel_Lung. Compartments will be deduced heuristically using regular expressions.\n",
      "Using regular expression found the following compartments:c, e, g, l, m, n, r, x\n"
     ]
    },
    {
     "name": "stdout",
     "output_type": "stream",
     "text": [
      "The simulation of LungModel-GTEX-11LCK-0426-SM-5A5M8 fluxes takes: 2.670037269592285 seconds\n"
     ]
    },
    {
     "name": "stderr",
     "output_type": "stream",
     "text": [
      "No defined compartments in model ContextModel_Lung. Compartments will be deduced heuristically using regular expressions.\n",
      "Using regular expression found the following compartments:c, e, g, l, m, n, r, x\n"
     ]
    },
    {
     "name": "stdout",
     "output_type": "stream",
     "text": [
      "The simulation of LungModel-GTEX-11NSD-0326-SM-5A5LS fluxes takes: 2.7629051208496094 seconds\n"
     ]
    },
    {
     "name": "stderr",
     "output_type": "stream",
     "text": [
      "No defined compartments in model ContextModel_Lung. Compartments will be deduced heuristically using regular expressions.\n",
      "Using regular expression found the following compartments:c, e, g, l, m, n, r, x\n"
     ]
    },
    {
     "name": "stdout",
     "output_type": "stream",
     "text": [
      "The simulation of LungModel-GTEX-11NUK-0826-SM-5HL4U fluxes takes: 2.2277793884277344 seconds\n"
     ]
    },
    {
     "name": "stderr",
     "output_type": "stream",
     "text": [
      "No defined compartments in model ContextModel_Lung. Compartments will be deduced heuristically using regular expressions.\n",
      "Using regular expression found the following compartments:c, e, g, i, l, m, n, r, x\n"
     ]
    },
    {
     "name": "stdout",
     "output_type": "stream",
     "text": [
      "The simulation of LungModel-GTEX-11NV4-1126-SM-5HL6J fluxes takes: 2.9884860515594482 seconds\n"
     ]
    },
    {
     "name": "stderr",
     "output_type": "stream",
     "text": [
      "No defined compartments in model ContextModel_Lung. Compartments will be deduced heuristically using regular expressions.\n",
      "Using regular expression found the following compartments:c, e, g, i, l, m, n, r, x\n"
     ]
    },
    {
     "name": "stdout",
     "output_type": "stream",
     "text": [
      "The simulation of LungModel-GTEX-11O72-1326-SM-5BC5A fluxes takes: 3.1399896144866943 seconds\n"
     ]
    },
    {
     "name": "stderr",
     "output_type": "stream",
     "text": [
      "No defined compartments in model ContextModel_Lung. Compartments will be deduced heuristically using regular expressions.\n",
      "Using regular expression found the following compartments:c, e, g, i, l, m, n, r, x\n"
     ]
    },
    {
     "name": "stdout",
     "output_type": "stream",
     "text": [
      "The simulation of LungModel-GTEX-11OF3-1126-SM-5986C fluxes takes: 3.3859128952026367 seconds\n"
     ]
    },
    {
     "name": "stderr",
     "output_type": "stream",
     "text": [
      "No defined compartments in model ContextModel_Lung. Compartments will be deduced heuristically using regular expressions.\n",
      "Using regular expression found the following compartments:c, e, g, l, m, n, r, x\n"
     ]
    },
    {
     "name": "stdout",
     "output_type": "stream",
     "text": [
      "The simulation of LungModel-GTEX-11P7K-0326-SM-59871 fluxes takes: 2.372610569000244 seconds\n"
     ]
    },
    {
     "name": "stderr",
     "output_type": "stream",
     "text": [
      "No defined compartments in model ContextModel_Lung. Compartments will be deduced heuristically using regular expressions.\n",
      "Using regular expression found the following compartments:c, e, g, l, m, n, r, x\n"
     ]
    },
    {
     "name": "stdout",
     "output_type": "stream",
     "text": [
      "The simulation of LungModel-GTEX-11P81-0226-SM-5HL5M fluxes takes: 2.4594943523406982 seconds\n"
     ]
    },
    {
     "name": "stderr",
     "output_type": "stream",
     "text": [
      "No defined compartments in model ContextModel_Lung. Compartments will be deduced heuristically using regular expressions.\n",
      "Using regular expression found the following compartments:c, e, g, l, m, n, r, x\n"
     ]
    },
    {
     "name": "stdout",
     "output_type": "stream",
     "text": [
      "The simulation of LungModel-GTEX-11PRG-0926-SM-5EGI8 fluxes takes: 2.324570417404175 seconds\n"
     ]
    },
    {
     "name": "stderr",
     "output_type": "stream",
     "text": [
      "No defined compartments in model ContextModel_Lung. Compartments will be deduced heuristically using regular expressions.\n",
      "Using regular expression found the following compartments:c, e, g, l, m, n, r, x\n"
     ]
    },
    {
     "name": "stdout",
     "output_type": "stream",
     "text": [
      "The simulation of LungModel-GTEX-11TT1-1626-SM-5EQL7 fluxes takes: 2.384071111679077 seconds\n"
     ]
    },
    {
     "name": "stderr",
     "output_type": "stream",
     "text": [
      "No defined compartments in model ContextModel_Lung. Compartments will be deduced heuristically using regular expressions.\n",
      "Using regular expression found the following compartments:c, e, g, i, l, m, n, r, x\n"
     ]
    },
    {
     "name": "stdout",
     "output_type": "stream",
     "text": [
      "The simulation of LungModel-GTEX-11TUW-0526-SM-5LU9A fluxes takes: 3.4158456325531006 seconds\n"
     ]
    },
    {
     "name": "stderr",
     "output_type": "stream",
     "text": [
      "No defined compartments in model ContextModel_Lung. Compartments will be deduced heuristically using regular expressions.\n",
      "Using regular expression found the following compartments:c, e, g, l, m, n, r, x\n"
     ]
    },
    {
     "name": "stdout",
     "output_type": "stream",
     "text": [
      "The simulation of LungModel-GTEX-11UD2-0726-SM-5EQ69 fluxes takes: 2.30397629737854 seconds\n"
     ]
    },
    {
     "name": "stderr",
     "output_type": "stream",
     "text": [
      "No defined compartments in model ContextModel_Lung. Compartments will be deduced heuristically using regular expressions.\n",
      "Using regular expression found the following compartments:c, e, g, i, l, m, n, r, x\n"
     ]
    },
    {
     "name": "stdout",
     "output_type": "stream",
     "text": [
      "The simulation of LungModel-GTEX-11WQC-0626-SM-5EQMF fluxes takes: 3.1769707202911377 seconds\n"
     ]
    },
    {
     "name": "stderr",
     "output_type": "stream",
     "text": [
      "No defined compartments in model ContextModel_Lung. Compartments will be deduced heuristically using regular expressions.\n",
      "Using regular expression found the following compartments:c, e, g, i, l, m, n, r, x\n"
     ]
    },
    {
     "name": "stdout",
     "output_type": "stream",
     "text": [
      "The simulation of LungModel-GTEX-11WQK-1226-SM-5GU5Z fluxes takes: 3.1974451541900635 seconds\n"
     ]
    },
    {
     "name": "stderr",
     "output_type": "stream",
     "text": [
      "No defined compartments in model ContextModel_Lung. Compartments will be deduced heuristically using regular expressions.\n",
      "Using regular expression found the following compartments:c, e, g, i, l, m, n, r, x\n"
     ]
    },
    {
     "name": "stdout",
     "output_type": "stream",
     "text": [
      "The simulation of LungModel-GTEX-11ZTS-1226-SM-5EQMQ fluxes takes: 3.216884136199951 seconds\n"
     ]
    },
    {
     "name": "stderr",
     "output_type": "stream",
     "text": [
      "No defined compartments in model ContextModel_Lung. Compartments will be deduced heuristically using regular expressions.\n",
      "Using regular expression found the following compartments:c, e, g, l, m, n, r, x\n"
     ]
    },
    {
     "name": "stdout",
     "output_type": "stream",
     "text": [
      "The simulation of LungModel-GTEX-11ZTT-0626-SM-5EQLM fluxes takes: 2.4336159229278564 seconds\n"
     ]
    },
    {
     "name": "stderr",
     "output_type": "stream",
     "text": [
      "No defined compartments in model ContextModel_Lung. Compartments will be deduced heuristically using regular expressions.\n",
      "Using regular expression found the following compartments:c, e, g, l, m, n, r, x\n"
     ]
    },
    {
     "name": "stdout",
     "output_type": "stream",
     "text": [
      "The simulation of LungModel-GTEX-11ZUS-0126-SM-5EQM5 fluxes takes: 2.6100122928619385 seconds\n"
     ]
    },
    {
     "name": "stderr",
     "output_type": "stream",
     "text": [
      "No defined compartments in model ContextModel_Lung. Compartments will be deduced heuristically using regular expressions.\n",
      "Using regular expression found the following compartments:c, e, g, l, m, n, r, x\n"
     ]
    },
    {
     "name": "stdout",
     "output_type": "stream",
     "text": [
      "The simulation of LungModel-GTEX-11ZVC-0226-SM-731E8 fluxes takes: 2.2873880863189697 seconds\n"
     ]
    },
    {
     "name": "stderr",
     "output_type": "stream",
     "text": [
      "No defined compartments in model ContextModel_Lung. Compartments will be deduced heuristically using regular expressions.\n",
      "Using regular expression found the following compartments:c, e, g, i, l, m, n, r, x\n"
     ]
    },
    {
     "name": "stdout",
     "output_type": "stream",
     "text": [
      "The simulation of LungModel-GTEX-1211K-0826-SM-5FQUP fluxes takes: 9.337217807769775 seconds\n"
     ]
    },
    {
     "name": "stderr",
     "output_type": "stream",
     "text": [
      "No defined compartments in model ContextModel_Lung. Compartments will be deduced heuristically using regular expressions.\n",
      "Using regular expression found the following compartments:c, e, g, l, m, n, r, x\n"
     ]
    },
    {
     "name": "stdout",
     "output_type": "stream",
     "text": [
      "The simulation of LungModel-GTEX-1212Z-1026-SM-5EGJ8 fluxes takes: 2.318361759185791 seconds\n"
     ]
    },
    {
     "name": "stderr",
     "output_type": "stream",
     "text": [
      "No defined compartments in model ContextModel_Lung. Compartments will be deduced heuristically using regular expressions.\n",
      "Using regular expression found the following compartments:c, e, g, i, l, m, n, r, x\n"
     ]
    },
    {
     "name": "stdout",
     "output_type": "stream",
     "text": [
      "The simulation of LungModel-GTEX-12584-1426-SM-5EGJ9 fluxes takes: 3.1692087650299072 seconds\n"
     ]
    },
    {
     "name": "stderr",
     "output_type": "stream",
     "text": [
      "No defined compartments in model ContextModel_Lung. Compartments will be deduced heuristically using regular expressions.\n",
      "Using regular expression found the following compartments:c, e, g, l, m, n, r, x\n"
     ]
    },
    {
     "name": "stdout",
     "output_type": "stream",
     "text": [
      "The simulation of LungModel-GTEX-12696-1026-SM-5FQUV fluxes takes: 2.5172667503356934 seconds\n"
     ]
    },
    {
     "name": "stderr",
     "output_type": "stream",
     "text": [
      "No defined compartments in model ContextModel_Lung. Compartments will be deduced heuristically using regular expressions.\n",
      "Using regular expression found the following compartments:c, e, g, i, l, m, n, r, x\n"
     ]
    },
    {
     "name": "stdout",
     "output_type": "stream",
     "text": [
      "The simulation of LungModel-GTEX-1269C-0926-SM-5FQSR fluxes takes: 3.673398017883301 seconds\n"
     ]
    },
    {
     "name": "stderr",
     "output_type": "stream",
     "text": [
      "No defined compartments in model ContextModel_Lung. Compartments will be deduced heuristically using regular expressions.\n",
      "Using regular expression found the following compartments:c, e, g, i, l, m, n, r, x\n"
     ]
    },
    {
     "name": "stdout",
     "output_type": "stream",
     "text": [
      "The simulation of LungModel-GTEX-12BJ1-1026-SM-5EGJA fluxes takes: 3.249155044555664 seconds\n"
     ]
    },
    {
     "name": "stderr",
     "output_type": "stream",
     "text": [
      "No defined compartments in model ContextModel_Lung. Compartments will be deduced heuristically using regular expressions.\n",
      "Using regular expression found the following compartments:c, e, g, i, l, m, n, r, x\n"
     ]
    },
    {
     "name": "stdout",
     "output_type": "stream",
     "text": [
      "The simulation of LungModel-GTEX-12KS4-0726-SM-5FQSX fluxes takes: 3.188425064086914 seconds\n"
     ]
    },
    {
     "name": "stderr",
     "output_type": "stream",
     "text": [
      "No defined compartments in model ContextModel_Lung. Compartments will be deduced heuristically using regular expressions.\n",
      "Using regular expression found the following compartments:c, e, g, l, m, n, r, x\n"
     ]
    },
    {
     "name": "stdout",
     "output_type": "stream",
     "text": [
      "The simulation of LungModel-GTEX-12WSA-1026-SM-5EGHN fluxes takes: 2.615403413772583 seconds\n"
     ]
    },
    {
     "name": "stderr",
     "output_type": "stream",
     "text": [
      "No defined compartments in model ContextModel_Lung. Compartments will be deduced heuristically using regular expressions.\n",
      "Using regular expression found the following compartments:c, e, g, l, m, n, r, x\n"
     ]
    },
    {
     "name": "stdout",
     "output_type": "stream",
     "text": [
      "The simulation of LungModel-GTEX-12WSD-0826-SM-5GCNE fluxes takes: 2.409620523452759 seconds\n"
     ]
    },
    {
     "name": "stderr",
     "output_type": "stream",
     "text": [
      "No defined compartments in model ContextModel_Lung. Compartments will be deduced heuristically using regular expressions.\n",
      "Using regular expression found the following compartments:c, e, g, l, m, n, r, x\n"
     ]
    },
    {
     "name": "stdout",
     "output_type": "stream",
     "text": [
      "The simulation of LungModel-GTEX-12WSE-0826-SM-5S2VL fluxes takes: 2.4873883724212646 seconds\n"
     ]
    },
    {
     "name": "stderr",
     "output_type": "stream",
     "text": [
      "No defined compartments in model ContextModel_Lung. Compartments will be deduced heuristically using regular expressions.\n",
      "Using regular expression found the following compartments:c, e, g, i, l, m, n, r, x\n"
     ]
    },
    {
     "name": "stdout",
     "output_type": "stream",
     "text": [
      "The simulation of LungModel-GTEX-12WSG-5004-SM-7EPG9 fluxes takes: 10.744899988174438 seconds\n"
     ]
    },
    {
     "name": "stderr",
     "output_type": "stream",
     "text": [
      "No defined compartments in model ContextModel_Lung. Compartments will be deduced heuristically using regular expressions.\n",
      "Using regular expression found the following compartments:c, e, g, l, m, n, r, x\n"
     ]
    },
    {
     "name": "stdout",
     "output_type": "stream",
     "text": [
      "The simulation of LungModel-GTEX-12WSH-0126-SM-5GCO3 fluxes takes: 2.475332498550415 seconds\n"
     ]
    },
    {
     "name": "stderr",
     "output_type": "stream",
     "text": [
      "No defined compartments in model ContextModel_Lung. Compartments will be deduced heuristically using regular expressions.\n",
      "Using regular expression found the following compartments:c, e, g, l, m, n, r, x\n"
     ]
    },
    {
     "name": "stdout",
     "output_type": "stream",
     "text": [
      "The simulation of LungModel-GTEX-12WSI-0826-SM-5EGKD fluxes takes: 2.4455223083496094 seconds\n"
     ]
    },
    {
     "name": "stderr",
     "output_type": "stream",
     "text": [
      "No defined compartments in model ContextModel_Lung. Compartments will be deduced heuristically using regular expressions.\n",
      "Using regular expression found the following compartments:c, e, g, l, m, n, r, x\n"
     ]
    },
    {
     "name": "stdout",
     "output_type": "stream",
     "text": [
      "The simulation of LungModel-GTEX-12WSJ-0226-SM-5GCP7 fluxes takes: 2.4177374839782715 seconds\n"
     ]
    },
    {
     "name": "stderr",
     "output_type": "stream",
     "text": [
      "No defined compartments in model ContextModel_Lung. Compartments will be deduced heuristically using regular expressions.\n",
      "Using regular expression found the following compartments:c, e, g, l, m, n, r, x\n"
     ]
    },
    {
     "name": "stdout",
     "output_type": "stream",
     "text": [
      "The simulation of LungModel-GTEX-12WSK-0826-SM-5CVNP fluxes takes: 2.247523546218872 seconds\n"
     ]
    },
    {
     "name": "stderr",
     "output_type": "stream",
     "text": [
      "No defined compartments in model ContextModel_Lung. Compartments will be deduced heuristically using regular expressions.\n",
      "Using regular expression found the following compartments:c, e, g, i, l, m, n, r, x\n"
     ]
    },
    {
     "name": "stdout",
     "output_type": "stream",
     "text": [
      "The simulation of LungModel-GTEX-12WSL-1026-SM-5CVNJ fluxes takes: 3.670775890350342 seconds\n"
     ]
    },
    {
     "name": "stderr",
     "output_type": "stream",
     "text": [
      "No defined compartments in model ContextModel_Lung. Compartments will be deduced heuristically using regular expressions.\n",
      "Using regular expression found the following compartments:c, e, g, l, m, n, r, x\n"
     ]
    },
    {
     "name": "stdout",
     "output_type": "stream",
     "text": [
      "The simulation of LungModel-GTEX-12WSN-5004-SM-793CE fluxes takes: 2.4483351707458496 seconds\n"
     ]
    },
    {
     "name": "stderr",
     "output_type": "stream",
     "text": [
      "No defined compartments in model ContextModel_Lung. Compartments will be deduced heuristically using regular expressions.\n",
      "Using regular expression found the following compartments:c, e, g, l, m, n, r, x\n"
     ]
    },
    {
     "name": "stdout",
     "output_type": "stream",
     "text": [
      "The simulation of LungModel-GTEX-12ZZW-0926-SM-5LZUD fluxes takes: 2.349005937576294 seconds\n"
     ]
    },
    {
     "name": "stderr",
     "output_type": "stream",
     "text": [
      "No defined compartments in model ContextModel_Lung. Compartments will be deduced heuristically using regular expressions.\n",
      "Using regular expression found the following compartments:c, e, g, l, m, n, r, x\n"
     ]
    },
    {
     "name": "stdout",
     "output_type": "stream",
     "text": [
      "The simulation of LungModel-GTEX-12ZZY-0926-SM-5EQ6I fluxes takes: 2.463081121444702 seconds\n"
     ]
    },
    {
     "name": "stderr",
     "output_type": "stream",
     "text": [
      "No defined compartments in model ContextModel_Lung. Compartments will be deduced heuristically using regular expressions.\n",
      "Using regular expression found the following compartments:c, e, g, l, m, n, r, x\n"
     ]
    },
    {
     "name": "stdout",
     "output_type": "stream",
     "text": [
      "The simulation of LungModel-GTEX-13111-0426-SM-5DUXR fluxes takes: 2.4628896713256836 seconds\n"
     ]
    },
    {
     "name": "stderr",
     "output_type": "stream",
     "text": [
      "No defined compartments in model ContextModel_Lung. Compartments will be deduced heuristically using regular expressions.\n",
      "Using regular expression found the following compartments:c, e, g, l, m, n, r, x\n"
     ]
    },
    {
     "name": "stdout",
     "output_type": "stream",
     "text": [
      "The simulation of LungModel-GTEX-13113-5004-SM-79ONL fluxes takes: 2.13281512260437 seconds\n"
     ]
    },
    {
     "name": "stderr",
     "output_type": "stream",
     "text": [
      "No defined compartments in model ContextModel_Lung. Compartments will be deduced heuristically using regular expressions.\n",
      "Using regular expression found the following compartments:c, e, g, l, m, n, r, x\n"
     ]
    },
    {
     "name": "stdout",
     "output_type": "stream",
     "text": [
      "The simulation of LungModel-GTEX-1313W-0926-SM-5EQ56 fluxes takes: 2.3442962169647217 seconds\n"
     ]
    },
    {
     "name": "stderr",
     "output_type": "stream",
     "text": [
      "No defined compartments in model ContextModel_Lung. Compartments will be deduced heuristically using regular expressions.\n",
      "Using regular expression found the following compartments:c, e, g, l, m, n, r, x\n"
     ]
    },
    {
     "name": "stdout",
     "output_type": "stream",
     "text": [
      "The simulation of LungModel-GTEX-131XE-0726-SM-5HL9K fluxes takes: 9.214941263198853 seconds\n"
     ]
    },
    {
     "name": "stderr",
     "output_type": "stream",
     "text": [
      "No defined compartments in model ContextModel_Lung. Compartments will be deduced heuristically using regular expressions.\n",
      "Using regular expression found the following compartments:c, e, g, l, m, n, r, x\n"
     ]
    },
    {
     "name": "stdout",
     "output_type": "stream",
     "text": [
      "The simulation of LungModel-GTEX-131XF-1026-SM-5BC6A fluxes takes: 2.586331844329834 seconds\n"
     ]
    },
    {
     "name": "stderr",
     "output_type": "stream",
     "text": [
      "No defined compartments in model ContextModel_Lung. Compartments will be deduced heuristically using regular expressions.\n",
      "Using regular expression found the following compartments:c, e, g, l, m, n, r, x\n"
     ]
    },
    {
     "name": "stdout",
     "output_type": "stream",
     "text": [
      "The simulation of LungModel-GTEX-131XH-0426-SM-5DUWU fluxes takes: 2.386979341506958 seconds\n"
     ]
    },
    {
     "name": "stderr",
     "output_type": "stream",
     "text": [
      "No defined compartments in model ContextModel_Lung. Compartments will be deduced heuristically using regular expressions.\n",
      "Using regular expression found the following compartments:c, e, g, i, l, m, n, r, x\n"
     ]
    },
    {
     "name": "stdout",
     "output_type": "stream",
     "text": [
      "The simulation of LungModel-GTEX-131XW-1126-SM-5EGK4 fluxes takes: 3.3338334560394287 seconds\n"
     ]
    },
    {
     "name": "stderr",
     "output_type": "stream",
     "text": [
      "No defined compartments in model ContextModel_Lung. Compartments will be deduced heuristically using regular expressions.\n",
      "Using regular expression found the following compartments:c, e, g, l, m, n, r, x\n"
     ]
    },
    {
     "name": "stdout",
     "output_type": "stream",
     "text": [
      "The simulation of LungModel-GTEX-131YS-0926-SM-5IJB9 fluxes takes: 2.568349599838257 seconds\n"
     ]
    },
    {
     "name": "stderr",
     "output_type": "stream",
     "text": [
      "No defined compartments in model ContextModel_Lung. Compartments will be deduced heuristically using regular expressions.\n",
      "Using regular expression found the following compartments:c, e, g, i, l, m, n, r, x\n"
     ]
    },
    {
     "name": "stdout",
     "output_type": "stream",
     "text": [
      "The simulation of LungModel-GTEX-132NY-1226-SM-5PNVF fluxes takes: 3.294604778289795 seconds\n"
     ]
    },
    {
     "name": "stderr",
     "output_type": "stream",
     "text": [
      "No defined compartments in model ContextModel_Lung. Compartments will be deduced heuristically using regular expressions.\n",
      "Using regular expression found the following compartments:c, e, g, i, l, m, n, r, x\n"
     ]
    },
    {
     "name": "stdout",
     "output_type": "stream",
     "text": [
      "The simulation of LungModel-GTEX-132QS-0726-SM-5IJE9 fluxes takes: 3.6967108249664307 seconds\n"
     ]
    },
    {
     "name": "stderr",
     "output_type": "stream",
     "text": [
      "No defined compartments in model ContextModel_Lung. Compartments will be deduced heuristically using regular expressions.\n",
      "Using regular expression found the following compartments:c, e, g, l, m, n, r, x\n"
     ]
    },
    {
     "name": "stdout",
     "output_type": "stream",
     "text": [
      "The simulation of LungModel-GTEX-1339X-0626-SM-5IJER fluxes takes: 2.4166672229766846 seconds\n"
     ]
    },
    {
     "name": "stderr",
     "output_type": "stream",
     "text": [
      "No defined compartments in model ContextModel_Lung. Compartments will be deduced heuristically using regular expressions.\n",
      "Using regular expression found the following compartments:c, e, g, l, m, n, r, x\n"
     ]
    },
    {
     "name": "stdout",
     "output_type": "stream",
     "text": [
      "The simulation of LungModel-GTEX-133LE-0526-SM-5N9EJ fluxes takes: 2.6389496326446533 seconds\n"
     ]
    },
    {
     "name": "stderr",
     "output_type": "stream",
     "text": [
      "No defined compartments in model ContextModel_Lung. Compartments will be deduced heuristically using regular expressions.\n",
      "Using regular expression found the following compartments:c, e, g, l, m, n, r, x\n"
     ]
    },
    {
     "name": "stdout",
     "output_type": "stream",
     "text": [
      "The simulation of LungModel-GTEX-1399S-1726-SM-5L3DI fluxes takes: 2.4516408443450928 seconds\n"
     ]
    },
    {
     "name": "stderr",
     "output_type": "stream",
     "text": [
      "No defined compartments in model ContextModel_Lung. Compartments will be deduced heuristically using regular expressions.\n",
      "Using regular expression found the following compartments:c, e, g, l, m, n, r, x\n"
     ]
    },
    {
     "name": "stdout",
     "output_type": "stream",
     "text": [
      "The simulation of LungModel-GTEX-1399U-0826-SM-5KM1P fluxes takes: 2.4964349269866943 seconds\n"
     ]
    },
    {
     "name": "stderr",
     "output_type": "stream",
     "text": [
      "No defined compartments in model ContextModel_Lung. Compartments will be deduced heuristically using regular expressions.\n",
      "Using regular expression found the following compartments:c, e, g, i, l, m, n, r, x\n"
     ]
    },
    {
     "name": "stdout",
     "output_type": "stream",
     "text": [
      "The simulation of LungModel-GTEX-139T6-0426-SM-5IJEM fluxes takes: 3.489431858062744 seconds\n"
     ]
    },
    {
     "name": "stderr",
     "output_type": "stream",
     "text": [
      "No defined compartments in model ContextModel_Lung. Compartments will be deduced heuristically using regular expressions.\n",
      "Using regular expression found the following compartments:c, e, g, i, l, m, n, r, x\n"
     ]
    },
    {
     "name": "stdout",
     "output_type": "stream",
     "text": [
      "The simulation of LungModel-GTEX-139TT-0726-SM-5K7XW fluxes takes: 3.1642978191375732 seconds\n"
     ]
    },
    {
     "name": "stderr",
     "output_type": "stream",
     "text": [
      "No defined compartments in model ContextModel_Lung. Compartments will be deduced heuristically using regular expressions.\n",
      "Using regular expression found the following compartments:c, e, g, i, l, m, n, r, x\n"
     ]
    },
    {
     "name": "stdout",
     "output_type": "stream",
     "text": [
      "The simulation of LungModel-GTEX-139UW-0226-SM-5K7WU fluxes takes: 3.2232322692871094 seconds\n"
     ]
    },
    {
     "name": "stderr",
     "output_type": "stream",
     "text": [
      "No defined compartments in model ContextModel_Lung. Compartments will be deduced heuristically using regular expressions.\n",
      "Using regular expression found the following compartments:c, e, g, l, m, n, r, x\n"
     ]
    },
    {
     "name": "stdout",
     "output_type": "stream",
     "text": [
      "The simulation of LungModel-GTEX-139YR-0926-SM-5LZYB fluxes takes: 2.39760160446167 seconds\n"
     ]
    },
    {
     "name": "stderr",
     "output_type": "stream",
     "text": [
      "No defined compartments in model ContextModel_Lung. Compartments will be deduced heuristically using regular expressions.\n",
      "Using regular expression found the following compartments:c, e, g, i, l, m, n, r, x\n"
     ]
    },
    {
     "name": "stdout",
     "output_type": "stream",
     "text": [
      "The simulation of LungModel-GTEX-13CF3-0426-SM-5IJEU fluxes takes: 3.3398592472076416 seconds\n"
     ]
    },
    {
     "name": "stderr",
     "output_type": "stream",
     "text": [
      "No defined compartments in model ContextModel_Lung. Compartments will be deduced heuristically using regular expressions.\n",
      "Using regular expression found the following compartments:c, e, g, l, m, n, r, x\n"
     ]
    },
    {
     "name": "stdout",
     "output_type": "stream",
     "text": [
      "The simulation of LungModel-GTEX-13D11-0326-SM-5LZXX fluxes takes: 2.713623046875 seconds\n"
     ]
    },
    {
     "name": "stderr",
     "output_type": "stream",
     "text": [
      "No defined compartments in model ContextModel_Lung. Compartments will be deduced heuristically using regular expressions.\n",
      "Using regular expression found the following compartments:c, e, g, i, l, m, n, r, x\n"
     ]
    },
    {
     "name": "stdout",
     "output_type": "stream",
     "text": [
      "The simulation of LungModel-GTEX-13FH7-1726-SM-5IJE7 fluxes takes: 3.6149697303771973 seconds\n"
     ]
    },
    {
     "name": "stderr",
     "output_type": "stream",
     "text": [
      "No defined compartments in model ContextModel_Lung. Compartments will be deduced heuristically using regular expressions.\n",
      "Using regular expression found the following compartments:c, e, g, l, m, n, r, x\n"
     ]
    },
    {
     "name": "stdout",
     "output_type": "stream",
     "text": [
      "The simulation of LungModel-GTEX-13FHO-1026-SM-5KM1Q fluxes takes: 2.235319137573242 seconds\n"
     ]
    },
    {
     "name": "stderr",
     "output_type": "stream",
     "text": [
      "No defined compartments in model ContextModel_Lung. Compartments will be deduced heuristically using regular expressions.\n",
      "Using regular expression found the following compartments:c, e, g, l, m, n, r, x\n"
     ]
    },
    {
     "name": "stdout",
     "output_type": "stream",
     "text": [
      "The simulation of LungModel-GTEX-13FHP-0726-SM-5K7YI fluxes takes: 2.860381841659546 seconds\n"
     ]
    },
    {
     "name": "stderr",
     "output_type": "stream",
     "text": [
      "No defined compartments in model ContextModel_Lung. Compartments will be deduced heuristically using regular expressions.\n",
      "Using regular expression found the following compartments:c, e, g, i, l, m, n, r, x\n"
     ]
    },
    {
     "name": "stdout",
     "output_type": "stream",
     "text": [
      "The simulation of LungModel-GTEX-13FLV-0426-SM-5KLZA fluxes takes: 3.815779685974121 seconds\n"
     ]
    },
    {
     "name": "stderr",
     "output_type": "stream",
     "text": [
      "No defined compartments in model ContextModel_Lung. Compartments will be deduced heuristically using regular expressions.\n",
      "Using regular expression found the following compartments:c, e, g, l, m, n, r, x\n"
     ]
    },
    {
     "name": "stdout",
     "output_type": "stream",
     "text": [
      "The simulation of LungModel-GTEX-13FTX-0326-SM-5J2NG fluxes takes: 2.69219708442688 seconds\n"
     ]
    },
    {
     "name": "stderr",
     "output_type": "stream",
     "text": [
      "No defined compartments in model ContextModel_Lung. Compartments will be deduced heuristically using regular expressions.\n",
      "Using regular expression found the following compartments:c, e, g, i, l, m, n, r, x\n"
     ]
    },
    {
     "name": "stdout",
     "output_type": "stream",
     "text": [
      "The simulation of LungModel-GTEX-13FTY-0126-SM-5J2NZ fluxes takes: 3.0324723720550537 seconds\n"
     ]
    },
    {
     "name": "stderr",
     "output_type": "stream",
     "text": [
      "No defined compartments in model ContextModel_Lung. Compartments will be deduced heuristically using regular expressions.\n",
      "Using regular expression found the following compartments:c, e, g, l, m, n, r, x\n"
     ]
    },
    {
     "name": "stdout",
     "output_type": "stream",
     "text": [
      "The simulation of LungModel-GTEX-13FTZ-0526-SM-5IJCW fluxes takes: 2.241257905960083 seconds\n"
     ]
    },
    {
     "name": "stderr",
     "output_type": "stream",
     "text": [
      "No defined compartments in model ContextModel_Lung. Compartments will be deduced heuristically using regular expressions.\n",
      "Using regular expression found the following compartments:c, e, g, i, l, m, n, r, x\n"
     ]
    },
    {
     "name": "stdout",
     "output_type": "stream",
     "text": [
      "The simulation of LungModel-GTEX-13G51-0426-SM-5K7Z5 fluxes takes: 3.179814100265503 seconds\n"
     ]
    },
    {
     "name": "stderr",
     "output_type": "stream",
     "text": [
      "No defined compartments in model ContextModel_Lung. Compartments will be deduced heuristically using regular expressions.\n",
      "Using regular expression found the following compartments:c, e, g, l, m, n, r, x\n"
     ]
    },
    {
     "name": "stdout",
     "output_type": "stream",
     "text": [
      "The simulation of LungModel-GTEX-13JUV-0526-SM-5K7XE fluxes takes: 2.2725822925567627 seconds\n"
     ]
    },
    {
     "name": "stderr",
     "output_type": "stream",
     "text": [
      "No defined compartments in model ContextModel_Lung. Compartments will be deduced heuristically using regular expressions.\n",
      "Using regular expression found the following compartments:c, e, g, l, m, n, r, x\n"
     ]
    },
    {
     "name": "stdout",
     "output_type": "stream",
     "text": [
      "The simulation of LungModel-GTEX-13JVG-1426-SM-5MR4W fluxes takes: 2.514852523803711 seconds\n"
     ]
    },
    {
     "name": "stderr",
     "output_type": "stream",
     "text": [
      "No defined compartments in model ContextModel_Lung. Compartments will be deduced heuristically using regular expressions.\n",
      "Using regular expression found the following compartments:c, e, g, l, m, n, r, x\n"
     ]
    },
    {
     "name": "stdout",
     "output_type": "stream",
     "text": [
      "The simulation of LungModel-GTEX-13N11-0326-SM-5LUA3 fluxes takes: 2.250948429107666 seconds\n"
     ]
    },
    {
     "name": "stderr",
     "output_type": "stream",
     "text": [
      "No defined compartments in model ContextModel_Lung. Compartments will be deduced heuristically using regular expressions.\n",
      "Using regular expression found the following compartments:c, e, g, i, l, m, n, r, x\n"
     ]
    },
    {
     "name": "stdout",
     "output_type": "stream",
     "text": [
      "The simulation of LungModel-GTEX-13N1W-0726-SM-5MR57 fluxes takes: 3.280197858810425 seconds\n"
     ]
    },
    {
     "name": "stderr",
     "output_type": "stream",
     "text": [
      "No defined compartments in model ContextModel_Lung. Compartments will be deduced heuristically using regular expressions.\n",
      "Using regular expression found the following compartments:c, e, g, l, m, n, r, x\n"
     ]
    },
    {
     "name": "stdout",
     "output_type": "stream",
     "text": [
      "The simulation of LungModel-GTEX-13N2G-0826-SM-5IJE6 fluxes takes: 2.366276741027832 seconds\n"
     ]
    },
    {
     "name": "stderr",
     "output_type": "stream",
     "text": [
      "No defined compartments in model ContextModel_Lung. Compartments will be deduced heuristically using regular expressions.\n",
      "Using regular expression found the following compartments:c, e, g, i, l, m, n, r, x\n"
     ]
    },
    {
     "name": "stdout",
     "output_type": "stream",
     "text": [
      "The simulation of LungModel-GTEX-13NYB-0626-SM-5MR47 fluxes takes: 3.2277047634124756 seconds\n"
     ]
    },
    {
     "name": "stderr",
     "output_type": "stream",
     "text": [
      "No defined compartments in model ContextModel_Lung. Compartments will be deduced heuristically using regular expressions.\n",
      "Using regular expression found the following compartments:c, e, g, l, m, n, r, x\n"
     ]
    },
    {
     "name": "stdout",
     "output_type": "stream",
     "text": [
      "The simulation of LungModel-GTEX-13NYS-1626-SM-5J2MU fluxes takes: 2.180659532546997 seconds\n"
     ]
    },
    {
     "name": "stderr",
     "output_type": "stream",
     "text": [
      "No defined compartments in model ContextModel_Lung. Compartments will be deduced heuristically using regular expressions.\n",
      "Using regular expression found the following compartments:c, e, g, l, m, n, r, x\n"
     ]
    },
    {
     "name": "stdout",
     "output_type": "stream",
     "text": [
      "The simulation of LungModel-GTEX-13NZ8-0326-SM-5L3DF fluxes takes: 2.4946258068084717 seconds\n"
     ]
    },
    {
     "name": "stderr",
     "output_type": "stream",
     "text": [
      "No defined compartments in model ContextModel_Lung. Compartments will be deduced heuristically using regular expressions.\n",
      "Using regular expression found the following compartments:c, e, g, l, m, n, r, x\n"
     ]
    },
    {
     "name": "stdout",
     "output_type": "stream",
     "text": [
      "The simulation of LungModel-GTEX-13NZ9-0926-SM-5KM12 fluxes takes: 2.176337242126465 seconds\n"
     ]
    },
    {
     "name": "stderr",
     "output_type": "stream",
     "text": [
      "No defined compartments in model ContextModel_Lung. Compartments will be deduced heuristically using regular expressions.\n",
      "Using regular expression found the following compartments:c, e, g, l, m, n, r, x\n"
     ]
    },
    {
     "name": "stdout",
     "output_type": "stream",
     "text": [
      "The simulation of LungModel-GTEX-13NZA-1426-SM-5KM4Y fluxes takes: 2.632352352142334 seconds\n"
     ]
    },
    {
     "name": "stderr",
     "output_type": "stream",
     "text": [
      "No defined compartments in model ContextModel_Lung. Compartments will be deduced heuristically using regular expressions.\n",
      "Using regular expression found the following compartments:c, e, g, l, m, n, r, x\n"
     ]
    },
    {
     "name": "stdout",
     "output_type": "stream",
     "text": [
      "The simulation of LungModel-GTEX-13O21-3026-SM-5J2NI fluxes takes: 2.5450308322906494 seconds\n"
     ]
    },
    {
     "name": "stderr",
     "output_type": "stream",
     "text": [
      "No defined compartments in model ContextModel_Lung. Compartments will be deduced heuristically using regular expressions.\n",
      "Using regular expression found the following compartments:c, e, g, i, l, m, n, r, x\n"
     ]
    },
    {
     "name": "stdout",
     "output_type": "stream",
     "text": [
      "The simulation of LungModel-GTEX-13O3O-0726-SM-5J1N7 fluxes takes: 3.5825576782226562 seconds\n"
     ]
    },
    {
     "name": "stderr",
     "output_type": "stream",
     "text": [
      "No defined compartments in model ContextModel_Lung. Compartments will be deduced heuristically using regular expressions.\n",
      "Using regular expression found the following compartments:c, e, g, l, m, n, r, x\n"
     ]
    },
    {
     "name": "stdout",
     "output_type": "stream",
     "text": [
      "The simulation of LungModel-GTEX-13O3P-1026-SM-5N9E7 fluxes takes: 2.5139057636260986 seconds\n"
     ]
    },
    {
     "name": "stderr",
     "output_type": "stream",
     "text": [
      "No defined compartments in model ContextModel_Lung. Compartments will be deduced heuristically using regular expressions.\n",
      "Using regular expression found the following compartments:c, e, g, i, l, m, n, r, x\n"
     ]
    },
    {
     "name": "stdout",
     "output_type": "stream",
     "text": [
      "The simulation of LungModel-GTEX-13O3Q-0526-SM-5KM18 fluxes takes: 3.394101142883301 seconds\n"
     ]
    },
    {
     "name": "stderr",
     "output_type": "stream",
     "text": [
      "No defined compartments in model ContextModel_Lung. Compartments will be deduced heuristically using regular expressions.\n",
      "Using regular expression found the following compartments:c, e, g, l, m, n, r, x\n"
     ]
    },
    {
     "name": "stdout",
     "output_type": "stream",
     "text": [
      "The simulation of LungModel-GTEX-13O61-0726-SM-5J2MD fluxes takes: 2.503612756729126 seconds\n"
     ]
    },
    {
     "name": "stderr",
     "output_type": "stream",
     "text": [
      "No defined compartments in model ContextModel_Lung. Compartments will be deduced heuristically using regular expressions.\n",
      "Using regular expression found the following compartments:c, e, g, l, m, n, r, x\n"
     ]
    },
    {
     "name": "stdout",
     "output_type": "stream",
     "text": [
      "The simulation of LungModel-GTEX-13OVG-0326-SM-5KM57 fluxes takes: 2.286752462387085 seconds\n"
     ]
    },
    {
     "name": "stderr",
     "output_type": "stream",
     "text": [
      "No defined compartments in model ContextModel_Lung. Compartments will be deduced heuristically using regular expressions.\n",
      "Using regular expression found the following compartments:c, e, g, i, l, m, n, r, x\n"
     ]
    },
    {
     "name": "stdout",
     "output_type": "stream",
     "text": [
      "The simulation of LungModel-GTEX-13OVH-1026-SM-5J2NP fluxes takes: 3.565606117248535 seconds\n"
     ]
    },
    {
     "name": "stderr",
     "output_type": "stream",
     "text": [
      "No defined compartments in model ContextModel_Lung. Compartments will be deduced heuristically using regular expressions.\n",
      "Using regular expression found the following compartments:c, e, g, i, l, m, n, r, x\n"
     ]
    },
    {
     "name": "stdout",
     "output_type": "stream",
     "text": [
      "The simulation of LungModel-GTEX-13OVJ-0726-SM-5KM1W fluxes takes: 3.349862813949585 seconds\n"
     ]
    },
    {
     "name": "stderr",
     "output_type": "stream",
     "text": [
      "No defined compartments in model ContextModel_Lung. Compartments will be deduced heuristically using regular expressions.\n",
      "Using regular expression found the following compartments:c, e, g, l, m, n, r, x\n"
     ]
    },
    {
     "name": "stdout",
     "output_type": "stream",
     "text": [
      "The simulation of LungModel-GTEX-13OVL-0626-SM-5KM13 fluxes takes: 2.286196708679199 seconds\n"
     ]
    }
   ],
   "source": [
    "f_path = \"C:/Users/NOE/Desktop/Wetransfer tpm/Models\"\n",
    "file_paths = glob.glob(f_path + \"/*.mat\")\n",
    "\n",
    "models = []\n",
    "solutions = []\n",
    "times = []\n",
    "\n",
    "for file_path in file_paths:\n",
    "    model = cobra.io.load_matlab_model(file_path)\n",
    "    model.id = os.path.splitext(os.path.basename(file_path))[0].replace(\"_\", \"-\")\n",
    "    \n",
    "    t0 = time.time()  \n",
    "    model.objective = 'biomass_maintenance'\n",
    "    solution = cobra.flux_analysis.pfba(model) # cobra.flux_analysis.parsimonious.pfba\n",
    "    t = time.time()  \n",
    "    pfba_time = t - t0\n",
    "    \n",
    "    print(f\"The simulation of {model.id} fluxes takes: {pfba_time} seconds\")\n",
    "    \n",
    "    models.append(model)\n",
    "    solutions.append(solution)\n",
    "    times.append(pfba_time)"
   ]
  },
  {
   "cell_type": "code",
   "execution_count": 3,
   "id": "6f013d1d",
   "metadata": {},
   "outputs": [
    {
     "data": {
      "text/html": [
       "<div>\n",
       "<style scoped>\n",
       "    .dataframe tbody tr th:only-of-type {\n",
       "        vertical-align: middle;\n",
       "    }\n",
       "\n",
       "    .dataframe tbody tr th {\n",
       "        vertical-align: top;\n",
       "    }\n",
       "\n",
       "    .dataframe thead th {\n",
       "        text-align: right;\n",
       "    }\n",
       "</style>\n",
       "<table border=\"1\" class=\"dataframe\">\n",
       "  <thead>\n",
       "    <tr style=\"text-align: right;\">\n",
       "      <th></th>\n",
       "    </tr>\n",
       "  </thead>\n",
       "  <tbody>\n",
       "    <tr>\n",
       "      <th>HippocampusModel-GTEX-11DXW-0011-R1a-SM-DNZZD</th>\n",
       "    </tr>\n",
       "    <tr>\n",
       "      <th>HippocampusModel-GTEX-11EI6-0011-R1a-SM-DO93L</th>\n",
       "    </tr>\n",
       "    <tr>\n",
       "      <th>HippocampusModel-GTEX-11GS4-0011-R1a-SM-DO129</th>\n",
       "    </tr>\n",
       "    <tr>\n",
       "      <th>HippocampusModel-GTEX-11GSO-0011-R1b-SM-57WD3</th>\n",
       "    </tr>\n",
       "    <tr>\n",
       "      <th>HippocampusModel-GTEX-11GSP-0011-R1a-SM-9QEJ3</th>\n",
       "    </tr>\n",
       "    <tr>\n",
       "      <th>...</th>\n",
       "    </tr>\n",
       "    <tr>\n",
       "      <th>LungModel-GTEX-13O61-0726-SM-5J2MD</th>\n",
       "    </tr>\n",
       "    <tr>\n",
       "      <th>LungModel-GTEX-13OVG-0326-SM-5KM57</th>\n",
       "    </tr>\n",
       "    <tr>\n",
       "      <th>LungModel-GTEX-13OVH-1026-SM-5J2NP</th>\n",
       "    </tr>\n",
       "    <tr>\n",
       "      <th>LungModel-GTEX-13OVJ-0726-SM-5KM1W</th>\n",
       "    </tr>\n",
       "    <tr>\n",
       "      <th>LungModel-GTEX-13OVL-0626-SM-5KM13</th>\n",
       "    </tr>\n",
       "  </tbody>\n",
       "</table>\n",
       "<p>200 rows × 0 columns</p>\n",
       "</div>"
      ],
      "text/plain": [
       "Empty DataFrame\n",
       "Columns: []\n",
       "Index: [HippocampusModel-GTEX-11DXW-0011-R1a-SM-DNZZD, HippocampusModel-GTEX-11EI6-0011-R1a-SM-DO93L, HippocampusModel-GTEX-11GS4-0011-R1a-SM-DO129, HippocampusModel-GTEX-11GSO-0011-R1b-SM-57WD3, HippocampusModel-GTEX-11GSP-0011-R1a-SM-9QEJ3, HippocampusModel-GTEX-11ONC-0011-R1a-SM-57WD4, HippocampusModel-GTEX-11TUW-0011-R1a-SM-DO92S, HippocampusModel-GTEX-11UD1-0011-R1b-SM-5BC7D, HippocampusModel-GTEX-11WQC-0011-R1b-SM-DO932, HippocampusModel-GTEX-11ZTS-0011-R1a-SM-5BC71, HippocampusModel-GTEX-11ZVC-0011-R1b-SM-5BC6M, HippocampusModel-GTEX-1212Z-0011-R1b-SM-5BC72, HippocampusModel-GTEX-12WSD-0011-R1b-SM-5LZVY, HippocampusModel-GTEX-12WSE-0011-R1b-SM-5GU4V, HippocampusModel-GTEX-12WSF-0011-R1a-SM-5DUVI, HippocampusModel-GTEX-12WSH-0011-R1a-SM-5GU5V, HippocampusModel-GTEX-12WSM-0011-R1a-SM-5LZW6, HippocampusModel-GTEX-12ZZX-0011-R1a-SM-5EQ6B, HippocampusModel-GTEX-13112-0011-R1b-SM-5HL7K, HippocampusModel-GTEX-1313W-0011-R1b-SM-5EQ4A, HippocampusModel-GTEX-131XH-0011-R1a-SM-5DUWA, HippocampusModel-GTEX-131YS-0011-R1a-SM-5DUXC, HippocampusModel-GTEX-132Q8-0011-R1a-SM-5EGLK, HippocampusModel-GTEX-1399T-0011-R1b-SM-5DUWN, HippocampusModel-GTEX-139T8-0011-R1a-SM-5HL75, HippocampusModel-GTEX-139TT-0011-R1a-SM-5LZVD, HippocampusModel-GTEX-13CF2-0011-R1a-SM-5LZY1, HippocampusModel-GTEX-13FHO-0011-R1b-SM-5KLZG, HippocampusModel-GTEX-13FHP-0011-R1b-SM-5K7XL, HippocampusModel-GTEX-13FLW-0011-R1b-SM-5LZX2, HippocampusModel-GTEX-13FTY-0011-R1a-SM-5LZXE, HippocampusModel-GTEX-13FXS-0011-R1a-SM-5K7U6, HippocampusModel-GTEX-13G51-0011-R1a-SM-5LZYR, HippocampusModel-GTEX-13JUV-0011-R1a-SM-5LZY4, HippocampusModel-GTEX-13JVG-0011-R1a-SM-5KM32, HippocampusModel-GTEX-13N1W-0011-R1b-SM-5MR4T, HippocampusModel-GTEX-13N2G-0011-R1b-SM-5MR3G, HippocampusModel-GTEX-13NYB-0011-R1b-SM-5KM4F, HippocampusModel-GTEX-13NYS-0011-R1b-SM-5MR55, HippocampusModel-GTEX-13NZ8-0011-R1b-SM-5KM3V, HippocampusModel-GTEX-13NZA-0011-R1b-SM-5LUAF, HippocampusModel-GTEX-13O3O-0011-R1b-SM-5KM2K, HippocampusModel-GTEX-13O3Q-0011-R1b-SM-5KM3L, HippocampusModel-GTEX-13OVJ-0011-R1b-SM-5L3I6, HippocampusModel-GTEX-13OVL-0011-R1a-SM-5L3H5, HippocampusModel-GTEX-13OW5-0011-R1b-SM-5L3GE, HippocampusModel-GTEX-13OW6-0011-R1a-SM-5L3HQ, HippocampusModel-GTEX-13OW7-0011-R1b-SM-5L3HF, HippocampusModel-GTEX-13OW8-0011-R1a-SM-5L3HI, HippocampusModel-GTEX-13PDP-0011-R1a-SM-5PNX5, HippocampusModel-GTEX-13QIC-0011-R1a-SM-5O9CJ, HippocampusModel-GTEX-13QJC-0011-R1b-SM-5S2UU, HippocampusModel-GTEX-13RTJ-0011-R1a-SM-5O9D9, HippocampusModel-GTEX-13RTL-0011-R1a-SM-5PNZ8, HippocampusModel-GTEX-13S7M-0011-R1b-SM-5PNZE, HippocampusModel-GTEX-13SLW-0011-R1a-SM-5S2W7, HippocampusModel-GTEX-13X6I-0011-R1b-SM-5PNZC, HippocampusModel-GTEX-144GL-0011-R1a-SM-5PNZ5, HippocampusModel-GTEX-144GO-0011-R1a-SM-5PNWO, HippocampusModel-GTEX-145LS-0011-R1b-SM-5PNUP, HippocampusModel-GTEX-145LU-0011-R1a-SM-5Q5CE, HippocampusModel-GTEX-145MH-0011-R1b-SM-5PNWY, HippocampusModel-GTEX-14ABY-0011-R1a-SM-6EU2W, HippocampusModel-GTEX-14ASI-0011-R1b-SM-5S2TY, HippocampusModel-GTEX-14BIM-0011-R1a-SM-69LQI, HippocampusModel-GTEX-14C5O-0011-R1b-SM-6AJBW, HippocampusModel-GTEX-14E6D-0011-R1b-SM-5YYAW, HippocampusModel-GTEX-14E7W-0011-R1b-SM-5YYAT, HippocampusModel-GTEX-14JIY-0011-R1a-SM-68713, HippocampusModel-GTEX-14LLW-0011-R1a-SM-5ZZVD, HippocampusModel-GTEX-14LZ3-0011-R1a-SM-69LP5, HippocampusModel-GTEX-14PJM-0011-R1a-SM-CNPO3, HippocampusModel-GTEX-14PJO-0011-R1b-SM-6AJAK, HippocampusModel-GTEX-14PN4-0011-R1b-SM-69LP8, HippocampusModel-GTEX-14PQA-0011-R1b-SM-6EU1G, HippocampusModel-GTEX-15CHQ-0011-R1a-SM-COH27, HippocampusModel-GTEX-15DCD-0011-R1b-SM-6LPIJ, HippocampusModel-GTEX-15ER7-0011-R1b-SM-7KUE1, HippocampusModel-GTEX-15UF6-0011-R1a-SM-9QEGH, HippocampusModel-GTEX-16GPK-0011-R1b-SM-7EWDH, HippocampusModel-GTEX-16NPV-0011-R1b-SM-7MGVZ, HippocampusModel-GTEX-16XZZ-0011-R1a-SM-7LTAH, HippocampusModel-GTEX-16YQH-0011-R1a-SM-7LT8R, HippocampusModel-GTEX-16Z82-0011-R1b-SM-7EPHZ, HippocampusModel-GTEX-17EVP-0011-R1a-SM-7DHLA, HippocampusModel-GTEX-17EVQ-0011-R1a-SM-7189S, HippocampusModel-GTEX-17F97-0011-R1b-SM-7IGM9, HippocampusModel-GTEX-17HG3-0011-R1a-SM-7LG6H, HippocampusModel-GTEX-17HHY-0011-R1a-SM-7189V, HippocampusModel-GTEX-17HII-0011-R1b-SM-7MGVW, HippocampusModel-GTEX-17JCI-0011-R1b-SM-718A3, HippocampusModel-GTEX-17MF6-0011-R1a-SM-72D6O, HippocampusModel-GTEX-183WM-0011-R1a-SM-718A8, HippocampusModel-GTEX-18A6Q-0011-R1b-SM-731DI, HippocampusModel-GTEX-1A32A-0011-R1a-SM-7P8SQ, HippocampusModel-GTEX-1A3MX-0011-R1b-SM-7P8PH, HippocampusModel-GTEX-1A8G6-0011-R1a-SM-7P8PC, HippocampusModel-GTEX-1AX9I-0011-R1b-SM-7RHG2, HippocampusModel-GTEX-1B8L1-0011-R1a-SM-7P8SS, HippocampusModel-GTEX-1B8SF-0011-R1b-SM-7P8Q8, ...]\n",
       "\n",
       "[200 rows x 0 columns]"
      ]
     },
     "execution_count": 3,
     "metadata": {},
     "output_type": "execute_result"
    }
   ],
   "source": [
    "fluxes_df = pd.DataFrame(index = [model.id for model in models])\n",
    "fluxes_df"
   ]
  },
  {
   "cell_type": "code",
   "execution_count": 4,
   "id": "a851a566",
   "metadata": {},
   "outputs": [
    {
     "data": {
      "text/html": [
       "<div>\n",
       "<style scoped>\n",
       "    .dataframe tbody tr th:only-of-type {\n",
       "        vertical-align: middle;\n",
       "    }\n",
       "\n",
       "    .dataframe tbody tr th {\n",
       "        vertical-align: top;\n",
       "    }\n",
       "\n",
       "    .dataframe thead th {\n",
       "        text-align: right;\n",
       "    }\n",
       "</style>\n",
       "<table border=\"1\" class=\"dataframe\">\n",
       "  <thead>\n",
       "    <tr style=\"text-align: right;\">\n",
       "      <th></th>\n",
       "      <th>10FTHF7GLUtl</th>\n",
       "      <th>10FTHF7GLUtm</th>\n",
       "      <th>10FTHFtl</th>\n",
       "      <th>13DAMPPOX</th>\n",
       "      <th>24NPHte</th>\n",
       "      <th>2AMACHYD</th>\n",
       "      <th>2AMACSULT</th>\n",
       "      <th>2AMADPTm</th>\n",
       "      <th>2HBO</th>\n",
       "      <th>2HBt2</th>\n",
       "      <th>...</th>\n",
       "      <th>HISLYSGLUt</th>\n",
       "      <th>HISLYSGLUr</th>\n",
       "      <th>r1754</th>\n",
       "      <th>r1675</th>\n",
       "      <th>IBUPGLUCtpvb</th>\n",
       "      <th>HXCOAx</th>\n",
       "      <th>HXAt2</th>\n",
       "      <th>HXAt3</th>\n",
       "      <th>EX_hxa[e]</th>\n",
       "      <th>HMR_2014</th>\n",
       "    </tr>\n",
       "  </thead>\n",
       "  <tbody>\n",
       "    <tr>\n",
       "      <th>HippocampusModel-GTEX-11DXW-0011-R1a-SM-DNZZD</th>\n",
       "      <td>0.0</td>\n",
       "      <td>0.0</td>\n",
       "      <td>0.0</td>\n",
       "      <td>0.0</td>\n",
       "      <td>0.0</td>\n",
       "      <td>0.0</td>\n",
       "      <td>0.0</td>\n",
       "      <td>0.0</td>\n",
       "      <td>0.000000e+00</td>\n",
       "      <td>0.000000e+00</td>\n",
       "      <td>...</td>\n",
       "      <td>0.0</td>\n",
       "      <td>0.0</td>\n",
       "      <td>0.0</td>\n",
       "      <td>0.0</td>\n",
       "      <td>0.0</td>\n",
       "      <td>0.0</td>\n",
       "      <td>0.0</td>\n",
       "      <td>0.0</td>\n",
       "      <td>0.0</td>\n",
       "      <td>0.0</td>\n",
       "    </tr>\n",
       "    <tr>\n",
       "      <th>HippocampusModel-GTEX-11EI6-0011-R1a-SM-DO93L</th>\n",
       "      <td>0.0</td>\n",
       "      <td>0.0</td>\n",
       "      <td>0.0</td>\n",
       "      <td>0.0</td>\n",
       "      <td>0.0</td>\n",
       "      <td>0.0</td>\n",
       "      <td>0.0</td>\n",
       "      <td>0.0</td>\n",
       "      <td>-2.024976e-13</td>\n",
       "      <td>-2.024976e-13</td>\n",
       "      <td>...</td>\n",
       "      <td>0.0</td>\n",
       "      <td>0.0</td>\n",
       "      <td>0.0</td>\n",
       "      <td>0.0</td>\n",
       "      <td>0.0</td>\n",
       "      <td>0.0</td>\n",
       "      <td>0.0</td>\n",
       "      <td>0.0</td>\n",
       "      <td>0.0</td>\n",
       "      <td>0.0</td>\n",
       "    </tr>\n",
       "    <tr>\n",
       "      <th>HippocampusModel-GTEX-11GS4-0011-R1a-SM-DO129</th>\n",
       "      <td>0.0</td>\n",
       "      <td>0.0</td>\n",
       "      <td>0.0</td>\n",
       "      <td>0.0</td>\n",
       "      <td>0.0</td>\n",
       "      <td>0.0</td>\n",
       "      <td>0.0</td>\n",
       "      <td>0.0</td>\n",
       "      <td>0.000000e+00</td>\n",
       "      <td>0.000000e+00</td>\n",
       "      <td>...</td>\n",
       "      <td>0.0</td>\n",
       "      <td>0.0</td>\n",
       "      <td>0.0</td>\n",
       "      <td>0.0</td>\n",
       "      <td>0.0</td>\n",
       "      <td>0.0</td>\n",
       "      <td>0.0</td>\n",
       "      <td>0.0</td>\n",
       "      <td>0.0</td>\n",
       "      <td>0.0</td>\n",
       "    </tr>\n",
       "    <tr>\n",
       "      <th>HippocampusModel-GTEX-11GSO-0011-R1b-SM-57WD3</th>\n",
       "      <td>0.0</td>\n",
       "      <td>0.0</td>\n",
       "      <td>0.0</td>\n",
       "      <td>0.0</td>\n",
       "      <td>0.0</td>\n",
       "      <td>0.0</td>\n",
       "      <td>0.0</td>\n",
       "      <td>0.0</td>\n",
       "      <td>0.000000e+00</td>\n",
       "      <td>0.000000e+00</td>\n",
       "      <td>...</td>\n",
       "      <td>0.0</td>\n",
       "      <td>0.0</td>\n",
       "      <td>0.0</td>\n",
       "      <td>0.0</td>\n",
       "      <td>0.0</td>\n",
       "      <td>0.0</td>\n",
       "      <td>0.0</td>\n",
       "      <td>0.0</td>\n",
       "      <td>0.0</td>\n",
       "      <td>0.0</td>\n",
       "    </tr>\n",
       "    <tr>\n",
       "      <th>HippocampusModel-GTEX-11GSP-0011-R1a-SM-9QEJ3</th>\n",
       "      <td>0.0</td>\n",
       "      <td>0.0</td>\n",
       "      <td>0.0</td>\n",
       "      <td>0.0</td>\n",
       "      <td>0.0</td>\n",
       "      <td>0.0</td>\n",
       "      <td>0.0</td>\n",
       "      <td>0.0</td>\n",
       "      <td>0.000000e+00</td>\n",
       "      <td>0.000000e+00</td>\n",
       "      <td>...</td>\n",
       "      <td>0.0</td>\n",
       "      <td>0.0</td>\n",
       "      <td>0.0</td>\n",
       "      <td>0.0</td>\n",
       "      <td>0.0</td>\n",
       "      <td>0.0</td>\n",
       "      <td>0.0</td>\n",
       "      <td>0.0</td>\n",
       "      <td>0.0</td>\n",
       "      <td>0.0</td>\n",
       "    </tr>\n",
       "  </tbody>\n",
       "</table>\n",
       "<p>5 rows × 8152 columns</p>\n",
       "</div>"
      ],
      "text/plain": [
       "                                               10FTHF7GLUtl  10FTHF7GLUtm  \\\n",
       "HippocampusModel-GTEX-11DXW-0011-R1a-SM-DNZZD           0.0           0.0   \n",
       "HippocampusModel-GTEX-11EI6-0011-R1a-SM-DO93L           0.0           0.0   \n",
       "HippocampusModel-GTEX-11GS4-0011-R1a-SM-DO129           0.0           0.0   \n",
       "HippocampusModel-GTEX-11GSO-0011-R1b-SM-57WD3           0.0           0.0   \n",
       "HippocampusModel-GTEX-11GSP-0011-R1a-SM-9QEJ3           0.0           0.0   \n",
       "\n",
       "                                               10FTHFtl  13DAMPPOX  24NPHte  \\\n",
       "HippocampusModel-GTEX-11DXW-0011-R1a-SM-DNZZD       0.0        0.0      0.0   \n",
       "HippocampusModel-GTEX-11EI6-0011-R1a-SM-DO93L       0.0        0.0      0.0   \n",
       "HippocampusModel-GTEX-11GS4-0011-R1a-SM-DO129       0.0        0.0      0.0   \n",
       "HippocampusModel-GTEX-11GSO-0011-R1b-SM-57WD3       0.0        0.0      0.0   \n",
       "HippocampusModel-GTEX-11GSP-0011-R1a-SM-9QEJ3       0.0        0.0      0.0   \n",
       "\n",
       "                                               2AMACHYD  2AMACSULT  2AMADPTm  \\\n",
       "HippocampusModel-GTEX-11DXW-0011-R1a-SM-DNZZD       0.0        0.0       0.0   \n",
       "HippocampusModel-GTEX-11EI6-0011-R1a-SM-DO93L       0.0        0.0       0.0   \n",
       "HippocampusModel-GTEX-11GS4-0011-R1a-SM-DO129       0.0        0.0       0.0   \n",
       "HippocampusModel-GTEX-11GSO-0011-R1b-SM-57WD3       0.0        0.0       0.0   \n",
       "HippocampusModel-GTEX-11GSP-0011-R1a-SM-9QEJ3       0.0        0.0       0.0   \n",
       "\n",
       "                                                       2HBO         2HBt2  \\\n",
       "HippocampusModel-GTEX-11DXW-0011-R1a-SM-DNZZD  0.000000e+00  0.000000e+00   \n",
       "HippocampusModel-GTEX-11EI6-0011-R1a-SM-DO93L -2.024976e-13 -2.024976e-13   \n",
       "HippocampusModel-GTEX-11GS4-0011-R1a-SM-DO129  0.000000e+00  0.000000e+00   \n",
       "HippocampusModel-GTEX-11GSO-0011-R1b-SM-57WD3  0.000000e+00  0.000000e+00   \n",
       "HippocampusModel-GTEX-11GSP-0011-R1a-SM-9QEJ3  0.000000e+00  0.000000e+00   \n",
       "\n",
       "                                               ...  HISLYSGLUt  HISLYSGLUr  \\\n",
       "HippocampusModel-GTEX-11DXW-0011-R1a-SM-DNZZD  ...         0.0         0.0   \n",
       "HippocampusModel-GTEX-11EI6-0011-R1a-SM-DO93L  ...         0.0         0.0   \n",
       "HippocampusModel-GTEX-11GS4-0011-R1a-SM-DO129  ...         0.0         0.0   \n",
       "HippocampusModel-GTEX-11GSO-0011-R1b-SM-57WD3  ...         0.0         0.0   \n",
       "HippocampusModel-GTEX-11GSP-0011-R1a-SM-9QEJ3  ...         0.0         0.0   \n",
       "\n",
       "                                               r1754  r1675  IBUPGLUCtpvb  \\\n",
       "HippocampusModel-GTEX-11DXW-0011-R1a-SM-DNZZD    0.0    0.0           0.0   \n",
       "HippocampusModel-GTEX-11EI6-0011-R1a-SM-DO93L    0.0    0.0           0.0   \n",
       "HippocampusModel-GTEX-11GS4-0011-R1a-SM-DO129    0.0    0.0           0.0   \n",
       "HippocampusModel-GTEX-11GSO-0011-R1b-SM-57WD3    0.0    0.0           0.0   \n",
       "HippocampusModel-GTEX-11GSP-0011-R1a-SM-9QEJ3    0.0    0.0           0.0   \n",
       "\n",
       "                                               HXCOAx  HXAt2  HXAt3  \\\n",
       "HippocampusModel-GTEX-11DXW-0011-R1a-SM-DNZZD     0.0    0.0    0.0   \n",
       "HippocampusModel-GTEX-11EI6-0011-R1a-SM-DO93L     0.0    0.0    0.0   \n",
       "HippocampusModel-GTEX-11GS4-0011-R1a-SM-DO129     0.0    0.0    0.0   \n",
       "HippocampusModel-GTEX-11GSO-0011-R1b-SM-57WD3     0.0    0.0    0.0   \n",
       "HippocampusModel-GTEX-11GSP-0011-R1a-SM-9QEJ3     0.0    0.0    0.0   \n",
       "\n",
       "                                               EX_hxa[e]  HMR_2014  \n",
       "HippocampusModel-GTEX-11DXW-0011-R1a-SM-DNZZD        0.0       0.0  \n",
       "HippocampusModel-GTEX-11EI6-0011-R1a-SM-DO93L        0.0       0.0  \n",
       "HippocampusModel-GTEX-11GS4-0011-R1a-SM-DO129        0.0       0.0  \n",
       "HippocampusModel-GTEX-11GSO-0011-R1b-SM-57WD3        0.0       0.0  \n",
       "HippocampusModel-GTEX-11GSP-0011-R1a-SM-9QEJ3        0.0       0.0  \n",
       "\n",
       "[5 rows x 8152 columns]"
      ]
     },
     "execution_count": 4,
     "metadata": {},
     "output_type": "execute_result"
    }
   ],
   "source": [
    "\n",
    "fluxes_df = pd.DataFrame(index = [model.id for model in models])\n",
    "\n",
    "for i, solution in enumerate(solutions, start = 0):\n",
    "    fluxes = solution.fluxes\n",
    "    \n",
    "    for reaction, flux in fluxes.items():\n",
    "        if reaction not in fluxes_df.columns:\n",
    "            fluxes_df[reaction] = 0.0\n",
    "        \n",
    "        fluxes_df.at[fluxes_df.index[i], reaction] = flux\n",
    "        \n",
    "\n",
    "fluxes_df.head()"
   ]
  },
  {
   "cell_type": "code",
   "execution_count": 19,
   "id": "20c178aa",
   "metadata": {
    "scrolled": false
   },
   "outputs": [
    {
     "data": {
      "text/html": [
       "<div>\n",
       "<style scoped>\n",
       "    .dataframe tbody tr th:only-of-type {\n",
       "        vertical-align: middle;\n",
       "    }\n",
       "\n",
       "    .dataframe tbody tr th {\n",
       "        vertical-align: top;\n",
       "    }\n",
       "\n",
       "    .dataframe thead th {\n",
       "        text-align: right;\n",
       "    }\n",
       "</style>\n",
       "<table border=\"1\" class=\"dataframe\">\n",
       "  <thead>\n",
       "    <tr style=\"text-align: right;\">\n",
       "      <th></th>\n",
       "      <th>HippocampusModel-GTEX-11DXW-0011-R1a-SM-DNZZD</th>\n",
       "      <th>HippocampusModel-GTEX-11EI6-0011-R1a-SM-DO93L</th>\n",
       "      <th>HippocampusModel-GTEX-11GS4-0011-R1a-SM-DO129</th>\n",
       "      <th>HippocampusModel-GTEX-11GSO-0011-R1b-SM-57WD3</th>\n",
       "      <th>HippocampusModel-GTEX-11GSP-0011-R1a-SM-9QEJ3</th>\n",
       "      <th>HippocampusModel-GTEX-11ONC-0011-R1a-SM-57WD4</th>\n",
       "      <th>HippocampusModel-GTEX-11TUW-0011-R1a-SM-DO92S</th>\n",
       "      <th>HippocampusModel-GTEX-11UD1-0011-R1b-SM-5BC7D</th>\n",
       "      <th>HippocampusModel-GTEX-11WQC-0011-R1b-SM-DO932</th>\n",
       "      <th>HippocampusModel-GTEX-11ZTS-0011-R1a-SM-5BC71</th>\n",
       "      <th>...</th>\n",
       "      <th>LungModel-GTEX-13NZA-1426-SM-5KM4Y</th>\n",
       "      <th>LungModel-GTEX-13O21-3026-SM-5J2NI</th>\n",
       "      <th>LungModel-GTEX-13O3O-0726-SM-5J1N7</th>\n",
       "      <th>LungModel-GTEX-13O3P-1026-SM-5N9E7</th>\n",
       "      <th>LungModel-GTEX-13O3Q-0526-SM-5KM18</th>\n",
       "      <th>LungModel-GTEX-13O61-0726-SM-5J2MD</th>\n",
       "      <th>LungModel-GTEX-13OVG-0326-SM-5KM57</th>\n",
       "      <th>LungModel-GTEX-13OVH-1026-SM-5J2NP</th>\n",
       "      <th>LungModel-GTEX-13OVJ-0726-SM-5KM1W</th>\n",
       "      <th>LungModel-GTEX-13OVL-0626-SM-5KM13</th>\n",
       "    </tr>\n",
       "  </thead>\n",
       "  <tbody>\n",
       "    <tr>\n",
       "      <th>10FTHF7GLUtl</th>\n",
       "      <td>0.0</td>\n",
       "      <td>0.0</td>\n",
       "      <td>0.0</td>\n",
       "      <td>0.0</td>\n",
       "      <td>0.0</td>\n",
       "      <td>0.0</td>\n",
       "      <td>0.0</td>\n",
       "      <td>0.0</td>\n",
       "      <td>0.0</td>\n",
       "      <td>0.0</td>\n",
       "      <td>...</td>\n",
       "      <td>0.000000e+00</td>\n",
       "      <td>0.0</td>\n",
       "      <td>0.0</td>\n",
       "      <td>0.0</td>\n",
       "      <td>0.0</td>\n",
       "      <td>0.0</td>\n",
       "      <td>0.0</td>\n",
       "      <td>0.0</td>\n",
       "      <td>0.0</td>\n",
       "      <td>0.0</td>\n",
       "    </tr>\n",
       "    <tr>\n",
       "      <th>10FTHF7GLUtm</th>\n",
       "      <td>0.0</td>\n",
       "      <td>0.0</td>\n",
       "      <td>0.0</td>\n",
       "      <td>0.0</td>\n",
       "      <td>0.0</td>\n",
       "      <td>0.0</td>\n",
       "      <td>0.0</td>\n",
       "      <td>0.0</td>\n",
       "      <td>0.0</td>\n",
       "      <td>0.0</td>\n",
       "      <td>...</td>\n",
       "      <td>3.816136e-16</td>\n",
       "      <td>0.0</td>\n",
       "      <td>0.0</td>\n",
       "      <td>0.0</td>\n",
       "      <td>0.0</td>\n",
       "      <td>0.0</td>\n",
       "      <td>0.0</td>\n",
       "      <td>0.0</td>\n",
       "      <td>0.0</td>\n",
       "      <td>0.0</td>\n",
       "    </tr>\n",
       "    <tr>\n",
       "      <th>10FTHFtl</th>\n",
       "      <td>0.0</td>\n",
       "      <td>0.0</td>\n",
       "      <td>0.0</td>\n",
       "      <td>0.0</td>\n",
       "      <td>0.0</td>\n",
       "      <td>0.0</td>\n",
       "      <td>0.0</td>\n",
       "      <td>0.0</td>\n",
       "      <td>0.0</td>\n",
       "      <td>0.0</td>\n",
       "      <td>...</td>\n",
       "      <td>0.000000e+00</td>\n",
       "      <td>0.0</td>\n",
       "      <td>0.0</td>\n",
       "      <td>0.0</td>\n",
       "      <td>0.0</td>\n",
       "      <td>0.0</td>\n",
       "      <td>0.0</td>\n",
       "      <td>0.0</td>\n",
       "      <td>0.0</td>\n",
       "      <td>0.0</td>\n",
       "    </tr>\n",
       "    <tr>\n",
       "      <th>13DAMPPOX</th>\n",
       "      <td>0.0</td>\n",
       "      <td>0.0</td>\n",
       "      <td>0.0</td>\n",
       "      <td>0.0</td>\n",
       "      <td>0.0</td>\n",
       "      <td>0.0</td>\n",
       "      <td>0.0</td>\n",
       "      <td>0.0</td>\n",
       "      <td>0.0</td>\n",
       "      <td>0.0</td>\n",
       "      <td>...</td>\n",
       "      <td>0.000000e+00</td>\n",
       "      <td>0.0</td>\n",
       "      <td>0.0</td>\n",
       "      <td>0.0</td>\n",
       "      <td>0.0</td>\n",
       "      <td>0.0</td>\n",
       "      <td>0.0</td>\n",
       "      <td>0.0</td>\n",
       "      <td>0.0</td>\n",
       "      <td>0.0</td>\n",
       "    </tr>\n",
       "    <tr>\n",
       "      <th>24NPHte</th>\n",
       "      <td>0.0</td>\n",
       "      <td>0.0</td>\n",
       "      <td>0.0</td>\n",
       "      <td>0.0</td>\n",
       "      <td>0.0</td>\n",
       "      <td>0.0</td>\n",
       "      <td>0.0</td>\n",
       "      <td>0.0</td>\n",
       "      <td>0.0</td>\n",
       "      <td>0.0</td>\n",
       "      <td>...</td>\n",
       "      <td>0.000000e+00</td>\n",
       "      <td>0.0</td>\n",
       "      <td>0.0</td>\n",
       "      <td>0.0</td>\n",
       "      <td>0.0</td>\n",
       "      <td>0.0</td>\n",
       "      <td>0.0</td>\n",
       "      <td>0.0</td>\n",
       "      <td>0.0</td>\n",
       "      <td>0.0</td>\n",
       "    </tr>\n",
       "    <tr>\n",
       "      <th>...</th>\n",
       "      <td>...</td>\n",
       "      <td>...</td>\n",
       "      <td>...</td>\n",
       "      <td>...</td>\n",
       "      <td>...</td>\n",
       "      <td>...</td>\n",
       "      <td>...</td>\n",
       "      <td>...</td>\n",
       "      <td>...</td>\n",
       "      <td>...</td>\n",
       "      <td>...</td>\n",
       "      <td>...</td>\n",
       "      <td>...</td>\n",
       "      <td>...</td>\n",
       "      <td>...</td>\n",
       "      <td>...</td>\n",
       "      <td>...</td>\n",
       "      <td>...</td>\n",
       "      <td>...</td>\n",
       "      <td>...</td>\n",
       "      <td>...</td>\n",
       "    </tr>\n",
       "    <tr>\n",
       "      <th>HXCOAx</th>\n",
       "      <td>0.0</td>\n",
       "      <td>0.0</td>\n",
       "      <td>0.0</td>\n",
       "      <td>0.0</td>\n",
       "      <td>0.0</td>\n",
       "      <td>0.0</td>\n",
       "      <td>0.0</td>\n",
       "      <td>0.0</td>\n",
       "      <td>0.0</td>\n",
       "      <td>0.0</td>\n",
       "      <td>...</td>\n",
       "      <td>0.000000e+00</td>\n",
       "      <td>0.0</td>\n",
       "      <td>0.0</td>\n",
       "      <td>0.0</td>\n",
       "      <td>0.0</td>\n",
       "      <td>0.0</td>\n",
       "      <td>0.0</td>\n",
       "      <td>0.0</td>\n",
       "      <td>0.0</td>\n",
       "      <td>0.0</td>\n",
       "    </tr>\n",
       "    <tr>\n",
       "      <th>HXAt2</th>\n",
       "      <td>0.0</td>\n",
       "      <td>0.0</td>\n",
       "      <td>0.0</td>\n",
       "      <td>0.0</td>\n",
       "      <td>0.0</td>\n",
       "      <td>0.0</td>\n",
       "      <td>0.0</td>\n",
       "      <td>0.0</td>\n",
       "      <td>0.0</td>\n",
       "      <td>0.0</td>\n",
       "      <td>...</td>\n",
       "      <td>0.000000e+00</td>\n",
       "      <td>0.0</td>\n",
       "      <td>0.0</td>\n",
       "      <td>0.0</td>\n",
       "      <td>0.0</td>\n",
       "      <td>0.0</td>\n",
       "      <td>0.0</td>\n",
       "      <td>0.0</td>\n",
       "      <td>0.0</td>\n",
       "      <td>0.0</td>\n",
       "    </tr>\n",
       "    <tr>\n",
       "      <th>HXAt3</th>\n",
       "      <td>0.0</td>\n",
       "      <td>0.0</td>\n",
       "      <td>0.0</td>\n",
       "      <td>0.0</td>\n",
       "      <td>0.0</td>\n",
       "      <td>0.0</td>\n",
       "      <td>0.0</td>\n",
       "      <td>0.0</td>\n",
       "      <td>0.0</td>\n",
       "      <td>0.0</td>\n",
       "      <td>...</td>\n",
       "      <td>0.000000e+00</td>\n",
       "      <td>0.0</td>\n",
       "      <td>0.0</td>\n",
       "      <td>0.0</td>\n",
       "      <td>0.0</td>\n",
       "      <td>0.0</td>\n",
       "      <td>0.0</td>\n",
       "      <td>0.0</td>\n",
       "      <td>0.0</td>\n",
       "      <td>0.0</td>\n",
       "    </tr>\n",
       "    <tr>\n",
       "      <th>EX_hxa[e]</th>\n",
       "      <td>0.0</td>\n",
       "      <td>0.0</td>\n",
       "      <td>0.0</td>\n",
       "      <td>0.0</td>\n",
       "      <td>0.0</td>\n",
       "      <td>0.0</td>\n",
       "      <td>0.0</td>\n",
       "      <td>0.0</td>\n",
       "      <td>0.0</td>\n",
       "      <td>0.0</td>\n",
       "      <td>...</td>\n",
       "      <td>0.000000e+00</td>\n",
       "      <td>0.0</td>\n",
       "      <td>0.0</td>\n",
       "      <td>0.0</td>\n",
       "      <td>0.0</td>\n",
       "      <td>0.0</td>\n",
       "      <td>0.0</td>\n",
       "      <td>0.0</td>\n",
       "      <td>0.0</td>\n",
       "      <td>0.0</td>\n",
       "    </tr>\n",
       "    <tr>\n",
       "      <th>HMR_2014</th>\n",
       "      <td>0.0</td>\n",
       "      <td>0.0</td>\n",
       "      <td>0.0</td>\n",
       "      <td>0.0</td>\n",
       "      <td>0.0</td>\n",
       "      <td>0.0</td>\n",
       "      <td>0.0</td>\n",
       "      <td>0.0</td>\n",
       "      <td>0.0</td>\n",
       "      <td>0.0</td>\n",
       "      <td>...</td>\n",
       "      <td>0.000000e+00</td>\n",
       "      <td>0.0</td>\n",
       "      <td>0.0</td>\n",
       "      <td>0.0</td>\n",
       "      <td>0.0</td>\n",
       "      <td>0.0</td>\n",
       "      <td>0.0</td>\n",
       "      <td>0.0</td>\n",
       "      <td>0.0</td>\n",
       "      <td>0.0</td>\n",
       "    </tr>\n",
       "  </tbody>\n",
       "</table>\n",
       "<p>8152 rows × 200 columns</p>\n",
       "</div>"
      ],
      "text/plain": [
       "              HippocampusModel-GTEX-11DXW-0011-R1a-SM-DNZZD  \\\n",
       "10FTHF7GLUtl                                            0.0   \n",
       "10FTHF7GLUtm                                            0.0   \n",
       "10FTHFtl                                                0.0   \n",
       "13DAMPPOX                                               0.0   \n",
       "24NPHte                                                 0.0   \n",
       "...                                                     ...   \n",
       "HXCOAx                                                  0.0   \n",
       "HXAt2                                                   0.0   \n",
       "HXAt3                                                   0.0   \n",
       "EX_hxa[e]                                               0.0   \n",
       "HMR_2014                                                0.0   \n",
       "\n",
       "              HippocampusModel-GTEX-11EI6-0011-R1a-SM-DO93L  \\\n",
       "10FTHF7GLUtl                                            0.0   \n",
       "10FTHF7GLUtm                                            0.0   \n",
       "10FTHFtl                                                0.0   \n",
       "13DAMPPOX                                               0.0   \n",
       "24NPHte                                                 0.0   \n",
       "...                                                     ...   \n",
       "HXCOAx                                                  0.0   \n",
       "HXAt2                                                   0.0   \n",
       "HXAt3                                                   0.0   \n",
       "EX_hxa[e]                                               0.0   \n",
       "HMR_2014                                                0.0   \n",
       "\n",
       "              HippocampusModel-GTEX-11GS4-0011-R1a-SM-DO129  \\\n",
       "10FTHF7GLUtl                                            0.0   \n",
       "10FTHF7GLUtm                                            0.0   \n",
       "10FTHFtl                                                0.0   \n",
       "13DAMPPOX                                               0.0   \n",
       "24NPHte                                                 0.0   \n",
       "...                                                     ...   \n",
       "HXCOAx                                                  0.0   \n",
       "HXAt2                                                   0.0   \n",
       "HXAt3                                                   0.0   \n",
       "EX_hxa[e]                                               0.0   \n",
       "HMR_2014                                                0.0   \n",
       "\n",
       "              HippocampusModel-GTEX-11GSO-0011-R1b-SM-57WD3  \\\n",
       "10FTHF7GLUtl                                            0.0   \n",
       "10FTHF7GLUtm                                            0.0   \n",
       "10FTHFtl                                                0.0   \n",
       "13DAMPPOX                                               0.0   \n",
       "24NPHte                                                 0.0   \n",
       "...                                                     ...   \n",
       "HXCOAx                                                  0.0   \n",
       "HXAt2                                                   0.0   \n",
       "HXAt3                                                   0.0   \n",
       "EX_hxa[e]                                               0.0   \n",
       "HMR_2014                                                0.0   \n",
       "\n",
       "              HippocampusModel-GTEX-11GSP-0011-R1a-SM-9QEJ3  \\\n",
       "10FTHF7GLUtl                                            0.0   \n",
       "10FTHF7GLUtm                                            0.0   \n",
       "10FTHFtl                                                0.0   \n",
       "13DAMPPOX                                               0.0   \n",
       "24NPHte                                                 0.0   \n",
       "...                                                     ...   \n",
       "HXCOAx                                                  0.0   \n",
       "HXAt2                                                   0.0   \n",
       "HXAt3                                                   0.0   \n",
       "EX_hxa[e]                                               0.0   \n",
       "HMR_2014                                                0.0   \n",
       "\n",
       "              HippocampusModel-GTEX-11ONC-0011-R1a-SM-57WD4  \\\n",
       "10FTHF7GLUtl                                            0.0   \n",
       "10FTHF7GLUtm                                            0.0   \n",
       "10FTHFtl                                                0.0   \n",
       "13DAMPPOX                                               0.0   \n",
       "24NPHte                                                 0.0   \n",
       "...                                                     ...   \n",
       "HXCOAx                                                  0.0   \n",
       "HXAt2                                                   0.0   \n",
       "HXAt3                                                   0.0   \n",
       "EX_hxa[e]                                               0.0   \n",
       "HMR_2014                                                0.0   \n",
       "\n",
       "              HippocampusModel-GTEX-11TUW-0011-R1a-SM-DO92S  \\\n",
       "10FTHF7GLUtl                                            0.0   \n",
       "10FTHF7GLUtm                                            0.0   \n",
       "10FTHFtl                                                0.0   \n",
       "13DAMPPOX                                               0.0   \n",
       "24NPHte                                                 0.0   \n",
       "...                                                     ...   \n",
       "HXCOAx                                                  0.0   \n",
       "HXAt2                                                   0.0   \n",
       "HXAt3                                                   0.0   \n",
       "EX_hxa[e]                                               0.0   \n",
       "HMR_2014                                                0.0   \n",
       "\n",
       "              HippocampusModel-GTEX-11UD1-0011-R1b-SM-5BC7D  \\\n",
       "10FTHF7GLUtl                                            0.0   \n",
       "10FTHF7GLUtm                                            0.0   \n",
       "10FTHFtl                                                0.0   \n",
       "13DAMPPOX                                               0.0   \n",
       "24NPHte                                                 0.0   \n",
       "...                                                     ...   \n",
       "HXCOAx                                                  0.0   \n",
       "HXAt2                                                   0.0   \n",
       "HXAt3                                                   0.0   \n",
       "EX_hxa[e]                                               0.0   \n",
       "HMR_2014                                                0.0   \n",
       "\n",
       "              HippocampusModel-GTEX-11WQC-0011-R1b-SM-DO932  \\\n",
       "10FTHF7GLUtl                                            0.0   \n",
       "10FTHF7GLUtm                                            0.0   \n",
       "10FTHFtl                                                0.0   \n",
       "13DAMPPOX                                               0.0   \n",
       "24NPHte                                                 0.0   \n",
       "...                                                     ...   \n",
       "HXCOAx                                                  0.0   \n",
       "HXAt2                                                   0.0   \n",
       "HXAt3                                                   0.0   \n",
       "EX_hxa[e]                                               0.0   \n",
       "HMR_2014                                                0.0   \n",
       "\n",
       "              HippocampusModel-GTEX-11ZTS-0011-R1a-SM-5BC71  ...  \\\n",
       "10FTHF7GLUtl                                            0.0  ...   \n",
       "10FTHF7GLUtm                                            0.0  ...   \n",
       "10FTHFtl                                                0.0  ...   \n",
       "13DAMPPOX                                               0.0  ...   \n",
       "24NPHte                                                 0.0  ...   \n",
       "...                                                     ...  ...   \n",
       "HXCOAx                                                  0.0  ...   \n",
       "HXAt2                                                   0.0  ...   \n",
       "HXAt3                                                   0.0  ...   \n",
       "EX_hxa[e]                                               0.0  ...   \n",
       "HMR_2014                                                0.0  ...   \n",
       "\n",
       "              LungModel-GTEX-13NZA-1426-SM-5KM4Y  \\\n",
       "10FTHF7GLUtl                        0.000000e+00   \n",
       "10FTHF7GLUtm                        3.816136e-16   \n",
       "10FTHFtl                            0.000000e+00   \n",
       "13DAMPPOX                           0.000000e+00   \n",
       "24NPHte                             0.000000e+00   \n",
       "...                                          ...   \n",
       "HXCOAx                              0.000000e+00   \n",
       "HXAt2                               0.000000e+00   \n",
       "HXAt3                               0.000000e+00   \n",
       "EX_hxa[e]                           0.000000e+00   \n",
       "HMR_2014                            0.000000e+00   \n",
       "\n",
       "              LungModel-GTEX-13O21-3026-SM-5J2NI  \\\n",
       "10FTHF7GLUtl                                 0.0   \n",
       "10FTHF7GLUtm                                 0.0   \n",
       "10FTHFtl                                     0.0   \n",
       "13DAMPPOX                                    0.0   \n",
       "24NPHte                                      0.0   \n",
       "...                                          ...   \n",
       "HXCOAx                                       0.0   \n",
       "HXAt2                                        0.0   \n",
       "HXAt3                                        0.0   \n",
       "EX_hxa[e]                                    0.0   \n",
       "HMR_2014                                     0.0   \n",
       "\n",
       "              LungModel-GTEX-13O3O-0726-SM-5J1N7  \\\n",
       "10FTHF7GLUtl                                 0.0   \n",
       "10FTHF7GLUtm                                 0.0   \n",
       "10FTHFtl                                     0.0   \n",
       "13DAMPPOX                                    0.0   \n",
       "24NPHte                                      0.0   \n",
       "...                                          ...   \n",
       "HXCOAx                                       0.0   \n",
       "HXAt2                                        0.0   \n",
       "HXAt3                                        0.0   \n",
       "EX_hxa[e]                                    0.0   \n",
       "HMR_2014                                     0.0   \n",
       "\n",
       "              LungModel-GTEX-13O3P-1026-SM-5N9E7  \\\n",
       "10FTHF7GLUtl                                 0.0   \n",
       "10FTHF7GLUtm                                 0.0   \n",
       "10FTHFtl                                     0.0   \n",
       "13DAMPPOX                                    0.0   \n",
       "24NPHte                                      0.0   \n",
       "...                                          ...   \n",
       "HXCOAx                                       0.0   \n",
       "HXAt2                                        0.0   \n",
       "HXAt3                                        0.0   \n",
       "EX_hxa[e]                                    0.0   \n",
       "HMR_2014                                     0.0   \n",
       "\n",
       "              LungModel-GTEX-13O3Q-0526-SM-5KM18  \\\n",
       "10FTHF7GLUtl                                 0.0   \n",
       "10FTHF7GLUtm                                 0.0   \n",
       "10FTHFtl                                     0.0   \n",
       "13DAMPPOX                                    0.0   \n",
       "24NPHte                                      0.0   \n",
       "...                                          ...   \n",
       "HXCOAx                                       0.0   \n",
       "HXAt2                                        0.0   \n",
       "HXAt3                                        0.0   \n",
       "EX_hxa[e]                                    0.0   \n",
       "HMR_2014                                     0.0   \n",
       "\n",
       "              LungModel-GTEX-13O61-0726-SM-5J2MD  \\\n",
       "10FTHF7GLUtl                                 0.0   \n",
       "10FTHF7GLUtm                                 0.0   \n",
       "10FTHFtl                                     0.0   \n",
       "13DAMPPOX                                    0.0   \n",
       "24NPHte                                      0.0   \n",
       "...                                          ...   \n",
       "HXCOAx                                       0.0   \n",
       "HXAt2                                        0.0   \n",
       "HXAt3                                        0.0   \n",
       "EX_hxa[e]                                    0.0   \n",
       "HMR_2014                                     0.0   \n",
       "\n",
       "              LungModel-GTEX-13OVG-0326-SM-5KM57  \\\n",
       "10FTHF7GLUtl                                 0.0   \n",
       "10FTHF7GLUtm                                 0.0   \n",
       "10FTHFtl                                     0.0   \n",
       "13DAMPPOX                                    0.0   \n",
       "24NPHte                                      0.0   \n",
       "...                                          ...   \n",
       "HXCOAx                                       0.0   \n",
       "HXAt2                                        0.0   \n",
       "HXAt3                                        0.0   \n",
       "EX_hxa[e]                                    0.0   \n",
       "HMR_2014                                     0.0   \n",
       "\n",
       "              LungModel-GTEX-13OVH-1026-SM-5J2NP  \\\n",
       "10FTHF7GLUtl                                 0.0   \n",
       "10FTHF7GLUtm                                 0.0   \n",
       "10FTHFtl                                     0.0   \n",
       "13DAMPPOX                                    0.0   \n",
       "24NPHte                                      0.0   \n",
       "...                                          ...   \n",
       "HXCOAx                                       0.0   \n",
       "HXAt2                                        0.0   \n",
       "HXAt3                                        0.0   \n",
       "EX_hxa[e]                                    0.0   \n",
       "HMR_2014                                     0.0   \n",
       "\n",
       "              LungModel-GTEX-13OVJ-0726-SM-5KM1W  \\\n",
       "10FTHF7GLUtl                                 0.0   \n",
       "10FTHF7GLUtm                                 0.0   \n",
       "10FTHFtl                                     0.0   \n",
       "13DAMPPOX                                    0.0   \n",
       "24NPHte                                      0.0   \n",
       "...                                          ...   \n",
       "HXCOAx                                       0.0   \n",
       "HXAt2                                        0.0   \n",
       "HXAt3                                        0.0   \n",
       "EX_hxa[e]                                    0.0   \n",
       "HMR_2014                                     0.0   \n",
       "\n",
       "              LungModel-GTEX-13OVL-0626-SM-5KM13  \n",
       "10FTHF7GLUtl                                 0.0  \n",
       "10FTHF7GLUtm                                 0.0  \n",
       "10FTHFtl                                     0.0  \n",
       "13DAMPPOX                                    0.0  \n",
       "24NPHte                                      0.0  \n",
       "...                                          ...  \n",
       "HXCOAx                                       0.0  \n",
       "HXAt2                                        0.0  \n",
       "HXAt3                                        0.0  \n",
       "EX_hxa[e]                                    0.0  \n",
       "HMR_2014                                     0.0  \n",
       "\n",
       "[8152 rows x 200 columns]"
      ]
     },
     "execution_count": 19,
     "metadata": {},
     "output_type": "execute_result"
    }
   ],
   "source": [
    "fluxes_df\n",
    "#fluxes_df_transposed = fluxes_df.transpose()\n",
    "#fluxes_df_transposed"
   ]
  },
  {
   "cell_type": "code",
   "execution_count": 21,
   "id": "f8a20280",
   "metadata": {
    "scrolled": false
   },
   "outputs": [
    {
     "data": {
      "text/plain": [
       "(array([  42.,    9.,   10.,   28.,   68., 7871.,   60.,   16.,   14.,\n",
       "          34.]),\n",
       " array([-1.00000000e+03, -8.00000000e+02, -6.00000000e+02, -4.00000000e+02,\n",
       "        -2.00000000e+02, -2.27373675e-13,  2.00000000e+02,  4.00000000e+02,\n",
       "         6.00000000e+02,  8.00000000e+02,  1.00000000e+03]),\n",
       " <BarContainer object of 10 artists>)"
      ]
     },
     "execution_count": 21,
     "metadata": {},
     "output_type": "execute_result"
    },
    {
     "data": {
      "image/png": "[encoded data removed]",
      "text/plain": [
       "<Figure size 640x480 with 1 Axes>"
      ]
     },
     "metadata": {},
     "output_type": "display_data"
    }
   ],
   "source": [
    "plt.hist(fluxes_df_transposed['HippocampusModel-GTEX-11DXW-0011-R1a-SM-DNZZD'], color='dodgerblue', alpha=0.4)"
   ]
  },
  {
   "cell_type": "code",
   "execution_count": 33,
   "id": "61678dce",
   "metadata": {},
   "outputs": [
    {
     "name": "stdout",
     "output_type": "stream",
     "text": [
      "3SALAASPm       -200.000000\n",
      "3SALATAi         204.867037\n",
      "3SALATAim        200.000000\n",
      "3SPYRSP          204.867037\n",
      "3SPYRSPm         200.000000\n",
      "                    ...    \n",
      "DEOXFVSitx      -400.000000\n",
      "FVSitx           400.000000\n",
      "sink_ile_L[c]    325.663644\n",
      "sink_gly[c]      -92.934605\n",
      "DM_kynate[c]     851.300509\n",
      "Name: HippocampusModel-GTEX-11DXW-0011-R1a-SM-DNZZD, Length: 322, dtype: float64\n"
     ]
    }
   ],
   "source": [
    "#fer data frame on trec els valors de -1 a 1, d'aquesta manera obtindre valors que no siguin propers a 0 i veure la distribucio:\n",
    "flux1= fluxes_df_transposed['HippocampusModel-GTEX-11DXW-0011-R1a-SM-DNZZD']\n",
    "flux1_filtered = flux1[~((flux1 >= -1) & (flux1 <= 1))]\n",
    "\n",
    "# Mostrar el resultado\n",
    "print(flux1_filtered)"
   ]
  },
  {
   "cell_type": "code",
   "execution_count": 5,
   "id": "f4031b30",
   "metadata": {},
   "outputs": [],
   "source": [
    "def flux_transformer(v):\n",
    "\n",
    "    '''\n",
    "    This function transforms fluxes into log2 scale with three additions:\n",
    "    - zero values are kept.\n",
    "    - values between 0 and 2 are adjusted to fit below one.\n",
    "    - negative fluxes are considered. \n",
    "    '''\n",
    "\n",
    "    def adjusted(v):\n",
    "        new = (np.log2(v + 0.125) + 3) / 4\n",
    "        return np.min([new, 1])\n",
    "\n",
    "    if v == 0:\n",
    "        vprime = 0\n",
    "    elif v > 0:\n",
    "        if v < 2:\n",
    "            vprime = adjusted(v)\n",
    "        else:\n",
    "            vprime = np.log2(v)\n",
    "    elif v < 0:\n",
    "        v = np.abs(v)\n",
    "        if v < 2:\n",
    "            vprime = -adjusted(v)\n",
    "        else:\n",
    "            vprime = -np.log2(v)\n",
    "    else:\n",
    "        raise ValueError('found value not considered')\n",
    "\n",
    "    return vprime"
   ]
  },
  {
   "cell_type": "code",
   "execution_count": 6,
   "id": "0f88b6a2",
   "metadata": {
    "scrolled": false
   },
   "outputs": [
    {
     "data": {
      "text/html": [
       "<div>\n",
       "<style scoped>\n",
       "    .dataframe tbody tr th:only-of-type {\n",
       "        vertical-align: middle;\n",
       "    }\n",
       "\n",
       "    .dataframe tbody tr th {\n",
       "        vertical-align: top;\n",
       "    }\n",
       "\n",
       "    .dataframe thead th {\n",
       "        text-align: right;\n",
       "    }\n",
       "</style>\n",
       "<table border=\"1\" class=\"dataframe\">\n",
       "  <thead>\n",
       "    <tr style=\"text-align: right;\">\n",
       "      <th></th>\n",
       "      <th>10FTHF7GLUtl</th>\n",
       "      <th>10FTHF7GLUtm</th>\n",
       "      <th>10FTHFtl</th>\n",
       "      <th>13DAMPPOX</th>\n",
       "      <th>24NPHte</th>\n",
       "      <th>2AMACHYD</th>\n",
       "      <th>2AMACSULT</th>\n",
       "      <th>2AMADPTm</th>\n",
       "      <th>2HBO</th>\n",
       "      <th>2HBt2</th>\n",
       "      <th>...</th>\n",
       "      <th>HISLYSGLUt</th>\n",
       "      <th>HISLYSGLUr</th>\n",
       "      <th>r1754</th>\n",
       "      <th>r1675</th>\n",
       "      <th>IBUPGLUCtpvb</th>\n",
       "      <th>HXCOAx</th>\n",
       "      <th>HXAt2</th>\n",
       "      <th>HXAt3</th>\n",
       "      <th>EX_hxa[e]</th>\n",
       "      <th>HMR_2014</th>\n",
       "    </tr>\n",
       "  </thead>\n",
       "  <tbody>\n",
       "    <tr>\n",
       "      <th>HippocampusModel-GTEX-11DXW-0011-R1a-SM-DNZZD</th>\n",
       "      <td>0</td>\n",
       "      <td>0.0</td>\n",
       "      <td>0.0</td>\n",
       "      <td>0.0</td>\n",
       "      <td>0</td>\n",
       "      <td>0.0</td>\n",
       "      <td>0.0</td>\n",
       "      <td>0</td>\n",
       "      <td>0.000000e+00</td>\n",
       "      <td>0.000000e+00</td>\n",
       "      <td>...</td>\n",
       "      <td>0.000000</td>\n",
       "      <td>0.000000</td>\n",
       "      <td>0</td>\n",
       "      <td>0</td>\n",
       "      <td>0</td>\n",
       "      <td>0</td>\n",
       "      <td>0</td>\n",
       "      <td>0</td>\n",
       "      <td>0</td>\n",
       "      <td>0</td>\n",
       "    </tr>\n",
       "    <tr>\n",
       "      <th>HippocampusModel-GTEX-11EI6-0011-R1a-SM-DO93L</th>\n",
       "      <td>0</td>\n",
       "      <td>0.0</td>\n",
       "      <td>0.0</td>\n",
       "      <td>0.0</td>\n",
       "      <td>0</td>\n",
       "      <td>0.0</td>\n",
       "      <td>0.0</td>\n",
       "      <td>0</td>\n",
       "      <td>-5.843104e-13</td>\n",
       "      <td>-5.843104e-13</td>\n",
       "      <td>...</td>\n",
       "      <td>0.000000</td>\n",
       "      <td>0.000000</td>\n",
       "      <td>0</td>\n",
       "      <td>0</td>\n",
       "      <td>0</td>\n",
       "      <td>0</td>\n",
       "      <td>0</td>\n",
       "      <td>0</td>\n",
       "      <td>0</td>\n",
       "      <td>0</td>\n",
       "    </tr>\n",
       "    <tr>\n",
       "      <th>HippocampusModel-GTEX-11GS4-0011-R1a-SM-DO129</th>\n",
       "      <td>0</td>\n",
       "      <td>0.0</td>\n",
       "      <td>0.0</td>\n",
       "      <td>0.0</td>\n",
       "      <td>0</td>\n",
       "      <td>0.0</td>\n",
       "      <td>0.0</td>\n",
       "      <td>0</td>\n",
       "      <td>0.000000e+00</td>\n",
       "      <td>0.000000e+00</td>\n",
       "      <td>...</td>\n",
       "      <td>0.000000</td>\n",
       "      <td>0.000000</td>\n",
       "      <td>0</td>\n",
       "      <td>0</td>\n",
       "      <td>0</td>\n",
       "      <td>0</td>\n",
       "      <td>0</td>\n",
       "      <td>0</td>\n",
       "      <td>0</td>\n",
       "      <td>0</td>\n",
       "    </tr>\n",
       "    <tr>\n",
       "      <th>HippocampusModel-GTEX-11GSO-0011-R1b-SM-57WD3</th>\n",
       "      <td>0</td>\n",
       "      <td>0.0</td>\n",
       "      <td>0.0</td>\n",
       "      <td>0.0</td>\n",
       "      <td>0</td>\n",
       "      <td>0.0</td>\n",
       "      <td>0.0</td>\n",
       "      <td>0</td>\n",
       "      <td>0.000000e+00</td>\n",
       "      <td>0.000000e+00</td>\n",
       "      <td>...</td>\n",
       "      <td>0.000000</td>\n",
       "      <td>0.000000</td>\n",
       "      <td>0</td>\n",
       "      <td>0</td>\n",
       "      <td>0</td>\n",
       "      <td>0</td>\n",
       "      <td>0</td>\n",
       "      <td>0</td>\n",
       "      <td>0</td>\n",
       "      <td>0</td>\n",
       "    </tr>\n",
       "    <tr>\n",
       "      <th>HippocampusModel-GTEX-11GSP-0011-R1a-SM-9QEJ3</th>\n",
       "      <td>0</td>\n",
       "      <td>0.0</td>\n",
       "      <td>0.0</td>\n",
       "      <td>0.0</td>\n",
       "      <td>0</td>\n",
       "      <td>0.0</td>\n",
       "      <td>0.0</td>\n",
       "      <td>0</td>\n",
       "      <td>0.000000e+00</td>\n",
       "      <td>0.000000e+00</td>\n",
       "      <td>...</td>\n",
       "      <td>0.000000</td>\n",
       "      <td>0.000000</td>\n",
       "      <td>0</td>\n",
       "      <td>0</td>\n",
       "      <td>0</td>\n",
       "      <td>0</td>\n",
       "      <td>0</td>\n",
       "      <td>0</td>\n",
       "      <td>0</td>\n",
       "      <td>0</td>\n",
       "    </tr>\n",
       "    <tr>\n",
       "      <th>...</th>\n",
       "      <td>...</td>\n",
       "      <td>...</td>\n",
       "      <td>...</td>\n",
       "      <td>...</td>\n",
       "      <td>...</td>\n",
       "      <td>...</td>\n",
       "      <td>...</td>\n",
       "      <td>...</td>\n",
       "      <td>...</td>\n",
       "      <td>...</td>\n",
       "      <td>...</td>\n",
       "      <td>...</td>\n",
       "      <td>...</td>\n",
       "      <td>...</td>\n",
       "      <td>...</td>\n",
       "      <td>...</td>\n",
       "      <td>...</td>\n",
       "      <td>...</td>\n",
       "      <td>...</td>\n",
       "      <td>...</td>\n",
       "      <td>...</td>\n",
       "    </tr>\n",
       "    <tr>\n",
       "      <th>LungModel-GTEX-13O61-0726-SM-5J2MD</th>\n",
       "      <td>0</td>\n",
       "      <td>0.0</td>\n",
       "      <td>0.0</td>\n",
       "      <td>0.0</td>\n",
       "      <td>0</td>\n",
       "      <td>0.0</td>\n",
       "      <td>0.0</td>\n",
       "      <td>0</td>\n",
       "      <td>0.000000e+00</td>\n",
       "      <td>0.000000e+00</td>\n",
       "      <td>...</td>\n",
       "      <td>5.020777</td>\n",
       "      <td>5.020777</td>\n",
       "      <td>0</td>\n",
       "      <td>0</td>\n",
       "      <td>0</td>\n",
       "      <td>0</td>\n",
       "      <td>0</td>\n",
       "      <td>0</td>\n",
       "      <td>0</td>\n",
       "      <td>0</td>\n",
       "    </tr>\n",
       "    <tr>\n",
       "      <th>LungModel-GTEX-13OVG-0326-SM-5KM57</th>\n",
       "      <td>0</td>\n",
       "      <td>0.0</td>\n",
       "      <td>0.0</td>\n",
       "      <td>0.0</td>\n",
       "      <td>0</td>\n",
       "      <td>0.0</td>\n",
       "      <td>0.0</td>\n",
       "      <td>0</td>\n",
       "      <td>0.000000e+00</td>\n",
       "      <td>0.000000e+00</td>\n",
       "      <td>...</td>\n",
       "      <td>0.000000</td>\n",
       "      <td>0.000000</td>\n",
       "      <td>0</td>\n",
       "      <td>0</td>\n",
       "      <td>0</td>\n",
       "      <td>0</td>\n",
       "      <td>0</td>\n",
       "      <td>0</td>\n",
       "      <td>0</td>\n",
       "      <td>0</td>\n",
       "    </tr>\n",
       "    <tr>\n",
       "      <th>LungModel-GTEX-13OVH-1026-SM-5J2NP</th>\n",
       "      <td>0</td>\n",
       "      <td>0.0</td>\n",
       "      <td>0.0</td>\n",
       "      <td>0.0</td>\n",
       "      <td>0</td>\n",
       "      <td>0.0</td>\n",
       "      <td>0.0</td>\n",
       "      <td>0</td>\n",
       "      <td>-9.965784e+00</td>\n",
       "      <td>-9.965784e+00</td>\n",
       "      <td>...</td>\n",
       "      <td>0.000000</td>\n",
       "      <td>0.000000</td>\n",
       "      <td>0</td>\n",
       "      <td>0</td>\n",
       "      <td>0</td>\n",
       "      <td>0</td>\n",
       "      <td>0</td>\n",
       "      <td>0</td>\n",
       "      <td>0</td>\n",
       "      <td>0</td>\n",
       "    </tr>\n",
       "    <tr>\n",
       "      <th>LungModel-GTEX-13OVJ-0726-SM-5KM1W</th>\n",
       "      <td>0</td>\n",
       "      <td>0.0</td>\n",
       "      <td>0.0</td>\n",
       "      <td>0.0</td>\n",
       "      <td>0</td>\n",
       "      <td>0.0</td>\n",
       "      <td>0.0</td>\n",
       "      <td>0</td>\n",
       "      <td>-9.649761e+00</td>\n",
       "      <td>0.000000e+00</td>\n",
       "      <td>...</td>\n",
       "      <td>0.000000</td>\n",
       "      <td>0.000000</td>\n",
       "      <td>0</td>\n",
       "      <td>0</td>\n",
       "      <td>0</td>\n",
       "      <td>0</td>\n",
       "      <td>0</td>\n",
       "      <td>0</td>\n",
       "      <td>0</td>\n",
       "      <td>0</td>\n",
       "    </tr>\n",
       "    <tr>\n",
       "      <th>LungModel-GTEX-13OVL-0626-SM-5KM13</th>\n",
       "      <td>0</td>\n",
       "      <td>0.0</td>\n",
       "      <td>0.0</td>\n",
       "      <td>0.0</td>\n",
       "      <td>0</td>\n",
       "      <td>0.0</td>\n",
       "      <td>0.0</td>\n",
       "      <td>0</td>\n",
       "      <td>0.000000e+00</td>\n",
       "      <td>0.000000e+00</td>\n",
       "      <td>...</td>\n",
       "      <td>0.000000</td>\n",
       "      <td>0.000000</td>\n",
       "      <td>0</td>\n",
       "      <td>0</td>\n",
       "      <td>0</td>\n",
       "      <td>0</td>\n",
       "      <td>0</td>\n",
       "      <td>0</td>\n",
       "      <td>0</td>\n",
       "      <td>0</td>\n",
       "    </tr>\n",
       "  </tbody>\n",
       "</table>\n",
       "<p>200 rows × 8152 columns</p>\n",
       "</div>"
      ],
      "text/plain": [
       "                                               10FTHF7GLUtl  10FTHF7GLUtm  \\\n",
       "HippocampusModel-GTEX-11DXW-0011-R1a-SM-DNZZD             0           0.0   \n",
       "HippocampusModel-GTEX-11EI6-0011-R1a-SM-DO93L             0           0.0   \n",
       "HippocampusModel-GTEX-11GS4-0011-R1a-SM-DO129             0           0.0   \n",
       "HippocampusModel-GTEX-11GSO-0011-R1b-SM-57WD3             0           0.0   \n",
       "HippocampusModel-GTEX-11GSP-0011-R1a-SM-9QEJ3             0           0.0   \n",
       "...                                                     ...           ...   \n",
       "LungModel-GTEX-13O61-0726-SM-5J2MD                        0           0.0   \n",
       "LungModel-GTEX-13OVG-0326-SM-5KM57                        0           0.0   \n",
       "LungModel-GTEX-13OVH-1026-SM-5J2NP                        0           0.0   \n",
       "LungModel-GTEX-13OVJ-0726-SM-5KM1W                        0           0.0   \n",
       "LungModel-GTEX-13OVL-0626-SM-5KM13                        0           0.0   \n",
       "\n",
       "                                               10FTHFtl  13DAMPPOX  24NPHte  \\\n",
       "HippocampusModel-GTEX-11DXW-0011-R1a-SM-DNZZD       0.0        0.0        0   \n",
       "HippocampusModel-GTEX-11EI6-0011-R1a-SM-DO93L       0.0        0.0        0   \n",
       "HippocampusModel-GTEX-11GS4-0011-R1a-SM-DO129       0.0        0.0        0   \n",
       "HippocampusModel-GTEX-11GSO-0011-R1b-SM-57WD3       0.0        0.0        0   \n",
       "HippocampusModel-GTEX-11GSP-0011-R1a-SM-9QEJ3       0.0        0.0        0   \n",
       "...                                                 ...        ...      ...   \n",
       "LungModel-GTEX-13O61-0726-SM-5J2MD                  0.0        0.0        0   \n",
       "LungModel-GTEX-13OVG-0326-SM-5KM57                  0.0        0.0        0   \n",
       "LungModel-GTEX-13OVH-1026-SM-5J2NP                  0.0        0.0        0   \n",
       "LungModel-GTEX-13OVJ-0726-SM-5KM1W                  0.0        0.0        0   \n",
       "LungModel-GTEX-13OVL-0626-SM-5KM13                  0.0        0.0        0   \n",
       "\n",
       "                                               2AMACHYD  2AMACSULT  2AMADPTm  \\\n",
       "HippocampusModel-GTEX-11DXW-0011-R1a-SM-DNZZD       0.0        0.0         0   \n",
       "HippocampusModel-GTEX-11EI6-0011-R1a-SM-DO93L       0.0        0.0         0   \n",
       "HippocampusModel-GTEX-11GS4-0011-R1a-SM-DO129       0.0        0.0         0   \n",
       "HippocampusModel-GTEX-11GSO-0011-R1b-SM-57WD3       0.0        0.0         0   \n",
       "HippocampusModel-GTEX-11GSP-0011-R1a-SM-9QEJ3       0.0        0.0         0   \n",
       "...                                                 ...        ...       ...   \n",
       "LungModel-GTEX-13O61-0726-SM-5J2MD                  0.0        0.0         0   \n",
       "LungModel-GTEX-13OVG-0326-SM-5KM57                  0.0        0.0         0   \n",
       "LungModel-GTEX-13OVH-1026-SM-5J2NP                  0.0        0.0         0   \n",
       "LungModel-GTEX-13OVJ-0726-SM-5KM1W                  0.0        0.0         0   \n",
       "LungModel-GTEX-13OVL-0626-SM-5KM13                  0.0        0.0         0   \n",
       "\n",
       "                                                       2HBO         2HBt2  \\\n",
       "HippocampusModel-GTEX-11DXW-0011-R1a-SM-DNZZD  0.000000e+00  0.000000e+00   \n",
       "HippocampusModel-GTEX-11EI6-0011-R1a-SM-DO93L -5.843104e-13 -5.843104e-13   \n",
       "HippocampusModel-GTEX-11GS4-0011-R1a-SM-DO129  0.000000e+00  0.000000e+00   \n",
       "HippocampusModel-GTEX-11GSO-0011-R1b-SM-57WD3  0.000000e+00  0.000000e+00   \n",
       "HippocampusModel-GTEX-11GSP-0011-R1a-SM-9QEJ3  0.000000e+00  0.000000e+00   \n",
       "...                                                     ...           ...   \n",
       "LungModel-GTEX-13O61-0726-SM-5J2MD             0.000000e+00  0.000000e+00   \n",
       "LungModel-GTEX-13OVG-0326-SM-5KM57             0.000000e+00  0.000000e+00   \n",
       "LungModel-GTEX-13OVH-1026-SM-5J2NP            -9.965784e+00 -9.965784e+00   \n",
       "LungModel-GTEX-13OVJ-0726-SM-5KM1W            -9.649761e+00  0.000000e+00   \n",
       "LungModel-GTEX-13OVL-0626-SM-5KM13             0.000000e+00  0.000000e+00   \n",
       "\n",
       "                                               ...  HISLYSGLUt  HISLYSGLUr  \\\n",
       "HippocampusModel-GTEX-11DXW-0011-R1a-SM-DNZZD  ...    0.000000    0.000000   \n",
       "HippocampusModel-GTEX-11EI6-0011-R1a-SM-DO93L  ...    0.000000    0.000000   \n",
       "HippocampusModel-GTEX-11GS4-0011-R1a-SM-DO129  ...    0.000000    0.000000   \n",
       "HippocampusModel-GTEX-11GSO-0011-R1b-SM-57WD3  ...    0.000000    0.000000   \n",
       "HippocampusModel-GTEX-11GSP-0011-R1a-SM-9QEJ3  ...    0.000000    0.000000   \n",
       "...                                            ...         ...         ...   \n",
       "LungModel-GTEX-13O61-0726-SM-5J2MD             ...    5.020777    5.020777   \n",
       "LungModel-GTEX-13OVG-0326-SM-5KM57             ...    0.000000    0.000000   \n",
       "LungModel-GTEX-13OVH-1026-SM-5J2NP             ...    0.000000    0.000000   \n",
       "LungModel-GTEX-13OVJ-0726-SM-5KM1W             ...    0.000000    0.000000   \n",
       "LungModel-GTEX-13OVL-0626-SM-5KM13             ...    0.000000    0.000000   \n",
       "\n",
       "                                               r1754  r1675  IBUPGLUCtpvb  \\\n",
       "HippocampusModel-GTEX-11DXW-0011-R1a-SM-DNZZD      0      0             0   \n",
       "HippocampusModel-GTEX-11EI6-0011-R1a-SM-DO93L      0      0             0   \n",
       "HippocampusModel-GTEX-11GS4-0011-R1a-SM-DO129      0      0             0   \n",
       "HippocampusModel-GTEX-11GSO-0011-R1b-SM-57WD3      0      0             0   \n",
       "HippocampusModel-GTEX-11GSP-0011-R1a-SM-9QEJ3      0      0             0   \n",
       "...                                              ...    ...           ...   \n",
       "LungModel-GTEX-13O61-0726-SM-5J2MD                 0      0             0   \n",
       "LungModel-GTEX-13OVG-0326-SM-5KM57                 0      0             0   \n",
       "LungModel-GTEX-13OVH-1026-SM-5J2NP                 0      0             0   \n",
       "LungModel-GTEX-13OVJ-0726-SM-5KM1W                 0      0             0   \n",
       "LungModel-GTEX-13OVL-0626-SM-5KM13                 0      0             0   \n",
       "\n",
       "                                               HXCOAx  HXAt2  HXAt3  \\\n",
       "HippocampusModel-GTEX-11DXW-0011-R1a-SM-DNZZD       0      0      0   \n",
       "HippocampusModel-GTEX-11EI6-0011-R1a-SM-DO93L       0      0      0   \n",
       "HippocampusModel-GTEX-11GS4-0011-R1a-SM-DO129       0      0      0   \n",
       "HippocampusModel-GTEX-11GSO-0011-R1b-SM-57WD3       0      0      0   \n",
       "HippocampusModel-GTEX-11GSP-0011-R1a-SM-9QEJ3       0      0      0   \n",
       "...                                               ...    ...    ...   \n",
       "LungModel-GTEX-13O61-0726-SM-5J2MD                  0      0      0   \n",
       "LungModel-GTEX-13OVG-0326-SM-5KM57                  0      0      0   \n",
       "LungModel-GTEX-13OVH-1026-SM-5J2NP                  0      0      0   \n",
       "LungModel-GTEX-13OVJ-0726-SM-5KM1W                  0      0      0   \n",
       "LungModel-GTEX-13OVL-0626-SM-5KM13                  0      0      0   \n",
       "\n",
       "                                               EX_hxa[e]  HMR_2014  \n",
       "HippocampusModel-GTEX-11DXW-0011-R1a-SM-DNZZD          0         0  \n",
       "HippocampusModel-GTEX-11EI6-0011-R1a-SM-DO93L          0         0  \n",
       "HippocampusModel-GTEX-11GS4-0011-R1a-SM-DO129          0         0  \n",
       "HippocampusModel-GTEX-11GSO-0011-R1b-SM-57WD3          0         0  \n",
       "HippocampusModel-GTEX-11GSP-0011-R1a-SM-9QEJ3          0         0  \n",
       "...                                                  ...       ...  \n",
       "LungModel-GTEX-13O61-0726-SM-5J2MD                     0         0  \n",
       "LungModel-GTEX-13OVG-0326-SM-5KM57                     0         0  \n",
       "LungModel-GTEX-13OVH-1026-SM-5J2NP                     0         0  \n",
       "LungModel-GTEX-13OVJ-0726-SM-5KM1W                     0         0  \n",
       "LungModel-GTEX-13OVL-0626-SM-5KM13                     0         0  \n",
       "\n",
       "[200 rows x 8152 columns]"
      ]
     },
     "execution_count": 6,
     "metadata": {},
     "output_type": "execute_result"
    }
   ],
   "source": [
    "t_fluxes_df = fluxes_df.applymap(flux_transformer)\n",
    "t_fluxes_df"
   ]
  },
  {
   "cell_type": "code",
   "execution_count": 22,
   "id": "77bb0901",
   "metadata": {
    "scrolled": false
   },
   "outputs": [
    {
     "data": {
      "text/html": [
       "<div>\n",
       "<style scoped>\n",
       "    .dataframe tbody tr th:only-of-type {\n",
       "        vertical-align: middle;\n",
       "    }\n",
       "\n",
       "    .dataframe tbody tr th {\n",
       "        vertical-align: top;\n",
       "    }\n",
       "\n",
       "    .dataframe thead th {\n",
       "        text-align: right;\n",
       "    }\n",
       "</style>\n",
       "<table border=\"1\" class=\"dataframe\">\n",
       "  <thead>\n",
       "    <tr style=\"text-align: right;\">\n",
       "      <th></th>\n",
       "      <th>HippocampusModel-GTEX-11DXW-0011-R1a-SM-DNZZD</th>\n",
       "      <th>HippocampusModel-GTEX-11EI6-0011-R1a-SM-DO93L</th>\n",
       "      <th>HippocampusModel-GTEX-11GS4-0011-R1a-SM-DO129</th>\n",
       "      <th>HippocampusModel-GTEX-11GSO-0011-R1b-SM-57WD3</th>\n",
       "      <th>HippocampusModel-GTEX-11GSP-0011-R1a-SM-9QEJ3</th>\n",
       "      <th>HippocampusModel-GTEX-11ONC-0011-R1a-SM-57WD4</th>\n",
       "      <th>HippocampusModel-GTEX-11TUW-0011-R1a-SM-DO92S</th>\n",
       "      <th>HippocampusModel-GTEX-11UD1-0011-R1b-SM-5BC7D</th>\n",
       "      <th>HippocampusModel-GTEX-11WQC-0011-R1b-SM-DO932</th>\n",
       "      <th>HippocampusModel-GTEX-11ZTS-0011-R1a-SM-5BC71</th>\n",
       "      <th>...</th>\n",
       "      <th>LungModel-GTEX-13NZA-1426-SM-5KM4Y</th>\n",
       "      <th>LungModel-GTEX-13O21-3026-SM-5J2NI</th>\n",
       "      <th>LungModel-GTEX-13O3O-0726-SM-5J1N7</th>\n",
       "      <th>LungModel-GTEX-13O3P-1026-SM-5N9E7</th>\n",
       "      <th>LungModel-GTEX-13O3Q-0526-SM-5KM18</th>\n",
       "      <th>LungModel-GTEX-13O61-0726-SM-5J2MD</th>\n",
       "      <th>LungModel-GTEX-13OVG-0326-SM-5KM57</th>\n",
       "      <th>LungModel-GTEX-13OVH-1026-SM-5J2NP</th>\n",
       "      <th>LungModel-GTEX-13OVJ-0726-SM-5KM1W</th>\n",
       "      <th>LungModel-GTEX-13OVL-0626-SM-5KM13</th>\n",
       "    </tr>\n",
       "  </thead>\n",
       "  <tbody>\n",
       "    <tr>\n",
       "      <th>10FTHF7GLUtl</th>\n",
       "      <td>0.0</td>\n",
       "      <td>0.0</td>\n",
       "      <td>0.0</td>\n",
       "      <td>0.0</td>\n",
       "      <td>0.0</td>\n",
       "      <td>0.0</td>\n",
       "      <td>0.0</td>\n",
       "      <td>0.0</td>\n",
       "      <td>0.0</td>\n",
       "      <td>0.0</td>\n",
       "      <td>...</td>\n",
       "      <td>0.000000e+00</td>\n",
       "      <td>0.0</td>\n",
       "      <td>0.0</td>\n",
       "      <td>0.0</td>\n",
       "      <td>0.0</td>\n",
       "      <td>0.0</td>\n",
       "      <td>0.0</td>\n",
       "      <td>0.0</td>\n",
       "      <td>0.0</td>\n",
       "      <td>0.0</td>\n",
       "    </tr>\n",
       "    <tr>\n",
       "      <th>10FTHF7GLUtm</th>\n",
       "      <td>0.0</td>\n",
       "      <td>0.0</td>\n",
       "      <td>0.0</td>\n",
       "      <td>0.0</td>\n",
       "      <td>0.0</td>\n",
       "      <td>0.0</td>\n",
       "      <td>0.0</td>\n",
       "      <td>0.0</td>\n",
       "      <td>0.0</td>\n",
       "      <td>0.0</td>\n",
       "      <td>...</td>\n",
       "      <td>1.110223e-15</td>\n",
       "      <td>0.0</td>\n",
       "      <td>0.0</td>\n",
       "      <td>0.0</td>\n",
       "      <td>0.0</td>\n",
       "      <td>0.0</td>\n",
       "      <td>0.0</td>\n",
       "      <td>0.0</td>\n",
       "      <td>0.0</td>\n",
       "      <td>0.0</td>\n",
       "    </tr>\n",
       "    <tr>\n",
       "      <th>10FTHFtl</th>\n",
       "      <td>0.0</td>\n",
       "      <td>0.0</td>\n",
       "      <td>0.0</td>\n",
       "      <td>0.0</td>\n",
       "      <td>0.0</td>\n",
       "      <td>0.0</td>\n",
       "      <td>0.0</td>\n",
       "      <td>0.0</td>\n",
       "      <td>0.0</td>\n",
       "      <td>0.0</td>\n",
       "      <td>...</td>\n",
       "      <td>0.000000e+00</td>\n",
       "      <td>0.0</td>\n",
       "      <td>0.0</td>\n",
       "      <td>0.0</td>\n",
       "      <td>0.0</td>\n",
       "      <td>0.0</td>\n",
       "      <td>0.0</td>\n",
       "      <td>0.0</td>\n",
       "      <td>0.0</td>\n",
       "      <td>0.0</td>\n",
       "    </tr>\n",
       "    <tr>\n",
       "      <th>13DAMPPOX</th>\n",
       "      <td>0.0</td>\n",
       "      <td>0.0</td>\n",
       "      <td>0.0</td>\n",
       "      <td>0.0</td>\n",
       "      <td>0.0</td>\n",
       "      <td>0.0</td>\n",
       "      <td>0.0</td>\n",
       "      <td>0.0</td>\n",
       "      <td>0.0</td>\n",
       "      <td>0.0</td>\n",
       "      <td>...</td>\n",
       "      <td>0.000000e+00</td>\n",
       "      <td>0.0</td>\n",
       "      <td>0.0</td>\n",
       "      <td>0.0</td>\n",
       "      <td>0.0</td>\n",
       "      <td>0.0</td>\n",
       "      <td>0.0</td>\n",
       "      <td>0.0</td>\n",
       "      <td>0.0</td>\n",
       "      <td>0.0</td>\n",
       "    </tr>\n",
       "    <tr>\n",
       "      <th>24NPHte</th>\n",
       "      <td>0.0</td>\n",
       "      <td>0.0</td>\n",
       "      <td>0.0</td>\n",
       "      <td>0.0</td>\n",
       "      <td>0.0</td>\n",
       "      <td>0.0</td>\n",
       "      <td>0.0</td>\n",
       "      <td>0.0</td>\n",
       "      <td>0.0</td>\n",
       "      <td>0.0</td>\n",
       "      <td>...</td>\n",
       "      <td>0.000000e+00</td>\n",
       "      <td>0.0</td>\n",
       "      <td>0.0</td>\n",
       "      <td>0.0</td>\n",
       "      <td>0.0</td>\n",
       "      <td>0.0</td>\n",
       "      <td>0.0</td>\n",
       "      <td>0.0</td>\n",
       "      <td>0.0</td>\n",
       "      <td>0.0</td>\n",
       "    </tr>\n",
       "    <tr>\n",
       "      <th>...</th>\n",
       "      <td>...</td>\n",
       "      <td>...</td>\n",
       "      <td>...</td>\n",
       "      <td>...</td>\n",
       "      <td>...</td>\n",
       "      <td>...</td>\n",
       "      <td>...</td>\n",
       "      <td>...</td>\n",
       "      <td>...</td>\n",
       "      <td>...</td>\n",
       "      <td>...</td>\n",
       "      <td>...</td>\n",
       "      <td>...</td>\n",
       "      <td>...</td>\n",
       "      <td>...</td>\n",
       "      <td>...</td>\n",
       "      <td>...</td>\n",
       "      <td>...</td>\n",
       "      <td>...</td>\n",
       "      <td>...</td>\n",
       "      <td>...</td>\n",
       "    </tr>\n",
       "    <tr>\n",
       "      <th>HXCOAx</th>\n",
       "      <td>0.0</td>\n",
       "      <td>0.0</td>\n",
       "      <td>0.0</td>\n",
       "      <td>0.0</td>\n",
       "      <td>0.0</td>\n",
       "      <td>0.0</td>\n",
       "      <td>0.0</td>\n",
       "      <td>0.0</td>\n",
       "      <td>0.0</td>\n",
       "      <td>0.0</td>\n",
       "      <td>...</td>\n",
       "      <td>0.000000e+00</td>\n",
       "      <td>0.0</td>\n",
       "      <td>0.0</td>\n",
       "      <td>0.0</td>\n",
       "      <td>0.0</td>\n",
       "      <td>0.0</td>\n",
       "      <td>0.0</td>\n",
       "      <td>0.0</td>\n",
       "      <td>0.0</td>\n",
       "      <td>0.0</td>\n",
       "    </tr>\n",
       "    <tr>\n",
       "      <th>HXAt2</th>\n",
       "      <td>0.0</td>\n",
       "      <td>0.0</td>\n",
       "      <td>0.0</td>\n",
       "      <td>0.0</td>\n",
       "      <td>0.0</td>\n",
       "      <td>0.0</td>\n",
       "      <td>0.0</td>\n",
       "      <td>0.0</td>\n",
       "      <td>0.0</td>\n",
       "      <td>0.0</td>\n",
       "      <td>...</td>\n",
       "      <td>0.000000e+00</td>\n",
       "      <td>0.0</td>\n",
       "      <td>0.0</td>\n",
       "      <td>0.0</td>\n",
       "      <td>0.0</td>\n",
       "      <td>0.0</td>\n",
       "      <td>0.0</td>\n",
       "      <td>0.0</td>\n",
       "      <td>0.0</td>\n",
       "      <td>0.0</td>\n",
       "    </tr>\n",
       "    <tr>\n",
       "      <th>HXAt3</th>\n",
       "      <td>0.0</td>\n",
       "      <td>0.0</td>\n",
       "      <td>0.0</td>\n",
       "      <td>0.0</td>\n",
       "      <td>0.0</td>\n",
       "      <td>0.0</td>\n",
       "      <td>0.0</td>\n",
       "      <td>0.0</td>\n",
       "      <td>0.0</td>\n",
       "      <td>0.0</td>\n",
       "      <td>...</td>\n",
       "      <td>0.000000e+00</td>\n",
       "      <td>0.0</td>\n",
       "      <td>0.0</td>\n",
       "      <td>0.0</td>\n",
       "      <td>0.0</td>\n",
       "      <td>0.0</td>\n",
       "      <td>0.0</td>\n",
       "      <td>0.0</td>\n",
       "      <td>0.0</td>\n",
       "      <td>0.0</td>\n",
       "    </tr>\n",
       "    <tr>\n",
       "      <th>EX_hxa[e]</th>\n",
       "      <td>0.0</td>\n",
       "      <td>0.0</td>\n",
       "      <td>0.0</td>\n",
       "      <td>0.0</td>\n",
       "      <td>0.0</td>\n",
       "      <td>0.0</td>\n",
       "      <td>0.0</td>\n",
       "      <td>0.0</td>\n",
       "      <td>0.0</td>\n",
       "      <td>0.0</td>\n",
       "      <td>...</td>\n",
       "      <td>0.000000e+00</td>\n",
       "      <td>0.0</td>\n",
       "      <td>0.0</td>\n",
       "      <td>0.0</td>\n",
       "      <td>0.0</td>\n",
       "      <td>0.0</td>\n",
       "      <td>0.0</td>\n",
       "      <td>0.0</td>\n",
       "      <td>0.0</td>\n",
       "      <td>0.0</td>\n",
       "    </tr>\n",
       "    <tr>\n",
       "      <th>HMR_2014</th>\n",
       "      <td>0.0</td>\n",
       "      <td>0.0</td>\n",
       "      <td>0.0</td>\n",
       "      <td>0.0</td>\n",
       "      <td>0.0</td>\n",
       "      <td>0.0</td>\n",
       "      <td>0.0</td>\n",
       "      <td>0.0</td>\n",
       "      <td>0.0</td>\n",
       "      <td>0.0</td>\n",
       "      <td>...</td>\n",
       "      <td>0.000000e+00</td>\n",
       "      <td>0.0</td>\n",
       "      <td>0.0</td>\n",
       "      <td>0.0</td>\n",
       "      <td>0.0</td>\n",
       "      <td>0.0</td>\n",
       "      <td>0.0</td>\n",
       "      <td>0.0</td>\n",
       "      <td>0.0</td>\n",
       "      <td>0.0</td>\n",
       "    </tr>\n",
       "  </tbody>\n",
       "</table>\n",
       "<p>8152 rows × 200 columns</p>\n",
       "</div>"
      ],
      "text/plain": [
       "              HippocampusModel-GTEX-11DXW-0011-R1a-SM-DNZZD  \\\n",
       "10FTHF7GLUtl                                            0.0   \n",
       "10FTHF7GLUtm                                            0.0   \n",
       "10FTHFtl                                                0.0   \n",
       "13DAMPPOX                                               0.0   \n",
       "24NPHte                                                 0.0   \n",
       "...                                                     ...   \n",
       "HXCOAx                                                  0.0   \n",
       "HXAt2                                                   0.0   \n",
       "HXAt3                                                   0.0   \n",
       "EX_hxa[e]                                               0.0   \n",
       "HMR_2014                                                0.0   \n",
       "\n",
       "              HippocampusModel-GTEX-11EI6-0011-R1a-SM-DO93L  \\\n",
       "10FTHF7GLUtl                                            0.0   \n",
       "10FTHF7GLUtm                                            0.0   \n",
       "10FTHFtl                                                0.0   \n",
       "13DAMPPOX                                               0.0   \n",
       "24NPHte                                                 0.0   \n",
       "...                                                     ...   \n",
       "HXCOAx                                                  0.0   \n",
       "HXAt2                                                   0.0   \n",
       "HXAt3                                                   0.0   \n",
       "EX_hxa[e]                                               0.0   \n",
       "HMR_2014                                                0.0   \n",
       "\n",
       "              HippocampusModel-GTEX-11GS4-0011-R1a-SM-DO129  \\\n",
       "10FTHF7GLUtl                                            0.0   \n",
       "10FTHF7GLUtm                                            0.0   \n",
       "10FTHFtl                                                0.0   \n",
       "13DAMPPOX                                               0.0   \n",
       "24NPHte                                                 0.0   \n",
       "...                                                     ...   \n",
       "HXCOAx                                                  0.0   \n",
       "HXAt2                                                   0.0   \n",
       "HXAt3                                                   0.0   \n",
       "EX_hxa[e]                                               0.0   \n",
       "HMR_2014                                                0.0   \n",
       "\n",
       "              HippocampusModel-GTEX-11GSO-0011-R1b-SM-57WD3  \\\n",
       "10FTHF7GLUtl                                            0.0   \n",
       "10FTHF7GLUtm                                            0.0   \n",
       "10FTHFtl                                                0.0   \n",
       "13DAMPPOX                                               0.0   \n",
       "24NPHte                                                 0.0   \n",
       "...                                                     ...   \n",
       "HXCOAx                                                  0.0   \n",
       "HXAt2                                                   0.0   \n",
       "HXAt3                                                   0.0   \n",
       "EX_hxa[e]                                               0.0   \n",
       "HMR_2014                                                0.0   \n",
       "\n",
       "              HippocampusModel-GTEX-11GSP-0011-R1a-SM-9QEJ3  \\\n",
       "10FTHF7GLUtl                                            0.0   \n",
       "10FTHF7GLUtm                                            0.0   \n",
       "10FTHFtl                                                0.0   \n",
       "13DAMPPOX                                               0.0   \n",
       "24NPHte                                                 0.0   \n",
       "...                                                     ...   \n",
       "HXCOAx                                                  0.0   \n",
       "HXAt2                                                   0.0   \n",
       "HXAt3                                                   0.0   \n",
       "EX_hxa[e]                                               0.0   \n",
       "HMR_2014                                                0.0   \n",
       "\n",
       "              HippocampusModel-GTEX-11ONC-0011-R1a-SM-57WD4  \\\n",
       "10FTHF7GLUtl                                            0.0   \n",
       "10FTHF7GLUtm                                            0.0   \n",
       "10FTHFtl                                                0.0   \n",
       "13DAMPPOX                                               0.0   \n",
       "24NPHte                                                 0.0   \n",
       "...                                                     ...   \n",
       "HXCOAx                                                  0.0   \n",
       "HXAt2                                                   0.0   \n",
       "HXAt3                                                   0.0   \n",
       "EX_hxa[e]                                               0.0   \n",
       "HMR_2014                                                0.0   \n",
       "\n",
       "              HippocampusModel-GTEX-11TUW-0011-R1a-SM-DO92S  \\\n",
       "10FTHF7GLUtl                                            0.0   \n",
       "10FTHF7GLUtm                                            0.0   \n",
       "10FTHFtl                                                0.0   \n",
       "13DAMPPOX                                               0.0   \n",
       "24NPHte                                                 0.0   \n",
       "...                                                     ...   \n",
       "HXCOAx                                                  0.0   \n",
       "HXAt2                                                   0.0   \n",
       "HXAt3                                                   0.0   \n",
       "EX_hxa[e]                                               0.0   \n",
       "HMR_2014                                                0.0   \n",
       "\n",
       "              HippocampusModel-GTEX-11UD1-0011-R1b-SM-5BC7D  \\\n",
       "10FTHF7GLUtl                                            0.0   \n",
       "10FTHF7GLUtm                                            0.0   \n",
       "10FTHFtl                                                0.0   \n",
       "13DAMPPOX                                               0.0   \n",
       "24NPHte                                                 0.0   \n",
       "...                                                     ...   \n",
       "HXCOAx                                                  0.0   \n",
       "HXAt2                                                   0.0   \n",
       "HXAt3                                                   0.0   \n",
       "EX_hxa[e]                                               0.0   \n",
       "HMR_2014                                                0.0   \n",
       "\n",
       "              HippocampusModel-GTEX-11WQC-0011-R1b-SM-DO932  \\\n",
       "10FTHF7GLUtl                                            0.0   \n",
       "10FTHF7GLUtm                                            0.0   \n",
       "10FTHFtl                                                0.0   \n",
       "13DAMPPOX                                               0.0   \n",
       "24NPHte                                                 0.0   \n",
       "...                                                     ...   \n",
       "HXCOAx                                                  0.0   \n",
       "HXAt2                                                   0.0   \n",
       "HXAt3                                                   0.0   \n",
       "EX_hxa[e]                                               0.0   \n",
       "HMR_2014                                                0.0   \n",
       "\n",
       "              HippocampusModel-GTEX-11ZTS-0011-R1a-SM-5BC71  ...  \\\n",
       "10FTHF7GLUtl                                            0.0  ...   \n",
       "10FTHF7GLUtm                                            0.0  ...   \n",
       "10FTHFtl                                                0.0  ...   \n",
       "13DAMPPOX                                               0.0  ...   \n",
       "24NPHte                                                 0.0  ...   \n",
       "...                                                     ...  ...   \n",
       "HXCOAx                                                  0.0  ...   \n",
       "HXAt2                                                   0.0  ...   \n",
       "HXAt3                                                   0.0  ...   \n",
       "EX_hxa[e]                                               0.0  ...   \n",
       "HMR_2014                                                0.0  ...   \n",
       "\n",
       "              LungModel-GTEX-13NZA-1426-SM-5KM4Y  \\\n",
       "10FTHF7GLUtl                        0.000000e+00   \n",
       "10FTHF7GLUtm                        1.110223e-15   \n",
       "10FTHFtl                            0.000000e+00   \n",
       "13DAMPPOX                           0.000000e+00   \n",
       "24NPHte                             0.000000e+00   \n",
       "...                                          ...   \n",
       "HXCOAx                              0.000000e+00   \n",
       "HXAt2                               0.000000e+00   \n",
       "HXAt3                               0.000000e+00   \n",
       "EX_hxa[e]                           0.000000e+00   \n",
       "HMR_2014                            0.000000e+00   \n",
       "\n",
       "              LungModel-GTEX-13O21-3026-SM-5J2NI  \\\n",
       "10FTHF7GLUtl                                 0.0   \n",
       "10FTHF7GLUtm                                 0.0   \n",
       "10FTHFtl                                     0.0   \n",
       "13DAMPPOX                                    0.0   \n",
       "24NPHte                                      0.0   \n",
       "...                                          ...   \n",
       "HXCOAx                                       0.0   \n",
       "HXAt2                                        0.0   \n",
       "HXAt3                                        0.0   \n",
       "EX_hxa[e]                                    0.0   \n",
       "HMR_2014                                     0.0   \n",
       "\n",
       "              LungModel-GTEX-13O3O-0726-SM-5J1N7  \\\n",
       "10FTHF7GLUtl                                 0.0   \n",
       "10FTHF7GLUtm                                 0.0   \n",
       "10FTHFtl                                     0.0   \n",
       "13DAMPPOX                                    0.0   \n",
       "24NPHte                                      0.0   \n",
       "...                                          ...   \n",
       "HXCOAx                                       0.0   \n",
       "HXAt2                                        0.0   \n",
       "HXAt3                                        0.0   \n",
       "EX_hxa[e]                                    0.0   \n",
       "HMR_2014                                     0.0   \n",
       "\n",
       "              LungModel-GTEX-13O3P-1026-SM-5N9E7  \\\n",
       "10FTHF7GLUtl                                 0.0   \n",
       "10FTHF7GLUtm                                 0.0   \n",
       "10FTHFtl                                     0.0   \n",
       "13DAMPPOX                                    0.0   \n",
       "24NPHte                                      0.0   \n",
       "...                                          ...   \n",
       "HXCOAx                                       0.0   \n",
       "HXAt2                                        0.0   \n",
       "HXAt3                                        0.0   \n",
       "EX_hxa[e]                                    0.0   \n",
       "HMR_2014                                     0.0   \n",
       "\n",
       "              LungModel-GTEX-13O3Q-0526-SM-5KM18  \\\n",
       "10FTHF7GLUtl                                 0.0   \n",
       "10FTHF7GLUtm                                 0.0   \n",
       "10FTHFtl                                     0.0   \n",
       "13DAMPPOX                                    0.0   \n",
       "24NPHte                                      0.0   \n",
       "...                                          ...   \n",
       "HXCOAx                                       0.0   \n",
       "HXAt2                                        0.0   \n",
       "HXAt3                                        0.0   \n",
       "EX_hxa[e]                                    0.0   \n",
       "HMR_2014                                     0.0   \n",
       "\n",
       "              LungModel-GTEX-13O61-0726-SM-5J2MD  \\\n",
       "10FTHF7GLUtl                                 0.0   \n",
       "10FTHF7GLUtm                                 0.0   \n",
       "10FTHFtl                                     0.0   \n",
       "13DAMPPOX                                    0.0   \n",
       "24NPHte                                      0.0   \n",
       "...                                          ...   \n",
       "HXCOAx                                       0.0   \n",
       "HXAt2                                        0.0   \n",
       "HXAt3                                        0.0   \n",
       "EX_hxa[e]                                    0.0   \n",
       "HMR_2014                                     0.0   \n",
       "\n",
       "              LungModel-GTEX-13OVG-0326-SM-5KM57  \\\n",
       "10FTHF7GLUtl                                 0.0   \n",
       "10FTHF7GLUtm                                 0.0   \n",
       "10FTHFtl                                     0.0   \n",
       "13DAMPPOX                                    0.0   \n",
       "24NPHte                                      0.0   \n",
       "...                                          ...   \n",
       "HXCOAx                                       0.0   \n",
       "HXAt2                                        0.0   \n",
       "HXAt3                                        0.0   \n",
       "EX_hxa[e]                                    0.0   \n",
       "HMR_2014                                     0.0   \n",
       "\n",
       "              LungModel-GTEX-13OVH-1026-SM-5J2NP  \\\n",
       "10FTHF7GLUtl                                 0.0   \n",
       "10FTHF7GLUtm                                 0.0   \n",
       "10FTHFtl                                     0.0   \n",
       "13DAMPPOX                                    0.0   \n",
       "24NPHte                                      0.0   \n",
       "...                                          ...   \n",
       "HXCOAx                                       0.0   \n",
       "HXAt2                                        0.0   \n",
       "HXAt3                                        0.0   \n",
       "EX_hxa[e]                                    0.0   \n",
       "HMR_2014                                     0.0   \n",
       "\n",
       "              LungModel-GTEX-13OVJ-0726-SM-5KM1W  \\\n",
       "10FTHF7GLUtl                                 0.0   \n",
       "10FTHF7GLUtm                                 0.0   \n",
       "10FTHFtl                                     0.0   \n",
       "13DAMPPOX                                    0.0   \n",
       "24NPHte                                      0.0   \n",
       "...                                          ...   \n",
       "HXCOAx                                       0.0   \n",
       "HXAt2                                        0.0   \n",
       "HXAt3                                        0.0   \n",
       "EX_hxa[e]                                    0.0   \n",
       "HMR_2014                                     0.0   \n",
       "\n",
       "              LungModel-GTEX-13OVL-0626-SM-5KM13  \n",
       "10FTHF7GLUtl                                 0.0  \n",
       "10FTHF7GLUtm                                 0.0  \n",
       "10FTHFtl                                     0.0  \n",
       "13DAMPPOX                                    0.0  \n",
       "24NPHte                                      0.0  \n",
       "...                                          ...  \n",
       "HXCOAx                                       0.0  \n",
       "HXAt2                                        0.0  \n",
       "HXAt3                                        0.0  \n",
       "EX_hxa[e]                                    0.0  \n",
       "HMR_2014                                     0.0  \n",
       "\n",
       "[8152 rows x 200 columns]"
      ]
     },
     "execution_count": 22,
     "metadata": {},
     "output_type": "execute_result"
    }
   ],
   "source": [
    "t_fluxes_df_transposed = t_fluxes_df.transpose()\n",
    "t_fluxes_df_transposed"
   ]
  },
  {
   "cell_type": "code",
   "execution_count": 23,
   "id": "fda71ef0",
   "metadata": {},
   "outputs": [
    {
     "data": {
      "text/plain": [
       "(array([  83.,   17.,    8.,   19.,   69., 7773.,   24.,   13.,   35.,\n",
       "         111.]),\n",
       " array([-9.96578428, -7.97262743, -5.97947057, -3.98631371, -1.99315686,\n",
       "         0.        ,  1.99315686,  3.98631371,  5.97947057,  7.97262743,\n",
       "         9.96578428]),\n",
       " <BarContainer object of 10 artists>)"
      ]
     },
     "execution_count": 23,
     "metadata": {},
     "output_type": "execute_result"
    },
    {
     "data": {
      "image/png": "[encoded data removed]",
      "text/plain": [
       "<Figure size 640x480 with 1 Axes>"
      ]
     },
     "metadata": {},
     "output_type": "display_data"
    }
   ],
   "source": [
    "plt.hist(t_fluxes_df_transposed['HippocampusModel-GTEX-11DXW-0011-R1a-SM-DNZZD'], color='dodgerblue', alpha=0.4)"
   ]
  },
  {
   "cell_type": "code",
   "execution_count": 36,
   "id": "04f14da3",
   "metadata": {},
   "outputs": [
    {
     "data": {
      "text/plain": [
       "(array([ 83.,  17.,   8.,  19.,   8.,   4.,  24.,  13.,  35., 111.]),\n",
       " array([-9.96578428, -7.97262743, -5.97947057, -3.98631371, -1.99315686,\n",
       "         0.        ,  1.99315686,  3.98631371,  5.97947057,  7.97262743,\n",
       "         9.96578428]),\n",
       " <BarContainer object of 10 artists>)"
      ]
     },
     "execution_count": 36,
     "metadata": {},
     "output_type": "execute_result"
    },
    {
     "data": {
      "image/png": "[encoded data removed]",
      "text/plain": [
       "<Figure size 640x480 with 1 Axes>"
      ]
     },
     "metadata": {},
     "output_type": "display_data"
    }
   ],
   "source": [
    "t_flux1 = flux1_filtered.apply(flux_transformer)\n",
    "t_flux1\n",
    "plt.hist(t_flux1, color='dodgerblue', alpha=0.4)"
   ]
  },
  {
   "cell_type": "code",
   "execution_count": 8,
   "id": "faa0aa0a",
   "metadata": {},
   "outputs": [],
   "source": [
    "from scipy import stats\n",
    "from statsmodels.stats import multitest\n",
    "import seaborn as sns"
   ]
  },
  {
   "cell_type": "code",
   "execution_count": 9,
   "id": "09e63e45",
   "metadata": {
    "scrolled": true
   },
   "outputs": [],
   "source": [
    "h_samples=t_fluxes_df.head(100)\n",
    "l_samples=t_fluxes_df.tail(100)\n"
   ]
  },
  {
   "cell_type": "code",
   "execution_count": 10,
   "id": "87f066bd",
   "metadata": {
    "scrolled": false
   },
   "outputs": [
    {
     "name": "stderr",
     "output_type": "stream",
     "text": [
      "C:\\Users\\NOE\\anaconda3\\Lib\\site-packages\\scipy\\stats\\_axis_nan_policy.py:551: RuntimeWarning: Precision loss occurred in moment calculation due to catastrophic cancellation. This occurs when the data are nearly identical. Results may be unreliable.\n",
      "  res = hypotest_fun_out(*samples, axis=axis, **kwds)\n",
      "C:\\Users\\NOE\\anaconda3\\Lib\\site-packages\\pandas\\core\\arraylike.py:396: RuntimeWarning: divide by zero encountered in log2\n",
      "  result = getattr(ufunc, method)(*inputs, **kwargs)\n",
      "C:\\Users\\NOE\\anaconda3\\Lib\\site-packages\\pandas\\core\\arraylike.py:396: RuntimeWarning: invalid value encountered in log2\n",
      "  result = getattr(ufunc, method)(*inputs, **kwargs)\n"
     ]
    },
    {
     "data": {
      "text/html": [
       "<div>\n",
       "<style scoped>\n",
       "    .dataframe tbody tr th:only-of-type {\n",
       "        vertical-align: middle;\n",
       "    }\n",
       "\n",
       "    .dataframe tbody tr th {\n",
       "        vertical-align: top;\n",
       "    }\n",
       "\n",
       "    .dataframe thead th {\n",
       "        text-align: right;\n",
       "    }\n",
       "</style>\n",
       "<table border=\"1\" class=\"dataframe\">\n",
       "  <thead>\n",
       "    <tr style=\"text-align: right;\">\n",
       "      <th></th>\n",
       "      <th>3HBCDm</th>\n",
       "      <th>3SALATAim</th>\n",
       "      <th>3SPYRSPm</th>\n",
       "      <th>AACTtm</th>\n",
       "      <th>ACACT1rm</th>\n",
       "      <th>ACACT1x</th>\n",
       "      <th>ACACt2m</th>\n",
       "      <th>ACHEe</th>\n",
       "      <th>AKGDm</th>\n",
       "      <th>ALAtN1</th>\n",
       "      <th>...</th>\n",
       "      <th>r2331</th>\n",
       "      <th>RE2269E</th>\n",
       "      <th>EX_CE5788[e]</th>\n",
       "      <th>GLYt4</th>\n",
       "      <th>r0475</th>\n",
       "      <th>r1673</th>\n",
       "      <th>DOPAt4_2_r</th>\n",
       "      <th>r1702</th>\n",
       "      <th>r0502</th>\n",
       "      <th>CRNATBtc</th>\n",
       "    </tr>\n",
       "  </thead>\n",
       "  <tbody>\n",
       "    <tr>\n",
       "      <th>HippocampusModel-GTEX-11DXW-0011-R1a-SM-DNZZD</th>\n",
       "      <td>0.000000e+00</td>\n",
       "      <td>7.643856</td>\n",
       "      <td>7.643856</td>\n",
       "      <td>8.643856e+00</td>\n",
       "      <td>0.000000e+00</td>\n",
       "      <td>0.000000e+00</td>\n",
       "      <td>0.000000e+00</td>\n",
       "      <td>0.000000</td>\n",
       "      <td>9.965784e+00</td>\n",
       "      <td>0.000000</td>\n",
       "      <td>...</td>\n",
       "      <td>0.0</td>\n",
       "      <td>0.0</td>\n",
       "      <td>0.0</td>\n",
       "      <td>0.0</td>\n",
       "      <td>0.0</td>\n",
       "      <td>0.0</td>\n",
       "      <td>0.0</td>\n",
       "      <td>0.0</td>\n",
       "      <td>0.0</td>\n",
       "      <td>0.0</td>\n",
       "    </tr>\n",
       "    <tr>\n",
       "      <th>HippocampusModel-GTEX-11EI6-0011-R1a-SM-DO93L</th>\n",
       "      <td>0.000000e+00</td>\n",
       "      <td>0.000000</td>\n",
       "      <td>0.000000</td>\n",
       "      <td>0.000000e+00</td>\n",
       "      <td>0.000000e+00</td>\n",
       "      <td>0.000000e+00</td>\n",
       "      <td>0.000000e+00</td>\n",
       "      <td>0.000000</td>\n",
       "      <td>7.706871e+00</td>\n",
       "      <td>0.000000</td>\n",
       "      <td>...</td>\n",
       "      <td>0.0</td>\n",
       "      <td>0.0</td>\n",
       "      <td>0.0</td>\n",
       "      <td>0.0</td>\n",
       "      <td>0.0</td>\n",
       "      <td>0.0</td>\n",
       "      <td>0.0</td>\n",
       "      <td>0.0</td>\n",
       "      <td>0.0</td>\n",
       "      <td>0.0</td>\n",
       "    </tr>\n",
       "    <tr>\n",
       "      <th>HippocampusModel-GTEX-11GS4-0011-R1a-SM-DO129</th>\n",
       "      <td>0.000000e+00</td>\n",
       "      <td>6.350390</td>\n",
       "      <td>6.350390</td>\n",
       "      <td>3.128408e+00</td>\n",
       "      <td>0.000000e+00</td>\n",
       "      <td>5.206946e-13</td>\n",
       "      <td>5.206946e-13</td>\n",
       "      <td>7.424572</td>\n",
       "      <td>6.350390e+00</td>\n",
       "      <td>0.000000</td>\n",
       "      <td>...</td>\n",
       "      <td>0.0</td>\n",
       "      <td>0.0</td>\n",
       "      <td>0.0</td>\n",
       "      <td>0.0</td>\n",
       "      <td>0.0</td>\n",
       "      <td>0.0</td>\n",
       "      <td>0.0</td>\n",
       "      <td>0.0</td>\n",
       "      <td>0.0</td>\n",
       "      <td>0.0</td>\n",
       "    </tr>\n",
       "    <tr>\n",
       "      <th>HippocampusModel-GTEX-11GSO-0011-R1b-SM-57WD3</th>\n",
       "      <td>1.703082e-13</td>\n",
       "      <td>0.000000</td>\n",
       "      <td>0.000000</td>\n",
       "      <td>8.545387e-13</td>\n",
       "      <td>1.703082e-13</td>\n",
       "      <td>0.000000e+00</td>\n",
       "      <td>0.000000e+00</td>\n",
       "      <td>5.382139</td>\n",
       "      <td>3.690360e+00</td>\n",
       "      <td>9.226026</td>\n",
       "      <td>...</td>\n",
       "      <td>0.0</td>\n",
       "      <td>0.0</td>\n",
       "      <td>0.0</td>\n",
       "      <td>0.0</td>\n",
       "      <td>0.0</td>\n",
       "      <td>0.0</td>\n",
       "      <td>0.0</td>\n",
       "      <td>0.0</td>\n",
       "      <td>0.0</td>\n",
       "      <td>0.0</td>\n",
       "    </tr>\n",
       "    <tr>\n",
       "      <th>HippocampusModel-GTEX-11GSP-0011-R1a-SM-9QEJ3</th>\n",
       "      <td>0.000000e+00</td>\n",
       "      <td>0.000000</td>\n",
       "      <td>0.000000</td>\n",
       "      <td>0.000000e+00</td>\n",
       "      <td>0.000000e+00</td>\n",
       "      <td>0.000000e+00</td>\n",
       "      <td>0.000000e+00</td>\n",
       "      <td>0.000000</td>\n",
       "      <td>-8.447687e-13</td>\n",
       "      <td>6.750796</td>\n",
       "      <td>...</td>\n",
       "      <td>0.0</td>\n",
       "      <td>0.0</td>\n",
       "      <td>0.0</td>\n",
       "      <td>0.0</td>\n",
       "      <td>0.0</td>\n",
       "      <td>0.0</td>\n",
       "      <td>0.0</td>\n",
       "      <td>0.0</td>\n",
       "      <td>0.0</td>\n",
       "      <td>0.0</td>\n",
       "    </tr>\n",
       "  </tbody>\n",
       "</table>\n",
       "<p>5 rows × 188 columns</p>\n",
       "</div>"
      ],
      "text/plain": [
       "                                                     3HBCDm  3SALATAim  \\\n",
       "HippocampusModel-GTEX-11DXW-0011-R1a-SM-DNZZD  0.000000e+00   7.643856   \n",
       "HippocampusModel-GTEX-11EI6-0011-R1a-SM-DO93L  0.000000e+00   0.000000   \n",
       "HippocampusModel-GTEX-11GS4-0011-R1a-SM-DO129  0.000000e+00   6.350390   \n",
       "HippocampusModel-GTEX-11GSO-0011-R1b-SM-57WD3  1.703082e-13   0.000000   \n",
       "HippocampusModel-GTEX-11GSP-0011-R1a-SM-9QEJ3  0.000000e+00   0.000000   \n",
       "\n",
       "                                               3SPYRSPm        AACTtm  \\\n",
       "HippocampusModel-GTEX-11DXW-0011-R1a-SM-DNZZD  7.643856  8.643856e+00   \n",
       "HippocampusModel-GTEX-11EI6-0011-R1a-SM-DO93L  0.000000  0.000000e+00   \n",
       "HippocampusModel-GTEX-11GS4-0011-R1a-SM-DO129  6.350390  3.128408e+00   \n",
       "HippocampusModel-GTEX-11GSO-0011-R1b-SM-57WD3  0.000000  8.545387e-13   \n",
       "HippocampusModel-GTEX-11GSP-0011-R1a-SM-9QEJ3  0.000000  0.000000e+00   \n",
       "\n",
       "                                                   ACACT1rm       ACACT1x  \\\n",
       "HippocampusModel-GTEX-11DXW-0011-R1a-SM-DNZZD  0.000000e+00  0.000000e+00   \n",
       "HippocampusModel-GTEX-11EI6-0011-R1a-SM-DO93L  0.000000e+00  0.000000e+00   \n",
       "HippocampusModel-GTEX-11GS4-0011-R1a-SM-DO129  0.000000e+00  5.206946e-13   \n",
       "HippocampusModel-GTEX-11GSO-0011-R1b-SM-57WD3  1.703082e-13  0.000000e+00   \n",
       "HippocampusModel-GTEX-11GSP-0011-R1a-SM-9QEJ3  0.000000e+00  0.000000e+00   \n",
       "\n",
       "                                                    ACACt2m     ACHEe  \\\n",
       "HippocampusModel-GTEX-11DXW-0011-R1a-SM-DNZZD  0.000000e+00  0.000000   \n",
       "HippocampusModel-GTEX-11EI6-0011-R1a-SM-DO93L  0.000000e+00  0.000000   \n",
       "HippocampusModel-GTEX-11GS4-0011-R1a-SM-DO129  5.206946e-13  7.424572   \n",
       "HippocampusModel-GTEX-11GSO-0011-R1b-SM-57WD3  0.000000e+00  5.382139   \n",
       "HippocampusModel-GTEX-11GSP-0011-R1a-SM-9QEJ3  0.000000e+00  0.000000   \n",
       "\n",
       "                                                      AKGDm    ALAtN1  ...  \\\n",
       "HippocampusModel-GTEX-11DXW-0011-R1a-SM-DNZZD  9.965784e+00  0.000000  ...   \n",
       "HippocampusModel-GTEX-11EI6-0011-R1a-SM-DO93L  7.706871e+00  0.000000  ...   \n",
       "HippocampusModel-GTEX-11GS4-0011-R1a-SM-DO129  6.350390e+00  0.000000  ...   \n",
       "HippocampusModel-GTEX-11GSO-0011-R1b-SM-57WD3  3.690360e+00  9.226026  ...   \n",
       "HippocampusModel-GTEX-11GSP-0011-R1a-SM-9QEJ3 -8.447687e-13  6.750796  ...   \n",
       "\n",
       "                                               r2331  RE2269E  EX_CE5788[e]  \\\n",
       "HippocampusModel-GTEX-11DXW-0011-R1a-SM-DNZZD    0.0      0.0           0.0   \n",
       "HippocampusModel-GTEX-11EI6-0011-R1a-SM-DO93L    0.0      0.0           0.0   \n",
       "HippocampusModel-GTEX-11GS4-0011-R1a-SM-DO129    0.0      0.0           0.0   \n",
       "HippocampusModel-GTEX-11GSO-0011-R1b-SM-57WD3    0.0      0.0           0.0   \n",
       "HippocampusModel-GTEX-11GSP-0011-R1a-SM-9QEJ3    0.0      0.0           0.0   \n",
       "\n",
       "                                               GLYt4  r0475  r1673  \\\n",
       "HippocampusModel-GTEX-11DXW-0011-R1a-SM-DNZZD    0.0    0.0    0.0   \n",
       "HippocampusModel-GTEX-11EI6-0011-R1a-SM-DO93L    0.0    0.0    0.0   \n",
       "HippocampusModel-GTEX-11GS4-0011-R1a-SM-DO129    0.0    0.0    0.0   \n",
       "HippocampusModel-GTEX-11GSO-0011-R1b-SM-57WD3    0.0    0.0    0.0   \n",
       "HippocampusModel-GTEX-11GSP-0011-R1a-SM-9QEJ3    0.0    0.0    0.0   \n",
       "\n",
       "                                               DOPAt4_2_r  r1702  r0502  \\\n",
       "HippocampusModel-GTEX-11DXW-0011-R1a-SM-DNZZD         0.0    0.0    0.0   \n",
       "HippocampusModel-GTEX-11EI6-0011-R1a-SM-DO93L         0.0    0.0    0.0   \n",
       "HippocampusModel-GTEX-11GS4-0011-R1a-SM-DO129         0.0    0.0    0.0   \n",
       "HippocampusModel-GTEX-11GSO-0011-R1b-SM-57WD3         0.0    0.0    0.0   \n",
       "HippocampusModel-GTEX-11GSP-0011-R1a-SM-9QEJ3         0.0    0.0    0.0   \n",
       "\n",
       "                                               CRNATBtc  \n",
       "HippocampusModel-GTEX-11DXW-0011-R1a-SM-DNZZD       0.0  \n",
       "HippocampusModel-GTEX-11EI6-0011-R1a-SM-DO93L       0.0  \n",
       "HippocampusModel-GTEX-11GS4-0011-R1a-SM-DO129       0.0  \n",
       "HippocampusModel-GTEX-11GSO-0011-R1b-SM-57WD3       0.0  \n",
       "HippocampusModel-GTEX-11GSP-0011-R1a-SM-9QEJ3       0.0  \n",
       "\n",
       "[5 rows x 188 columns]"
      ]
     },
     "execution_count": 10,
     "metadata": {},
     "output_type": "execute_result"
    }
   ],
   "source": [
    "t_statistic, p_values = stats.ttest_ind(h_samples, l_samples, axis = 0, nan_policy = 'omit')\n",
    "fold_change = np.log2(np.mean(h_samples, axis = 0)) - np.log2(np.mean(l_samples, axis = 0))\n",
    "fold_change[np.isnan(fold_change)] = 0\n",
    "p_values[np.isnan(p_values)] = 1.0  \n",
    "reject, q_values = multitest.fdrcorrection(p_values)\n",
    "\n",
    "t_results = pd.DataFrame({\n",
    "    'reaction': t_fluxes_df.columns,\n",
    "    'p_value': p_values,\n",
    "    'q_value': q_values,\n",
    "    'log_fc': fold_change\n",
    "})\n",
    "\n",
    "t_results['sign'] = 'NORMAL'\n",
    "for idx, row in t_results.iterrows():\n",
    "    if row['q_value'] < 0.05 and row['log_fc'] > 1:\n",
    "        t_results.loc[idx, 'sign'] = 'UP'\n",
    "    elif row['q_value'] < 0.05 and row['log_fc'] < -1:\n",
    "        t_results.loc[idx, 'sign'] = 'DOWN'\n",
    "\n",
    "t_fluxes_sign = t_fluxes_df[t_results[t_results['sign'] != 'NORMAL']['reaction'].values]\n",
    "t_fluxes_sign.head()"
   ]
  },
  {
   "cell_type": "code",
   "execution_count": 11,
   "id": "9610666a",
   "metadata": {
    "scrolled": false
   },
   "outputs": [
    {
     "data": {
      "image/png": "[encoded data removed]",
      "text/plain": [
       "<Figure size 800x600 with 1 Axes>"
      ]
     },
     "metadata": {},
     "output_type": "display_data"
    }
   ],
   "source": [
    "colors = {\"NORMAL\":\"#D2D2D2\", \"UP\":\"#FF6462\", \"DOWN\":\"#62B8FF\"}\n",
    "plt.figure(figsize = (8, 6))\n",
    "\n",
    "sns.scatterplot(x = t_results['log_fc'], y = -np.log10(t_results['q_value']), hue = t_results['sign'], palette = colors, alpha = 0.7)\n",
    "plt.axhline(-np.log10(0.05), color = 'k', linestyle = '--', linewidth = 1, label = 'THRESHOLD')\n",
    "plt.axvline(1, color = 'k', linestyle = '--', linewidth = 1)\n",
    "plt.axvline(-1, color = 'k', linestyle = '--', linewidth = 1)\n",
    "\n",
    "\n",
    "plt.xlabel('Log2(FC)')\n",
    "plt.ylabel('-log10(q-value)')\n",
    "plt.title('Volcano Plot for Hippocampus versus Lung samples fluxes distribution')\n",
    "plt.legend()\n",
    "plt.grid(True)\n",
    "\n",
    "#Establecer limites de recorte:\n",
    "plt.xlim([-20,20])\n",
    "plt.ylim([0,20])\n",
    "\n",
    "#Seleccionar los valores Up y Down después del recorte:\n",
    "up_down_results = t_results[((t_results['sign'] == 'UP') | (t_results['sign'] == 'DOWN')) & \n",
    "                            ((t_results['log_fc'] >= -20) & (t_results['log_fc'] <= 20)) &\n",
    "                            ((-np.log10(t_results['q_value']) >= 0) & (-np.log10(t_results['q_value']) <= 20))]\n",
    "\n",
    "# Seleccionar los 10 puntos más significativos:\n",
    "top_10 = up_down_results.nsmallest(10, 'q_value')\n",
    "\n",
    "# Agregar etiquetas de texto para el nombre de la reacción en los 10 puntos más significativos\n",
    "for index, row in top_10.iterrows():\n",
    "    plt.text(row['log_fc'], -np.log10(row['q_value']), row['reaction'], fontsize=8, ha='center', va='center')\n",
    "\n",
    "    \n",
    "plt.show()"
   ]
  },
  {
   "cell_type": "code",
   "execution_count": 13,
   "id": "5d3e59af",
   "metadata": {},
   "outputs": [
    {
     "name": "stdout",
     "output_type": "stream",
     "text": [
      "               sign       q_value    log_fc\n",
      "EX_HC02203[e]  DOWN  1.675130e-18 -4.146158\n",
      "PCm              UP  4.032738e-18  3.613846\n",
      "ATPtm            UP  5.378154e-18  1.247598\n",
      "r0509            UP  5.850409e-18  1.586038\n",
      "H2CO3Dm          UP  1.907650e-17  3.383017\n",
      "MDH              UP  7.826142e-17  1.358342\n",
      "5MTHFt         DOWN  2.706659e-12 -2.817539\n",
      "HMR_7748       DOWN  7.526576e-11 -2.922701\n",
      "C04805td         UP  1.258458e-10  5.232272\n",
      "EX_C04805[e]     UP  1.258458e-10  5.232272\n",
      "HMR_0960         UP  1.258458e-10  5.232272\n",
      "ALAtN1         DOWN  1.278647e-10 -1.883057\n",
      "3SPYRSPm         UP  1.813007e-10  3.957934\n",
      "3SALATAim        UP  1.813007e-10  3.957934\n",
      "GBA            DOWN  2.172858e-10 -1.889703\n",
      "G6PDH2c        DOWN  2.172858e-10 -1.784553\n",
      "GNDc           DOWN  2.172858e-10 -1.784553\n",
      "PGLc           DOWN  2.172858e-10 -1.784553\n",
      "HMR_1312       DOWN  4.412044e-10 -3.389627\n",
      "MELATNOX       DOWN  2.220373e-09 -3.220767\n"
     ]
    }
   ],
   "source": [
    "top_10_up = up_down_results[up_down_results['sign'] == 'UP'].nsmallest(10, 'q_value')\n",
    "top_10_down = up_down_results[up_down_results['sign'] == 'DOWN'].nsmallest(10, 'q_value')\n",
    "\n",
    "# Concatenar los resultados en una sola tabla\n",
    "top_10 = pd.concat([top_10_up, top_10_down])\n",
    "\n",
    "# Ordenar la tabla según el valor de q-value\n",
    "top_10 = top_10.sort_values(by='q_value')\n",
    "\n",
    "# Mostrar la tabla\n",
    "print(top_10[['sign', 'q_value','log_fc']])\n",
    "#print(top_10[['reaction', 'sign', 'q_value',]])"
   ]
  }
 ],
 "metadata": {
  "kernelspec": {
   "display_name": "Python 3 (ipykernel)",
   "language": "python",
   "name": "python3"
  },
  "language_info": {
   "codemirror_mode": {
    "name": "ipython",
    "version": 3
   },
   "file_extension": ".py",
   "mimetype": "text/x-python",
   "name": "python",
   "nbconvert_exporter": "python",
   "pygments_lexer": "ipython3",
   "version": "3.11.5"
  }
 },
 "nbformat": 4,
 "nbformat_minor": 5
}
