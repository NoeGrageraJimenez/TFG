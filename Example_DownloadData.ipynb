{
 "cells": [
  {
   "cell_type": "markdown",
   "id": "dc138a61",
   "metadata": {},
   "source": [
    "# Adrenal Gland and ACC:"
   ]
  },
  {
   "cell_type": "code",
   "execution_count": 1,
   "id": "eebbe5e2",
   "metadata": {},
   "outputs": [],
   "source": [
    "import glob\n",
    "import os\n",
    "import time\n",
    "from scipy.io import loadmat\n",
    "import cobra\n",
    "import pandas as pd\n",
    "import matplotlib.pyplot as plt\n",
    "import numpy as np"
   ]
  },
  {
   "cell_type": "code",
   "execution_count": 2,
   "id": "1393ba22",
   "metadata": {},
   "outputs": [
    {
     "name": "stdout",
     "output_type": "stream",
     "text": [
      "['C:/Users/NOE/Downloads/rFASTCORMICS-master/rFASTCORMICS-master/rFASTCORMICS for RNA-seq data/Modelos_EXEMPLODownloadData\\\\CancerModel_b4881576_f6a5_4ed0_a4a4_227f4bb73d7c_ff86d680_8a35_4f19_a850_ec.mat', 'C:/Users/NOE/Downloads/rFASTCORMICS-master/rFASTCORMICS-master/rFASTCORMICS for RNA-seq data/Modelos_EXEMPLODownloadData\\\\CancerModel_b95cabf1_0dbc_4d01_a96d_2fca57ad32ce_07a1c477_d35e_4875_8059_c7.mat', 'C:/Users/NOE/Downloads/rFASTCORMICS-master/rFASTCORMICS-master/rFASTCORMICS for RNA-seq data/Modelos_EXEMPLODownloadData\\\\CancerModel_x5c180477_ae14_43e8_93fd_f9df3ffb6b46_55dbbb43_22fb_4803_bace_5.mat', 'C:/Users/NOE/Downloads/rFASTCORMICS-master/rFASTCORMICS-master/rFASTCORMICS for RNA-seq data/Modelos_EXEMPLODownloadData\\\\NormalModel_GTEX_1117F_0526_SM_5EGHJ.mat', 'C:/Users/NOE/Downloads/rFASTCORMICS-master/rFASTCORMICS-master/rFASTCORMICS for RNA-seq data/Modelos_EXEMPLODownloadData\\\\NormalModel_GTEX_111CU_0126_SM_5GZWZ.mat', 'C:/Users/NOE/Downloads/rFASTCORMICS-master/rFASTCORMICS-master/rFASTCORMICS for RNA-seq data/Modelos_EXEMPLODownloadData\\\\NormalModel_GTEX_111FC_3326_SM_5GZYV.mat']\n"
     ]
    }
   ],
   "source": [
    "path = \"C:/Users/NOE/Downloads/rFASTCORMICS-master/rFASTCORMICS-master/rFASTCORMICS for RNA-seq data/Modelos_EXEMPLODownloadData/\"\n",
    "files = glob.glob(path + \"/*.mat\")\n",
    "print(files)"
   ]
  },
  {
   "cell_type": "code",
   "execution_count": 45,
   "id": "5e6c4278",
   "metadata": {},
   "outputs": [
    {
     "ename": "IndentationError",
     "evalue": "unexpected indent (1892626820.py, line 7)",
     "output_type": "error",
     "traceback": [
      "\u001b[1;36m  Cell \u001b[1;32mIn[45], line 7\u001b[1;36m\u001b[0m\n\u001b[1;33m    try:\u001b[0m\n\u001b[1;37m    ^\u001b[0m\n\u001b[1;31mIndentationError\u001b[0m\u001b[1;31m:\u001b[0m unexpected indent\n"
     ]
    }
   ],
   "source": [
    "models = []\n",
    "\n",
    "for m in files:\n",
    "    model = cobra.io.load_matlab_model(m)\n",
    "    model.name = os.path.splitext(os.path.basename(m))[0].replace(\"_\", \"-\")\n",
    "    models.append(model)\n",
    "     try:\n",
    "        for variable in model.na:\n",
    "            print(f\" - {variable}\")\n",
    "    \n",
    "    print(f'Successfully created dataframe for {model.name} with shape {models}')\n"
   ]
  },
  {
   "cell_type": "code",
   "execution_count": 4,
   "id": "263ec0d7",
   "metadata": {},
   "outputs": [
    {
     "name": "stdout",
     "output_type": "stream",
     "text": [
      "Model Name: CancerModel-b4881576-f6a5-4ed0-a4a4-227f4bb73d7c-ff86d680-8a35-4f19-a850-ec\n",
      "Number of Reactions: 5645\n",
      "Number of Metabolites: 3866\n",
      "Number of Genes: 2248\n",
      "------\n",
      "Model Name: CancerModel-b95cabf1-0dbc-4d01-a96d-2fca57ad32ce-07a1c477-d35e-4875-8059-c7\n",
      "Number of Reactions: 5564\n",
      "Number of Metabolites: 3848\n",
      "Number of Genes: 2248\n",
      "------\n",
      "Model Name: CancerModel-x5c180477-ae14-43e8-93fd-f9df3ffb6b46-55dbbb43-22fb-4803-bace-5\n",
      "Number of Reactions: 5463\n",
      "Number of Metabolites: 3783\n",
      "Number of Genes: 2248\n",
      "------\n",
      "Model Name: NormalModel-GTEX-1117F-0526-SM-5EGHJ\n",
      "Number of Reactions: 5443\n",
      "Number of Metabolites: 3742\n",
      "Number of Genes: 2248\n",
      "------\n",
      "Model Name: NormalModel-GTEX-111CU-0126-SM-5GZWZ\n",
      "Number of Reactions: 5738\n",
      "Number of Metabolites: 3925\n",
      "Number of Genes: 2248\n",
      "------\n",
      "Model Name: NormalModel-GTEX-111FC-3326-SM-5GZYV\n",
      "Number of Reactions: 4239\n",
      "Number of Metabolites: 3080\n",
      "Number of Genes: 2248\n",
      "------\n"
     ]
    }
   ],
   "source": [
    "for model in models:\n",
    "    print(f\"Model Name: {model.name}\")\n",
    "    print(f\"Number of Reactions: {len(model.reactions)}\")\n",
    "    print(f\"Number of Metabolites: {len(model.metabolites)}\")\n",
    "    print(f\"Number of Genes: {len(model.genes)}\")\n",
    "    print(\"------\")"
   ]
  },
  {
   "cell_type": "code",
   "execution_count": 42,
   "id": "569e1ec0",
   "metadata": {},
   "outputs": [
    {
     "name": "stdout",
     "output_type": "stream",
     "text": [
      "Error al cargar el archivo ContextModel_Cancer: 'Model' object is not iterable\n",
      "Error al cargar el archivo ContextModel_Cancer: 'Model' object is not iterable\n",
      "Error al cargar el archivo ContextModel_Cancer: 'Model' object is not iterable\n",
      "Error al cargar el archivo ContextModel_normal: 'Model' object is not iterable\n",
      "Error al cargar el archivo ContextModel_normal: 'Model' object is not iterable\n",
      "Error al cargar el archivo ContextModel_normal: 'Model' object is not iterable\n"
     ]
    }
   ],
   "source": [
    "for model in models:\n",
    "    try:\n",
    "        for variable in model:\n",
    "            print(f\" - {variable}\")\n",
    "        \n",
    "        # Puedes mostrar más detalles sobre las variables según tus necesidades\n",
    "        print(\"\\n------\\n\")\n",
    "\n",
    "    except Exception as e:\n",
    "        print(f\"Error al cargar el archivo {model}: {str(e)}\")\n",
    "    \n"
   ]
  },
  {
   "cell_type": "code",
   "execution_count": 27,
   "id": "615fd869",
   "metadata": {},
   "outputs": [
    {
     "data": {
      "text/html": [
       "\n",
       "        <table>\n",
       "            <tr>\n",
       "                <td><strong>Name</strong></td>\n",
       "                <td>ContextModel_normal</td>\n",
       "            </tr><tr>\n",
       "                <td><strong>Memory address</strong></td>\n",
       "                <td>1a7563ca4d0</td>\n",
       "            </tr><tr>\n",
       "                <td><strong>Number of metabolites</strong></td>\n",
       "                <td>3080</td>\n",
       "            </tr><tr>\n",
       "                <td><strong>Number of reactions</strong></td>\n",
       "                <td>4239</td>\n",
       "            </tr><tr>\n",
       "                <td><strong>Number of genes</strong></td>\n",
       "                <td>2248</td>\n",
       "            </tr><tr>\n",
       "                <td><strong>Number of groups</strong></td>\n",
       "                <td>93</td>\n",
       "            </tr><tr>\n",
       "                <td><strong>Objective expression</strong></td>\n",
       "                <td>1.0*biomass_maintenance - 1.0*biomass_maintenance_reverse_95d2f</td>\n",
       "            </tr><tr>\n",
       "                <td><strong>Compartments</strong></td>\n",
       "                <td>c, l, m, x, e, n, r, g, i</td>\n",
       "            </tr>\n",
       "          </table>"
      ],
      "text/plain": [
       "<Model ContextModel_normal at 0x1a7563ca4d0>"
      ]
     },
     "execution_count": 27,
     "metadata": {},
     "output_type": "execute_result"
    }
   ],
   "source": [
    "\n"
   ]
  },
  {
   "cell_type": "code",
   "execution_count": 14,
   "id": "eda22c41",
   "metadata": {},
   "outputs": [
    {
     "data": {
      "text/html": [
       "\n",
       "        <table>\n",
       "            <tr>\n",
       "                <td><strong>Name</strong></td>\n",
       "                <td>ContextModel_Cancer</td>\n",
       "            </tr><tr>\n",
       "                <td><strong>Memory address</strong></td>\n",
       "                <td>1a74b35be10</td>\n",
       "            </tr><tr>\n",
       "                <td><strong>Number of metabolites</strong></td>\n",
       "                <td>3866</td>\n",
       "            </tr><tr>\n",
       "                <td><strong>Number of reactions</strong></td>\n",
       "                <td>5645</td>\n",
       "            </tr><tr>\n",
       "                <td><strong>Number of genes</strong></td>\n",
       "                <td>2248</td>\n",
       "            </tr><tr>\n",
       "                <td><strong>Number of groups</strong></td>\n",
       "                <td>97</td>\n",
       "            </tr><tr>\n",
       "                <td><strong>Objective expression</strong></td>\n",
       "                <td>1.0*biomass_maintenance - 1.0*biomass_maintenance_reverse_95d2f</td>\n",
       "            </tr><tr>\n",
       "                <td><strong>Compartments</strong></td>\n",
       "                <td>c, l, m, e, x, n, r, g, i</td>\n",
       "            </tr>\n",
       "          </table>"
      ],
      "text/plain": [
       "<Model ContextModel_Cancer at 0x1a74b35be10>"
      ]
     },
     "execution_count": 14,
     "metadata": {},
     "output_type": "execute_result"
    }
   ],
   "source": [
    "indice_deseado = 0 # Cambia este valor según el índice del modelo que deseas mostrar\n",
    "\n",
    "modelo_seleccionado = models[indice_deseado]\n",
    "modelo_seleccionado"
   ]
  },
  {
   "cell_type": "code",
   "execution_count": 7,
   "id": "232bce99",
   "metadata": {},
   "outputs": [
    {
     "ename": "NameError",
     "evalue": "name 'Model1' is not defined",
     "output_type": "error",
     "traceback": [
      "\u001b[1;31m---------------------------------------------------------------------------\u001b[0m",
      "\u001b[1;31mNameError\u001b[0m                                 Traceback (most recent call last)",
      "Cell \u001b[1;32mIn[7], line 1\u001b[0m\n\u001b[1;32m----> 1\u001b[0m Model1\n",
      "\u001b[1;31mNameError\u001b[0m: name 'Model1' is not defined"
     ]
    }
   ],
   "source": [
    "Model1"
   ]
  },
  {
   "cell_type": "code",
   "execution_count": 46,
   "id": "bf35cac2",
   "metadata": {},
   "outputs": [
    {
     "ename": "NameError",
     "evalue": "name 'models' is not defined",
     "output_type": "error",
     "traceback": [
      "\u001b[1;31m---------------------------------------------------------------------------\u001b[0m",
      "\u001b[1;31mNameError\u001b[0m                                 Traceback (most recent call last)",
      "Cell \u001b[1;32mIn[46], line 1\u001b[0m\n\u001b[1;32m----> 1\u001b[0m \u001b[38;5;28mprint\u001b[39m(models)\n",
      "\u001b[1;31mNameError\u001b[0m: name 'models' is not defined"
     ]
    }
   ],
   "source": [
    "print(models)\n",
    "\n"
   ]
  },
  {
   "cell_type": "code",
   "execution_count": 9,
   "id": "1db9f5ae",
   "metadata": {},
   "outputs": [
    {
     "data": {
      "text/html": [
       "\n",
       "        <table>\n",
       "            <tr>\n",
       "                <td><strong>Name</strong></td>\n",
       "                <td>ContextModel_Cancer</td>\n",
       "            </tr><tr>\n",
       "                <td><strong>Memory address</strong></td>\n",
       "                <td>2a0b61efd10</td>\n",
       "            </tr><tr>\n",
       "                <td><strong>Number of metabolites</strong></td>\n",
       "                <td>3848</td>\n",
       "            </tr><tr>\n",
       "                <td><strong>Number of reactions</strong></td>\n",
       "                <td>5564</td>\n",
       "            </tr><tr>\n",
       "                <td><strong>Number of genes</strong></td>\n",
       "                <td>2248</td>\n",
       "            </tr><tr>\n",
       "                <td><strong>Number of groups</strong></td>\n",
       "                <td>96</td>\n",
       "            </tr><tr>\n",
       "                <td><strong>Objective expression</strong></td>\n",
       "                <td>1.0*biomass_maintenance - 1.0*biomass_maintenance_reverse_95d2f</td>\n",
       "            </tr><tr>\n",
       "                <td><strong>Compartments</strong></td>\n",
       "                <td>c, l, m, e, x, n, r, g, i</td>\n",
       "            </tr>\n",
       "          </table>"
      ],
      "text/plain": [
       "<Model ContextModel_Cancer at 0x2a0b61efd10>"
      ]
     },
     "execution_count": 9,
     "metadata": {},
     "output_type": "execute_result"
    }
   ],
   "source": [
    "models[1]"
   ]
  },
  {
   "cell_type": "code",
   "execution_count": 10,
   "id": "9767072d",
   "metadata": {},
   "outputs": [
    {
     "data": {
      "text/html": [
       "\n",
       "        <table>\n",
       "            <tr>\n",
       "                <td><strong>Name</strong></td>\n",
       "                <td>ContextModel_Cancer</td>\n",
       "            </tr><tr>\n",
       "                <td><strong>Memory address</strong></td>\n",
       "                <td>2a0c2af94d0</td>\n",
       "            </tr><tr>\n",
       "                <td><strong>Number of metabolites</strong></td>\n",
       "                <td>3783</td>\n",
       "            </tr><tr>\n",
       "                <td><strong>Number of reactions</strong></td>\n",
       "                <td>5463</td>\n",
       "            </tr><tr>\n",
       "                <td><strong>Number of genes</strong></td>\n",
       "                <td>2248</td>\n",
       "            </tr><tr>\n",
       "                <td><strong>Number of groups</strong></td>\n",
       "                <td>96</td>\n",
       "            </tr><tr>\n",
       "                <td><strong>Objective expression</strong></td>\n",
       "                <td>1.0*biomass_maintenance - 1.0*biomass_maintenance_reverse_95d2f</td>\n",
       "            </tr><tr>\n",
       "                <td><strong>Compartments</strong></td>\n",
       "                <td>c, l, m, r, e, x, n, g</td>\n",
       "            </tr>\n",
       "          </table>"
      ],
      "text/plain": [
       "<Model ContextModel_Cancer at 0x2a0c2af94d0>"
      ]
     },
     "execution_count": 10,
     "metadata": {},
     "output_type": "execute_result"
    }
   ],
   "source": [
    "models[2]"
   ]
  },
  {
   "cell_type": "markdown",
   "id": "e326ed44",
   "metadata": {},
   "source": [
    "# ------------------------------------------------------------------------------------"
   ]
  },
  {
   "cell_type": "code",
   "execution_count": 2,
   "id": "9ffe7813",
   "metadata": {},
   "outputs": [
    {
     "name": "stderr",
     "output_type": "stream",
     "text": [
      "No defined compartments in model ContextModel_normal. Compartments will be deduced heuristically using regular expressions.\n",
      "Using regular expression found the following compartments:c, e, g, i, l, m, n, r, x\n",
      "No defined compartments in model ContextModel_normal. Compartments will be deduced heuristically using regular expressions.\n",
      "Using regular expression found the following compartments:c, e, g, i, l, m, n, r, x\n",
      "No defined compartments in model ContextModel_normal. Compartments will be deduced heuristically using regular expressions.\n",
      "Using regular expression found the following compartments:c, e, g, i, l, m, n, r, x\n",
      "No defined compartments in model ContextModel_Cancer. Compartments will be deduced heuristically using regular expressions.\n",
      "Using regular expression found the following compartments:c, e, g, i, l, m, n, r, x\n",
      "No defined compartments in model ContextModel_Cancer. Compartments will be deduced heuristically using regular expressions.\n",
      "Using regular expression found the following compartments:c, e, g, i, l, m, n, r, x\n",
      "No defined compartments in model ContextModel_Cancer. Compartments will be deduced heuristically using regular expressions.\n",
      "Using regular expression found the following compartments:c, e, g, i, l, m, n, r, x\n"
     ]
    }
   ],
   "source": [
    "normal_model1 = cobra.io.load_matlab_model(\"C:/Users/NOE/Desktop/Mostres TFG Obtingudes/NormalModel_GTEX_111CU_0126_SM_5GZWZ.mat\")\n",
    "normal_model2 = cobra.io.load_matlab_model(\"C:/Users/NOE/Desktop/Mostres TFG Obtingudes/NormalModel_GTEX_111YS_0126_SM_5987T.mat\")\n",
    "normal_model3 = cobra.io.load_matlab_model(\"C:/Users/NOE/Desktop/Mostres TFG Obtingudes/NormalModel_GTEX_1122O_0326_SM_5H124.mat\")\n",
    "cancer_model1 = cobra.io.load_matlab_model(\"C:/Users/NOE/Desktop/Mostres TFG Obtingudes/CancerModel_aa51d383_ce36_4247_bfcd_d104a121f7d3_4e605b10_da43_45f0_a43d_27.mat\")\n",
    "cancer_model2 = cobra.io.load_matlab_model(\"C:/Users/NOE/Desktop/Mostres TFG Obtingudes/CancerModel_x2f7e6f7f_a4f9_4849_8add_3fbafb75b5c2_9406f2f9_832a_42e7_b5e9_a.mat\")\n",
    "cancer_model3 = cobra.io.load_matlab_model(\"C:/Users/NOE/Desktop/Mostres TFG Obtingudes/CancerModel_x3fadb519_dd1a_4765_be25_e7ecaaa9b8e0_8919cfd0_6cd6_423f_9231_4.mat\")"
   ]
  },
  {
   "cell_type": "code",
   "execution_count": 3,
   "id": "ea05a929",
   "metadata": {},
   "outputs": [
    {
     "data": {
      "text/html": [
       "\n",
       "        <table>\n",
       "            <tr>\n",
       "                <td><strong>Name</strong></td>\n",
       "                <td>ContextModel_normal</td>\n",
       "            </tr><tr>\n",
       "                <td><strong>Memory address</strong></td>\n",
       "                <td>23f9a267450</td>\n",
       "            </tr><tr>\n",
       "                <td><strong>Number of metabolites</strong></td>\n",
       "                <td>3925</td>\n",
       "            </tr><tr>\n",
       "                <td><strong>Number of reactions</strong></td>\n",
       "                <td>5738</td>\n",
       "            </tr><tr>\n",
       "                <td><strong>Number of genes</strong></td>\n",
       "                <td>2248</td>\n",
       "            </tr><tr>\n",
       "                <td><strong>Number of groups</strong></td>\n",
       "                <td>95</td>\n",
       "            </tr><tr>\n",
       "                <td><strong>Objective expression</strong></td>\n",
       "                <td>1.0*biomass_maintenance - 1.0*biomass_maintenance_reverse_95d2f</td>\n",
       "            </tr><tr>\n",
       "                <td><strong>Compartments</strong></td>\n",
       "                <td>c, l, m, r, e, x, n, g, i</td>\n",
       "            </tr>\n",
       "          </table>"
      ],
      "text/plain": [
       "<Model ContextModel_normal at 0x23f9a267450>"
      ]
     },
     "execution_count": 3,
     "metadata": {},
     "output_type": "execute_result"
    }
   ],
   "source": [
    "normal_model1"
   ]
  },
  {
   "cell_type": "code",
   "execution_count": 4,
   "id": "72f94eeb",
   "metadata": {},
   "outputs": [
    {
     "data": {
      "text/html": [
       "\n",
       "        <table>\n",
       "            <tr>\n",
       "                <td><strong>Name</strong></td>\n",
       "                <td>ContextModel_normal</td>\n",
       "            </tr><tr>\n",
       "                <td><strong>Memory address</strong></td>\n",
       "                <td>23f99ffc1d0</td>\n",
       "            </tr><tr>\n",
       "                <td><strong>Number of metabolites</strong></td>\n",
       "                <td>3896</td>\n",
       "            </tr><tr>\n",
       "                <td><strong>Number of reactions</strong></td>\n",
       "                <td>5679</td>\n",
       "            </tr><tr>\n",
       "                <td><strong>Number of genes</strong></td>\n",
       "                <td>2248</td>\n",
       "            </tr><tr>\n",
       "                <td><strong>Number of groups</strong></td>\n",
       "                <td>96</td>\n",
       "            </tr><tr>\n",
       "                <td><strong>Objective expression</strong></td>\n",
       "                <td>1.0*biomass_maintenance - 1.0*biomass_maintenance_reverse_95d2f</td>\n",
       "            </tr><tr>\n",
       "                <td><strong>Compartments</strong></td>\n",
       "                <td>c, l, m, r, e, x, n, g, i</td>\n",
       "            </tr>\n",
       "          </table>"
      ],
      "text/plain": [
       "<Model ContextModel_normal at 0x23f99ffc1d0>"
      ]
     },
     "execution_count": 4,
     "metadata": {},
     "output_type": "execute_result"
    }
   ],
   "source": [
    "normal_model2"
   ]
  },
  {
   "cell_type": "code",
   "execution_count": 5,
   "id": "2fd43d92",
   "metadata": {},
   "outputs": [
    {
     "data": {
      "text/html": [
       "\n",
       "        <table>\n",
       "            <tr>\n",
       "                <td><strong>Name</strong></td>\n",
       "                <td>ContextModel_normal</td>\n",
       "            </tr><tr>\n",
       "                <td><strong>Memory address</strong></td>\n",
       "                <td>23fa4f3a190</td>\n",
       "            </tr><tr>\n",
       "                <td><strong>Number of metabolites</strong></td>\n",
       "                <td>3289</td>\n",
       "            </tr><tr>\n",
       "                <td><strong>Number of reactions</strong></td>\n",
       "                <td>4538</td>\n",
       "            </tr><tr>\n",
       "                <td><strong>Number of genes</strong></td>\n",
       "                <td>2248</td>\n",
       "            </tr><tr>\n",
       "                <td><strong>Number of groups</strong></td>\n",
       "                <td>93</td>\n",
       "            </tr><tr>\n",
       "                <td><strong>Objective expression</strong></td>\n",
       "                <td>1.0*biomass_maintenance - 1.0*biomass_maintenance_reverse_95d2f</td>\n",
       "            </tr><tr>\n",
       "                <td><strong>Compartments</strong></td>\n",
       "                <td>c, l, m, r, e, x, g, n, i</td>\n",
       "            </tr>\n",
       "          </table>"
      ],
      "text/plain": [
       "<Model ContextModel_normal at 0x23fa4f3a190>"
      ]
     },
     "execution_count": 5,
     "metadata": {},
     "output_type": "execute_result"
    }
   ],
   "source": [
    "normal_model3"
   ]
  },
  {
   "cell_type": "code",
   "execution_count": 6,
   "id": "d3cd51a8",
   "metadata": {},
   "outputs": [
    {
     "data": {
      "text/html": [
       "\n",
       "        <table>\n",
       "            <tr>\n",
       "                <td><strong>Name</strong></td>\n",
       "                <td>ContextModel_Cancer</td>\n",
       "            </tr><tr>\n",
       "                <td><strong>Memory address</strong></td>\n",
       "                <td>23fa635b1d0</td>\n",
       "            </tr><tr>\n",
       "                <td><strong>Number of metabolites</strong></td>\n",
       "                <td>3900</td>\n",
       "            </tr><tr>\n",
       "                <td><strong>Number of reactions</strong></td>\n",
       "                <td>5791</td>\n",
       "            </tr><tr>\n",
       "                <td><strong>Number of genes</strong></td>\n",
       "                <td>2248</td>\n",
       "            </tr><tr>\n",
       "                <td><strong>Number of groups</strong></td>\n",
       "                <td>95</td>\n",
       "            </tr><tr>\n",
       "                <td><strong>Objective expression</strong></td>\n",
       "                <td>1.0*biomass_maintenance - 1.0*biomass_maintenance_reverse_95d2f</td>\n",
       "            </tr><tr>\n",
       "                <td><strong>Compartments</strong></td>\n",
       "                <td>c, l, m, r, e, x, n, g, i</td>\n",
       "            </tr>\n",
       "          </table>"
      ],
      "text/plain": [
       "<Model ContextModel_Cancer at 0x23fa635b1d0>"
      ]
     },
     "execution_count": 6,
     "metadata": {},
     "output_type": "execute_result"
    }
   ],
   "source": [
    "cancer_model1"
   ]
  },
  {
   "cell_type": "code",
   "execution_count": 7,
   "id": "f8ccb924",
   "metadata": {},
   "outputs": [
    {
     "data": {
      "text/html": [
       "\n",
       "        <table>\n",
       "            <tr>\n",
       "                <td><strong>Name</strong></td>\n",
       "                <td>ContextModel_Cancer</td>\n",
       "            </tr><tr>\n",
       "                <td><strong>Memory address</strong></td>\n",
       "                <td>23f9fd8cb50</td>\n",
       "            </tr><tr>\n",
       "                <td><strong>Number of metabolites</strong></td>\n",
       "                <td>3779</td>\n",
       "            </tr><tr>\n",
       "                <td><strong>Number of reactions</strong></td>\n",
       "                <td>5492</td>\n",
       "            </tr><tr>\n",
       "                <td><strong>Number of genes</strong></td>\n",
       "                <td>2248</td>\n",
       "            </tr><tr>\n",
       "                <td><strong>Number of groups</strong></td>\n",
       "                <td>97</td>\n",
       "            </tr><tr>\n",
       "                <td><strong>Objective expression</strong></td>\n",
       "                <td>1.0*biomass_maintenance - 1.0*biomass_maintenance_reverse_95d2f</td>\n",
       "            </tr><tr>\n",
       "                <td><strong>Compartments</strong></td>\n",
       "                <td>c, l, m, e, x, n, r, g, i</td>\n",
       "            </tr>\n",
       "          </table>"
      ],
      "text/plain": [
       "<Model ContextModel_Cancer at 0x23f9fd8cb50>"
      ]
     },
     "execution_count": 7,
     "metadata": {},
     "output_type": "execute_result"
    }
   ],
   "source": [
    "cancer_model2"
   ]
  },
  {
   "cell_type": "code",
   "execution_count": 8,
   "id": "d29e5e47",
   "metadata": {},
   "outputs": [
    {
     "data": {
      "text/html": [
       "\n",
       "        <table>\n",
       "            <tr>\n",
       "                <td><strong>Name</strong></td>\n",
       "                <td>ContextModel_Cancer</td>\n",
       "            </tr><tr>\n",
       "                <td><strong>Memory address</strong></td>\n",
       "                <td>23fab4b4550</td>\n",
       "            </tr><tr>\n",
       "                <td><strong>Number of metabolites</strong></td>\n",
       "                <td>3872</td>\n",
       "            </tr><tr>\n",
       "                <td><strong>Number of reactions</strong></td>\n",
       "                <td>5651</td>\n",
       "            </tr><tr>\n",
       "                <td><strong>Number of genes</strong></td>\n",
       "                <td>2248</td>\n",
       "            </tr><tr>\n",
       "                <td><strong>Number of groups</strong></td>\n",
       "                <td>96</td>\n",
       "            </tr><tr>\n",
       "                <td><strong>Objective expression</strong></td>\n",
       "                <td>1.0*biomass_maintenance - 1.0*biomass_maintenance_reverse_95d2f</td>\n",
       "            </tr><tr>\n",
       "                <td><strong>Compartments</strong></td>\n",
       "                <td>c, l, m, r, e, x, n, g, i</td>\n",
       "            </tr>\n",
       "          </table>"
      ],
      "text/plain": [
       "<Model ContextModel_Cancer at 0x23fab4b4550>"
      ]
     },
     "execution_count": 8,
     "metadata": {},
     "output_type": "execute_result"
    }
   ],
   "source": [
    "cancer_model3"
   ]
  },
  {
   "cell_type": "markdown",
   "id": "5f195e48",
   "metadata": {},
   "source": [
    "## Flux Balance Analysis (FBA)"
   ]
  },
  {
   "cell_type": "markdown",
   "id": "97114f17",
   "metadata": {},
   "source": [
    "### Normal Model 1"
   ]
  },
  {
   "cell_type": "code",
   "execution_count": 9,
   "id": "56a5cc07",
   "metadata": {},
   "outputs": [
    {
     "name": "stdout",
     "output_type": "stream",
     "text": [
      "<Solution 278.730 at 0x23fb3d06550>\n"
     ]
    }
   ],
   "source": [
    "solution_normal1=normal_model1.optimize()\n",
    "print(solution_normal1)"
   ]
  },
  {
   "cell_type": "code",
   "execution_count": 10,
   "id": "edc4cc35",
   "metadata": {},
   "outputs": [
    {
     "data": {
      "text/html": [
       "<strong><em>Optimal</em> solution with objective value 278.730</strong><br><div>\n",
       "<style scoped>\n",
       "    .dataframe tbody tr th:only-of-type {\n",
       "        vertical-align: middle;\n",
       "    }\n",
       "\n",
       "    .dataframe tbody tr th {\n",
       "        vertical-align: top;\n",
       "    }\n",
       "\n",
       "    .dataframe thead th {\n",
       "        text-align: right;\n",
       "    }\n",
       "</style>\n",
       "<table border=\"1\" class=\"dataframe\">\n",
       "  <thead>\n",
       "    <tr style=\"text-align: right;\">\n",
       "      <th></th>\n",
       "      <th>fluxes</th>\n",
       "      <th>reduced_costs</th>\n",
       "    </tr>\n",
       "  </thead>\n",
       "  <tbody>\n",
       "    <tr>\n",
       "      <th>10FTHF7GLUtl</th>\n",
       "      <td>0.0</td>\n",
       "      <td>0.000000e+00</td>\n",
       "    </tr>\n",
       "    <tr>\n",
       "      <th>10FTHF7GLUtm</th>\n",
       "      <td>0.0</td>\n",
       "      <td>0.000000e+00</td>\n",
       "    </tr>\n",
       "    <tr>\n",
       "      <th>10FTHFtl</th>\n",
       "      <td>0.0</td>\n",
       "      <td>-0.000000e+00</td>\n",
       "    </tr>\n",
       "    <tr>\n",
       "      <th>11DOCRTSLtm</th>\n",
       "      <td>0.0</td>\n",
       "      <td>0.000000e+00</td>\n",
       "    </tr>\n",
       "    <tr>\n",
       "      <th>11DOCRTSLtr</th>\n",
       "      <td>0.0</td>\n",
       "      <td>0.000000e+00</td>\n",
       "    </tr>\n",
       "    <tr>\n",
       "      <th>...</th>\n",
       "      <td>...</td>\n",
       "      <td>...</td>\n",
       "    </tr>\n",
       "    <tr>\n",
       "      <th>DM_CE1562[c]</th>\n",
       "      <td>0.0</td>\n",
       "      <td>0.000000e+00</td>\n",
       "    </tr>\n",
       "    <tr>\n",
       "      <th>DM_CE5025[c]</th>\n",
       "      <td>0.0</td>\n",
       "      <td>-1.810872e-17</td>\n",
       "    </tr>\n",
       "    <tr>\n",
       "      <th>DM_btn[n]</th>\n",
       "      <td>0.0</td>\n",
       "      <td>0.000000e+00</td>\n",
       "    </tr>\n",
       "    <tr>\n",
       "      <th>Htmi</th>\n",
       "      <td>0.0</td>\n",
       "      <td>-1.004890e-18</td>\n",
       "    </tr>\n",
       "    <tr>\n",
       "      <th>NADH2_u10mi</th>\n",
       "      <td>0.0</td>\n",
       "      <td>-6.398207e-18</td>\n",
       "    </tr>\n",
       "  </tbody>\n",
       "</table>\n",
       "<p>5738 rows × 2 columns</p>\n",
       "</div>"
      ],
      "text/plain": [
       "<Solution 278.730 at 0x23fb3d06550>"
      ]
     },
     "execution_count": 10,
     "metadata": {},
     "output_type": "execute_result"
    }
   ],
   "source": [
    "solution_normal1"
   ]
  },
  {
   "cell_type": "code",
   "execution_count": 11,
   "id": "1dba9ff0",
   "metadata": {},
   "outputs": [
    {
     "name": "stdout",
     "output_type": "stream",
     "text": [
      "La biomassa del model normal 1 és: 278.7301589121864\n"
     ]
    }
   ],
   "source": [
    "x_normal1 = solution_normal1.objective_value\n",
    "print('La biomassa del model normal 1 és:', x_normal1)"
   ]
  },
  {
   "cell_type": "markdown",
   "id": "7b10a2fa",
   "metadata": {},
   "source": [
    "### Model Normal 2:"
   ]
  },
  {
   "cell_type": "code",
   "execution_count": 12,
   "id": "389d5204",
   "metadata": {},
   "outputs": [
    {
     "name": "stdout",
     "output_type": "stream",
     "text": [
      "<Solution 280.619 at 0x23faf736290>\n"
     ]
    }
   ],
   "source": [
    "solution_normal2=normal_model2.optimize()\n",
    "print(solution_normal2)"
   ]
  },
  {
   "cell_type": "code",
   "execution_count": 13,
   "id": "6e12c2f0",
   "metadata": {},
   "outputs": [
    {
     "data": {
      "text/html": [
       "<strong><em>Optimal</em> solution with objective value 280.619</strong><br><div>\n",
       "<style scoped>\n",
       "    .dataframe tbody tr th:only-of-type {\n",
       "        vertical-align: middle;\n",
       "    }\n",
       "\n",
       "    .dataframe tbody tr th {\n",
       "        vertical-align: top;\n",
       "    }\n",
       "\n",
       "    .dataframe thead th {\n",
       "        text-align: right;\n",
       "    }\n",
       "</style>\n",
       "<table border=\"1\" class=\"dataframe\">\n",
       "  <thead>\n",
       "    <tr style=\"text-align: right;\">\n",
       "      <th></th>\n",
       "      <th>fluxes</th>\n",
       "      <th>reduced_costs</th>\n",
       "    </tr>\n",
       "  </thead>\n",
       "  <tbody>\n",
       "    <tr>\n",
       "      <th>10FTHF7GLUtl</th>\n",
       "      <td>0.0</td>\n",
       "      <td>-2.775558e-17</td>\n",
       "    </tr>\n",
       "    <tr>\n",
       "      <th>10FTHF7GLUtm</th>\n",
       "      <td>0.0</td>\n",
       "      <td>0.000000e+00</td>\n",
       "    </tr>\n",
       "    <tr>\n",
       "      <th>10FTHFtl</th>\n",
       "      <td>0.0</td>\n",
       "      <td>0.000000e+00</td>\n",
       "    </tr>\n",
       "    <tr>\n",
       "      <th>10FTHFtm</th>\n",
       "      <td>0.0</td>\n",
       "      <td>-0.000000e+00</td>\n",
       "    </tr>\n",
       "    <tr>\n",
       "      <th>11DOCRTSLtm</th>\n",
       "      <td>0.0</td>\n",
       "      <td>-0.000000e+00</td>\n",
       "    </tr>\n",
       "    <tr>\n",
       "      <th>...</th>\n",
       "      <td>...</td>\n",
       "      <td>...</td>\n",
       "    </tr>\n",
       "    <tr>\n",
       "      <th>DM_CE1562[c]</th>\n",
       "      <td>0.0</td>\n",
       "      <td>0.000000e+00</td>\n",
       "    </tr>\n",
       "    <tr>\n",
       "      <th>DM_1a2425thvitd2[m]</th>\n",
       "      <td>0.0</td>\n",
       "      <td>0.000000e+00</td>\n",
       "    </tr>\n",
       "    <tr>\n",
       "      <th>DM_btn[n]</th>\n",
       "      <td>0.0</td>\n",
       "      <td>0.000000e+00</td>\n",
       "    </tr>\n",
       "    <tr>\n",
       "      <th>Htmi</th>\n",
       "      <td>0.0</td>\n",
       "      <td>-5.646801e-18</td>\n",
       "    </tr>\n",
       "    <tr>\n",
       "      <th>NADH2_u10mi</th>\n",
       "      <td>0.0</td>\n",
       "      <td>-1.232595e-32</td>\n",
       "    </tr>\n",
       "  </tbody>\n",
       "</table>\n",
       "<p>5679 rows × 2 columns</p>\n",
       "</div>"
      ],
      "text/plain": [
       "<Solution 280.619 at 0x23faf736290>"
      ]
     },
     "execution_count": 13,
     "metadata": {},
     "output_type": "execute_result"
    }
   ],
   "source": [
    "solution_normal2"
   ]
  },
  {
   "cell_type": "code",
   "execution_count": 14,
   "id": "5a25b4cd",
   "metadata": {},
   "outputs": [
    {
     "name": "stdout",
     "output_type": "stream",
     "text": [
      "La biomassa del model de Normal 2 és: 280.61918360952194\n"
     ]
    }
   ],
   "source": [
    "x_normal2 = solution_normal2.objective_value\n",
    "print('La biomassa del model de Normal 2 és:', x_normal2)"
   ]
  },
  {
   "cell_type": "markdown",
   "id": "cceec4f8",
   "metadata": {},
   "source": [
    "### Normal Model 3"
   ]
  },
  {
   "cell_type": "code",
   "execution_count": 15,
   "id": "daeffa9a",
   "metadata": {},
   "outputs": [
    {
     "name": "stdout",
     "output_type": "stream",
     "text": [
      "<Solution 239.457 at 0x23fb3cd5410>\n"
     ]
    }
   ],
   "source": [
    "solution_normal3= normal_model3.optimize()\n",
    "print(solution_normal3)"
   ]
  },
  {
   "cell_type": "code",
   "execution_count": 16,
   "id": "f0a79f74",
   "metadata": {},
   "outputs": [
    {
     "data": {
      "text/html": [
       "<strong><em>Optimal</em> solution with objective value 239.457</strong><br><div>\n",
       "<style scoped>\n",
       "    .dataframe tbody tr th:only-of-type {\n",
       "        vertical-align: middle;\n",
       "    }\n",
       "\n",
       "    .dataframe tbody tr th {\n",
       "        vertical-align: top;\n",
       "    }\n",
       "\n",
       "    .dataframe thead th {\n",
       "        text-align: right;\n",
       "    }\n",
       "</style>\n",
       "<table border=\"1\" class=\"dataframe\">\n",
       "  <thead>\n",
       "    <tr style=\"text-align: right;\">\n",
       "      <th></th>\n",
       "      <th>fluxes</th>\n",
       "      <th>reduced_costs</th>\n",
       "    </tr>\n",
       "  </thead>\n",
       "  <tbody>\n",
       "    <tr>\n",
       "      <th>10FTHF7GLUtl</th>\n",
       "      <td>0.0</td>\n",
       "      <td>0.000000e+00</td>\n",
       "    </tr>\n",
       "    <tr>\n",
       "      <th>10FTHF7GLUtm</th>\n",
       "      <td>0.0</td>\n",
       "      <td>9.860761e-32</td>\n",
       "    </tr>\n",
       "    <tr>\n",
       "      <th>10FTHFtl</th>\n",
       "      <td>0.0</td>\n",
       "      <td>-0.000000e+00</td>\n",
       "    </tr>\n",
       "    <tr>\n",
       "      <th>10FTHFtm</th>\n",
       "      <td>0.0</td>\n",
       "      <td>0.000000e+00</td>\n",
       "    </tr>\n",
       "    <tr>\n",
       "      <th>11DOCRTSLtm</th>\n",
       "      <td>0.0</td>\n",
       "      <td>-0.000000e+00</td>\n",
       "    </tr>\n",
       "    <tr>\n",
       "      <th>...</th>\n",
       "      <td>...</td>\n",
       "      <td>...</td>\n",
       "    </tr>\n",
       "    <tr>\n",
       "      <th>DM_4abut[c]</th>\n",
       "      <td>0.0</td>\n",
       "      <td>0.000000e+00</td>\n",
       "    </tr>\n",
       "    <tr>\n",
       "      <th>DM_srtn[c]</th>\n",
       "      <td>0.0</td>\n",
       "      <td>0.000000e+00</td>\n",
       "    </tr>\n",
       "    <tr>\n",
       "      <th>DM_btn[n]</th>\n",
       "      <td>0.0</td>\n",
       "      <td>0.000000e+00</td>\n",
       "    </tr>\n",
       "    <tr>\n",
       "      <th>Htmi</th>\n",
       "      <td>0.0</td>\n",
       "      <td>9.636636e-18</td>\n",
       "    </tr>\n",
       "    <tr>\n",
       "      <th>NADH2_u10mi</th>\n",
       "      <td>0.0</td>\n",
       "      <td>0.000000e+00</td>\n",
       "    </tr>\n",
       "  </tbody>\n",
       "</table>\n",
       "<p>4538 rows × 2 columns</p>\n",
       "</div>"
      ],
      "text/plain": [
       "<Solution 239.457 at 0x23fb3cd5410>"
      ]
     },
     "execution_count": 16,
     "metadata": {},
     "output_type": "execute_result"
    }
   ],
   "source": [
    "solution_normal3"
   ]
  },
  {
   "cell_type": "code",
   "execution_count": 17,
   "id": "475aed91",
   "metadata": {},
   "outputs": [
    {
     "name": "stdout",
     "output_type": "stream",
     "text": [
      "La biomassa del model de Normal 3 és: 239.45693848269846\n"
     ]
    }
   ],
   "source": [
    "x_normal3 = solution_normal3.objective_value\n",
    "print('La biomassa del model de Normal 3 és:', x_normal3)"
   ]
  },
  {
   "cell_type": "markdown",
   "id": "6e773128",
   "metadata": {},
   "source": [
    "### Cancer Model 1"
   ]
  },
  {
   "cell_type": "code",
   "execution_count": 18,
   "id": "db5db1de",
   "metadata": {},
   "outputs": [
    {
     "name": "stdout",
     "output_type": "stream",
     "text": [
      "<Solution 273.843 at 0x23fb3cd5f90>\n"
     ]
    }
   ],
   "source": [
    "solution_cancer1=cancer_model1.optimize()\n",
    "print(solution_cancer1)"
   ]
  },
  {
   "cell_type": "code",
   "execution_count": 19,
   "id": "1c669d2d",
   "metadata": {},
   "outputs": [
    {
     "data": {
      "text/html": [
       "<strong><em>Optimal</em> solution with objective value 273.843</strong><br><div>\n",
       "<style scoped>\n",
       "    .dataframe tbody tr th:only-of-type {\n",
       "        vertical-align: middle;\n",
       "    }\n",
       "\n",
       "    .dataframe tbody tr th {\n",
       "        vertical-align: top;\n",
       "    }\n",
       "\n",
       "    .dataframe thead th {\n",
       "        text-align: right;\n",
       "    }\n",
       "</style>\n",
       "<table border=\"1\" class=\"dataframe\">\n",
       "  <thead>\n",
       "    <tr style=\"text-align: right;\">\n",
       "      <th></th>\n",
       "      <th>fluxes</th>\n",
       "      <th>reduced_costs</th>\n",
       "    </tr>\n",
       "  </thead>\n",
       "  <tbody>\n",
       "    <tr>\n",
       "      <th>10FTHF7GLUtl</th>\n",
       "      <td>0.0</td>\n",
       "      <td>0.000000e+00</td>\n",
       "    </tr>\n",
       "    <tr>\n",
       "      <th>10FTHF7GLUtm</th>\n",
       "      <td>0.0</td>\n",
       "      <td>0.000000e+00</td>\n",
       "    </tr>\n",
       "    <tr>\n",
       "      <th>10FTHFtl</th>\n",
       "      <td>0.0</td>\n",
       "      <td>-0.000000e+00</td>\n",
       "    </tr>\n",
       "    <tr>\n",
       "      <th>10FTHFtm</th>\n",
       "      <td>0.0</td>\n",
       "      <td>-0.000000e+00</td>\n",
       "    </tr>\n",
       "    <tr>\n",
       "      <th>11DOCRTSLtm</th>\n",
       "      <td>0.0</td>\n",
       "      <td>0.000000e+00</td>\n",
       "    </tr>\n",
       "    <tr>\n",
       "      <th>...</th>\n",
       "      <td>...</td>\n",
       "      <td>...</td>\n",
       "    </tr>\n",
       "    <tr>\n",
       "      <th>DM_kynate[c]</th>\n",
       "      <td>0.0</td>\n",
       "      <td>0.000000e+00</td>\n",
       "    </tr>\n",
       "    <tr>\n",
       "      <th>DM_1a2425thvitd2[m]</th>\n",
       "      <td>0.0</td>\n",
       "      <td>0.000000e+00</td>\n",
       "    </tr>\n",
       "    <tr>\n",
       "      <th>DM_btn[n]</th>\n",
       "      <td>0.0</td>\n",
       "      <td>0.000000e+00</td>\n",
       "    </tr>\n",
       "    <tr>\n",
       "      <th>Htmi</th>\n",
       "      <td>0.0</td>\n",
       "      <td>-6.356126e-04</td>\n",
       "    </tr>\n",
       "    <tr>\n",
       "      <th>NADH2_u10mi</th>\n",
       "      <td>0.0</td>\n",
       "      <td>6.938894e-18</td>\n",
       "    </tr>\n",
       "  </tbody>\n",
       "</table>\n",
       "<p>5791 rows × 2 columns</p>\n",
       "</div>"
      ],
      "text/plain": [
       "<Solution 273.843 at 0x23fb3cd5f90>"
      ]
     },
     "execution_count": 19,
     "metadata": {},
     "output_type": "execute_result"
    }
   ],
   "source": [
    "solution_cancer1"
   ]
  },
  {
   "cell_type": "code",
   "execution_count": 20,
   "id": "8c5e8195",
   "metadata": {},
   "outputs": [
    {
     "name": "stdout",
     "output_type": "stream",
     "text": [
      "La biomassa del model de Cancer 1 és: 273.84308915825545\n"
     ]
    }
   ],
   "source": [
    "x_cancer1 = solution_cancer1.objective_value\n",
    "print('La biomassa del model de Cancer 1 és:', x_cancer1)"
   ]
  },
  {
   "cell_type": "markdown",
   "id": "ae34581a",
   "metadata": {},
   "source": [
    "### Cancer Model 2"
   ]
  },
  {
   "cell_type": "code",
   "execution_count": 21,
   "id": "b9064ed2",
   "metadata": {},
   "outputs": [
    {
     "name": "stdout",
     "output_type": "stream",
     "text": [
      "<Solution 301.901 at 0x23fb3cd4c50>\n"
     ]
    }
   ],
   "source": [
    "solution_cancer2=cancer_model2.optimize()\n",
    "print(solution_cancer2)"
   ]
  },
  {
   "cell_type": "code",
   "execution_count": 22,
   "id": "3a04b9cb",
   "metadata": {},
   "outputs": [
    {
     "data": {
      "text/html": [
       "<strong><em>Optimal</em> solution with objective value 301.901</strong><br><div>\n",
       "<style scoped>\n",
       "    .dataframe tbody tr th:only-of-type {\n",
       "        vertical-align: middle;\n",
       "    }\n",
       "\n",
       "    .dataframe tbody tr th {\n",
       "        vertical-align: top;\n",
       "    }\n",
       "\n",
       "    .dataframe thead th {\n",
       "        text-align: right;\n",
       "    }\n",
       "</style>\n",
       "<table border=\"1\" class=\"dataframe\">\n",
       "  <thead>\n",
       "    <tr style=\"text-align: right;\">\n",
       "      <th></th>\n",
       "      <th>fluxes</th>\n",
       "      <th>reduced_costs</th>\n",
       "    </tr>\n",
       "  </thead>\n",
       "  <tbody>\n",
       "    <tr>\n",
       "      <th>10FTHF7GLUtl</th>\n",
       "      <td>0.0</td>\n",
       "      <td>0.000000e+00</td>\n",
       "    </tr>\n",
       "    <tr>\n",
       "      <th>10FTHF7GLUtm</th>\n",
       "      <td>0.0</td>\n",
       "      <td>-2.168404e-19</td>\n",
       "    </tr>\n",
       "    <tr>\n",
       "      <th>10FTHFtl</th>\n",
       "      <td>0.0</td>\n",
       "      <td>-0.000000e+00</td>\n",
       "    </tr>\n",
       "    <tr>\n",
       "      <th>10FTHFtm</th>\n",
       "      <td>-1000.0</td>\n",
       "      <td>-0.000000e+00</td>\n",
       "    </tr>\n",
       "    <tr>\n",
       "      <th>13DAMPPOX</th>\n",
       "      <td>0.0</td>\n",
       "      <td>-4.745937e-02</td>\n",
       "    </tr>\n",
       "    <tr>\n",
       "      <th>...</th>\n",
       "      <td>...</td>\n",
       "      <td>...</td>\n",
       "    </tr>\n",
       "    <tr>\n",
       "      <th>DM_kynate[c]</th>\n",
       "      <td>0.0</td>\n",
       "      <td>0.000000e+00</td>\n",
       "    </tr>\n",
       "    <tr>\n",
       "      <th>DM_1a2425thvitd2[m]</th>\n",
       "      <td>0.0</td>\n",
       "      <td>0.000000e+00</td>\n",
       "    </tr>\n",
       "    <tr>\n",
       "      <th>DM_btn[n]</th>\n",
       "      <td>0.0</td>\n",
       "      <td>0.000000e+00</td>\n",
       "    </tr>\n",
       "    <tr>\n",
       "      <th>Htmi</th>\n",
       "      <td>0.0</td>\n",
       "      <td>-8.673617e-19</td>\n",
       "    </tr>\n",
       "    <tr>\n",
       "      <th>NADH2_u10mi</th>\n",
       "      <td>0.0</td>\n",
       "      <td>6.105657e-18</td>\n",
       "    </tr>\n",
       "  </tbody>\n",
       "</table>\n",
       "<p>5492 rows × 2 columns</p>\n",
       "</div>"
      ],
      "text/plain": [
       "<Solution 301.901 at 0x23fb3cd4c50>"
      ]
     },
     "execution_count": 22,
     "metadata": {},
     "output_type": "execute_result"
    }
   ],
   "source": [
    "solution_cancer2"
   ]
  },
  {
   "cell_type": "code",
   "execution_count": 23,
   "id": "915296cc",
   "metadata": {},
   "outputs": [
    {
     "name": "stdout",
     "output_type": "stream",
     "text": [
      "La biomassa del model de Cancer 2 és: 301.9010149634276\n"
     ]
    }
   ],
   "source": [
    "x_cancer2 = solution_cancer2.objective_value\n",
    "print('La biomassa del model de Cancer 2 és:', x_cancer2)"
   ]
  },
  {
   "cell_type": "markdown",
   "id": "eb9b5265",
   "metadata": {},
   "source": [
    "### Cancer Model 3"
   ]
  },
  {
   "cell_type": "code",
   "execution_count": 24,
   "id": "f406e661",
   "metadata": {},
   "outputs": [
    {
     "name": "stdout",
     "output_type": "stream",
     "text": [
      "<Solution 242.121 at 0x23faf73fe10>\n"
     ]
    }
   ],
   "source": [
    "solution_cancer3=cancer_model3.optimize()\n",
    "print(solution_cancer3)"
   ]
  },
  {
   "cell_type": "code",
   "execution_count": 25,
   "id": "6c920bcd",
   "metadata": {},
   "outputs": [
    {
     "data": {
      "text/html": [
       "<strong><em>Optimal</em> solution with objective value 242.121</strong><br><div>\n",
       "<style scoped>\n",
       "    .dataframe tbody tr th:only-of-type {\n",
       "        vertical-align: middle;\n",
       "    }\n",
       "\n",
       "    .dataframe tbody tr th {\n",
       "        vertical-align: top;\n",
       "    }\n",
       "\n",
       "    .dataframe thead th {\n",
       "        text-align: right;\n",
       "    }\n",
       "</style>\n",
       "<table border=\"1\" class=\"dataframe\">\n",
       "  <thead>\n",
       "    <tr style=\"text-align: right;\">\n",
       "      <th></th>\n",
       "      <th>fluxes</th>\n",
       "      <th>reduced_costs</th>\n",
       "    </tr>\n",
       "  </thead>\n",
       "  <tbody>\n",
       "    <tr>\n",
       "      <th>10FTHF7GLUtl</th>\n",
       "      <td>0.0</td>\n",
       "      <td>-3.081488e-33</td>\n",
       "    </tr>\n",
       "    <tr>\n",
       "      <th>10FTHF7GLUtm</th>\n",
       "      <td>0.0</td>\n",
       "      <td>0.000000e+00</td>\n",
       "    </tr>\n",
       "    <tr>\n",
       "      <th>10FTHFtl</th>\n",
       "      <td>0.0</td>\n",
       "      <td>-0.000000e+00</td>\n",
       "    </tr>\n",
       "    <tr>\n",
       "      <th>10FTHFtm</th>\n",
       "      <td>0.0</td>\n",
       "      <td>-0.000000e+00</td>\n",
       "    </tr>\n",
       "    <tr>\n",
       "      <th>11DOCRTSLtm</th>\n",
       "      <td>0.0</td>\n",
       "      <td>0.000000e+00</td>\n",
       "    </tr>\n",
       "    <tr>\n",
       "      <th>...</th>\n",
       "      <td>...</td>\n",
       "      <td>...</td>\n",
       "    </tr>\n",
       "    <tr>\n",
       "      <th>DM_4glu56dihdind[c]</th>\n",
       "      <td>0.0</td>\n",
       "      <td>-1.163794e-17</td>\n",
       "    </tr>\n",
       "    <tr>\n",
       "      <th>DM_kynate[c]</th>\n",
       "      <td>0.0</td>\n",
       "      <td>0.000000e+00</td>\n",
       "    </tr>\n",
       "    <tr>\n",
       "      <th>DM_btn[n]</th>\n",
       "      <td>0.0</td>\n",
       "      <td>0.000000e+00</td>\n",
       "    </tr>\n",
       "    <tr>\n",
       "      <th>Htmi</th>\n",
       "      <td>0.0</td>\n",
       "      <td>-7.703720e-34</td>\n",
       "    </tr>\n",
       "    <tr>\n",
       "      <th>NADH2_u10mi</th>\n",
       "      <td>0.0</td>\n",
       "      <td>2.341424e-33</td>\n",
       "    </tr>\n",
       "  </tbody>\n",
       "</table>\n",
       "<p>5651 rows × 2 columns</p>\n",
       "</div>"
      ],
      "text/plain": [
       "<Solution 242.121 at 0x23faf73fe10>"
      ]
     },
     "execution_count": 25,
     "metadata": {},
     "output_type": "execute_result"
    }
   ],
   "source": [
    "solution_cancer3"
   ]
  },
  {
   "cell_type": "code",
   "execution_count": 26,
   "id": "14c19f78",
   "metadata": {},
   "outputs": [
    {
     "name": "stdout",
     "output_type": "stream",
     "text": [
      "La biomassa del model de Cancer 3 és: 242.12137060065464\n"
     ]
    }
   ],
   "source": [
    "x_cancer3 = solution_cancer3.objective_value\n",
    "print('La biomassa del model de Cancer 3 és:', x_cancer3)"
   ]
  },
  {
   "cell_type": "markdown",
   "id": "4eeeae40",
   "metadata": {},
   "source": [
    "## HISTOGRAMA"
   ]
  },
  {
   "cell_type": "code",
   "execution_count": 300,
   "id": "7010a3cd",
   "metadata": {},
   "outputs": [
    {
     "data": {
      "text/plain": [
       "(array([3.50e+01, 0.00e+00, 4.00e+00, 0.00e+00, 1.00e+00, 7.00e+00,\n",
       "        1.00e+00, 4.00e+00, 5.00e+00, 5.00e+00, 7.00e+00, 9.00e+00,\n",
       "        6.00e+00, 8.00e+00, 1.16e+02, 5.41e+03, 1.90e+01, 1.30e+01,\n",
       "        5.00e+00, 6.00e+00, 1.30e+01, 2.00e+00, 7.00e+00, 0.00e+00,\n",
       "        7.00e+00, 8.00e+00, 4.00e+00, 7.00e+00, 1.00e+00, 2.80e+01]),\n",
       " array([-1000.        ,  -933.33333333,  -866.66666667,  -800.        ,\n",
       "         -733.33333333,  -666.66666667,  -600.        ,  -533.33333333,\n",
       "         -466.66666667,  -400.        ,  -333.33333333,  -266.66666667,\n",
       "         -200.        ,  -133.33333333,   -66.66666667,     0.        ,\n",
       "           66.66666667,   133.33333333,   200.        ,   266.66666667,\n",
       "          333.33333333,   400.        ,   466.66666667,   533.33333333,\n",
       "          600.        ,   666.66666667,   733.33333333,   800.        ,\n",
       "          866.66666667,   933.33333333,  1000.        ]),\n",
       " <BarContainer object of 30 artists>)"
      ]
     },
     "execution_count": 300,
     "metadata": {},
     "output_type": "execute_result"
    },
    {
     "data": {
      "image/png": "[encoded data removed]",
      "text/plain": [
       "<Figure size 640x480 with 1 Axes>"
      ]
     },
     "metadata": {},
     "output_type": "display_data"
    }
   ],
   "source": [
    "tabla_flujos_normal1={'Flujos_Normal1':solution_normal1.fluxes}\n",
    "tabla_flujos_normal1=pd.DataFrame(tabla_flujos_normal1)\n",
    "plt.hist(tabla_flujos_normal1['Flujos_Normal1'], bins=30, color='dodgerblue', alpha=0.7)"
   ]
  },
  {
   "cell_type": "code",
   "execution_count": 302,
   "id": "c9a35d78",
   "metadata": {},
   "outputs": [
    {
     "data": {
      "text/html": [
       "<div>\n",
       "<style scoped>\n",
       "    .dataframe tbody tr th:only-of-type {\n",
       "        vertical-align: middle;\n",
       "    }\n",
       "\n",
       "    .dataframe tbody tr th {\n",
       "        vertical-align: top;\n",
       "    }\n",
       "\n",
       "    .dataframe thead th {\n",
       "        text-align: right;\n",
       "    }\n",
       "</style>\n",
       "<table border=\"1\" class=\"dataframe\">\n",
       "  <thead>\n",
       "    <tr style=\"text-align: right;\">\n",
       "      <th></th>\n",
       "      <th>Flujos_Normal1</th>\n",
       "    </tr>\n",
       "  </thead>\n",
       "  <tbody>\n",
       "    <tr>\n",
       "      <th>10FTHF7GLUtl</th>\n",
       "      <td>0.0</td>\n",
       "    </tr>\n",
       "    <tr>\n",
       "      <th>10FTHF7GLUtm</th>\n",
       "      <td>0.0</td>\n",
       "    </tr>\n",
       "    <tr>\n",
       "      <th>10FTHFtl</th>\n",
       "      <td>0.0</td>\n",
       "    </tr>\n",
       "    <tr>\n",
       "      <th>11DOCRTSLtm</th>\n",
       "      <td>0.0</td>\n",
       "    </tr>\n",
       "    <tr>\n",
       "      <th>11DOCRTSLtr</th>\n",
       "      <td>0.0</td>\n",
       "    </tr>\n",
       "    <tr>\n",
       "      <th>...</th>\n",
       "      <td>...</td>\n",
       "    </tr>\n",
       "    <tr>\n",
       "      <th>DM_CE1562[c]</th>\n",
       "      <td>0.0</td>\n",
       "    </tr>\n",
       "    <tr>\n",
       "      <th>DM_CE5025[c]</th>\n",
       "      <td>0.0</td>\n",
       "    </tr>\n",
       "    <tr>\n",
       "      <th>DM_btn[n]</th>\n",
       "      <td>0.0</td>\n",
       "    </tr>\n",
       "    <tr>\n",
       "      <th>Htmi</th>\n",
       "      <td>0.0</td>\n",
       "    </tr>\n",
       "    <tr>\n",
       "      <th>NADH2_u10mi</th>\n",
       "      <td>0.0</td>\n",
       "    </tr>\n",
       "  </tbody>\n",
       "</table>\n",
       "<p>5738 rows × 1 columns</p>\n",
       "</div>"
      ],
      "text/plain": [
       "              Flujos_Normal1\n",
       "10FTHF7GLUtl             0.0\n",
       "10FTHF7GLUtm             0.0\n",
       "10FTHFtl                 0.0\n",
       "11DOCRTSLtm              0.0\n",
       "11DOCRTSLtr              0.0\n",
       "...                      ...\n",
       "DM_CE1562[c]             0.0\n",
       "DM_CE5025[c]             0.0\n",
       "DM_btn[n]                0.0\n",
       "Htmi                     0.0\n",
       "NADH2_u10mi              0.0\n",
       "\n",
       "[5738 rows x 1 columns]"
      ]
     },
     "execution_count": 302,
     "metadata": {},
     "output_type": "execute_result"
    }
   ],
   "source": [
    "tabla_flujos_normal1={'Flujos_Normal1':solution_normal1.fluxes}\n",
    "tabla_flujos_normal1=pd.DataFrame(tabla_flujos_normal1)\n",
    "tabla_flujos_normal1"
   ]
  },
  {
   "cell_type": "code",
   "execution_count": 28,
   "id": "f52f2a51",
   "metadata": {},
   "outputs": [
    {
     "data": {
      "text/plain": [
       "(array([5.10e+01, 2.00e+00, 7.00e+00, 2.00e+00, 1.00e+00, 8.00e+00,\n",
       "        1.00e+00, 2.00e+00, 1.00e+00, 4.00e+00, 2.00e+00, 3.00e+00,\n",
       "        4.00e+00, 1.20e+01, 5.33e+03, 1.18e+02, 1.20e+01, 1.00e+00,\n",
       "        6.00e+00, 6.00e+00, 3.00e+00, 1.00e+00, 1.00e+01, 1.00e+00,\n",
       "        1.90e+01, 2.00e+00, 1.00e+00, 2.00e+00, 4.00e+00, 6.30e+01]),\n",
       " array([-1.00000000e+03, -9.33333333e+02, -8.66666667e+02, -8.00000000e+02,\n",
       "        -7.33333333e+02, -6.66666667e+02, -6.00000000e+02, -5.33333333e+02,\n",
       "        -4.66666667e+02, -4.00000000e+02, -3.33333333e+02, -2.66666667e+02,\n",
       "        -2.00000000e+02, -1.33333333e+02, -6.66666667e+01,  1.13686838e-13,\n",
       "         6.66666667e+01,  1.33333333e+02,  2.00000000e+02,  2.66666667e+02,\n",
       "         3.33333333e+02,  4.00000000e+02,  4.66666667e+02,  5.33333333e+02,\n",
       "         6.00000000e+02,  6.66666667e+02,  7.33333333e+02,  8.00000000e+02,\n",
       "         8.66666667e+02,  9.33333333e+02,  1.00000000e+03]),\n",
       " <BarContainer object of 30 artists>)"
      ]
     },
     "execution_count": 28,
     "metadata": {},
     "output_type": "execute_result"
    },
    {
     "data": {
      "image/png": "[encoded data removed]",
      "text/plain": [
       "<Figure size 640x480 with 1 Axes>"
      ]
     },
     "metadata": {},
     "output_type": "display_data"
    }
   ],
   "source": [
    "tabla_flujos_normal2={'Flujos_Normal2':solution_normal2.fluxes}\n",
    "tabla_flujos_normal2=pd.DataFrame(tabla_flujos_normal2)\n",
    "\n",
    "plt.hist(tabla_flujos_normal2['Flujos_Normal2'], bins=30, color='green', alpha=0.7)"
   ]
  },
  {
   "cell_type": "code",
   "execution_count": 304,
   "id": "44675216",
   "metadata": {},
   "outputs": [
    {
     "data": {
      "text/html": [
       "<div>\n",
       "<style scoped>\n",
       "    .dataframe tbody tr th:only-of-type {\n",
       "        vertical-align: middle;\n",
       "    }\n",
       "\n",
       "    .dataframe tbody tr th {\n",
       "        vertical-align: top;\n",
       "    }\n",
       "\n",
       "    .dataframe thead th {\n",
       "        text-align: right;\n",
       "    }\n",
       "</style>\n",
       "<table border=\"1\" class=\"dataframe\">\n",
       "  <thead>\n",
       "    <tr style=\"text-align: right;\">\n",
       "      <th></th>\n",
       "      <th>Flujos_Normal2</th>\n",
       "    </tr>\n",
       "  </thead>\n",
       "  <tbody>\n",
       "    <tr>\n",
       "      <th>10FTHF7GLUtl</th>\n",
       "      <td>0.0</td>\n",
       "    </tr>\n",
       "    <tr>\n",
       "      <th>10FTHF7GLUtm</th>\n",
       "      <td>0.0</td>\n",
       "    </tr>\n",
       "    <tr>\n",
       "      <th>10FTHFtl</th>\n",
       "      <td>0.0</td>\n",
       "    </tr>\n",
       "    <tr>\n",
       "      <th>10FTHFtm</th>\n",
       "      <td>0.0</td>\n",
       "    </tr>\n",
       "    <tr>\n",
       "      <th>11DOCRTSLtm</th>\n",
       "      <td>0.0</td>\n",
       "    </tr>\n",
       "    <tr>\n",
       "      <th>...</th>\n",
       "      <td>...</td>\n",
       "    </tr>\n",
       "    <tr>\n",
       "      <th>DM_CE1562[c]</th>\n",
       "      <td>0.0</td>\n",
       "    </tr>\n",
       "    <tr>\n",
       "      <th>DM_1a2425thvitd2[m]</th>\n",
       "      <td>0.0</td>\n",
       "    </tr>\n",
       "    <tr>\n",
       "      <th>DM_btn[n]</th>\n",
       "      <td>0.0</td>\n",
       "    </tr>\n",
       "    <tr>\n",
       "      <th>Htmi</th>\n",
       "      <td>0.0</td>\n",
       "    </tr>\n",
       "    <tr>\n",
       "      <th>NADH2_u10mi</th>\n",
       "      <td>0.0</td>\n",
       "    </tr>\n",
       "  </tbody>\n",
       "</table>\n",
       "<p>5679 rows × 1 columns</p>\n",
       "</div>"
      ],
      "text/plain": [
       "                     Flujos_Normal2\n",
       "10FTHF7GLUtl                    0.0\n",
       "10FTHF7GLUtm                    0.0\n",
       "10FTHFtl                        0.0\n",
       "10FTHFtm                        0.0\n",
       "11DOCRTSLtm                     0.0\n",
       "...                             ...\n",
       "DM_CE1562[c]                    0.0\n",
       "DM_1a2425thvitd2[m]             0.0\n",
       "DM_btn[n]                       0.0\n",
       "Htmi                            0.0\n",
       "NADH2_u10mi                     0.0\n",
       "\n",
       "[5679 rows x 1 columns]"
      ]
     },
     "execution_count": 304,
     "metadata": {},
     "output_type": "execute_result"
    }
   ],
   "source": [
    "tabla_flujos_normal2"
   ]
  },
  {
   "cell_type": "code",
   "execution_count": null,
   "id": "6f13bfd8",
   "metadata": {},
   "outputs": [],
   "source": []
  },
  {
   "cell_type": "code",
   "execution_count": 29,
   "id": "74973fd6",
   "metadata": {},
   "outputs": [
    {
     "data": {
      "text/plain": [
       "(array([3.700e+01, 3.000e+00, 3.000e+00, 2.000e+00, 5.000e+00, 4.000e+00,\n",
       "        1.000e+00, 7.000e+00, 6.000e+00, 1.200e+01, 7.000e+00, 5.000e+00,\n",
       "        6.000e+00, 2.200e+01, 4.141e+03, 7.000e+01, 5.700e+01, 1.400e+01,\n",
       "        4.000e+00, 1.300e+01, 1.900e+01, 1.200e+01, 1.600e+01, 4.000e+00,\n",
       "        7.000e+00, 1.200e+01, 5.000e+00, 1.000e+00, 3.000e+00, 4.000e+01]),\n",
       " array([-1.00000000e+03, -9.33333333e+02, -8.66666667e+02, -8.00000000e+02,\n",
       "        -7.33333333e+02, -6.66666667e+02, -6.00000000e+02, -5.33333333e+02,\n",
       "        -4.66666667e+02, -4.00000000e+02, -3.33333333e+02, -2.66666667e+02,\n",
       "        -2.00000000e+02, -1.33333333e+02, -6.66666667e+01,  1.13686838e-13,\n",
       "         6.66666667e+01,  1.33333333e+02,  2.00000000e+02,  2.66666667e+02,\n",
       "         3.33333333e+02,  4.00000000e+02,  4.66666667e+02,  5.33333333e+02,\n",
       "         6.00000000e+02,  6.66666667e+02,  7.33333333e+02,  8.00000000e+02,\n",
       "         8.66666667e+02,  9.33333333e+02,  1.00000000e+03]),\n",
       " <BarContainer object of 30 artists>)"
      ]
     },
     "execution_count": 29,
     "metadata": {},
     "output_type": "execute_result"
    },
    {
     "data": {
      "image/png": "[encoded data removed]",
      "text/plain": [
       "<Figure size 640x480 with 1 Axes>"
      ]
     },
     "metadata": {},
     "output_type": "display_data"
    }
   ],
   "source": [
    "tabla_flujos_normal3={'Flujos_Normal3':solution_normal3.fluxes}\n",
    "tabla_flujos_normal3=pd.DataFrame(tabla_flujos_normal3)\n",
    "\n",
    "plt.hist(tabla_flujos_normal3['Flujos_Normal3'], bins=30, color='orange', alpha=0.7)"
   ]
  },
  {
   "cell_type": "code",
   "execution_count": 305,
   "id": "9fda5af6",
   "metadata": {},
   "outputs": [
    {
     "data": {
      "text/html": [
       "<div>\n",
       "<style scoped>\n",
       "    .dataframe tbody tr th:only-of-type {\n",
       "        vertical-align: middle;\n",
       "    }\n",
       "\n",
       "    .dataframe tbody tr th {\n",
       "        vertical-align: top;\n",
       "    }\n",
       "\n",
       "    .dataframe thead th {\n",
       "        text-align: right;\n",
       "    }\n",
       "</style>\n",
       "<table border=\"1\" class=\"dataframe\">\n",
       "  <thead>\n",
       "    <tr style=\"text-align: right;\">\n",
       "      <th></th>\n",
       "      <th>Flujos_Normal3</th>\n",
       "    </tr>\n",
       "  </thead>\n",
       "  <tbody>\n",
       "    <tr>\n",
       "      <th>10FTHF7GLUtl</th>\n",
       "      <td>0.0</td>\n",
       "    </tr>\n",
       "    <tr>\n",
       "      <th>10FTHF7GLUtm</th>\n",
       "      <td>0.0</td>\n",
       "    </tr>\n",
       "    <tr>\n",
       "      <th>10FTHFtl</th>\n",
       "      <td>0.0</td>\n",
       "    </tr>\n",
       "    <tr>\n",
       "      <th>10FTHFtm</th>\n",
       "      <td>0.0</td>\n",
       "    </tr>\n",
       "    <tr>\n",
       "      <th>11DOCRTSLtm</th>\n",
       "      <td>0.0</td>\n",
       "    </tr>\n",
       "    <tr>\n",
       "      <th>...</th>\n",
       "      <td>...</td>\n",
       "    </tr>\n",
       "    <tr>\n",
       "      <th>DM_4abut[c]</th>\n",
       "      <td>0.0</td>\n",
       "    </tr>\n",
       "    <tr>\n",
       "      <th>DM_srtn[c]</th>\n",
       "      <td>0.0</td>\n",
       "    </tr>\n",
       "    <tr>\n",
       "      <th>DM_btn[n]</th>\n",
       "      <td>0.0</td>\n",
       "    </tr>\n",
       "    <tr>\n",
       "      <th>Htmi</th>\n",
       "      <td>0.0</td>\n",
       "    </tr>\n",
       "    <tr>\n",
       "      <th>NADH2_u10mi</th>\n",
       "      <td>0.0</td>\n",
       "    </tr>\n",
       "  </tbody>\n",
       "</table>\n",
       "<p>4538 rows × 1 columns</p>\n",
       "</div>"
      ],
      "text/plain": [
       "              Flujos_Normal3\n",
       "10FTHF7GLUtl             0.0\n",
       "10FTHF7GLUtm             0.0\n",
       "10FTHFtl                 0.0\n",
       "10FTHFtm                 0.0\n",
       "11DOCRTSLtm              0.0\n",
       "...                      ...\n",
       "DM_4abut[c]              0.0\n",
       "DM_srtn[c]               0.0\n",
       "DM_btn[n]                0.0\n",
       "Htmi                     0.0\n",
       "NADH2_u10mi              0.0\n",
       "\n",
       "[4538 rows x 1 columns]"
      ]
     },
     "execution_count": 305,
     "metadata": {},
     "output_type": "execute_result"
    }
   ],
   "source": [
    "tabla_flujos_normal3"
   ]
  },
  {
   "cell_type": "code",
   "execution_count": 72,
   "id": "bfb5a22c",
   "metadata": {},
   "outputs": [
    {
     "data": {
      "text/html": [
       "<div>\n",
       "<style scoped>\n",
       "    .dataframe tbody tr th:only-of-type {\n",
       "        vertical-align: middle;\n",
       "    }\n",
       "\n",
       "    .dataframe tbody tr th {\n",
       "        vertical-align: top;\n",
       "    }\n",
       "\n",
       "    .dataframe thead th {\n",
       "        text-align: right;\n",
       "    }\n",
       "</style>\n",
       "<table border=\"1\" class=\"dataframe\">\n",
       "  <thead>\n",
       "    <tr style=\"text-align: right;\">\n",
       "      <th></th>\n",
       "      <th>Flujos_Normal1</th>\n",
       "      <th>Flujos_Normal2</th>\n",
       "      <th>Flujos_Normal3</th>\n",
       "    </tr>\n",
       "  </thead>\n",
       "  <tbody>\n",
       "    <tr>\n",
       "      <th>10FTHF7GLUtl</th>\n",
       "      <td>0.0</td>\n",
       "      <td>NaN</td>\n",
       "      <td>NaN</td>\n",
       "    </tr>\n",
       "    <tr>\n",
       "      <th>10FTHF7GLUtm</th>\n",
       "      <td>0.0</td>\n",
       "      <td>NaN</td>\n",
       "      <td>NaN</td>\n",
       "    </tr>\n",
       "    <tr>\n",
       "      <th>10FTHFtl</th>\n",
       "      <td>0.0</td>\n",
       "      <td>NaN</td>\n",
       "      <td>NaN</td>\n",
       "    </tr>\n",
       "    <tr>\n",
       "      <th>11DOCRTSLtm</th>\n",
       "      <td>0.0</td>\n",
       "      <td>NaN</td>\n",
       "      <td>NaN</td>\n",
       "    </tr>\n",
       "    <tr>\n",
       "      <th>11DOCRTSLtr</th>\n",
       "      <td>0.0</td>\n",
       "      <td>NaN</td>\n",
       "      <td>NaN</td>\n",
       "    </tr>\n",
       "    <tr>\n",
       "      <th>...</th>\n",
       "      <td>...</td>\n",
       "      <td>...</td>\n",
       "      <td>...</td>\n",
       "    </tr>\n",
       "    <tr>\n",
       "      <th>DM_4abut[c]</th>\n",
       "      <td>NaN</td>\n",
       "      <td>NaN</td>\n",
       "      <td>0.0</td>\n",
       "    </tr>\n",
       "    <tr>\n",
       "      <th>DM_srtn[c]</th>\n",
       "      <td>NaN</td>\n",
       "      <td>NaN</td>\n",
       "      <td>0.0</td>\n",
       "    </tr>\n",
       "    <tr>\n",
       "      <th>DM_btn[n]</th>\n",
       "      <td>NaN</td>\n",
       "      <td>NaN</td>\n",
       "      <td>0.0</td>\n",
       "    </tr>\n",
       "    <tr>\n",
       "      <th>Htmi</th>\n",
       "      <td>NaN</td>\n",
       "      <td>NaN</td>\n",
       "      <td>0.0</td>\n",
       "    </tr>\n",
       "    <tr>\n",
       "      <th>NADH2_u10mi</th>\n",
       "      <td>NaN</td>\n",
       "      <td>NaN</td>\n",
       "      <td>0.0</td>\n",
       "    </tr>\n",
       "  </tbody>\n",
       "</table>\n",
       "<p>15955 rows × 3 columns</p>\n",
       "</div>"
      ],
      "text/plain": [
       "              Flujos_Normal1  Flujos_Normal2  Flujos_Normal3\n",
       "10FTHF7GLUtl             0.0             NaN             NaN\n",
       "10FTHF7GLUtm             0.0             NaN             NaN\n",
       "10FTHFtl                 0.0             NaN             NaN\n",
       "11DOCRTSLtm              0.0             NaN             NaN\n",
       "11DOCRTSLtr              0.0             NaN             NaN\n",
       "...                      ...             ...             ...\n",
       "DM_4abut[c]              NaN             NaN             0.0\n",
       "DM_srtn[c]               NaN             NaN             0.0\n",
       "DM_btn[n]                NaN             NaN             0.0\n",
       "Htmi                     NaN             NaN             0.0\n",
       "NADH2_u10mi              NaN             NaN             0.0\n",
       "\n",
       "[15955 rows x 3 columns]"
      ]
     },
     "execution_count": 72,
     "metadata": {},
     "output_type": "execute_result"
    }
   ],
   "source": [
    "flujos_normal=pd.concat([tabla_flujos_normal1,tabla_flujos_normal2,tabla_flujos_normal3])\n",
    "flujos_normal"
   ]
  },
  {
   "cell_type": "code",
   "execution_count": 30,
   "id": "9e51765f",
   "metadata": {},
   "outputs": [
    {
     "data": {
      "text/plain": [
       "(array([6.900e+01, 1.000e+01, 6.000e+00, 3.000e+00, 4.000e+00, 2.000e+00,\n",
       "        3.000e+00, 5.000e+00, 3.000e+00, 9.000e+00, 1.000e+01, 9.000e+00,\n",
       "        1.400e+01, 9.000e+00, 5.361e+03, 5.600e+01, 1.500e+01, 2.200e+01,\n",
       "        6.000e+00, 2.800e+01, 3.000e+00, 6.000e+00, 4.000e+00, 2.000e+00,\n",
       "        1.000e+01, 3.000e+00, 4.000e+00, 1.600e+01, 1.900e+01, 8.000e+01]),\n",
       " array([-1.00000000e+03, -9.33333333e+02, -8.66666667e+02, -8.00000000e+02,\n",
       "        -7.33333333e+02, -6.66666667e+02, -6.00000000e+02, -5.33333333e+02,\n",
       "        -4.66666667e+02, -4.00000000e+02, -3.33333333e+02, -2.66666667e+02,\n",
       "        -2.00000000e+02, -1.33333333e+02, -6.66666667e+01,  1.13686838e-13,\n",
       "         6.66666667e+01,  1.33333333e+02,  2.00000000e+02,  2.66666667e+02,\n",
       "         3.33333333e+02,  4.00000000e+02,  4.66666667e+02,  5.33333333e+02,\n",
       "         6.00000000e+02,  6.66666667e+02,  7.33333333e+02,  8.00000000e+02,\n",
       "         8.66666667e+02,  9.33333333e+02,  1.00000000e+03]),\n",
       " <BarContainer object of 30 artists>)"
      ]
     },
     "execution_count": 30,
     "metadata": {},
     "output_type": "execute_result"
    },
    {
     "data": {
      "image/png": "[encoded data removed]",
      "text/plain": [
       "<Figure size 640x480 with 1 Axes>"
      ]
     },
     "metadata": {},
     "output_type": "display_data"
    }
   ],
   "source": [
    "tabla_flujos_cancer1={'Flujos_Cancer1':solution_cancer1.fluxes}\n",
    "tabla_flujos_cancer1=pd.DataFrame(tabla_flujos_cancer1)\n",
    "\n",
    "plt.hist(tabla_flujos_cancer1['Flujos_Cancer1'], bins=30, color='pink', alpha=0.7)"
   ]
  },
  {
   "cell_type": "code",
   "execution_count": 306,
   "id": "e750f64f",
   "metadata": {},
   "outputs": [
    {
     "data": {
      "text/html": [
       "<div>\n",
       "<style scoped>\n",
       "    .dataframe tbody tr th:only-of-type {\n",
       "        vertical-align: middle;\n",
       "    }\n",
       "\n",
       "    .dataframe tbody tr th {\n",
       "        vertical-align: top;\n",
       "    }\n",
       "\n",
       "    .dataframe thead th {\n",
       "        text-align: right;\n",
       "    }\n",
       "</style>\n",
       "<table border=\"1\" class=\"dataframe\">\n",
       "  <thead>\n",
       "    <tr style=\"text-align: right;\">\n",
       "      <th></th>\n",
       "      <th>Flujos_Cancer1</th>\n",
       "    </tr>\n",
       "  </thead>\n",
       "  <tbody>\n",
       "    <tr>\n",
       "      <th>10FTHF7GLUtl</th>\n",
       "      <td>0.0</td>\n",
       "    </tr>\n",
       "    <tr>\n",
       "      <th>10FTHF7GLUtm</th>\n",
       "      <td>0.0</td>\n",
       "    </tr>\n",
       "    <tr>\n",
       "      <th>10FTHFtl</th>\n",
       "      <td>0.0</td>\n",
       "    </tr>\n",
       "    <tr>\n",
       "      <th>10FTHFtm</th>\n",
       "      <td>0.0</td>\n",
       "    </tr>\n",
       "    <tr>\n",
       "      <th>11DOCRTSLtm</th>\n",
       "      <td>0.0</td>\n",
       "    </tr>\n",
       "    <tr>\n",
       "      <th>...</th>\n",
       "      <td>...</td>\n",
       "    </tr>\n",
       "    <tr>\n",
       "      <th>DM_kynate[c]</th>\n",
       "      <td>0.0</td>\n",
       "    </tr>\n",
       "    <tr>\n",
       "      <th>DM_1a2425thvitd2[m]</th>\n",
       "      <td>0.0</td>\n",
       "    </tr>\n",
       "    <tr>\n",
       "      <th>DM_btn[n]</th>\n",
       "      <td>0.0</td>\n",
       "    </tr>\n",
       "    <tr>\n",
       "      <th>Htmi</th>\n",
       "      <td>0.0</td>\n",
       "    </tr>\n",
       "    <tr>\n",
       "      <th>NADH2_u10mi</th>\n",
       "      <td>0.0</td>\n",
       "    </tr>\n",
       "  </tbody>\n",
       "</table>\n",
       "<p>5791 rows × 1 columns</p>\n",
       "</div>"
      ],
      "text/plain": [
       "                     Flujos_Cancer1\n",
       "10FTHF7GLUtl                    0.0\n",
       "10FTHF7GLUtm                    0.0\n",
       "10FTHFtl                        0.0\n",
       "10FTHFtm                        0.0\n",
       "11DOCRTSLtm                     0.0\n",
       "...                             ...\n",
       "DM_kynate[c]                    0.0\n",
       "DM_1a2425thvitd2[m]             0.0\n",
       "DM_btn[n]                       0.0\n",
       "Htmi                            0.0\n",
       "NADH2_u10mi                     0.0\n",
       "\n",
       "[5791 rows x 1 columns]"
      ]
     },
     "execution_count": 306,
     "metadata": {},
     "output_type": "execute_result"
    }
   ],
   "source": [
    "tabla_flujos_cancer1"
   ]
  },
  {
   "cell_type": "code",
   "execution_count": 31,
   "id": "108d11c5",
   "metadata": {},
   "outputs": [
    {
     "data": {
      "text/plain": [
       "(array([6.50e+01, 9.00e+00, 2.00e+00, 4.00e+00, 5.00e+00, 4.00e+00,\n",
       "        1.00e+01, 6.00e+00, 8.00e+00, 5.00e+00, 9.00e+00, 1.80e+01,\n",
       "        3.00e+00, 1.60e+01, 6.50e+01, 5.02e+03, 2.50e+01, 7.00e+00,\n",
       "        3.20e+01, 2.10e+01, 8.00e+00, 1.10e+01, 6.00e+00, 1.10e+01,\n",
       "        1.10e+01, 1.20e+01, 2.00e+00, 2.00e+00, 2.10e+01, 7.40e+01]),\n",
       " array([-1000.        ,  -933.33333333,  -866.66666667,  -800.        ,\n",
       "         -733.33333333,  -666.66666667,  -600.        ,  -533.33333333,\n",
       "         -466.66666667,  -400.        ,  -333.33333333,  -266.66666667,\n",
       "         -200.        ,  -133.33333333,   -66.66666667,     0.        ,\n",
       "           66.66666667,   133.33333333,   200.        ,   266.66666667,\n",
       "          333.33333333,   400.        ,   466.66666667,   533.33333333,\n",
       "          600.        ,   666.66666667,   733.33333333,   800.        ,\n",
       "          866.66666667,   933.33333333,  1000.        ]),\n",
       " <BarContainer object of 30 artists>)"
      ]
     },
     "execution_count": 31,
     "metadata": {},
     "output_type": "execute_result"
    },
    {
     "data": {
      "image/png": "[encoded data removed]",
      "text/plain": [
       "<Figure size 640x480 with 1 Axes>"
      ]
     },
     "metadata": {},
     "output_type": "display_data"
    }
   ],
   "source": [
    "tabla_flujos_cancer2={'Flujos_Cancer2':solution_cancer2.fluxes}\n",
    "tabla_flujos_cancer2=pd.DataFrame(tabla_flujos_cancer2)\n",
    "\n",
    "plt.hist(tabla_flujos_cancer2['Flujos_Cancer2'], bins=30, color='purple', alpha=0.7)"
   ]
  },
  {
   "cell_type": "code",
   "execution_count": 307,
   "id": "7393830a",
   "metadata": {},
   "outputs": [
    {
     "data": {
      "text/html": [
       "<div>\n",
       "<style scoped>\n",
       "    .dataframe tbody tr th:only-of-type {\n",
       "        vertical-align: middle;\n",
       "    }\n",
       "\n",
       "    .dataframe tbody tr th {\n",
       "        vertical-align: top;\n",
       "    }\n",
       "\n",
       "    .dataframe thead th {\n",
       "        text-align: right;\n",
       "    }\n",
       "</style>\n",
       "<table border=\"1\" class=\"dataframe\">\n",
       "  <thead>\n",
       "    <tr style=\"text-align: right;\">\n",
       "      <th></th>\n",
       "      <th>Flujos_Cancer2</th>\n",
       "    </tr>\n",
       "  </thead>\n",
       "  <tbody>\n",
       "    <tr>\n",
       "      <th>10FTHF7GLUtl</th>\n",
       "      <td>0.0</td>\n",
       "    </tr>\n",
       "    <tr>\n",
       "      <th>10FTHF7GLUtm</th>\n",
       "      <td>0.0</td>\n",
       "    </tr>\n",
       "    <tr>\n",
       "      <th>10FTHFtl</th>\n",
       "      <td>0.0</td>\n",
       "    </tr>\n",
       "    <tr>\n",
       "      <th>10FTHFtm</th>\n",
       "      <td>-1000.0</td>\n",
       "    </tr>\n",
       "    <tr>\n",
       "      <th>13DAMPPOX</th>\n",
       "      <td>0.0</td>\n",
       "    </tr>\n",
       "    <tr>\n",
       "      <th>...</th>\n",
       "      <td>...</td>\n",
       "    </tr>\n",
       "    <tr>\n",
       "      <th>DM_kynate[c]</th>\n",
       "      <td>0.0</td>\n",
       "    </tr>\n",
       "    <tr>\n",
       "      <th>DM_1a2425thvitd2[m]</th>\n",
       "      <td>0.0</td>\n",
       "    </tr>\n",
       "    <tr>\n",
       "      <th>DM_btn[n]</th>\n",
       "      <td>0.0</td>\n",
       "    </tr>\n",
       "    <tr>\n",
       "      <th>Htmi</th>\n",
       "      <td>0.0</td>\n",
       "    </tr>\n",
       "    <tr>\n",
       "      <th>NADH2_u10mi</th>\n",
       "      <td>0.0</td>\n",
       "    </tr>\n",
       "  </tbody>\n",
       "</table>\n",
       "<p>5492 rows × 1 columns</p>\n",
       "</div>"
      ],
      "text/plain": [
       "                     Flujos_Cancer2\n",
       "10FTHF7GLUtl                    0.0\n",
       "10FTHF7GLUtm                    0.0\n",
       "10FTHFtl                        0.0\n",
       "10FTHFtm                    -1000.0\n",
       "13DAMPPOX                       0.0\n",
       "...                             ...\n",
       "DM_kynate[c]                    0.0\n",
       "DM_1a2425thvitd2[m]             0.0\n",
       "DM_btn[n]                       0.0\n",
       "Htmi                            0.0\n",
       "NADH2_u10mi                     0.0\n",
       "\n",
       "[5492 rows x 1 columns]"
      ]
     },
     "execution_count": 307,
     "metadata": {},
     "output_type": "execute_result"
    }
   ],
   "source": [
    "tabla_flujos_cancer2"
   ]
  },
  {
   "cell_type": "code",
   "execution_count": 353,
   "id": "6394a4c0",
   "metadata": {},
   "outputs": [
    {
     "data": {
      "text/plain": [
       "(array([2.30e+01, 2.00e+00, 0.00e+00, 2.00e+00, 1.00e+00, 2.00e+00,\n",
       "        0.00e+00, 2.00e+00, 7.00e+00, 3.00e+00, 2.00e+00, 6.00e+00,\n",
       "        5.00e+00, 1.70e+01, 5.38e+03, 1.01e+02, 2.00e+01, 1.10e+01,\n",
       "        7.00e+00, 8.00e+00, 6.00e+00, 4.00e+00, 3.00e+00, 4.00e+00,\n",
       "        1.00e+00, 2.00e+00, 1.00e+00, 1.00e+00, 1.00e+00, 2.90e+01]),\n",
       " array([-1.00000000e+03, -9.33333333e+02, -8.66666667e+02, -8.00000000e+02,\n",
       "        -7.33333333e+02, -6.66666667e+02, -6.00000000e+02, -5.33333333e+02,\n",
       "        -4.66666667e+02, -4.00000000e+02, -3.33333333e+02, -2.66666667e+02,\n",
       "        -2.00000000e+02, -1.33333333e+02, -6.66666667e+01,  4.54747351e-13,\n",
       "         6.66666667e+01,  1.33333333e+02,  2.00000000e+02,  2.66666667e+02,\n",
       "         3.33333333e+02,  4.00000000e+02,  4.66666667e+02,  5.33333333e+02,\n",
       "         6.00000000e+02,  6.66666667e+02,  7.33333333e+02,  8.00000000e+02,\n",
       "         8.66666667e+02,  9.33333333e+02,  1.00000000e+03]),\n",
       " <BarContainer object of 30 artists>)"
      ]
     },
     "execution_count": 353,
     "metadata": {},
     "output_type": "execute_result"
    },
    {
     "data": {
      "image/png": "[encoded data removed]",
      "text/plain": [
       "<Figure size 640x480 with 1 Axes>"
      ]
     },
     "metadata": {},
     "output_type": "display_data"
    }
   ],
   "source": [
    "tabla_flujos_cancer3={'Flujos_Cancer3':solution_cancer3.fluxes}\n",
    "tabla_flujos_cancer3=pd.DataFrame(tabla_flujos_cancer3)\n",
    "\n",
    "plt.hist(tabla_flujos_cancer3['Flujos_Cancer3'], bins=30, color='brown', alpha=0.7)"
   ]
  },
  {
   "cell_type": "code",
   "execution_count": 308,
   "id": "a7cd22be",
   "metadata": {},
   "outputs": [
    {
     "data": {
      "text/html": [
       "<div>\n",
       "<style scoped>\n",
       "    .dataframe tbody tr th:only-of-type {\n",
       "        vertical-align: middle;\n",
       "    }\n",
       "\n",
       "    .dataframe tbody tr th {\n",
       "        vertical-align: top;\n",
       "    }\n",
       "\n",
       "    .dataframe thead th {\n",
       "        text-align: right;\n",
       "    }\n",
       "</style>\n",
       "<table border=\"1\" class=\"dataframe\">\n",
       "  <thead>\n",
       "    <tr style=\"text-align: right;\">\n",
       "      <th></th>\n",
       "      <th>Flujos_Cancer3</th>\n",
       "    </tr>\n",
       "  </thead>\n",
       "  <tbody>\n",
       "    <tr>\n",
       "      <th>10FTHF7GLUtl</th>\n",
       "      <td>0.0</td>\n",
       "    </tr>\n",
       "    <tr>\n",
       "      <th>10FTHF7GLUtm</th>\n",
       "      <td>0.0</td>\n",
       "    </tr>\n",
       "    <tr>\n",
       "      <th>10FTHFtl</th>\n",
       "      <td>0.0</td>\n",
       "    </tr>\n",
       "    <tr>\n",
       "      <th>10FTHFtm</th>\n",
       "      <td>0.0</td>\n",
       "    </tr>\n",
       "    <tr>\n",
       "      <th>11DOCRTSLtm</th>\n",
       "      <td>0.0</td>\n",
       "    </tr>\n",
       "    <tr>\n",
       "      <th>...</th>\n",
       "      <td>...</td>\n",
       "    </tr>\n",
       "    <tr>\n",
       "      <th>DM_4glu56dihdind[c]</th>\n",
       "      <td>0.0</td>\n",
       "    </tr>\n",
       "    <tr>\n",
       "      <th>DM_kynate[c]</th>\n",
       "      <td>0.0</td>\n",
       "    </tr>\n",
       "    <tr>\n",
       "      <th>DM_btn[n]</th>\n",
       "      <td>0.0</td>\n",
       "    </tr>\n",
       "    <tr>\n",
       "      <th>Htmi</th>\n",
       "      <td>0.0</td>\n",
       "    </tr>\n",
       "    <tr>\n",
       "      <th>NADH2_u10mi</th>\n",
       "      <td>0.0</td>\n",
       "    </tr>\n",
       "  </tbody>\n",
       "</table>\n",
       "<p>5651 rows × 1 columns</p>\n",
       "</div>"
      ],
      "text/plain": [
       "                     Flujos_Cancer3\n",
       "10FTHF7GLUtl                    0.0\n",
       "10FTHF7GLUtm                    0.0\n",
       "10FTHFtl                        0.0\n",
       "10FTHFtm                        0.0\n",
       "11DOCRTSLtm                     0.0\n",
       "...                             ...\n",
       "DM_4glu56dihdind[c]             0.0\n",
       "DM_kynate[c]                    0.0\n",
       "DM_btn[n]                       0.0\n",
       "Htmi                            0.0\n",
       "NADH2_u10mi                     0.0\n",
       "\n",
       "[5651 rows x 1 columns]"
      ]
     },
     "execution_count": 308,
     "metadata": {},
     "output_type": "execute_result"
    }
   ],
   "source": [
    "tabla_flujos_cancer3"
   ]
  },
  {
   "cell_type": "code",
   "execution_count": 354,
   "id": "1bdf6fe1",
   "metadata": {},
   "outputs": [
    {
     "data": {
      "text/html": [
       "<div>\n",
       "<style scoped>\n",
       "    .dataframe tbody tr th:only-of-type {\n",
       "        vertical-align: middle;\n",
       "    }\n",
       "\n",
       "    .dataframe tbody tr th {\n",
       "        vertical-align: top;\n",
       "    }\n",
       "\n",
       "    .dataframe thead th {\n",
       "        text-align: right;\n",
       "    }\n",
       "</style>\n",
       "<table border=\"1\" class=\"dataframe\">\n",
       "  <thead>\n",
       "    <tr style=\"text-align: right;\">\n",
       "      <th></th>\n",
       "      <th>Flujos_Cancer1</th>\n",
       "      <th>Flujos_Cancer2</th>\n",
       "      <th>Flujos_Cancer3</th>\n",
       "    </tr>\n",
       "  </thead>\n",
       "  <tbody>\n",
       "    <tr>\n",
       "      <th>10FTHF7GLUtl</th>\n",
       "      <td>0.0</td>\n",
       "      <td>0.0</td>\n",
       "      <td>0.000000</td>\n",
       "    </tr>\n",
       "    <tr>\n",
       "      <th>10FTHF7GLUtm</th>\n",
       "      <td>0.0</td>\n",
       "      <td>0.0</td>\n",
       "      <td>0.000000</td>\n",
       "    </tr>\n",
       "    <tr>\n",
       "      <th>10FTHFtl</th>\n",
       "      <td>0.0</td>\n",
       "      <td>0.0</td>\n",
       "      <td>0.000000</td>\n",
       "    </tr>\n",
       "    <tr>\n",
       "      <th>10FTHFtm</th>\n",
       "      <td>0.0</td>\n",
       "      <td>-1000.0</td>\n",
       "      <td>0.000000</td>\n",
       "    </tr>\n",
       "    <tr>\n",
       "      <th>11DOCRTSLtm</th>\n",
       "      <td>0.0</td>\n",
       "      <td>NaN</td>\n",
       "      <td>0.000000</td>\n",
       "    </tr>\n",
       "    <tr>\n",
       "      <th>...</th>\n",
       "      <td>...</td>\n",
       "      <td>...</td>\n",
       "      <td>...</td>\n",
       "    </tr>\n",
       "    <tr>\n",
       "      <th>1A25HVITD2t</th>\n",
       "      <td>NaN</td>\n",
       "      <td>NaN</td>\n",
       "      <td>0.000000</td>\n",
       "    </tr>\n",
       "    <tr>\n",
       "      <th>1A25HVITD2tm</th>\n",
       "      <td>NaN</td>\n",
       "      <td>NaN</td>\n",
       "      <td>0.000000</td>\n",
       "    </tr>\n",
       "    <tr>\n",
       "      <th>EX_1a25dhvitd2[e]</th>\n",
       "      <td>NaN</td>\n",
       "      <td>NaN</td>\n",
       "      <td>0.000000</td>\n",
       "    </tr>\n",
       "    <tr>\n",
       "      <th>sink_leu_L[c]</th>\n",
       "      <td>NaN</td>\n",
       "      <td>NaN</td>\n",
       "      <td>-45.102369</td>\n",
       "    </tr>\n",
       "    <tr>\n",
       "      <th>sink_gly[c]</th>\n",
       "      <td>NaN</td>\n",
       "      <td>NaN</td>\n",
       "      <td>383.255122</td>\n",
       "    </tr>\n",
       "  </tbody>\n",
       "</table>\n",
       "<p>6195 rows × 3 columns</p>\n",
       "</div>"
      ],
      "text/plain": [
       "                   Flujos_Cancer1  Flujos_Cancer2  Flujos_Cancer3\n",
       "10FTHF7GLUtl                  0.0             0.0        0.000000\n",
       "10FTHF7GLUtm                  0.0             0.0        0.000000\n",
       "10FTHFtl                      0.0             0.0        0.000000\n",
       "10FTHFtm                      0.0         -1000.0        0.000000\n",
       "11DOCRTSLtm                   0.0             NaN        0.000000\n",
       "...                           ...             ...             ...\n",
       "1A25HVITD2t                   NaN             NaN        0.000000\n",
       "1A25HVITD2tm                  NaN             NaN        0.000000\n",
       "EX_1a25dhvitd2[e]             NaN             NaN        0.000000\n",
       "sink_leu_L[c]                 NaN             NaN      -45.102369\n",
       "sink_gly[c]                   NaN             NaN      383.255122\n",
       "\n",
       "[6195 rows x 3 columns]"
      ]
     },
     "execution_count": 354,
     "metadata": {},
     "output_type": "execute_result"
    }
   ],
   "source": [
    "flujos_cancer=pd.concat([tabla_flujos_cancer1,tabla_flujos_cancer2,tabla_flujos_cancer3],axis=1)\n",
    "flujos_cancer"
   ]
  },
  {
   "cell_type": "code",
   "execution_count": 355,
   "id": "2676b403",
   "metadata": {},
   "outputs": [
    {
     "data": {
      "image/png": "[encoded data removed]",
      "text/plain": [
       "<Figure size 640x480 with 1 Axes>"
      ]
     },
     "metadata": {},
     "output_type": "display_data"
    }
   ],
   "source": [
    "fluxesM=pd.concat([tabla_flujos_normal1, tabla_flujos_normal2, tabla_flujos_normal3, tabla_flujos_cancer1, tabla_flujos_cancer2, tabla_flujos_cancer3], axis=1) \n",
    "fluxesM   \n",
    "plt.hist(fluxesM['Flujos_Normal1'], bins=30, color='dodgerblue', alpha=0.4, label='Modelo Normal 1')\n",
    "plt.hist(fluxesM['Flujos_Normal2'], bins=30, color='red', alpha=0.4, label='Modelo Normal 2')\n",
    "plt.hist(fluxesM['Flujos_Normal3'], bins=30, color='orange', alpha=0.7, label='Modelo Normal 3')\n",
    "plt.hist(fluxesM['Flujos_Cancer1'], bins=30, color='pink', alpha=0.4, label='Modelo Cancer 1')\n",
    "plt.hist(fluxesM['Flujos_Cancer2'], bins=30, color='yellow', alpha=0.4, label='Modelo Cancer 2')\n",
    "plt.hist(fluxesM['Flujos_Cancer3'], bins=30, color='green', alpha=0.4, label='Modelo Cancer 3')\n",
    "\n",
    "plt.title('Models Conjunts')\n",
    "plt.xlabel('Valor Fluxe')\n",
    "plt.ylabel('Nª rxns')\n",
    "plt.legend(loc='upper right')\n",
    "plt.grid(False)"
   ]
  },
  {
   "cell_type": "markdown",
   "id": "fe33b58f",
   "metadata": {},
   "source": [
    "## TRANSFORMAR DADES"
   ]
  },
  {
   "cell_type": "code",
   "execution_count": 168,
   "id": "43d31a5c",
   "metadata": {},
   "outputs": [],
   "source": [
    "def flux_transformer(v):\n",
    "    '''\n",
    "    This function transforms fluxes into log2 scale with three additions:\n",
    "    - zero values are kept.\n",
    "    - values between 0 and 2 are adjusted to fit below one.\n",
    "    - negative fluxes are considered. \n",
    "    '''\n",
    "\n",
    "    def adjusted(v):\n",
    "        new = (np.log2(v + 0.125) + 3) / 4\n",
    "        return np.min([new, 1])\n",
    "\n",
    "    if v == 0:\n",
    "        vprime = 0\n",
    "    elif v > 0:\n",
    "        if v < 2:\n",
    "            vprime = adjusted(v)\n",
    "        else:\n",
    "            vprime = np.log2(v)\n",
    "    elif v < 0:\n",
    "        v = np.abs(v)\n",
    "        if v < 2:\n",
    "            vprime = -adjusted(v)\n",
    "        else:\n",
    "            vprime = -np.log2(v)\n",
    "    else:\n",
    "        raise ValueError('found value not considered')\n",
    "\n",
    "    return vprime"
   ]
  },
  {
   "cell_type": "code",
   "execution_count": 81,
   "id": "6ae0a5e8",
   "metadata": {},
   "outputs": [
    {
     "data": {
      "text/html": [
       "<div>\n",
       "<style scoped>\n",
       "    .dataframe tbody tr th:only-of-type {\n",
       "        vertical-align: middle;\n",
       "    }\n",
       "\n",
       "    .dataframe tbody tr th {\n",
       "        vertical-align: top;\n",
       "    }\n",
       "\n",
       "    .dataframe thead th {\n",
       "        text-align: right;\n",
       "    }\n",
       "</style>\n",
       "<table border=\"1\" class=\"dataframe\">\n",
       "  <thead>\n",
       "    <tr style=\"text-align: right;\">\n",
       "      <th></th>\n",
       "      <th>Flujos_Normal1</th>\n",
       "    </tr>\n",
       "  </thead>\n",
       "  <tbody>\n",
       "    <tr>\n",
       "      <th>10FTHF7GLUtl</th>\n",
       "      <td>0.0</td>\n",
       "    </tr>\n",
       "    <tr>\n",
       "      <th>10FTHF7GLUtm</th>\n",
       "      <td>0.0</td>\n",
       "    </tr>\n",
       "    <tr>\n",
       "      <th>10FTHFtl</th>\n",
       "      <td>0.0</td>\n",
       "    </tr>\n",
       "    <tr>\n",
       "      <th>11DOCRTSLtm</th>\n",
       "      <td>0.0</td>\n",
       "    </tr>\n",
       "    <tr>\n",
       "      <th>11DOCRTSLtr</th>\n",
       "      <td>0.0</td>\n",
       "    </tr>\n",
       "    <tr>\n",
       "      <th>...</th>\n",
       "      <td>...</td>\n",
       "    </tr>\n",
       "    <tr>\n",
       "      <th>DM_CE1562[c]</th>\n",
       "      <td>0.0</td>\n",
       "    </tr>\n",
       "    <tr>\n",
       "      <th>DM_CE5025[c]</th>\n",
       "      <td>0.0</td>\n",
       "    </tr>\n",
       "    <tr>\n",
       "      <th>DM_btn[n]</th>\n",
       "      <td>0.0</td>\n",
       "    </tr>\n",
       "    <tr>\n",
       "      <th>Htmi</th>\n",
       "      <td>0.0</td>\n",
       "    </tr>\n",
       "    <tr>\n",
       "      <th>NADH2_u10mi</th>\n",
       "      <td>0.0</td>\n",
       "    </tr>\n",
       "  </tbody>\n",
       "</table>\n",
       "<p>5738 rows × 1 columns</p>\n",
       "</div>"
      ],
      "text/plain": [
       "              Flujos_Normal1\n",
       "10FTHF7GLUtl             0.0\n",
       "10FTHF7GLUtm             0.0\n",
       "10FTHFtl                 0.0\n",
       "11DOCRTSLtm              0.0\n",
       "11DOCRTSLtr              0.0\n",
       "...                      ...\n",
       "DM_CE1562[c]             0.0\n",
       "DM_CE5025[c]             0.0\n",
       "DM_btn[n]                0.0\n",
       "Htmi                     0.0\n",
       "NADH2_u10mi              0.0\n",
       "\n",
       "[5738 rows x 1 columns]"
      ]
     },
     "execution_count": 81,
     "metadata": {},
     "output_type": "execute_result"
    }
   ],
   "source": [
    "flujos_t_normal1 = tabla_flujos_normal1.applymap(flux_transformer)\n",
    "flujos_t_normal1"
   ]
  },
  {
   "cell_type": "code",
   "execution_count": 38,
   "id": "6d066e6b",
   "metadata": {},
   "outputs": [
    {
     "data": {
      "text/plain": [
       "(array([  71.,   21.,   14.,   15.,   30., 5425.,   22.,   20.,   34.,\n",
       "          86.]),\n",
       " array([-9.96578428, -7.97262743, -5.97947057, -3.98631371, -1.99315686,\n",
       "         0.        ,  1.99315686,  3.98631371,  5.97947057,  7.97262743,\n",
       "         9.96578428]),\n",
       " <BarContainer object of 10 artists>)"
      ]
     },
     "execution_count": 38,
     "metadata": {},
     "output_type": "execute_result"
    },
    {
     "data": {
      "image/png": "[encoded data removed]",
      "text/plain": [
       "<Figure size 640x480 with 1 Axes>"
      ]
     },
     "metadata": {},
     "output_type": "display_data"
    }
   ],
   "source": [
    "plt.hist(flujos_t_normal1)"
   ]
  },
  {
   "cell_type": "code",
   "execution_count": 39,
   "id": "d4f938f0",
   "metadata": {},
   "outputs": [
    {
     "data": {
      "text/html": [
       "<div>\n",
       "<style scoped>\n",
       "    .dataframe tbody tr th:only-of-type {\n",
       "        vertical-align: middle;\n",
       "    }\n",
       "\n",
       "    .dataframe tbody tr th {\n",
       "        vertical-align: top;\n",
       "    }\n",
       "\n",
       "    .dataframe thead th {\n",
       "        text-align: right;\n",
       "    }\n",
       "</style>\n",
       "<table border=\"1\" class=\"dataframe\">\n",
       "  <thead>\n",
       "    <tr style=\"text-align: right;\">\n",
       "      <th></th>\n",
       "      <th>Flujos_Normal2</th>\n",
       "    </tr>\n",
       "  </thead>\n",
       "  <tbody>\n",
       "    <tr>\n",
       "      <th>10FTHF7GLUtl</th>\n",
       "      <td>0.0</td>\n",
       "    </tr>\n",
       "    <tr>\n",
       "      <th>10FTHF7GLUtm</th>\n",
       "      <td>0.0</td>\n",
       "    </tr>\n",
       "    <tr>\n",
       "      <th>10FTHFtl</th>\n",
       "      <td>0.0</td>\n",
       "    </tr>\n",
       "    <tr>\n",
       "      <th>10FTHFtm</th>\n",
       "      <td>0.0</td>\n",
       "    </tr>\n",
       "    <tr>\n",
       "      <th>11DOCRTSLtm</th>\n",
       "      <td>0.0</td>\n",
       "    </tr>\n",
       "    <tr>\n",
       "      <th>...</th>\n",
       "      <td>...</td>\n",
       "    </tr>\n",
       "    <tr>\n",
       "      <th>DM_CE1562[c]</th>\n",
       "      <td>0.0</td>\n",
       "    </tr>\n",
       "    <tr>\n",
       "      <th>DM_1a2425thvitd2[m]</th>\n",
       "      <td>0.0</td>\n",
       "    </tr>\n",
       "    <tr>\n",
       "      <th>DM_btn[n]</th>\n",
       "      <td>0.0</td>\n",
       "    </tr>\n",
       "    <tr>\n",
       "      <th>Htmi</th>\n",
       "      <td>0.0</td>\n",
       "    </tr>\n",
       "    <tr>\n",
       "      <th>NADH2_u10mi</th>\n",
       "      <td>0.0</td>\n",
       "    </tr>\n",
       "  </tbody>\n",
       "</table>\n",
       "<p>5679 rows × 1 columns</p>\n",
       "</div>"
      ],
      "text/plain": [
       "                     Flujos_Normal2\n",
       "10FTHF7GLUtl                    0.0\n",
       "10FTHF7GLUtm                    0.0\n",
       "10FTHFtl                        0.0\n",
       "10FTHFtm                        0.0\n",
       "11DOCRTSLtm                     0.0\n",
       "...                             ...\n",
       "DM_CE1562[c]                    0.0\n",
       "DM_1a2425thvitd2[m]             0.0\n",
       "DM_btn[n]                       0.0\n",
       "Htmi                            0.0\n",
       "NADH2_u10mi                     0.0\n",
       "\n",
       "[5679 rows x 1 columns]"
      ]
     },
     "execution_count": 39,
     "metadata": {},
     "output_type": "execute_result"
    }
   ],
   "source": [
    "flujos_t_normal2 = tabla_flujos_normal2.applymap(flux_transformer)\n",
    "flujos_t_normal2"
   ]
  },
  {
   "cell_type": "code",
   "execution_count": 40,
   "id": "7cba1554",
   "metadata": {},
   "outputs": [
    {
     "data": {
      "text/plain": [
       "(array([  81.,   19.,   50.,   15.,   57., 5223.,   22.,   81.,   19.,\n",
       "         112.]),\n",
       " array([-9.96578428, -7.97262743, -5.97947057, -3.98631371, -1.99315686,\n",
       "         0.        ,  1.99315686,  3.98631371,  5.97947057,  7.97262743,\n",
       "         9.96578428]),\n",
       " <BarContainer object of 10 artists>)"
      ]
     },
     "execution_count": 40,
     "metadata": {},
     "output_type": "execute_result"
    },
    {
     "data": {
      "image/png": "[encoded data removed]",
      "text/plain": [
       "<Figure size 640x480 with 1 Axes>"
      ]
     },
     "metadata": {},
     "output_type": "display_data"
    }
   ],
   "source": [
    "plt.hist(flujos_t_normal2)"
   ]
  },
  {
   "cell_type": "code",
   "execution_count": 226,
   "id": "ee7a46d4",
   "metadata": {},
   "outputs": [
    {
     "data": {
      "text/html": [
       "<div>\n",
       "<style scoped>\n",
       "    .dataframe tbody tr th:only-of-type {\n",
       "        vertical-align: middle;\n",
       "    }\n",
       "\n",
       "    .dataframe tbody tr th {\n",
       "        vertical-align: top;\n",
       "    }\n",
       "\n",
       "    .dataframe thead th {\n",
       "        text-align: right;\n",
       "    }\n",
       "</style>\n",
       "<table border=\"1\" class=\"dataframe\">\n",
       "  <thead>\n",
       "    <tr style=\"text-align: right;\">\n",
       "      <th></th>\n",
       "      <th>Flujos_Normal3</th>\n",
       "    </tr>\n",
       "  </thead>\n",
       "  <tbody>\n",
       "    <tr>\n",
       "      <th>10FTHF7GLUtl</th>\n",
       "      <td>0.0</td>\n",
       "    </tr>\n",
       "    <tr>\n",
       "      <th>10FTHF7GLUtm</th>\n",
       "      <td>0.0</td>\n",
       "    </tr>\n",
       "    <tr>\n",
       "      <th>10FTHFtl</th>\n",
       "      <td>0.0</td>\n",
       "    </tr>\n",
       "    <tr>\n",
       "      <th>10FTHFtm</th>\n",
       "      <td>0.0</td>\n",
       "    </tr>\n",
       "    <tr>\n",
       "      <th>11DOCRTSLtm</th>\n",
       "      <td>0.0</td>\n",
       "    </tr>\n",
       "    <tr>\n",
       "      <th>...</th>\n",
       "      <td>...</td>\n",
       "    </tr>\n",
       "    <tr>\n",
       "      <th>DM_4abut[c]</th>\n",
       "      <td>0.0</td>\n",
       "    </tr>\n",
       "    <tr>\n",
       "      <th>DM_srtn[c]</th>\n",
       "      <td>0.0</td>\n",
       "    </tr>\n",
       "    <tr>\n",
       "      <th>DM_btn[n]</th>\n",
       "      <td>0.0</td>\n",
       "    </tr>\n",
       "    <tr>\n",
       "      <th>Htmi</th>\n",
       "      <td>0.0</td>\n",
       "    </tr>\n",
       "    <tr>\n",
       "      <th>NADH2_u10mi</th>\n",
       "      <td>0.0</td>\n",
       "    </tr>\n",
       "  </tbody>\n",
       "</table>\n",
       "<p>4538 rows × 1 columns</p>\n",
       "</div>"
      ],
      "text/plain": [
       "              Flujos_Normal3\n",
       "10FTHF7GLUtl             0.0\n",
       "10FTHF7GLUtm             0.0\n",
       "10FTHFtl                 0.0\n",
       "10FTHFtm                 0.0\n",
       "11DOCRTSLtm              0.0\n",
       "...                      ...\n",
       "DM_4abut[c]              0.0\n",
       "DM_srtn[c]               0.0\n",
       "DM_btn[n]                0.0\n",
       "Htmi                     0.0\n",
       "NADH2_u10mi              0.0\n",
       "\n",
       "[4538 rows x 1 columns]"
      ]
     },
     "execution_count": 226,
     "metadata": {},
     "output_type": "execute_result"
    }
   ],
   "source": [
    "flujos_t_normal3 = tabla_flujos_normal3.applymap(flux_transformer)\n",
    "flujos_t_normal3"
   ]
  },
  {
   "cell_type": "code",
   "execution_count": 228,
   "id": "a8f0bca1",
   "metadata": {},
   "outputs": [
    {
     "data": {
      "text/plain": [
       "(array([  87.,   33.,   20.,   10.,   20., 4109.,   23.,   28.,   75.,\n",
       "         133.]),\n",
       " array([-9.96578428, -7.97262743, -5.97947057, -3.98631371, -1.99315686,\n",
       "         0.        ,  1.99315686,  3.98631371,  5.97947057,  7.97262743,\n",
       "         9.96578428]),\n",
       " <BarContainer object of 10 artists>)"
      ]
     },
     "execution_count": 228,
     "metadata": {},
     "output_type": "execute_result"
    },
    {
     "data": {
      "image/png": "[encoded data removed]",
      "text/plain": [
       "<Figure size 640x480 with 1 Axes>"
      ]
     },
     "metadata": {},
     "output_type": "display_data"
    }
   ],
   "source": [
    "plt.hist(flujos_t_normal3)"
   ]
  },
  {
   "cell_type": "code",
   "execution_count": 43,
   "id": "d206bc2f",
   "metadata": {},
   "outputs": [
    {
     "data": {
      "text/html": [
       "<div>\n",
       "<style scoped>\n",
       "    .dataframe tbody tr th:only-of-type {\n",
       "        vertical-align: middle;\n",
       "    }\n",
       "\n",
       "    .dataframe tbody tr th {\n",
       "        vertical-align: top;\n",
       "    }\n",
       "\n",
       "    .dataframe thead th {\n",
       "        text-align: right;\n",
       "    }\n",
       "</style>\n",
       "<table border=\"1\" class=\"dataframe\">\n",
       "  <thead>\n",
       "    <tr style=\"text-align: right;\">\n",
       "      <th></th>\n",
       "      <th>Flujos_Cancer1</th>\n",
       "    </tr>\n",
       "  </thead>\n",
       "  <tbody>\n",
       "    <tr>\n",
       "      <th>10FTHF7GLUtl</th>\n",
       "      <td>0.0</td>\n",
       "    </tr>\n",
       "    <tr>\n",
       "      <th>10FTHF7GLUtm</th>\n",
       "      <td>0.0</td>\n",
       "    </tr>\n",
       "    <tr>\n",
       "      <th>10FTHFtl</th>\n",
       "      <td>0.0</td>\n",
       "    </tr>\n",
       "    <tr>\n",
       "      <th>10FTHFtm</th>\n",
       "      <td>0.0</td>\n",
       "    </tr>\n",
       "    <tr>\n",
       "      <th>11DOCRTSLtm</th>\n",
       "      <td>0.0</td>\n",
       "    </tr>\n",
       "    <tr>\n",
       "      <th>...</th>\n",
       "      <td>...</td>\n",
       "    </tr>\n",
       "    <tr>\n",
       "      <th>DM_kynate[c]</th>\n",
       "      <td>0.0</td>\n",
       "    </tr>\n",
       "    <tr>\n",
       "      <th>DM_1a2425thvitd2[m]</th>\n",
       "      <td>0.0</td>\n",
       "    </tr>\n",
       "    <tr>\n",
       "      <th>DM_btn[n]</th>\n",
       "      <td>0.0</td>\n",
       "    </tr>\n",
       "    <tr>\n",
       "      <th>Htmi</th>\n",
       "      <td>0.0</td>\n",
       "    </tr>\n",
       "    <tr>\n",
       "      <th>NADH2_u10mi</th>\n",
       "      <td>0.0</td>\n",
       "    </tr>\n",
       "  </tbody>\n",
       "</table>\n",
       "<p>5791 rows × 1 columns</p>\n",
       "</div>"
      ],
      "text/plain": [
       "                     Flujos_Cancer1\n",
       "10FTHF7GLUtl                    0.0\n",
       "10FTHF7GLUtm                    0.0\n",
       "10FTHFtl                        0.0\n",
       "10FTHFtm                        0.0\n",
       "11DOCRTSLtm                     0.0\n",
       "...                             ...\n",
       "DM_kynate[c]                    0.0\n",
       "DM_1a2425thvitd2[m]             0.0\n",
       "DM_btn[n]                       0.0\n",
       "Htmi                            0.0\n",
       "NADH2_u10mi                     0.0\n",
       "\n",
       "[5791 rows x 1 columns]"
      ]
     },
     "execution_count": 43,
     "metadata": {},
     "output_type": "execute_result"
    }
   ],
   "source": [
    "flujos_t_cancer1 = tabla_flujos_cancer1.applymap(flux_transformer)\n",
    "flujos_t_cancer1"
   ]
  },
  {
   "cell_type": "code",
   "execution_count": 44,
   "id": "2390a542",
   "metadata": {},
   "outputs": [
    {
     "data": {
      "text/plain": [
       "(array([ 124.,   33.,   14.,   14.,   39., 5305.,   22.,   17.,   48.,\n",
       "         175.]),\n",
       " array([-9.96578428, -7.97262743, -5.97947057, -3.98631371, -1.99315686,\n",
       "         0.        ,  1.99315686,  3.98631371,  5.97947057,  7.97262743,\n",
       "         9.96578428]),\n",
       " <BarContainer object of 10 artists>)"
      ]
     },
     "execution_count": 44,
     "metadata": {},
     "output_type": "execute_result"
    },
    {
     "data": {
      "image/png": "[encoded data removed]",
      "text/plain": [
       "<Figure size 640x480 with 1 Axes>"
      ]
     },
     "metadata": {},
     "output_type": "display_data"
    }
   ],
   "source": [
    "plt.hist(flujos_t_cancer1)"
   ]
  },
  {
   "cell_type": "code",
   "execution_count": 263,
   "id": "9e3867a0",
   "metadata": {},
   "outputs": [
    {
     "data": {
      "text/html": [
       "<div>\n",
       "<style scoped>\n",
       "    .dataframe tbody tr th:only-of-type {\n",
       "        vertical-align: middle;\n",
       "    }\n",
       "\n",
       "    .dataframe tbody tr th {\n",
       "        vertical-align: top;\n",
       "    }\n",
       "\n",
       "    .dataframe thead th {\n",
       "        text-align: right;\n",
       "    }\n",
       "</style>\n",
       "<table border=\"1\" class=\"dataframe\">\n",
       "  <thead>\n",
       "    <tr style=\"text-align: right;\">\n",
       "      <th></th>\n",
       "      <th>Flujos_Cancer2</th>\n",
       "    </tr>\n",
       "  </thead>\n",
       "  <tbody>\n",
       "    <tr>\n",
       "      <th>10FTHF7GLUtl</th>\n",
       "      <td>0.000000</td>\n",
       "    </tr>\n",
       "    <tr>\n",
       "      <th>10FTHF7GLUtm</th>\n",
       "      <td>0.000000</td>\n",
       "    </tr>\n",
       "    <tr>\n",
       "      <th>10FTHFtl</th>\n",
       "      <td>0.000000</td>\n",
       "    </tr>\n",
       "    <tr>\n",
       "      <th>10FTHFtm</th>\n",
       "      <td>-9.965784</td>\n",
       "    </tr>\n",
       "    <tr>\n",
       "      <th>13DAMPPOX</th>\n",
       "      <td>0.000000</td>\n",
       "    </tr>\n",
       "    <tr>\n",
       "      <th>...</th>\n",
       "      <td>...</td>\n",
       "    </tr>\n",
       "    <tr>\n",
       "      <th>DM_kynate[c]</th>\n",
       "      <td>0.000000</td>\n",
       "    </tr>\n",
       "    <tr>\n",
       "      <th>DM_1a2425thvitd2[m]</th>\n",
       "      <td>0.000000</td>\n",
       "    </tr>\n",
       "    <tr>\n",
       "      <th>DM_btn[n]</th>\n",
       "      <td>0.000000</td>\n",
       "    </tr>\n",
       "    <tr>\n",
       "      <th>Htmi</th>\n",
       "      <td>0.000000</td>\n",
       "    </tr>\n",
       "    <tr>\n",
       "      <th>NADH2_u10mi</th>\n",
       "      <td>0.000000</td>\n",
       "    </tr>\n",
       "  </tbody>\n",
       "</table>\n",
       "<p>5492 rows × 1 columns</p>\n",
       "</div>"
      ],
      "text/plain": [
       "                     Flujos_Cancer2\n",
       "10FTHF7GLUtl               0.000000\n",
       "10FTHF7GLUtm               0.000000\n",
       "10FTHFtl                   0.000000\n",
       "10FTHFtm                  -9.965784\n",
       "13DAMPPOX                  0.000000\n",
       "...                             ...\n",
       "DM_kynate[c]               0.000000\n",
       "DM_1a2425thvitd2[m]        0.000000\n",
       "DM_btn[n]                  0.000000\n",
       "Htmi                       0.000000\n",
       "NADH2_u10mi                0.000000\n",
       "\n",
       "[5492 rows x 1 columns]"
      ]
     },
     "execution_count": 263,
     "metadata": {},
     "output_type": "execute_result"
    }
   ],
   "source": [
    "flujos_t_cancer2 = tabla_flujos_cancer2.applymap(flux_transformer)\n",
    "flujos_t_cancer2"
   ]
  },
  {
   "cell_type": "code",
   "execution_count": 47,
   "id": "d450a473",
   "metadata": {},
   "outputs": [
    {
     "data": {
      "text/plain": [
       "(array([ 131.,   33.,   20.,   15.,   28., 4961.,   16.,   45.,   62.,\n",
       "         181.]),\n",
       " array([-9.96578428, -7.97262743, -5.97947057, -3.98631371, -1.99315686,\n",
       "         0.        ,  1.99315686,  3.98631371,  5.97947057,  7.97262743,\n",
       "         9.96578428]),\n",
       " <BarContainer object of 10 artists>)"
      ]
     },
     "execution_count": 47,
     "metadata": {},
     "output_type": "execute_result"
    },
    {
     "data": {
      "image/png": "[encoded data removed]",
      "text/plain": [
       "<Figure size 640x480 with 1 Axes>"
      ]
     },
     "metadata": {},
     "output_type": "display_data"
    }
   ],
   "source": [
    "plt.hist(flujos_t_cancer2)"
   ]
  },
  {
   "cell_type": "code",
   "execution_count": 244,
   "id": "30142ee4",
   "metadata": {},
   "outputs": [
    {
     "data": {
      "text/html": [
       "<div>\n",
       "<style scoped>\n",
       "    .dataframe tbody tr th:only-of-type {\n",
       "        vertical-align: middle;\n",
       "    }\n",
       "\n",
       "    .dataframe tbody tr th {\n",
       "        vertical-align: top;\n",
       "    }\n",
       "\n",
       "    .dataframe thead th {\n",
       "        text-align: right;\n",
       "    }\n",
       "</style>\n",
       "<table border=\"1\" class=\"dataframe\">\n",
       "  <thead>\n",
       "    <tr style=\"text-align: right;\">\n",
       "      <th></th>\n",
       "      <th>Flujos_Cancer3</th>\n",
       "    </tr>\n",
       "  </thead>\n",
       "  <tbody>\n",
       "    <tr>\n",
       "      <th>10FTHF7GLUtl</th>\n",
       "      <td>0.0</td>\n",
       "    </tr>\n",
       "    <tr>\n",
       "      <th>10FTHF7GLUtm</th>\n",
       "      <td>0.0</td>\n",
       "    </tr>\n",
       "    <tr>\n",
       "      <th>10FTHFtl</th>\n",
       "      <td>0.0</td>\n",
       "    </tr>\n",
       "    <tr>\n",
       "      <th>10FTHFtm</th>\n",
       "      <td>0.0</td>\n",
       "    </tr>\n",
       "    <tr>\n",
       "      <th>11DOCRTSLtm</th>\n",
       "      <td>0.0</td>\n",
       "    </tr>\n",
       "    <tr>\n",
       "      <th>...</th>\n",
       "      <td>...</td>\n",
       "    </tr>\n",
       "    <tr>\n",
       "      <th>DM_4glu56dihdind[c]</th>\n",
       "      <td>0.0</td>\n",
       "    </tr>\n",
       "    <tr>\n",
       "      <th>DM_kynate[c]</th>\n",
       "      <td>0.0</td>\n",
       "    </tr>\n",
       "    <tr>\n",
       "      <th>DM_btn[n]</th>\n",
       "      <td>0.0</td>\n",
       "    </tr>\n",
       "    <tr>\n",
       "      <th>Htmi</th>\n",
       "      <td>0.0</td>\n",
       "    </tr>\n",
       "    <tr>\n",
       "      <th>NADH2_u10mi</th>\n",
       "      <td>0.0</td>\n",
       "    </tr>\n",
       "  </tbody>\n",
       "</table>\n",
       "<p>5651 rows × 1 columns</p>\n",
       "</div>"
      ],
      "text/plain": [
       "                     Flujos_Cancer3\n",
       "10FTHF7GLUtl                    0.0\n",
       "10FTHF7GLUtm                    0.0\n",
       "10FTHFtl                        0.0\n",
       "10FTHFtm                        0.0\n",
       "11DOCRTSLtm                     0.0\n",
       "...                             ...\n",
       "DM_4glu56dihdind[c]             0.0\n",
       "DM_kynate[c]                    0.0\n",
       "DM_btn[n]                       0.0\n",
       "Htmi                            0.0\n",
       "NADH2_u10mi                     0.0\n",
       "\n",
       "[5651 rows x 1 columns]"
      ]
     },
     "execution_count": 244,
     "metadata": {},
     "output_type": "execute_result"
    }
   ],
   "source": [
    "flujos_t_cancer3 = tabla_flujos_cancer3.applymap(flux_transformer)\n",
    "flujos_t_cancer3"
   ]
  },
  {
   "cell_type": "code",
   "execution_count": 49,
   "id": "3e399b58",
   "metadata": {},
   "outputs": [
    {
     "data": {
      "text/plain": [
       "(array([  44.,   28.,   23.,   25.,  111., 5230.,   56.,   35.,   39.,\n",
       "          60.]),\n",
       " array([-9.96578428, -7.97262743, -5.97947057, -3.98631371, -1.99315686,\n",
       "         0.        ,  1.99315686,  3.98631371,  5.97947057,  7.97262743,\n",
       "         9.96578428]),\n",
       " <BarContainer object of 10 artists>)"
      ]
     },
     "execution_count": 49,
     "metadata": {},
     "output_type": "execute_result"
    },
    {
     "data": {
      "image/png": "[encoded data removed]",
      "text/plain": [
       "<Figure size 640x480 with 1 Axes>"
      ]
     },
     "metadata": {},
     "output_type": "display_data"
    }
   ],
   "source": [
    "plt.hist(flujos_t_cancer3)"
   ]
  },
  {
   "cell_type": "code",
   "execution_count": 273,
   "id": "cbef2190",
   "metadata": {},
   "outputs": [
    {
     "data": {
      "text/html": [
       "<div>\n",
       "<style scoped>\n",
       "    .dataframe tbody tr th:only-of-type {\n",
       "        vertical-align: middle;\n",
       "    }\n",
       "\n",
       "    .dataframe tbody tr th {\n",
       "        vertical-align: top;\n",
       "    }\n",
       "\n",
       "    .dataframe thead th {\n",
       "        text-align: right;\n",
       "    }\n",
       "</style>\n",
       "<table border=\"1\" class=\"dataframe\">\n",
       "  <thead>\n",
       "    <tr style=\"text-align: right;\">\n",
       "      <th></th>\n",
       "      <th>Flujos_Normal1</th>\n",
       "      <th>Flujos_Normal2</th>\n",
       "      <th>Flujos_Normal3</th>\n",
       "    </tr>\n",
       "  </thead>\n",
       "  <tbody>\n",
       "    <tr>\n",
       "      <th>10FTHF7GLUtl</th>\n",
       "      <td>0.0</td>\n",
       "      <td>0.0</td>\n",
       "      <td>0.000000</td>\n",
       "    </tr>\n",
       "    <tr>\n",
       "      <th>10FTHF7GLUtm</th>\n",
       "      <td>0.0</td>\n",
       "      <td>0.0</td>\n",
       "      <td>0.000000</td>\n",
       "    </tr>\n",
       "    <tr>\n",
       "      <th>10FTHFtl</th>\n",
       "      <td>0.0</td>\n",
       "      <td>0.0</td>\n",
       "      <td>0.000000</td>\n",
       "    </tr>\n",
       "    <tr>\n",
       "      <th>11DOCRTSLtm</th>\n",
       "      <td>0.0</td>\n",
       "      <td>0.0</td>\n",
       "      <td>0.000000</td>\n",
       "    </tr>\n",
       "    <tr>\n",
       "      <th>11DOCRTSLtr</th>\n",
       "      <td>0.0</td>\n",
       "      <td>0.0</td>\n",
       "      <td>0.000000</td>\n",
       "    </tr>\n",
       "    <tr>\n",
       "      <th>...</th>\n",
       "      <td>...</td>\n",
       "      <td>...</td>\n",
       "      <td>...</td>\n",
       "    </tr>\n",
       "    <tr>\n",
       "      <th>sink_asp_L[c]</th>\n",
       "      <td>NaN</td>\n",
       "      <td>NaN</td>\n",
       "      <td>9.838519</td>\n",
       "    </tr>\n",
       "    <tr>\n",
       "      <th>sink_tyr_L[c]</th>\n",
       "      <td>NaN</td>\n",
       "      <td>NaN</td>\n",
       "      <td>-6.821581</td>\n",
       "    </tr>\n",
       "    <tr>\n",
       "      <th>DM_5cysdopa[c]</th>\n",
       "      <td>NaN</td>\n",
       "      <td>NaN</td>\n",
       "      <td>0.000000</td>\n",
       "    </tr>\n",
       "    <tr>\n",
       "      <th>DM_4abut[c]</th>\n",
       "      <td>NaN</td>\n",
       "      <td>NaN</td>\n",
       "      <td>0.000000</td>\n",
       "    </tr>\n",
       "    <tr>\n",
       "      <th>DM_srtn[c]</th>\n",
       "      <td>NaN</td>\n",
       "      <td>NaN</td>\n",
       "      <td>0.000000</td>\n",
       "    </tr>\n",
       "  </tbody>\n",
       "</table>\n",
       "<p>6187 rows × 3 columns</p>\n",
       "</div>"
      ],
      "text/plain": [
       "                Flujos_Normal1  Flujos_Normal2  Flujos_Normal3\n",
       "10FTHF7GLUtl               0.0             0.0        0.000000\n",
       "10FTHF7GLUtm               0.0             0.0        0.000000\n",
       "10FTHFtl                   0.0             0.0        0.000000\n",
       "11DOCRTSLtm                0.0             0.0        0.000000\n",
       "11DOCRTSLtr                0.0             0.0        0.000000\n",
       "...                        ...             ...             ...\n",
       "sink_asp_L[c]              NaN             NaN        9.838519\n",
       "sink_tyr_L[c]              NaN             NaN       -6.821581\n",
       "DM_5cysdopa[c]             NaN             NaN        0.000000\n",
       "DM_4abut[c]                NaN             NaN        0.000000\n",
       "DM_srtn[c]                 NaN             NaN        0.000000\n",
       "\n",
       "[6187 rows x 3 columns]"
      ]
     },
     "execution_count": 273,
     "metadata": {},
     "output_type": "execute_result"
    }
   ],
   "source": [
    "flujos_t_normal= pd.concat([flujos_t_normal1,flujos_t_normal2,flujos_t_normal3], axis=1)\n",
    "flujos_t_normal"
   ]
  },
  {
   "cell_type": "code",
   "execution_count": 274,
   "id": "40df9923",
   "metadata": {},
   "outputs": [
    {
     "data": {
      "text/html": [
       "<div>\n",
       "<style scoped>\n",
       "    .dataframe tbody tr th:only-of-type {\n",
       "        vertical-align: middle;\n",
       "    }\n",
       "\n",
       "    .dataframe tbody tr th {\n",
       "        vertical-align: top;\n",
       "    }\n",
       "\n",
       "    .dataframe thead th {\n",
       "        text-align: right;\n",
       "    }\n",
       "</style>\n",
       "<table border=\"1\" class=\"dataframe\">\n",
       "  <thead>\n",
       "    <tr style=\"text-align: right;\">\n",
       "      <th></th>\n",
       "      <th>Flujos_Cancer1</th>\n",
       "      <th>Flujos_Cancer2</th>\n",
       "      <th>Flujos_Cancer3</th>\n",
       "    </tr>\n",
       "  </thead>\n",
       "  <tbody>\n",
       "    <tr>\n",
       "      <th>10FTHF7GLUtl</th>\n",
       "      <td>0.0</td>\n",
       "      <td>0.000000</td>\n",
       "      <td>0.000000</td>\n",
       "    </tr>\n",
       "    <tr>\n",
       "      <th>10FTHF7GLUtm</th>\n",
       "      <td>0.0</td>\n",
       "      <td>0.000000</td>\n",
       "      <td>0.000000</td>\n",
       "    </tr>\n",
       "    <tr>\n",
       "      <th>10FTHFtl</th>\n",
       "      <td>0.0</td>\n",
       "      <td>0.000000</td>\n",
       "      <td>0.000000</td>\n",
       "    </tr>\n",
       "    <tr>\n",
       "      <th>10FTHFtm</th>\n",
       "      <td>0.0</td>\n",
       "      <td>-9.965784</td>\n",
       "      <td>0.000000</td>\n",
       "    </tr>\n",
       "    <tr>\n",
       "      <th>11DOCRTSLtm</th>\n",
       "      <td>0.0</td>\n",
       "      <td>NaN</td>\n",
       "      <td>0.000000</td>\n",
       "    </tr>\n",
       "    <tr>\n",
       "      <th>...</th>\n",
       "      <td>...</td>\n",
       "      <td>...</td>\n",
       "      <td>...</td>\n",
       "    </tr>\n",
       "    <tr>\n",
       "      <th>1A25HVITD2t</th>\n",
       "      <td>NaN</td>\n",
       "      <td>NaN</td>\n",
       "      <td>0.000000</td>\n",
       "    </tr>\n",
       "    <tr>\n",
       "      <th>1A25HVITD2tm</th>\n",
       "      <td>NaN</td>\n",
       "      <td>NaN</td>\n",
       "      <td>0.000000</td>\n",
       "    </tr>\n",
       "    <tr>\n",
       "      <th>EX_1a25dhvitd2[e]</th>\n",
       "      <td>NaN</td>\n",
       "      <td>NaN</td>\n",
       "      <td>0.000000</td>\n",
       "    </tr>\n",
       "    <tr>\n",
       "      <th>sink_leu_L[c]</th>\n",
       "      <td>NaN</td>\n",
       "      <td>NaN</td>\n",
       "      <td>-5.495131</td>\n",
       "    </tr>\n",
       "    <tr>\n",
       "      <th>sink_gly[c]</th>\n",
       "      <td>NaN</td>\n",
       "      <td>NaN</td>\n",
       "      <td>8.582161</td>\n",
       "    </tr>\n",
       "  </tbody>\n",
       "</table>\n",
       "<p>6195 rows × 3 columns</p>\n",
       "</div>"
      ],
      "text/plain": [
       "                   Flujos_Cancer1  Flujos_Cancer2  Flujos_Cancer3\n",
       "10FTHF7GLUtl                  0.0        0.000000        0.000000\n",
       "10FTHF7GLUtm                  0.0        0.000000        0.000000\n",
       "10FTHFtl                      0.0        0.000000        0.000000\n",
       "10FTHFtm                      0.0       -9.965784        0.000000\n",
       "11DOCRTSLtm                   0.0             NaN        0.000000\n",
       "...                           ...             ...             ...\n",
       "1A25HVITD2t                   NaN             NaN        0.000000\n",
       "1A25HVITD2tm                  NaN             NaN        0.000000\n",
       "EX_1a25dhvitd2[e]             NaN             NaN        0.000000\n",
       "sink_leu_L[c]                 NaN             NaN       -5.495131\n",
       "sink_gly[c]                   NaN             NaN        8.582161\n",
       "\n",
       "[6195 rows x 3 columns]"
      ]
     },
     "execution_count": 274,
     "metadata": {},
     "output_type": "execute_result"
    }
   ],
   "source": [
    "flujos_t_cancer= pd.concat([flujos_t_cancer1,flujos_t_cancer2,flujos_t_cancer3], axis=1)\n",
    "flujos_t_cancer"
   ]
  },
  {
   "cell_type": "code",
   "execution_count": 278,
   "id": "575106a2",
   "metadata": {},
   "outputs": [
    {
     "data": {
      "text/html": [
       "<div>\n",
       "<style scoped>\n",
       "    .dataframe tbody tr th:only-of-type {\n",
       "        vertical-align: middle;\n",
       "    }\n",
       "\n",
       "    .dataframe tbody tr th {\n",
       "        vertical-align: top;\n",
       "    }\n",
       "\n",
       "    .dataframe thead th {\n",
       "        text-align: right;\n",
       "    }\n",
       "</style>\n",
       "<table border=\"1\" class=\"dataframe\">\n",
       "  <thead>\n",
       "    <tr style=\"text-align: right;\">\n",
       "      <th></th>\n",
       "      <th>Flujos_Cancer1</th>\n",
       "      <th>Flujos_Cancer2</th>\n",
       "      <th>Flujos_Cancer3</th>\n",
       "      <th>Flujos_Normal1</th>\n",
       "      <th>Flujos_Normal2</th>\n",
       "      <th>Flujos_Normal3</th>\n",
       "    </tr>\n",
       "  </thead>\n",
       "  <tbody>\n",
       "    <tr>\n",
       "      <th>10FTHF7GLUtl</th>\n",
       "      <td>0.0</td>\n",
       "      <td>0.000000</td>\n",
       "      <td>0.0</td>\n",
       "      <td>0.0</td>\n",
       "      <td>0.0</td>\n",
       "      <td>0.000000</td>\n",
       "    </tr>\n",
       "    <tr>\n",
       "      <th>10FTHF7GLUtm</th>\n",
       "      <td>0.0</td>\n",
       "      <td>0.000000</td>\n",
       "      <td>0.0</td>\n",
       "      <td>0.0</td>\n",
       "      <td>0.0</td>\n",
       "      <td>0.000000</td>\n",
       "    </tr>\n",
       "    <tr>\n",
       "      <th>10FTHFtl</th>\n",
       "      <td>0.0</td>\n",
       "      <td>0.000000</td>\n",
       "      <td>0.0</td>\n",
       "      <td>0.0</td>\n",
       "      <td>0.0</td>\n",
       "      <td>0.000000</td>\n",
       "    </tr>\n",
       "    <tr>\n",
       "      <th>10FTHFtm</th>\n",
       "      <td>0.0</td>\n",
       "      <td>-9.965784</td>\n",
       "      <td>0.0</td>\n",
       "      <td>NaN</td>\n",
       "      <td>0.0</td>\n",
       "      <td>0.000000</td>\n",
       "    </tr>\n",
       "    <tr>\n",
       "      <th>11DOCRTSLtm</th>\n",
       "      <td>0.0</td>\n",
       "      <td>NaN</td>\n",
       "      <td>0.0</td>\n",
       "      <td>0.0</td>\n",
       "      <td>0.0</td>\n",
       "      <td>0.000000</td>\n",
       "    </tr>\n",
       "    <tr>\n",
       "      <th>...</th>\n",
       "      <td>...</td>\n",
       "      <td>...</td>\n",
       "      <td>...</td>\n",
       "      <td>...</td>\n",
       "      <td>...</td>\n",
       "      <td>...</td>\n",
       "    </tr>\n",
       "    <tr>\n",
       "      <th>sink_lys_L[c]</th>\n",
       "      <td>NaN</td>\n",
       "      <td>NaN</td>\n",
       "      <td>NaN</td>\n",
       "      <td>NaN</td>\n",
       "      <td>NaN</td>\n",
       "      <td>-8.579218</td>\n",
       "    </tr>\n",
       "    <tr>\n",
       "      <th>sink_phe_L[c]</th>\n",
       "      <td>NaN</td>\n",
       "      <td>NaN</td>\n",
       "      <td>NaN</td>\n",
       "      <td>NaN</td>\n",
       "      <td>NaN</td>\n",
       "      <td>-5.957262</td>\n",
       "    </tr>\n",
       "    <tr>\n",
       "      <th>sink_asp_L[c]</th>\n",
       "      <td>NaN</td>\n",
       "      <td>NaN</td>\n",
       "      <td>NaN</td>\n",
       "      <td>NaN</td>\n",
       "      <td>NaN</td>\n",
       "      <td>9.838519</td>\n",
       "    </tr>\n",
       "    <tr>\n",
       "      <th>sink_tyr_L[c]</th>\n",
       "      <td>NaN</td>\n",
       "      <td>NaN</td>\n",
       "      <td>NaN</td>\n",
       "      <td>NaN</td>\n",
       "      <td>NaN</td>\n",
       "      <td>-6.821581</td>\n",
       "    </tr>\n",
       "    <tr>\n",
       "      <th>DM_4abut[c]</th>\n",
       "      <td>NaN</td>\n",
       "      <td>NaN</td>\n",
       "      <td>NaN</td>\n",
       "      <td>NaN</td>\n",
       "      <td>NaN</td>\n",
       "      <td>0.000000</td>\n",
       "    </tr>\n",
       "  </tbody>\n",
       "</table>\n",
       "<p>6597 rows × 6 columns</p>\n",
       "</div>"
      ],
      "text/plain": [
       "               Flujos_Cancer1  Flujos_Cancer2  Flujos_Cancer3  Flujos_Normal1  \\\n",
       "10FTHF7GLUtl              0.0        0.000000             0.0             0.0   \n",
       "10FTHF7GLUtm              0.0        0.000000             0.0             0.0   \n",
       "10FTHFtl                  0.0        0.000000             0.0             0.0   \n",
       "10FTHFtm                  0.0       -9.965784             0.0             NaN   \n",
       "11DOCRTSLtm               0.0             NaN             0.0             0.0   \n",
       "...                       ...             ...             ...             ...   \n",
       "sink_lys_L[c]             NaN             NaN             NaN             NaN   \n",
       "sink_phe_L[c]             NaN             NaN             NaN             NaN   \n",
       "sink_asp_L[c]             NaN             NaN             NaN             NaN   \n",
       "sink_tyr_L[c]             NaN             NaN             NaN             NaN   \n",
       "DM_4abut[c]               NaN             NaN             NaN             NaN   \n",
       "\n",
       "               Flujos_Normal2  Flujos_Normal3  \n",
       "10FTHF7GLUtl              0.0        0.000000  \n",
       "10FTHF7GLUtm              0.0        0.000000  \n",
       "10FTHFtl                  0.0        0.000000  \n",
       "10FTHFtm                  0.0        0.000000  \n",
       "11DOCRTSLtm               0.0        0.000000  \n",
       "...                       ...             ...  \n",
       "sink_lys_L[c]             NaN       -8.579218  \n",
       "sink_phe_L[c]             NaN       -5.957262  \n",
       "sink_asp_L[c]             NaN        9.838519  \n",
       "sink_tyr_L[c]             NaN       -6.821581  \n",
       "DM_4abut[c]               NaN        0.000000  \n",
       "\n",
       "[6597 rows x 6 columns]"
      ]
     },
     "execution_count": 278,
     "metadata": {},
     "output_type": "execute_result"
    }
   ],
   "source": [
    "flujos_t=pd.concat([flujos_t_cancer,flujos_t_normal], axis=1)\n",
    "flujos_t"
   ]
  },
  {
   "cell_type": "markdown",
   "id": "806b3c11",
   "metadata": {},
   "source": [
    "# Volacno Plot"
   ]
  },
  {
   "cell_type": "code",
   "execution_count": 279,
   "id": "e74dd9ab",
   "metadata": {},
   "outputs": [
    {
     "data": {
      "text/html": [
       "<div>\n",
       "<style scoped>\n",
       "    .dataframe tbody tr th:only-of-type {\n",
       "        vertical-align: middle;\n",
       "    }\n",
       "\n",
       "    .dataframe tbody tr th {\n",
       "        vertical-align: top;\n",
       "    }\n",
       "\n",
       "    .dataframe thead th {\n",
       "        text-align: right;\n",
       "    }\n",
       "</style>\n",
       "<table border=\"1\" class=\"dataframe\">\n",
       "  <thead>\n",
       "    <tr style=\"text-align: right;\">\n",
       "      <th></th>\n",
       "      <th>Flujos_Cancer1</th>\n",
       "      <th>Flujos_Cancer2</th>\n",
       "      <th>Flujos_Cancer3</th>\n",
       "      <th>Flujos_Normal1</th>\n",
       "      <th>Flujos_Normal2</th>\n",
       "      <th>Flujos_Normal3</th>\n",
       "    </tr>\n",
       "  </thead>\n",
       "  <tbody>\n",
       "    <tr>\n",
       "      <th>10FTHF7GLUtl</th>\n",
       "      <td>0.0</td>\n",
       "      <td>0.000000</td>\n",
       "      <td>0.0</td>\n",
       "      <td>0.0</td>\n",
       "      <td>0.0</td>\n",
       "      <td>0.000000</td>\n",
       "    </tr>\n",
       "    <tr>\n",
       "      <th>10FTHF7GLUtm</th>\n",
       "      <td>0.0</td>\n",
       "      <td>0.000000</td>\n",
       "      <td>0.0</td>\n",
       "      <td>0.0</td>\n",
       "      <td>0.0</td>\n",
       "      <td>0.000000</td>\n",
       "    </tr>\n",
       "    <tr>\n",
       "      <th>10FTHFtl</th>\n",
       "      <td>0.0</td>\n",
       "      <td>0.000000</td>\n",
       "      <td>0.0</td>\n",
       "      <td>0.0</td>\n",
       "      <td>0.0</td>\n",
       "      <td>0.000000</td>\n",
       "    </tr>\n",
       "    <tr>\n",
       "      <th>10FTHFtm</th>\n",
       "      <td>0.0</td>\n",
       "      <td>-9.965784</td>\n",
       "      <td>0.0</td>\n",
       "      <td>NaN</td>\n",
       "      <td>0.0</td>\n",
       "      <td>0.000000</td>\n",
       "    </tr>\n",
       "    <tr>\n",
       "      <th>11DOCRTSLtm</th>\n",
       "      <td>0.0</td>\n",
       "      <td>NaN</td>\n",
       "      <td>0.0</td>\n",
       "      <td>0.0</td>\n",
       "      <td>0.0</td>\n",
       "      <td>0.000000</td>\n",
       "    </tr>\n",
       "    <tr>\n",
       "      <th>...</th>\n",
       "      <td>...</td>\n",
       "      <td>...</td>\n",
       "      <td>...</td>\n",
       "      <td>...</td>\n",
       "      <td>...</td>\n",
       "      <td>...</td>\n",
       "    </tr>\n",
       "    <tr>\n",
       "      <th>sink_lys_L[c]</th>\n",
       "      <td>NaN</td>\n",
       "      <td>NaN</td>\n",
       "      <td>NaN</td>\n",
       "      <td>NaN</td>\n",
       "      <td>NaN</td>\n",
       "      <td>-8.579218</td>\n",
       "    </tr>\n",
       "    <tr>\n",
       "      <th>sink_phe_L[c]</th>\n",
       "      <td>NaN</td>\n",
       "      <td>NaN</td>\n",
       "      <td>NaN</td>\n",
       "      <td>NaN</td>\n",
       "      <td>NaN</td>\n",
       "      <td>-5.957262</td>\n",
       "    </tr>\n",
       "    <tr>\n",
       "      <th>sink_asp_L[c]</th>\n",
       "      <td>NaN</td>\n",
       "      <td>NaN</td>\n",
       "      <td>NaN</td>\n",
       "      <td>NaN</td>\n",
       "      <td>NaN</td>\n",
       "      <td>9.838519</td>\n",
       "    </tr>\n",
       "    <tr>\n",
       "      <th>sink_tyr_L[c]</th>\n",
       "      <td>NaN</td>\n",
       "      <td>NaN</td>\n",
       "      <td>NaN</td>\n",
       "      <td>NaN</td>\n",
       "      <td>NaN</td>\n",
       "      <td>-6.821581</td>\n",
       "    </tr>\n",
       "    <tr>\n",
       "      <th>DM_4abut[c]</th>\n",
       "      <td>NaN</td>\n",
       "      <td>NaN</td>\n",
       "      <td>NaN</td>\n",
       "      <td>NaN</td>\n",
       "      <td>NaN</td>\n",
       "      <td>0.000000</td>\n",
       "    </tr>\n",
       "  </tbody>\n",
       "</table>\n",
       "<p>6597 rows × 6 columns</p>\n",
       "</div>"
      ],
      "text/plain": [
       "               Flujos_Cancer1  Flujos_Cancer2  Flujos_Cancer3  Flujos_Normal1  \\\n",
       "10FTHF7GLUtl              0.0        0.000000             0.0             0.0   \n",
       "10FTHF7GLUtm              0.0        0.000000             0.0             0.0   \n",
       "10FTHFtl                  0.0        0.000000             0.0             0.0   \n",
       "10FTHFtm                  0.0       -9.965784             0.0             NaN   \n",
       "11DOCRTSLtm               0.0             NaN             0.0             0.0   \n",
       "...                       ...             ...             ...             ...   \n",
       "sink_lys_L[c]             NaN             NaN             NaN             NaN   \n",
       "sink_phe_L[c]             NaN             NaN             NaN             NaN   \n",
       "sink_asp_L[c]             NaN             NaN             NaN             NaN   \n",
       "sink_tyr_L[c]             NaN             NaN             NaN             NaN   \n",
       "DM_4abut[c]               NaN             NaN             NaN             NaN   \n",
       "\n",
       "               Flujos_Normal2  Flujos_Normal3  \n",
       "10FTHF7GLUtl              0.0        0.000000  \n",
       "10FTHF7GLUtm              0.0        0.000000  \n",
       "10FTHFtl                  0.0        0.000000  \n",
       "10FTHFtm                  0.0        0.000000  \n",
       "11DOCRTSLtm               0.0        0.000000  \n",
       "...                       ...             ...  \n",
       "sink_lys_L[c]             NaN       -8.579218  \n",
       "sink_phe_L[c]             NaN       -5.957262  \n",
       "sink_asp_L[c]             NaN        9.838519  \n",
       "sink_tyr_L[c]             NaN       -6.821581  \n",
       "DM_4abut[c]               NaN        0.000000  \n",
       "\n",
       "[6597 rows x 6 columns]"
      ]
     },
     "execution_count": 279,
     "metadata": {},
     "output_type": "execute_result"
    }
   ],
   "source": [
    "flujos_t"
   ]
  },
  {
   "cell_type": "code",
   "execution_count": 280,
   "id": "39d54eb5",
   "metadata": {},
   "outputs": [],
   "source": [
    "from scipy import stats\n",
    "from statsmodels.stats import multitest\n",
    "import seaborn as sns"
   ]
  },
  {
   "cell_type": "code",
   "execution_count": 369,
   "id": "fba045ac",
   "metadata": {},
   "outputs": [],
   "source": [
    "normal_columns=['Flujos_Normal1','Flujos_Normal2','Flujos_Normal3']\n",
    "cancer_columns=['Flujos_Cancer1','Flujos_Cancer2','Flujos_Cancer3']\n",
    "\n",
    "normal_df_selected=flujos_t[normal_columns]\n",
    "cancer_df_selected=flujos_t[cancer_columns]\n"
   ]
  },
  {
   "cell_type": "code",
   "execution_count": 357,
   "id": "0ba13348",
   "metadata": {},
   "outputs": [],
   "source": [
    "t_statistic, p_values = stats.ttest_ind(normal_df, cancer_df, axis = 0, nan_policy = 'omit')"
   ]
  },
  {
   "cell_type": "code",
   "execution_count": 294,
   "id": "ed5cd4ec",
   "metadata": {},
   "outputs": [],
   "source": [
    "\n",
    "fold_change = np.mean(cancer_df) - np.mean(normal_df)\n"
   ]
  },
  {
   "cell_type": "code",
   "execution_count": 295,
   "id": "ba3b350a",
   "metadata": {},
   "outputs": [],
   "source": [
    "\n",
    "reject, q_values = multitest.fdrcorrection(p_values)\n",
    "\n",
    "\n"
   ]
  },
  {
   "cell_type": "code",
   "execution_count": 296,
   "id": "8b63964c",
   "metadata": {},
   "outputs": [],
   "source": [
    "t_results = pd.DataFrame({'reaction': normal_df.columns, 'p_value': p_values,'q_value': q_values, 'log_fc': fold_change\n",
    "})\n",
    "\n"
   ]
  },
  {
   "cell_type": "code",
   "execution_count": 367,
   "id": "0d66f833",
   "metadata": {
    "scrolled": true
   },
   "outputs": [
    {
     "ename": "KeyError",
     "evalue": "'p-value'",
     "output_type": "error",
     "traceback": [
      "\u001b[1;31m---------------------------------------------------------------------------\u001b[0m",
      "\u001b[1;31mKeyError\u001b[0m                                  Traceback (most recent call last)",
      "File \u001b[1;32m~\\anaconda3\\Lib\\site-packages\\pandas\\core\\indexes\\base.py:3653\u001b[0m, in \u001b[0;36mIndex.get_loc\u001b[1;34m(self, key)\u001b[0m\n\u001b[0;32m   3652\u001b[0m \u001b[38;5;28;01mtry\u001b[39;00m:\n\u001b[1;32m-> 3653\u001b[0m     \u001b[38;5;28;01mreturn\u001b[39;00m \u001b[38;5;28mself\u001b[39m\u001b[38;5;241m.\u001b[39m_engine\u001b[38;5;241m.\u001b[39mget_loc(casted_key)\n\u001b[0;32m   3654\u001b[0m \u001b[38;5;28;01mexcept\u001b[39;00m \u001b[38;5;167;01mKeyError\u001b[39;00m \u001b[38;5;28;01mas\u001b[39;00m err:\n",
      "File \u001b[1;32m~\\anaconda3\\Lib\\site-packages\\pandas\\_libs\\index.pyx:147\u001b[0m, in \u001b[0;36mpandas._libs.index.IndexEngine.get_loc\u001b[1;34m()\u001b[0m\n",
      "File \u001b[1;32m~\\anaconda3\\Lib\\site-packages\\pandas\\_libs\\index.pyx:176\u001b[0m, in \u001b[0;36mpandas._libs.index.IndexEngine.get_loc\u001b[1;34m()\u001b[0m\n",
      "File \u001b[1;32mpandas\\_libs\\hashtable_class_helper.pxi:7080\u001b[0m, in \u001b[0;36mpandas._libs.hashtable.PyObjectHashTable.get_item\u001b[1;34m()\u001b[0m\n",
      "File \u001b[1;32mpandas\\_libs\\hashtable_class_helper.pxi:7088\u001b[0m, in \u001b[0;36mpandas._libs.hashtable.PyObjectHashTable.get_item\u001b[1;34m()\u001b[0m\n",
      "\u001b[1;31mKeyError\u001b[0m: 'p-value'",
      "\nThe above exception was the direct cause of the following exception:\n",
      "\u001b[1;31mKeyError\u001b[0m                                  Traceback (most recent call last)",
      "Cell \u001b[1;32mIn[367], line 6\u001b[0m\n\u001b[0;32m      3\u001b[0m plt\u001b[38;5;241m.\u001b[39mfigure(figsize \u001b[38;5;241m=\u001b[39m (\u001b[38;5;241m10\u001b[39m, \u001b[38;5;241m6\u001b[39m))\n\u001b[0;32m      5\u001b[0m plt\u001b[38;5;241m.\u001b[39mscatter(t_results[\u001b[38;5;124m'\u001b[39m\u001b[38;5;124mlog_fc\u001b[39m\u001b[38;5;124m'\u001b[39m], \u001b[38;5;241m-\u001b[39mnp\u001b[38;5;241m.\u001b[39mlog10(t_results[\u001b[38;5;124m'\u001b[39m\u001b[38;5;124mp_value\u001b[39m\u001b[38;5;124m'\u001b[39m]),color\u001b[38;5;241m=\u001b[39m\u001b[38;5;124m'\u001b[39m\u001b[38;5;124mgray\u001b[39m\u001b[38;5;124m'\u001b[39m, alpha\u001b[38;5;241m=\u001b[39m\u001b[38;5;241m0.5\u001b[39m, label\u001b[38;5;241m=\u001b[39m\u001b[38;5;124m'\u001b[39m\u001b[38;5;124mNo significatico\u001b[39m\u001b[38;5;124m'\u001b[39m)\n\u001b[1;32m----> 6\u001b[0m plt\u001b[38;5;241m.\u001b[39mscatter(significant_results[\u001b[38;5;124m'\u001b[39m\u001b[38;5;124mlog_fc\u001b[39m\u001b[38;5;124m'\u001b[39m], \u001b[38;5;241m-\u001b[39mnp\u001b[38;5;241m.\u001b[39mlog10(significant_results[\u001b[38;5;124m'\u001b[39m\u001b[38;5;124mp-value\u001b[39m\u001b[38;5;124m'\u001b[39m]),color\u001b[38;5;241m=\u001b[39m\u001b[38;5;124m'\u001b[39m\u001b[38;5;124mred\u001b[39m\u001b[38;5;124m'\u001b[39m, label\u001b[38;5;241m=\u001b[39m\u001b[38;5;124m'\u001b[39m\u001b[38;5;124mSignificativo\u001b[39m\u001b[38;5;124m'\u001b[39m)\n\u001b[0;32m      8\u001b[0m plt\u001b[38;5;241m.\u001b[39mxlabel(\u001b[38;5;124m'\u001b[39m\u001b[38;5;124mLog Fold Change\u001b[39m\u001b[38;5;124m'\u001b[39m)\n\u001b[0;32m      9\u001b[0m plt\u001b[38;5;241m.\u001b[39mylabel(\u001b[38;5;124m'\u001b[39m\u001b[38;5;124m-log10(p-value)\u001b[39m\u001b[38;5;124m'\u001b[39m)\n",
      "File \u001b[1;32m~\\anaconda3\\Lib\\site-packages\\pandas\\core\\frame.py:3761\u001b[0m, in \u001b[0;36mDataFrame.__getitem__\u001b[1;34m(self, key)\u001b[0m\n\u001b[0;32m   3759\u001b[0m \u001b[38;5;28;01mif\u001b[39;00m \u001b[38;5;28mself\u001b[39m\u001b[38;5;241m.\u001b[39mcolumns\u001b[38;5;241m.\u001b[39mnlevels \u001b[38;5;241m>\u001b[39m \u001b[38;5;241m1\u001b[39m:\n\u001b[0;32m   3760\u001b[0m     \u001b[38;5;28;01mreturn\u001b[39;00m \u001b[38;5;28mself\u001b[39m\u001b[38;5;241m.\u001b[39m_getitem_multilevel(key)\n\u001b[1;32m-> 3761\u001b[0m indexer \u001b[38;5;241m=\u001b[39m \u001b[38;5;28mself\u001b[39m\u001b[38;5;241m.\u001b[39mcolumns\u001b[38;5;241m.\u001b[39mget_loc(key)\n\u001b[0;32m   3762\u001b[0m \u001b[38;5;28;01mif\u001b[39;00m is_integer(indexer):\n\u001b[0;32m   3763\u001b[0m     indexer \u001b[38;5;241m=\u001b[39m [indexer]\n",
      "File \u001b[1;32m~\\anaconda3\\Lib\\site-packages\\pandas\\core\\indexes\\base.py:3655\u001b[0m, in \u001b[0;36mIndex.get_loc\u001b[1;34m(self, key)\u001b[0m\n\u001b[0;32m   3653\u001b[0m     \u001b[38;5;28;01mreturn\u001b[39;00m \u001b[38;5;28mself\u001b[39m\u001b[38;5;241m.\u001b[39m_engine\u001b[38;5;241m.\u001b[39mget_loc(casted_key)\n\u001b[0;32m   3654\u001b[0m \u001b[38;5;28;01mexcept\u001b[39;00m \u001b[38;5;167;01mKeyError\u001b[39;00m \u001b[38;5;28;01mas\u001b[39;00m err:\n\u001b[1;32m-> 3655\u001b[0m     \u001b[38;5;28;01mraise\u001b[39;00m \u001b[38;5;167;01mKeyError\u001b[39;00m(key) \u001b[38;5;28;01mfrom\u001b[39;00m \u001b[38;5;21;01merr\u001b[39;00m\n\u001b[0;32m   3656\u001b[0m \u001b[38;5;28;01mexcept\u001b[39;00m \u001b[38;5;167;01mTypeError\u001b[39;00m:\n\u001b[0;32m   3657\u001b[0m     \u001b[38;5;66;03m# If we have a listlike key, _check_indexing_error will raise\u001b[39;00m\n\u001b[0;32m   3658\u001b[0m     \u001b[38;5;66;03m#  InvalidIndexError. Otherwise we fall through and re-raise\u001b[39;00m\n\u001b[0;32m   3659\u001b[0m     \u001b[38;5;66;03m#  the TypeError.\u001b[39;00m\n\u001b[0;32m   3660\u001b[0m     \u001b[38;5;28mself\u001b[39m\u001b[38;5;241m.\u001b[39m_check_indexing_error(key)\n",
      "\u001b[1;31mKeyError\u001b[0m: 'p-value'"
     ]
    },
    {
     "data": {
      "image/png": "[encoded data removed]",
      "text/plain": [
       "<Figure size 1000x600 with 1 Axes>"
      ]
     },
     "metadata": {},
     "output_type": "display_data"
    }
   ],
   "source": [
    "significance_threshold=0.05\n",
    "significant_results= t_results[t_results['q_value']< significance_threshold]\n",
    "plt.figure(figsize = (10, 6))\n",
    "\n",
    "plt.scatter(t_results['log_fc'], -np.log10(t_results['p_value']),color='gray', alpha=0.5, label='No significatico')\n",
    "plt.scatter(significant_results['log_fc'], -np.log10(significant_results['p-value']),color='red', label='Significativo')\n",
    "\n",
    "plt.xlabel('Log Fold Change')\n",
    "plt.ylabel('-log10(p-value)')\n",
    "plt.title('Volcano Plot for Hippocampus versus Lung samples fluxes distribution')\n",
    "plt.legend()\n",
    "plt.grid(True)\n",
    "plt.show()"
   ]
  },
  {
   "cell_type": "code",
   "execution_count": 364,
   "id": "013dd0e3",
   "metadata": {
    "scrolled": true
   },
   "outputs": [
    {
     "name": "stderr",
     "output_type": "stream",
     "text": [
      "C:\\Users\\NOE\\anaconda3\\Lib\\site-packages\\pandas\\core\\internals\\blocks.py:329: RuntimeWarning: divide by zero encountered in log10\n",
      "  result = func(self.values, **kwargs)\n",
      "C:\\Users\\NOE\\anaconda3\\Lib\\site-packages\\pandas\\core\\internals\\blocks.py:329: RuntimeWarning: invalid value encountered in log10\n",
      "  result = func(self.values, **kwargs)\n"
     ]
    },
    {
     "ename": "ValueError",
     "evalue": "Could not interpret value `Flujos_Normal1` for parameter `x`",
     "output_type": "error",
     "traceback": [
      "\u001b[1;31m---------------------------------------------------------------------------\u001b[0m",
      "\u001b[1;31mValueError\u001b[0m                                Traceback (most recent call last)",
      "Cell \u001b[1;32mIn[364], line 5\u001b[0m\n\u001b[0;32m      3\u001b[0m \u001b[38;5;66;03m# Crear el gráfico de tipo Volcano Plot\u001b[39;00m\n\u001b[0;32m      4\u001b[0m plt\u001b[38;5;241m.\u001b[39mfigure(figsize\u001b[38;5;241m=\u001b[39m(\u001b[38;5;241m10\u001b[39m, \u001b[38;5;241m6\u001b[39m))\n\u001b[1;32m----> 5\u001b[0m sns\u001b[38;5;241m.\u001b[39mscatterplot(x\u001b[38;5;241m=\u001b[39m\u001b[38;5;124m'\u001b[39m\u001b[38;5;124mFlujos_Normal1\u001b[39m\u001b[38;5;124m'\u001b[39m, y\u001b[38;5;241m=\u001b[39m\u001b[38;5;241m-\u001b[39mnp\u001b[38;5;241m.\u001b[39mlog10(normal_df[normal_columns]),\n\u001b[0;32m      6\u001b[0m                 color\u001b[38;5;241m=\u001b[39m\u001b[38;5;124m'\u001b[39m\u001b[38;5;124mblue\u001b[39m\u001b[38;5;124m'\u001b[39m, label\u001b[38;5;241m=\u001b[39m\u001b[38;5;124m'\u001b[39m\u001b[38;5;124mNormal 1\u001b[39m\u001b[38;5;124m'\u001b[39m, alpha\u001b[38;5;241m=\u001b[39m\u001b[38;5;241m0.7\u001b[39m)\n\u001b[0;32m      7\u001b[0m sns\u001b[38;5;241m.\u001b[39mscatterplot(x\u001b[38;5;241m=\u001b[39m\u001b[38;5;124m'\u001b[39m\u001b[38;5;124mFlujos_Cancer1\u001b[39m\u001b[38;5;124m'\u001b[39m, y\u001b[38;5;241m=\u001b[39m\u001b[38;5;241m-\u001b[39mnp\u001b[38;5;241m.\u001b[39mlog10(cancer_df[cancer_columns]),\n\u001b[0;32m      8\u001b[0m                 color\u001b[38;5;241m=\u001b[39m\u001b[38;5;124m'\u001b[39m\u001b[38;5;124mred\u001b[39m\u001b[38;5;124m'\u001b[39m, label\u001b[38;5;241m=\u001b[39m\u001b[38;5;124m'\u001b[39m\u001b[38;5;124mCancer 1\u001b[39m\u001b[38;5;124m'\u001b[39m, alpha\u001b[38;5;241m=\u001b[39m\u001b[38;5;241m0.7\u001b[39m)\n\u001b[0;32m     10\u001b[0m \u001b[38;5;66;03m# Resaltar puntos significativos (p < umbral_p_valor)\u001b[39;00m\n",
      "File \u001b[1;32m~\\anaconda3\\Lib\\site-packages\\seaborn\\relational.py:742\u001b[0m, in \u001b[0;36mscatterplot\u001b[1;34m(data, x, y, hue, size, style, palette, hue_order, hue_norm, sizes, size_order, size_norm, markers, style_order, legend, ax, **kwargs)\u001b[0m\n\u001b[0;32m    732\u001b[0m \u001b[38;5;28;01mdef\u001b[39;00m \u001b[38;5;21mscatterplot\u001b[39m(\n\u001b[0;32m    733\u001b[0m     data\u001b[38;5;241m=\u001b[39m\u001b[38;5;28;01mNone\u001b[39;00m, \u001b[38;5;241m*\u001b[39m,\n\u001b[0;32m    734\u001b[0m     x\u001b[38;5;241m=\u001b[39m\u001b[38;5;28;01mNone\u001b[39;00m, y\u001b[38;5;241m=\u001b[39m\u001b[38;5;28;01mNone\u001b[39;00m, hue\u001b[38;5;241m=\u001b[39m\u001b[38;5;28;01mNone\u001b[39;00m, size\u001b[38;5;241m=\u001b[39m\u001b[38;5;28;01mNone\u001b[39;00m, style\u001b[38;5;241m=\u001b[39m\u001b[38;5;28;01mNone\u001b[39;00m,\n\u001b[1;32m   (...)\u001b[0m\n\u001b[0;32m    738\u001b[0m     \u001b[38;5;241m*\u001b[39m\u001b[38;5;241m*\u001b[39mkwargs\n\u001b[0;32m    739\u001b[0m ):\n\u001b[0;32m    741\u001b[0m     variables \u001b[38;5;241m=\u001b[39m _ScatterPlotter\u001b[38;5;241m.\u001b[39mget_semantics(\u001b[38;5;28mlocals\u001b[39m())\n\u001b[1;32m--> 742\u001b[0m     p \u001b[38;5;241m=\u001b[39m _ScatterPlotter(data\u001b[38;5;241m=\u001b[39mdata, variables\u001b[38;5;241m=\u001b[39mvariables, legend\u001b[38;5;241m=\u001b[39mlegend)\n\u001b[0;32m    744\u001b[0m     p\u001b[38;5;241m.\u001b[39mmap_hue(palette\u001b[38;5;241m=\u001b[39mpalette, order\u001b[38;5;241m=\u001b[39mhue_order, norm\u001b[38;5;241m=\u001b[39mhue_norm)\n\u001b[0;32m    745\u001b[0m     p\u001b[38;5;241m.\u001b[39mmap_size(sizes\u001b[38;5;241m=\u001b[39msizes, order\u001b[38;5;241m=\u001b[39msize_order, norm\u001b[38;5;241m=\u001b[39msize_norm)\n",
      "File \u001b[1;32m~\\anaconda3\\Lib\\site-packages\\seaborn\\relational.py:538\u001b[0m, in \u001b[0;36m_ScatterPlotter.__init__\u001b[1;34m(self, data, variables, legend)\u001b[0m\n\u001b[0;32m    529\u001b[0m \u001b[38;5;28;01mdef\u001b[39;00m \u001b[38;5;21m__init__\u001b[39m(\u001b[38;5;28mself\u001b[39m, \u001b[38;5;241m*\u001b[39m, data\u001b[38;5;241m=\u001b[39m\u001b[38;5;28;01mNone\u001b[39;00m, variables\u001b[38;5;241m=\u001b[39m{}, legend\u001b[38;5;241m=\u001b[39m\u001b[38;5;28;01mNone\u001b[39;00m):\n\u001b[0;32m    530\u001b[0m \n\u001b[0;32m    531\u001b[0m     \u001b[38;5;66;03m# TODO this is messy, we want the mapping to be agnostic about\u001b[39;00m\n\u001b[0;32m    532\u001b[0m     \u001b[38;5;66;03m# the kind of plot to draw, but for the time being we need to set\u001b[39;00m\n\u001b[0;32m    533\u001b[0m     \u001b[38;5;66;03m# this information so the SizeMapping can use it\u001b[39;00m\n\u001b[0;32m    534\u001b[0m     \u001b[38;5;28mself\u001b[39m\u001b[38;5;241m.\u001b[39m_default_size_range \u001b[38;5;241m=\u001b[39m (\n\u001b[0;32m    535\u001b[0m         np\u001b[38;5;241m.\u001b[39mr_[\u001b[38;5;241m.5\u001b[39m, \u001b[38;5;241m2\u001b[39m] \u001b[38;5;241m*\u001b[39m np\u001b[38;5;241m.\u001b[39msquare(mpl\u001b[38;5;241m.\u001b[39mrcParams[\u001b[38;5;124m\"\u001b[39m\u001b[38;5;124mlines.markersize\u001b[39m\u001b[38;5;124m\"\u001b[39m])\n\u001b[0;32m    536\u001b[0m     )\n\u001b[1;32m--> 538\u001b[0m     \u001b[38;5;28msuper\u001b[39m()\u001b[38;5;241m.\u001b[39m\u001b[38;5;21m__init__\u001b[39m(data\u001b[38;5;241m=\u001b[39mdata, variables\u001b[38;5;241m=\u001b[39mvariables)\n\u001b[0;32m    540\u001b[0m     \u001b[38;5;28mself\u001b[39m\u001b[38;5;241m.\u001b[39mlegend \u001b[38;5;241m=\u001b[39m legend\n",
      "File \u001b[1;32m~\\anaconda3\\Lib\\site-packages\\seaborn\\_oldcore.py:640\u001b[0m, in \u001b[0;36mVectorPlotter.__init__\u001b[1;34m(self, data, variables)\u001b[0m\n\u001b[0;32m    635\u001b[0m \u001b[38;5;66;03m# var_ordered is relevant only for categorical axis variables, and may\u001b[39;00m\n\u001b[0;32m    636\u001b[0m \u001b[38;5;66;03m# be better handled by an internal axis information object that tracks\u001b[39;00m\n\u001b[0;32m    637\u001b[0m \u001b[38;5;66;03m# such information and is set up by the scale_* methods. The analogous\u001b[39;00m\n\u001b[0;32m    638\u001b[0m \u001b[38;5;66;03m# information for numeric axes would be information about log scales.\u001b[39;00m\n\u001b[0;32m    639\u001b[0m \u001b[38;5;28mself\u001b[39m\u001b[38;5;241m.\u001b[39m_var_ordered \u001b[38;5;241m=\u001b[39m {\u001b[38;5;124m\"\u001b[39m\u001b[38;5;124mx\u001b[39m\u001b[38;5;124m\"\u001b[39m: \u001b[38;5;28;01mFalse\u001b[39;00m, \u001b[38;5;124m\"\u001b[39m\u001b[38;5;124my\u001b[39m\u001b[38;5;124m\"\u001b[39m: \u001b[38;5;28;01mFalse\u001b[39;00m}  \u001b[38;5;66;03m# alt., used DefaultDict\u001b[39;00m\n\u001b[1;32m--> 640\u001b[0m \u001b[38;5;28mself\u001b[39m\u001b[38;5;241m.\u001b[39massign_variables(data, variables)\n\u001b[0;32m    642\u001b[0m \u001b[38;5;28;01mfor\u001b[39;00m var, \u001b[38;5;28mcls\u001b[39m \u001b[38;5;129;01min\u001b[39;00m \u001b[38;5;28mself\u001b[39m\u001b[38;5;241m.\u001b[39m_semantic_mappings\u001b[38;5;241m.\u001b[39mitems():\n\u001b[0;32m    643\u001b[0m \n\u001b[0;32m    644\u001b[0m     \u001b[38;5;66;03m# Create the mapping function\u001b[39;00m\n\u001b[0;32m    645\u001b[0m     map_func \u001b[38;5;241m=\u001b[39m partial(\u001b[38;5;28mcls\u001b[39m\u001b[38;5;241m.\u001b[39mmap, plotter\u001b[38;5;241m=\u001b[39m\u001b[38;5;28mself\u001b[39m)\n",
      "File \u001b[1;32m~\\anaconda3\\Lib\\site-packages\\seaborn\\_oldcore.py:701\u001b[0m, in \u001b[0;36mVectorPlotter.assign_variables\u001b[1;34m(self, data, variables)\u001b[0m\n\u001b[0;32m    699\u001b[0m \u001b[38;5;28;01melse\u001b[39;00m:\n\u001b[0;32m    700\u001b[0m     \u001b[38;5;28mself\u001b[39m\u001b[38;5;241m.\u001b[39minput_format \u001b[38;5;241m=\u001b[39m \u001b[38;5;124m\"\u001b[39m\u001b[38;5;124mlong\u001b[39m\u001b[38;5;124m\"\u001b[39m\n\u001b[1;32m--> 701\u001b[0m     plot_data, variables \u001b[38;5;241m=\u001b[39m \u001b[38;5;28mself\u001b[39m\u001b[38;5;241m.\u001b[39m_assign_variables_longform(\n\u001b[0;32m    702\u001b[0m         data, \u001b[38;5;241m*\u001b[39m\u001b[38;5;241m*\u001b[39mvariables,\n\u001b[0;32m    703\u001b[0m     )\n\u001b[0;32m    705\u001b[0m \u001b[38;5;28mself\u001b[39m\u001b[38;5;241m.\u001b[39mplot_data \u001b[38;5;241m=\u001b[39m plot_data\n\u001b[0;32m    706\u001b[0m \u001b[38;5;28mself\u001b[39m\u001b[38;5;241m.\u001b[39mvariables \u001b[38;5;241m=\u001b[39m variables\n",
      "File \u001b[1;32m~\\anaconda3\\Lib\\site-packages\\seaborn\\_oldcore.py:938\u001b[0m, in \u001b[0;36mVectorPlotter._assign_variables_longform\u001b[1;34m(self, data, **kwargs)\u001b[0m\n\u001b[0;32m    933\u001b[0m \u001b[38;5;28;01melif\u001b[39;00m \u001b[38;5;28misinstance\u001b[39m(val, (\u001b[38;5;28mstr\u001b[39m, \u001b[38;5;28mbytes\u001b[39m)):\n\u001b[0;32m    934\u001b[0m \n\u001b[0;32m    935\u001b[0m     \u001b[38;5;66;03m# This looks like a column name but we don't know what it means!\u001b[39;00m\n\u001b[0;32m    937\u001b[0m     err \u001b[38;5;241m=\u001b[39m \u001b[38;5;124mf\u001b[39m\u001b[38;5;124m\"\u001b[39m\u001b[38;5;124mCould not interpret value `\u001b[39m\u001b[38;5;132;01m{\u001b[39;00mval\u001b[38;5;132;01m}\u001b[39;00m\u001b[38;5;124m` for parameter `\u001b[39m\u001b[38;5;132;01m{\u001b[39;00mkey\u001b[38;5;132;01m}\u001b[39;00m\u001b[38;5;124m`\u001b[39m\u001b[38;5;124m\"\u001b[39m\n\u001b[1;32m--> 938\u001b[0m     \u001b[38;5;28;01mraise\u001b[39;00m \u001b[38;5;167;01mValueError\u001b[39;00m(err)\n\u001b[0;32m    940\u001b[0m \u001b[38;5;28;01melse\u001b[39;00m:\n\u001b[0;32m    941\u001b[0m \n\u001b[0;32m    942\u001b[0m     \u001b[38;5;66;03m# Otherwise, assume the value is itself data\u001b[39;00m\n\u001b[0;32m    943\u001b[0m \n\u001b[0;32m    944\u001b[0m     \u001b[38;5;66;03m# Raise when data object is present and a vector can't matched\u001b[39;00m\n\u001b[0;32m    945\u001b[0m     \u001b[38;5;28;01mif\u001b[39;00m \u001b[38;5;28misinstance\u001b[39m(data, pd\u001b[38;5;241m.\u001b[39mDataFrame) \u001b[38;5;129;01mand\u001b[39;00m \u001b[38;5;129;01mnot\u001b[39;00m \u001b[38;5;28misinstance\u001b[39m(val, pd\u001b[38;5;241m.\u001b[39mSeries):\n",
      "\u001b[1;31mValueError\u001b[0m: Could not interpret value `Flujos_Normal1` for parameter `x`"
     ]
    },
    {
     "data": {
      "text/plain": [
       "<Figure size 1000x600 with 0 Axes>"
      ]
     },
     "metadata": {},
     "output_type": "display_data"
    }
   ],
   "source": [
    "umbral_p_valor = 0.05\n",
    "\n",
    "# Crear el gráfico de tipo Volcano Plot\n",
    "plt.figure(figsize=(10, 6))\n",
    "sns.scatterplot(x='Flujos_Normal1', y=-np.log10(normal_df[normal_columns]),\n",
    "                color='blue', label='Normal 1', alpha=0.7)\n",
    "sns.scatterplot(x='Flujos_Cancer1', y=-np.log10(cancer_df[cancer_columns]),\n",
    "                color='red', label='Cancer 1', alpha=0.7)\n",
    "\n",
    "# Resaltar puntos significativos (p < umbral_p_valor)\n",
    "plt.axhline(-np.log10(umbral_p_valor), color='black', linestyle='--', label=f'Umbral p-valor = {umbral_p_valor}')\n"
   ]
  },
  {
   "cell_type": "code",
   "execution_count": 401,
   "id": "d3f8d12e",
   "metadata": {
    "scrolled": true
   },
   "outputs": [
    {
     "ename": "ValueError",
     "evalue": "array length 1 does not match index length 2",
     "output_type": "error",
     "traceback": [
      "\u001b[1;31m---------------------------------------------------------------------------\u001b[0m",
      "\u001b[1;31mValueError\u001b[0m                                Traceback (most recent call last)",
      "Cell \u001b[1;32mIn[401], line 13\u001b[0m\n\u001b[0;32m     10\u001b[0m p_values[np\u001b[38;5;241m.\u001b[39misnan(p_values)] \u001b[38;5;241m=\u001b[39m \u001b[38;5;241m1.0\u001b[39m  \n\u001b[0;32m     11\u001b[0m reject, q_values \u001b[38;5;241m=\u001b[39m multitest\u001b[38;5;241m.\u001b[39mfdrcorrection(p_values)\n\u001b[1;32m---> 13\u001b[0m t_results \u001b[38;5;241m=\u001b[39m pd\u001b[38;5;241m.\u001b[39mDataFrame({\n\u001b[0;32m     14\u001b[0m     \u001b[38;5;124m'\u001b[39m\u001b[38;5;124mreaction\u001b[39m\u001b[38;5;124m'\u001b[39m: flujos_t_normal1\u001b[38;5;241m.\u001b[39mcolumns,\n\u001b[0;32m     15\u001b[0m     \u001b[38;5;124m'\u001b[39m\u001b[38;5;124mp_value\u001b[39m\u001b[38;5;124m'\u001b[39m: p_values,\n\u001b[0;32m     16\u001b[0m     \u001b[38;5;124m'\u001b[39m\u001b[38;5;124mq_value\u001b[39m\u001b[38;5;124m'\u001b[39m: q_values,\n\u001b[0;32m     17\u001b[0m     \u001b[38;5;124m'\u001b[39m\u001b[38;5;124mlog_fc\u001b[39m\u001b[38;5;124m'\u001b[39m: fold_change\n\u001b[0;32m     18\u001b[0m })\n",
      "File \u001b[1;32m~\\anaconda3\\Lib\\site-packages\\pandas\\core\\frame.py:709\u001b[0m, in \u001b[0;36mDataFrame.__init__\u001b[1;34m(self, data, index, columns, dtype, copy)\u001b[0m\n\u001b[0;32m    703\u001b[0m     mgr \u001b[38;5;241m=\u001b[39m \u001b[38;5;28mself\u001b[39m\u001b[38;5;241m.\u001b[39m_init_mgr(\n\u001b[0;32m    704\u001b[0m         data, axes\u001b[38;5;241m=\u001b[39m{\u001b[38;5;124m\"\u001b[39m\u001b[38;5;124mindex\u001b[39m\u001b[38;5;124m\"\u001b[39m: index, \u001b[38;5;124m\"\u001b[39m\u001b[38;5;124mcolumns\u001b[39m\u001b[38;5;124m\"\u001b[39m: columns}, dtype\u001b[38;5;241m=\u001b[39mdtype, copy\u001b[38;5;241m=\u001b[39mcopy\n\u001b[0;32m    705\u001b[0m     )\n\u001b[0;32m    707\u001b[0m \u001b[38;5;28;01melif\u001b[39;00m \u001b[38;5;28misinstance\u001b[39m(data, \u001b[38;5;28mdict\u001b[39m):\n\u001b[0;32m    708\u001b[0m     \u001b[38;5;66;03m# GH#38939 de facto copy defaults to False only in non-dict cases\u001b[39;00m\n\u001b[1;32m--> 709\u001b[0m     mgr \u001b[38;5;241m=\u001b[39m dict_to_mgr(data, index, columns, dtype\u001b[38;5;241m=\u001b[39mdtype, copy\u001b[38;5;241m=\u001b[39mcopy, typ\u001b[38;5;241m=\u001b[39mmanager)\n\u001b[0;32m    710\u001b[0m \u001b[38;5;28;01melif\u001b[39;00m \u001b[38;5;28misinstance\u001b[39m(data, ma\u001b[38;5;241m.\u001b[39mMaskedArray):\n\u001b[0;32m    711\u001b[0m     \u001b[38;5;28;01mfrom\u001b[39;00m \u001b[38;5;21;01mnumpy\u001b[39;00m\u001b[38;5;21;01m.\u001b[39;00m\u001b[38;5;21;01mma\u001b[39;00m \u001b[38;5;28;01mimport\u001b[39;00m mrecords\n",
      "File \u001b[1;32m~\\anaconda3\\Lib\\site-packages\\pandas\\core\\internals\\construction.py:481\u001b[0m, in \u001b[0;36mdict_to_mgr\u001b[1;34m(data, index, columns, dtype, typ, copy)\u001b[0m\n\u001b[0;32m    477\u001b[0m     \u001b[38;5;28;01melse\u001b[39;00m:\n\u001b[0;32m    478\u001b[0m         \u001b[38;5;66;03m# dtype check to exclude e.g. range objects, scalars\u001b[39;00m\n\u001b[0;32m    479\u001b[0m         arrays \u001b[38;5;241m=\u001b[39m [x\u001b[38;5;241m.\u001b[39mcopy() \u001b[38;5;28;01mif\u001b[39;00m \u001b[38;5;28mhasattr\u001b[39m(x, \u001b[38;5;124m\"\u001b[39m\u001b[38;5;124mdtype\u001b[39m\u001b[38;5;124m\"\u001b[39m) \u001b[38;5;28;01melse\u001b[39;00m x \u001b[38;5;28;01mfor\u001b[39;00m x \u001b[38;5;129;01min\u001b[39;00m arrays]\n\u001b[1;32m--> 481\u001b[0m \u001b[38;5;28;01mreturn\u001b[39;00m arrays_to_mgr(arrays, columns, index, dtype\u001b[38;5;241m=\u001b[39mdtype, typ\u001b[38;5;241m=\u001b[39mtyp, consolidate\u001b[38;5;241m=\u001b[39mcopy)\n",
      "File \u001b[1;32m~\\anaconda3\\Lib\\site-packages\\pandas\\core\\internals\\construction.py:115\u001b[0m, in \u001b[0;36marrays_to_mgr\u001b[1;34m(arrays, columns, index, dtype, verify_integrity, typ, consolidate)\u001b[0m\n\u001b[0;32m    112\u001b[0m \u001b[38;5;28;01mif\u001b[39;00m verify_integrity:\n\u001b[0;32m    113\u001b[0m     \u001b[38;5;66;03m# figure out the index, if necessary\u001b[39;00m\n\u001b[0;32m    114\u001b[0m     \u001b[38;5;28;01mif\u001b[39;00m index \u001b[38;5;129;01mis\u001b[39;00m \u001b[38;5;28;01mNone\u001b[39;00m:\n\u001b[1;32m--> 115\u001b[0m         index \u001b[38;5;241m=\u001b[39m _extract_index(arrays)\n\u001b[0;32m    116\u001b[0m     \u001b[38;5;28;01melse\u001b[39;00m:\n\u001b[0;32m    117\u001b[0m         index \u001b[38;5;241m=\u001b[39m ensure_index(index)\n",
      "File \u001b[1;32m~\\anaconda3\\Lib\\site-packages\\pandas\\core\\internals\\construction.py:668\u001b[0m, in \u001b[0;36m_extract_index\u001b[1;34m(data)\u001b[0m\n\u001b[0;32m    663\u001b[0m     \u001b[38;5;28;01mif\u001b[39;00m lengths[\u001b[38;5;241m0\u001b[39m] \u001b[38;5;241m!=\u001b[39m \u001b[38;5;28mlen\u001b[39m(index):\n\u001b[0;32m    664\u001b[0m         msg \u001b[38;5;241m=\u001b[39m (\n\u001b[0;32m    665\u001b[0m             \u001b[38;5;124mf\u001b[39m\u001b[38;5;124m\"\u001b[39m\u001b[38;5;124marray length \u001b[39m\u001b[38;5;132;01m{\u001b[39;00mlengths[\u001b[38;5;241m0\u001b[39m]\u001b[38;5;132;01m}\u001b[39;00m\u001b[38;5;124m does not match index \u001b[39m\u001b[38;5;124m\"\u001b[39m\n\u001b[0;32m    666\u001b[0m             \u001b[38;5;124mf\u001b[39m\u001b[38;5;124m\"\u001b[39m\u001b[38;5;124mlength \u001b[39m\u001b[38;5;132;01m{\u001b[39;00m\u001b[38;5;28mlen\u001b[39m(index)\u001b[38;5;132;01m}\u001b[39;00m\u001b[38;5;124m\"\u001b[39m\n\u001b[0;32m    667\u001b[0m         )\n\u001b[1;32m--> 668\u001b[0m         \u001b[38;5;28;01mraise\u001b[39;00m \u001b[38;5;167;01mValueError\u001b[39;00m(msg)\n\u001b[0;32m    669\u001b[0m \u001b[38;5;28;01melse\u001b[39;00m:\n\u001b[0;32m    670\u001b[0m     index \u001b[38;5;241m=\u001b[39m default_index(lengths[\u001b[38;5;241m0\u001b[39m])\n",
      "\u001b[1;31mValueError\u001b[0m: array length 1 does not match index length 2"
     ]
    }
   ],
   "source": [
    "import matplotlib.pyplot as plt\n",
    "import numpy as np\n",
    "from scipy import stats\n",
    "import pandas as pd\n",
    "\n",
    "\n",
    "t_statistic, p_values = stats.ttest_ind(flujos_t_normal1, flujos_t_cancer1, axis = 0, nan_policy = 'omit')\n",
    "fold_change = np.log2(np.mean(flujos_t_normal1_, axis = 0)) - np.log2(np.mean(flujos_t_cancer1, axis = 0))\n",
    "fold_change[np.isnan(fold_change)] = 0\n",
    "p_values[np.isnan(p_values)] = 1.0  \n",
    "reject, q_values = multitest.fdrcorrection(p_values)\n",
    "\n",
    "t_results = pd.DataFrame({\n",
    "    'reaction': flujos_t_normal1.columns,\n",
    "    'p_value': p_values,\n",
    "    'q_value': q_values,\n",
    "    'log_fc': fold_change\n",
    "})\n",
    "\n",
    "\n",
    "\n"
   ]
  },
  {
   "cell_type": "code",
   "execution_count": 394,
   "id": "63be6ecf",
   "metadata": {},
   "outputs": [
    {
     "name": "stderr",
     "output_type": "stream",
     "text": [
      "C:\\Users\\NOE\\anaconda3\\Lib\\site-packages\\pandas\\core\\arraylike.py:396: RuntimeWarning: divide by zero encountered in log10\n",
      "  result = getattr(ufunc, method)(*inputs, **kwargs)\n"
     ]
    },
    {
     "data": {
      "image/png": "[encoded data removed]",
      "text/plain": [
       "<Figure size 1000x600 with 1 Axes>"
      ]
     },
     "metadata": {},
     "output_type": "display_data"
    }
   ],
   "source": [
    "umbral_significancia = 0.05\n",
    "resultados_significativos = resultados_t_test[resultados_t_test['p_value'] < umbral_significancia]\n",
    "\n",
    "plt.figure(figsize=(10, 6))\n",
    "plt.scatter(resultados_t_test['fold_change'], -np.log10(resultados_t_test['p_value']), c='gray', alpha=0.5, label='No significativo')\n",
    "plt.scatter(resultados_significativos['fold_change'], -np.log10(resultados_significativos['p_value']), c='red', alpha=0.7, label='Significativo')\n",
    "\n",
    "\n",
    "plt.axhline(y=-np.log10(umbral_significancia), color='r', linestyle='--', linewidth=1, label='Umbral de significancia')\n",
    "plt.axvline(x=1, color='g', linestyle='--', linewidth=1, label='Fold Change = 1')\n",
    "plt.axvline(x=-1, color='g', linestyle='--', linewidth=1)\n",
    "\n",
    "plt.title('Volcano Plot - Comparación entre Normal1 y Cancer1')\n",
    "plt.xlabel('Fold Change')\n",
    "plt.ylabel('-log10(p-value)')\n",
    "plt.legend()\n",
    "\n",
    "plt.show()"
   ]
  }
 ],
 "metadata": {
  "kernelspec": {
   "display_name": "Python 3 (ipykernel)",
   "language": "python",
   "name": "python3"
  },
  "language_info": {
   "codemirror_mode": {
    "name": "ipython",
    "version": 3
   },
   "file_extension": ".py",
   "mimetype": "text/x-python",
   "name": "python",
   "nbconvert_exporter": "python",
   "pygments_lexer": "ipython3",
   "version": "3.11.5"
  }
 },
 "nbformat": 4,
 "nbformat_minor": 5
}
