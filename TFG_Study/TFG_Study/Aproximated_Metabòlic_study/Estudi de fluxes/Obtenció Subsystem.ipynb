{
 "cells": [
  {
   "cell_type": "code",
   "execution_count": 2,
   "id": "98bad0f0",
   "metadata": {},
   "outputs": [],
   "source": [
    "from cobra.io import load_matlab_model\n",
    "import pandas as pd"
   ]
  },
  {
   "cell_type": "code",
   "execution_count": 4,
   "id": "d7ce9ea3",
   "metadata": {},
   "outputs": [
    {
     "name": "stderr",
     "output_type": "stream",
     "text": [
      "No defined compartments in model Cmodel. Compartments will be deduced heuristically using regular expressions.\n",
      "Using regular expression found the following compartments:c, e, g, i, l, m, n, r, x\n"
     ]
    },
    {
     "data": {
      "text/html": [
       "\n",
       "        <table>\n",
       "            <tr>\n",
       "                <td><strong>Name</strong></td>\n",
       "                <td>Cmodel</td>\n",
       "            </tr><tr>\n",
       "                <td><strong>Memory address</strong></td>\n",
       "                <td>158c965f710</td>\n",
       "            </tr><tr>\n",
       "                <td><strong>Number of metabolites</strong></td>\n",
       "                <td>5835</td>\n",
       "            </tr><tr>\n",
       "                <td><strong>Number of reactions</strong></td>\n",
       "                <td>10600</td>\n",
       "            </tr><tr>\n",
       "                <td><strong>Number of genes</strong></td>\n",
       "                <td>2248</td>\n",
       "            </tr><tr>\n",
       "                <td><strong>Number of groups</strong></td>\n",
       "                <td>103</td>\n",
       "            </tr><tr>\n",
       "                <td><strong>Objective expression</strong></td>\n",
       "                <td>1.0*biomass_maintenance - 1.0*biomass_maintenance_reverse_95d2f</td>\n",
       "            </tr><tr>\n",
       "                <td><strong>Compartments</strong></td>\n",
       "                <td>c, l, m, r, e, x, n, g, i</td>\n",
       "            </tr>\n",
       "          </table>"
      ],
      "text/plain": [
       "<Model Cmodel at 0x158c965f710>"
      ]
     },
     "execution_count": 4,
     "metadata": {},
     "output_type": "execute_result"
    }
   ],
   "source": [
    "Cmodel = load_matlab_model(\"C:/Users/NOE/Desktop/TFG-Example/Islet data/Genes downregulated/Modified Models/Cmodeln.mat\")\n",
    "Cmodel"
   ]
  },
  {
   "cell_type": "code",
   "execution_count": 119,
   "id": "e9cfda92",
   "metadata": {},
   "outputs": [
    {
     "data": {
      "text/html": [
       "<div>\n",
       "<style scoped>\n",
       "    .dataframe tbody tr th:only-of-type {\n",
       "        vertical-align: middle;\n",
       "    }\n",
       "\n",
       "    .dataframe tbody tr th {\n",
       "        vertical-align: top;\n",
       "    }\n",
       "\n",
       "    .dataframe thead th {\n",
       "        text-align: right;\n",
       "    }\n",
       "</style>\n",
       "<table border=\"1\" class=\"dataframe\">\n",
       "  <thead>\n",
       "    <tr style=\"text-align: right;\">\n",
       "      <th></th>\n",
       "      <th>Reaction ID</th>\n",
       "      <th>Subsystem</th>\n",
       "    </tr>\n",
       "  </thead>\n",
       "  <tbody>\n",
       "    <tr>\n",
       "      <th>0</th>\n",
       "      <td>10FTHF5GLUtl</td>\n",
       "      <td>[Transport, lysosomal]</td>\n",
       "    </tr>\n",
       "    <tr>\n",
       "      <th>1</th>\n",
       "      <td>10FTHF5GLUtm</td>\n",
       "      <td>[Transport, mitochondrial]</td>\n",
       "    </tr>\n",
       "    <tr>\n",
       "      <th>2</th>\n",
       "      <td>10FTHF6GLUtl</td>\n",
       "      <td>[Transport, lysosomal]</td>\n",
       "    </tr>\n",
       "    <tr>\n",
       "      <th>3</th>\n",
       "      <td>10FTHF6GLUtm</td>\n",
       "      <td>[Transport, mitochondrial]</td>\n",
       "    </tr>\n",
       "    <tr>\n",
       "      <th>4</th>\n",
       "      <td>10FTHF7GLUtl</td>\n",
       "      <td>[Transport, lysosomal]</td>\n",
       "    </tr>\n",
       "    <tr>\n",
       "      <th>...</th>\n",
       "      <td>...</td>\n",
       "      <td>...</td>\n",
       "    </tr>\n",
       "    <tr>\n",
       "      <th>10595</th>\n",
       "      <td>CYOR_u10mi</td>\n",
       "      <td>[Oxidative phosphorylation]</td>\n",
       "    </tr>\n",
       "    <tr>\n",
       "      <th>10596</th>\n",
       "      <td>Htmi</td>\n",
       "      <td>[Transport, mitochondrial]</td>\n",
       "    </tr>\n",
       "    <tr>\n",
       "      <th>10597</th>\n",
       "      <td>NADH2_u10mi</td>\n",
       "      <td>[Oxidative phosphorylation]</td>\n",
       "    </tr>\n",
       "    <tr>\n",
       "      <th>10598</th>\n",
       "      <td>CYOOm3i</td>\n",
       "      <td>[Oxidative phosphorylation]</td>\n",
       "    </tr>\n",
       "    <tr>\n",
       "      <th>10599</th>\n",
       "      <td>CYOOm2i</td>\n",
       "      <td>[Oxidative phosphorylation]</td>\n",
       "    </tr>\n",
       "  </tbody>\n",
       "</table>\n",
       "<p>10600 rows × 2 columns</p>\n",
       "</div>"
      ],
      "text/plain": [
       "        Reaction ID                    Subsystem\n",
       "0      10FTHF5GLUtl       [Transport, lysosomal]\n",
       "1      10FTHF5GLUtm   [Transport, mitochondrial]\n",
       "2      10FTHF6GLUtl       [Transport, lysosomal]\n",
       "3      10FTHF6GLUtm   [Transport, mitochondrial]\n",
       "4      10FTHF7GLUtl       [Transport, lysosomal]\n",
       "...             ...                          ...\n",
       "10595    CYOR_u10mi  [Oxidative phosphorylation]\n",
       "10596          Htmi   [Transport, mitochondrial]\n",
       "10597   NADH2_u10mi  [Oxidative phosphorylation]\n",
       "10598       CYOOm3i  [Oxidative phosphorylation]\n",
       "10599       CYOOm2i  [Oxidative phosphorylation]\n",
       "\n",
       "[10600 rows x 2 columns]"
      ]
     },
     "execution_count": 119,
     "metadata": {},
     "output_type": "execute_result"
    }
   ],
   "source": [
    "subSystems=[]\n",
    "for reactions in Cmodel.reactions:\n",
    "    subSystems.append(Cmodel.get_associated_groups(reactions))\n",
    "\n",
    "data = {'Reaction ID': [reaction.id for reaction in Cmodel.reactions],\n",
    "        'Subsystem': subSystems}\n",
    "\n",
    "df_subSystems = pd.DataFrame(data)\n",
    "df_subSystems"
   ]
  },
  {
   "cell_type": "code",
   "execution_count": 120,
   "id": "b3c43693",
   "metadata": {},
   "outputs": [],
   "source": [
    "df_subSystems.to_csv('C:/Users/NOE/Desktop/TFG-Example/Islet data/RPKM data/Subsystems Recon 3D/df_subSystems.csv', index=False)"
   ]
  }
 ],
 "metadata": {
  "kernelspec": {
   "display_name": "Python 3 (ipykernel)",
   "language": "python",
   "name": "python3"
  },
  "language_info": {
   "codemirror_mode": {
    "name": "ipython",
    "version": 3
   },
   "file_extension": ".py",
   "mimetype": "text/x-python",
   "name": "python",
   "nbconvert_exporter": "python",
   "pygments_lexer": "ipython3",
   "version": "3.11.5"
  }
 },
 "nbformat": 4,
 "nbformat_minor": 5
}
