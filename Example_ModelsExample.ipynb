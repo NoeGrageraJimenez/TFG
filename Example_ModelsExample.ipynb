{
 "cells": [
  {
   "cell_type": "code",
   "execution_count": 1,
   "id": "659ca3c1",
   "metadata": {},
   "outputs": [],
   "source": [
    "import cobra\n",
    "import pandas as pd\n",
    "import matplotlib.pyplot as plt\n",
    "import numpy as np"
   ]
  },
  {
   "cell_type": "code",
   "execution_count": 2,
   "id": "e20597bd",
   "metadata": {
    "scrolled": true,
    "tags": []
   },
   "outputs": [
    {
     "name": "stderr",
     "output_type": "stream",
     "text": [
      "No defined compartments in model ContextModel. Compartments will be deduced heuristically using regular expressions.\n",
      "Using regular expression found the following compartments:c, e, g, l, m, n, r, x\n",
      "No defined compartments in model ContextModel. Compartments will be deduced heuristically using regular expressions.\n",
      "Using regular expression found the following compartments:c, e, g, l, m, n, r, x\n",
      "No defined compartments in model Cmodel. Compartments will be deduced heuristically using regular expressions.\n",
      "Using regular expression found the following compartments:c, e, g, i, l, m, n, r, x\n"
     ]
    }
   ],
   "source": [
    "model1= cobra.io.load_matlab_model(\"C:/Users/NOE/Downloads/rFASTCORMICS-master/rFASTCORMICS-master/rFASTCORMICS for RNA-seq data/SampleModeli_TCGA06067511A32RA36H07.mat\")\n",
    "model2= cobra.io.load_matlab_model(\"C:/Users/NOE/Downloads/rFASTCORMICS-master/rFASTCORMICS-master/rFASTCORMICS for RNA-seq data/SampleModeli_TCGA06067811A32RA36H07.mat\")\n",
    "modelc= cobra.io.load_matlab_model(\"C:/Users/NOE/Downloads/rFASTCORMICS-master/rFASTCORMICS-master/rFASTCORMICS for RNA-seq data/Cmodel1.mat\")"
   ]
  },
  {
   "cell_type": "code",
   "execution_count": 3,
   "id": "bce9e5ad",
   "metadata": {},
   "outputs": [
    {
     "data": {
      "text/html": [
       "\n",
       "        <table>\n",
       "            <tr>\n",
       "                <td><strong>Name</strong></td>\n",
       "                <td>Cmodel</td>\n",
       "            </tr><tr>\n",
       "                <td><strong>Memory address</strong></td>\n",
       "                <td>19ae3d09dd0</td>\n",
       "            </tr><tr>\n",
       "                <td><strong>Number of metabolites</strong></td>\n",
       "                <td>5835</td>\n",
       "            </tr><tr>\n",
       "                <td><strong>Number of reactions</strong></td>\n",
       "                <td>10600</td>\n",
       "            </tr><tr>\n",
       "                <td><strong>Number of genes</strong></td>\n",
       "                <td>2248</td>\n",
       "            </tr><tr>\n",
       "                <td><strong>Number of groups</strong></td>\n",
       "                <td>103</td>\n",
       "            </tr><tr>\n",
       "                <td><strong>Objective expression</strong></td>\n",
       "                <td>1.0*biomass_maintenance - 1.0*biomass_maintenance_reverse_95d2f</td>\n",
       "            </tr><tr>\n",
       "                <td><strong>Compartments</strong></td>\n",
       "                <td>c, l, m, r, e, x, n, g, i</td>\n",
       "            </tr>\n",
       "          </table>"
      ],
      "text/plain": [
       "<Model Cmodel at 0x19ae3d09dd0>"
      ]
     },
     "execution_count": 3,
     "metadata": {},
     "output_type": "execute_result"
    }
   ],
   "source": [
    "modelc"
   ]
  },
  {
   "cell_type": "code",
   "execution_count": 4,
   "id": "7840321c",
   "metadata": {
    "scrolled": true,
    "tags": []
   },
   "outputs": [
    {
     "data": {
      "text/html": [
       "\n",
       "        <table>\n",
       "            <tr>\n",
       "                <td><strong>Name</strong></td>\n",
       "                <td>ContextModel</td>\n",
       "            </tr><tr>\n",
       "                <td><strong>Memory address</strong></td>\n",
       "                <td>1c8627b7910</td>\n",
       "            </tr><tr>\n",
       "                <td><strong>Number of metabolites</strong></td>\n",
       "                <td>3043</td>\n",
       "            </tr><tr>\n",
       "                <td><strong>Number of reactions</strong></td>\n",
       "                <td>4131</td>\n",
       "            </tr><tr>\n",
       "                <td><strong>Number of genes</strong></td>\n",
       "                <td>2248</td>\n",
       "            </tr><tr>\n",
       "                <td><strong>Number of groups</strong></td>\n",
       "                <td>93</td>\n",
       "            </tr><tr>\n",
       "                <td><strong>Objective expression</strong></td>\n",
       "                <td>1.0*biomass_maintenance - 1.0*biomass_maintenance_reverse_95d2f</td>\n",
       "            </tr><tr>\n",
       "                <td><strong>Compartments</strong></td>\n",
       "                <td>c, m, x, e, l, r, g, n</td>\n",
       "            </tr>\n",
       "          </table>"
      ],
      "text/plain": [
       "<Model ContextModel at 0x1c8627b7910>"
      ]
     },
     "execution_count": 4,
     "metadata": {},
     "output_type": "execute_result"
    }
   ],
   "source": [
    "model1"
   ]
  },
  {
   "cell_type": "code",
   "execution_count": 5,
   "id": "e9a6e7c4",
   "metadata": {
    "tags": []
   },
   "outputs": [
    {
     "data": {
      "text/html": [
       "\n",
       "        <table>\n",
       "            <tr>\n",
       "                <td><strong>Name</strong></td>\n",
       "                <td>ContextModel</td>\n",
       "            </tr><tr>\n",
       "                <td><strong>Memory address</strong></td>\n",
       "                <td>1c861f4f190</td>\n",
       "            </tr><tr>\n",
       "                <td><strong>Number of metabolites</strong></td>\n",
       "                <td>3080</td>\n",
       "            </tr><tr>\n",
       "                <td><strong>Number of reactions</strong></td>\n",
       "                <td>4178</td>\n",
       "            </tr><tr>\n",
       "                <td><strong>Number of genes</strong></td>\n",
       "                <td>2248</td>\n",
       "            </tr><tr>\n",
       "                <td><strong>Number of groups</strong></td>\n",
       "                <td>93</td>\n",
       "            </tr><tr>\n",
       "                <td><strong>Objective expression</strong></td>\n",
       "                <td>1.0*biomass_maintenance - 1.0*biomass_maintenance_reverse_95d2f</td>\n",
       "            </tr><tr>\n",
       "                <td><strong>Compartments</strong></td>\n",
       "                <td>c, l, m, x, e, r, g, n</td>\n",
       "            </tr>\n",
       "          </table>"
      ],
      "text/plain": [
       "<Model ContextModel at 0x1c861f4f190>"
      ]
     },
     "execution_count": 5,
     "metadata": {},
     "output_type": "execute_result"
    }
   ],
   "source": [
    "model2"
   ]
  },
  {
   "cell_type": "markdown",
   "id": "a9b4e94f",
   "metadata": {},
   "source": [
    "# Flux Balance Analysis (FBA)"
   ]
  },
  {
   "cell_type": "markdown",
   "id": "ebc584be",
   "metadata": {},
   "source": [
    "Model C:"
   ]
  },
  {
   "cell_type": "code",
   "execution_count": 7,
   "id": "0969bf8d",
   "metadata": {},
   "outputs": [
    {
     "name": "stdout",
     "output_type": "stream",
     "text": [
      "<Solution 755.003 at 0x1c8677f2e10>\n"
     ]
    }
   ],
   "source": [
    "solutionmodelc=modelc.optimize()\n",
    "print(solutionmodelc)"
   ]
  },
  {
   "cell_type": "code",
   "execution_count": 8,
   "id": "42f51796",
   "metadata": {},
   "outputs": [
    {
     "data": {
      "text/html": [
       "<strong><em>Optimal</em> solution with objective value 755.003</strong><br><div>\n",
       "<style scoped>\n",
       "    .dataframe tbody tr th:only-of-type {\n",
       "        vertical-align: middle;\n",
       "    }\n",
       "\n",
       "    .dataframe tbody tr th {\n",
       "        vertical-align: top;\n",
       "    }\n",
       "\n",
       "    .dataframe thead th {\n",
       "        text-align: right;\n",
       "    }\n",
       "</style>\n",
       "<table border=\"1\" class=\"dataframe\">\n",
       "  <thead>\n",
       "    <tr style=\"text-align: right;\">\n",
       "      <th></th>\n",
       "      <th>fluxes</th>\n",
       "      <th>reduced_costs</th>\n",
       "    </tr>\n",
       "  </thead>\n",
       "  <tbody>\n",
       "    <tr>\n",
       "      <th>10FTHF5GLUtl</th>\n",
       "      <td>0.0</td>\n",
       "      <td>0.000000</td>\n",
       "    </tr>\n",
       "    <tr>\n",
       "      <th>10FTHF5GLUtm</th>\n",
       "      <td>0.0</td>\n",
       "      <td>-0.080319</td>\n",
       "    </tr>\n",
       "    <tr>\n",
       "      <th>10FTHF6GLUtl</th>\n",
       "      <td>0.0</td>\n",
       "      <td>0.000000</td>\n",
       "    </tr>\n",
       "    <tr>\n",
       "      <th>10FTHF6GLUtm</th>\n",
       "      <td>0.0</td>\n",
       "      <td>0.000000</td>\n",
       "    </tr>\n",
       "    <tr>\n",
       "      <th>10FTHF7GLUtl</th>\n",
       "      <td>0.0</td>\n",
       "      <td>0.000000</td>\n",
       "    </tr>\n",
       "    <tr>\n",
       "      <th>...</th>\n",
       "      <td>...</td>\n",
       "      <td>...</td>\n",
       "    </tr>\n",
       "    <tr>\n",
       "      <th>CYOR_u10mi</th>\n",
       "      <td>500.0</td>\n",
       "      <td>0.000000</td>\n",
       "    </tr>\n",
       "    <tr>\n",
       "      <th>Htmi</th>\n",
       "      <td>1000.0</td>\n",
       "      <td>0.000000</td>\n",
       "    </tr>\n",
       "    <tr>\n",
       "      <th>NADH2_u10mi</th>\n",
       "      <td>0.0</td>\n",
       "      <td>0.000000</td>\n",
       "    </tr>\n",
       "    <tr>\n",
       "      <th>CYOOm3i</th>\n",
       "      <td>750.0</td>\n",
       "      <td>0.000000</td>\n",
       "    </tr>\n",
       "    <tr>\n",
       "      <th>CYOOm2i</th>\n",
       "      <td>0.0</td>\n",
       "      <td>0.000000</td>\n",
       "    </tr>\n",
       "  </tbody>\n",
       "</table>\n",
       "<p>10600 rows × 2 columns</p>\n",
       "</div>"
      ],
      "text/plain": [
       "<Solution 755.003 at 0x1c8677f2e10>"
      ]
     },
     "execution_count": 8,
     "metadata": {},
     "output_type": "execute_result"
    }
   ],
   "source": [
    "solutionmodelc"
   ]
  },
  {
   "cell_type": "code",
   "execution_count": 9,
   "id": "65492db3",
   "metadata": {},
   "outputs": [
    {
     "name": "stdout",
     "output_type": "stream",
     "text": [
      "La biomassa deñ modelc és: 755.003215550663\n"
     ]
    }
   ],
   "source": [
    "xc = solutionmodelc.objective_value\n",
    "print('La biomassa deñ modelc és:', xc)"
   ]
  },
  {
   "cell_type": "markdown",
   "id": "efc872b5",
   "metadata": {},
   "source": [
    "Model 1:"
   ]
  },
  {
   "cell_type": "code",
   "execution_count": 11,
   "id": "5d9697df",
   "metadata": {
    "tags": []
   },
   "outputs": [
    {
     "name": "stdout",
     "output_type": "stream",
     "text": [
      "<Solution 193.526 at 0x1c875fafa50>\n"
     ]
    }
   ],
   "source": [
    "solutionmodel1=model1.optimize()\n",
    "print(solutionmodel1)"
   ]
  },
  {
   "cell_type": "code",
   "execution_count": 12,
   "id": "baf39b5f",
   "metadata": {},
   "outputs": [
    {
     "data": {
      "text/html": [
       "<strong><em>Optimal</em> solution with objective value 193.526</strong><br><div>\n",
       "<style scoped>\n",
       "    .dataframe tbody tr th:only-of-type {\n",
       "        vertical-align: middle;\n",
       "    }\n",
       "\n",
       "    .dataframe tbody tr th {\n",
       "        vertical-align: top;\n",
       "    }\n",
       "\n",
       "    .dataframe thead th {\n",
       "        text-align: right;\n",
       "    }\n",
       "</style>\n",
       "<table border=\"1\" class=\"dataframe\">\n",
       "  <thead>\n",
       "    <tr style=\"text-align: right;\">\n",
       "      <th></th>\n",
       "      <th>fluxes</th>\n",
       "      <th>reduced_costs</th>\n",
       "    </tr>\n",
       "  </thead>\n",
       "  <tbody>\n",
       "    <tr>\n",
       "      <th>13DAMPPOX</th>\n",
       "      <td>0.000000e+00</td>\n",
       "      <td>-6.141060e-02</td>\n",
       "    </tr>\n",
       "    <tr>\n",
       "      <th>2HBO</th>\n",
       "      <td>-2.973861e+02</td>\n",
       "      <td>-1.121720e-34</td>\n",
       "    </tr>\n",
       "    <tr>\n",
       "      <th>2HBt2</th>\n",
       "      <td>0.000000e+00</td>\n",
       "      <td>0.000000e+00</td>\n",
       "    </tr>\n",
       "    <tr>\n",
       "      <th>2HCO3_NAt</th>\n",
       "      <td>1.000000e+03</td>\n",
       "      <td>0.000000e+00</td>\n",
       "    </tr>\n",
       "    <tr>\n",
       "      <th>2OXOADOXm</th>\n",
       "      <td>0.000000e+00</td>\n",
       "      <td>-7.407209e-02</td>\n",
       "    </tr>\n",
       "    <tr>\n",
       "      <th>...</th>\n",
       "      <td>...</td>\n",
       "      <td>...</td>\n",
       "    </tr>\n",
       "    <tr>\n",
       "      <th>sink_asp_L[c]</th>\n",
       "      <td>5.634757e+02</td>\n",
       "      <td>0.000000e+00</td>\n",
       "    </tr>\n",
       "    <tr>\n",
       "      <th>sink_glu_L[c]</th>\n",
       "      <td>-1.000000e+03</td>\n",
       "      <td>-2.323644e-02</td>\n",
       "    </tr>\n",
       "    <tr>\n",
       "      <th>sink_pro_L[c]</th>\n",
       "      <td>-7.982576e+01</td>\n",
       "      <td>-0.000000e+00</td>\n",
       "    </tr>\n",
       "    <tr>\n",
       "      <th>sink_4abut[l]</th>\n",
       "      <td>-2.252071e-27</td>\n",
       "      <td>-4.521112e-19</td>\n",
       "    </tr>\n",
       "    <tr>\n",
       "      <th>DM_4glu56dihdind[c]</th>\n",
       "      <td>7.323032e+01</td>\n",
       "      <td>9.040798e-19</td>\n",
       "    </tr>\n",
       "  </tbody>\n",
       "</table>\n",
       "<p>4131 rows × 2 columns</p>\n",
       "</div>"
      ],
      "text/plain": [
       "<Solution 193.526 at 0x1c875fafa50>"
      ]
     },
     "execution_count": 12,
     "metadata": {},
     "output_type": "execute_result"
    }
   ],
   "source": [
    "solutionmodel1"
   ]
  },
  {
   "cell_type": "code",
   "execution_count": 13,
   "id": "c5bc4a0d",
   "metadata": {
    "tags": []
   },
   "outputs": [
    {
     "name": "stdout",
     "output_type": "stream",
     "text": [
      "La biomassa del model 1 és: 193.52637551258826\n"
     ]
    }
   ],
   "source": [
    "x1 =solutionmodel1.objective_value\n",
    "print ('La biomassa del model 1 és:',x1)"
   ]
  },
  {
   "cell_type": "markdown",
   "id": "1389f8a5",
   "metadata": {},
   "source": [
    "Model 2:"
   ]
  },
  {
   "cell_type": "code",
   "execution_count": 14,
   "id": "316284ca",
   "metadata": {
    "tags": []
   },
   "outputs": [
    {
     "name": "stdout",
     "output_type": "stream",
     "text": [
      "<Solution 241.496 at 0x1c87586c650>\n"
     ]
    }
   ],
   "source": [
    "solutionmodel2=model2.optimize()\n",
    "print(solutionmodel2)"
   ]
  },
  {
   "cell_type": "code",
   "execution_count": 10,
   "id": "8f0ba998",
   "metadata": {},
   "outputs": [
    {
     "data": {
      "text/html": [
       "<strong><em>Optimal</em> solution with objective value 241.496</strong><br><div>\n",
       "<style scoped>\n",
       "    .dataframe tbody tr th:only-of-type {\n",
       "        vertical-align: middle;\n",
       "    }\n",
       "\n",
       "    .dataframe tbody tr th {\n",
       "        vertical-align: top;\n",
       "    }\n",
       "\n",
       "    .dataframe thead th {\n",
       "        text-align: right;\n",
       "    }\n",
       "</style>\n",
       "<table border=\"1\" class=\"dataframe\">\n",
       "  <thead>\n",
       "    <tr style=\"text-align: right;\">\n",
       "      <th></th>\n",
       "      <th>fluxes</th>\n",
       "      <th>reduced_costs</th>\n",
       "    </tr>\n",
       "  </thead>\n",
       "  <tbody>\n",
       "    <tr>\n",
       "      <th>10FTHF7GLUtl</th>\n",
       "      <td>0.000000</td>\n",
       "      <td>0.000000e+00</td>\n",
       "    </tr>\n",
       "    <tr>\n",
       "      <th>10FTHFtl</th>\n",
       "      <td>0.000000</td>\n",
       "      <td>-0.000000e+00</td>\n",
       "    </tr>\n",
       "    <tr>\n",
       "      <th>13DAMPPOX</th>\n",
       "      <td>0.000000</td>\n",
       "      <td>2.729399e-18</td>\n",
       "    </tr>\n",
       "    <tr>\n",
       "      <th>2AMACHYD</th>\n",
       "      <td>0.000000</td>\n",
       "      <td>3.194813e-17</td>\n",
       "    </tr>\n",
       "    <tr>\n",
       "      <th>2HBO</th>\n",
       "      <td>-142.857143</td>\n",
       "      <td>5.982507e-34</td>\n",
       "    </tr>\n",
       "    <tr>\n",
       "      <th>...</th>\n",
       "      <td>...</td>\n",
       "      <td>...</td>\n",
       "    </tr>\n",
       "    <tr>\n",
       "      <th>sink_asp_L[c]</th>\n",
       "      <td>914.845969</td>\n",
       "      <td>0.000000e+00</td>\n",
       "    </tr>\n",
       "    <tr>\n",
       "      <th>sink_pro_L[c]</th>\n",
       "      <td>-96.399067</td>\n",
       "      <td>-0.000000e+00</td>\n",
       "    </tr>\n",
       "    <tr>\n",
       "      <th>sink_4abut[l]</th>\n",
       "      <td>0.000000</td>\n",
       "      <td>-0.000000e+00</td>\n",
       "    </tr>\n",
       "    <tr>\n",
       "      <th>DM_5cysdopa[c]</th>\n",
       "      <td>0.000000</td>\n",
       "      <td>0.000000e+00</td>\n",
       "    </tr>\n",
       "    <tr>\n",
       "      <th>DM_Lkynr[c]</th>\n",
       "      <td>0.000000</td>\n",
       "      <td>0.000000e+00</td>\n",
       "    </tr>\n",
       "  </tbody>\n",
       "</table>\n",
       "<p>4178 rows × 2 columns</p>\n",
       "</div>"
      ],
      "text/plain": [
       "<Solution 241.496 at 0x271e5c2fd50>"
      ]
     },
     "execution_count": 10,
     "metadata": {},
     "output_type": "execute_result"
    }
   ],
   "source": [
    "solutionmodel2"
   ]
  },
  {
   "cell_type": "code",
   "execution_count": 15,
   "id": "9479eb05",
   "metadata": {
    "tags": []
   },
   "outputs": [
    {
     "name": "stdout",
     "output_type": "stream",
     "text": [
      "La biomassa corresponent al Model 2 és: 241.49635780023098\n"
     ]
    }
   ],
   "source": [
    "x2 = solutionmodel2.objective_value\n",
    "print('La biomassa corresponent al Model 2 és:',x2)"
   ]
  },
  {
   "cell_type": "code",
   "execution_count": 16,
   "id": "11825319",
   "metadata": {
    "tags": []
   },
   "outputs": [],
   "source": [
    "data = {\n",
    "    'Modelo': ['Modelo c','Modelo 1', 'Modelo 2'],\n",
    "    'Biomasses': [solutionmodelc.objective_value,solutionmodel1.objective_value, solutionmodel2.objective_value]\n",
    "}"
   ]
  },
  {
   "cell_type": "code",
   "execution_count": 17,
   "id": "74fc5dcd",
   "metadata": {
    "tags": []
   },
   "outputs": [
    {
     "data": {
      "text/html": [
       "<div>\n",
       "<style scoped>\n",
       "    .dataframe tbody tr th:only-of-type {\n",
       "        vertical-align: middle;\n",
       "    }\n",
       "\n",
       "    .dataframe tbody tr th {\n",
       "        vertical-align: top;\n",
       "    }\n",
       "\n",
       "    .dataframe thead th {\n",
       "        text-align: right;\n",
       "    }\n",
       "</style>\n",
       "<table border=\"1\" class=\"dataframe\">\n",
       "  <thead>\n",
       "    <tr style=\"text-align: right;\">\n",
       "      <th></th>\n",
       "      <th>Modelo</th>\n",
       "      <th>Biomasses</th>\n",
       "    </tr>\n",
       "  </thead>\n",
       "  <tbody>\n",
       "    <tr>\n",
       "      <th>0</th>\n",
       "      <td>Modelo c</td>\n",
       "      <td>755.003216</td>\n",
       "    </tr>\n",
       "    <tr>\n",
       "      <th>1</th>\n",
       "      <td>Modelo 1</td>\n",
       "      <td>193.526376</td>\n",
       "    </tr>\n",
       "    <tr>\n",
       "      <th>2</th>\n",
       "      <td>Modelo 2</td>\n",
       "      <td>241.496358</td>\n",
       "    </tr>\n",
       "  </tbody>\n",
       "</table>\n",
       "</div>"
      ],
      "text/plain": [
       "     Modelo   Biomasses\n",
       "0  Modelo c  755.003216\n",
       "1  Modelo 1  193.526376\n",
       "2  Modelo 2  241.496358"
      ]
     },
     "execution_count": 17,
     "metadata": {},
     "output_type": "execute_result"
    }
   ],
   "source": [
    "tabla=pd.DataFrame(data)\n",
    "tabla"
   ]
  },
  {
   "cell_type": "markdown",
   "id": "59b8fffb",
   "metadata": {},
   "source": [
    "# Histograma"
   ]
  },
  {
   "cell_type": "markdown",
   "id": "f542107c",
   "metadata": {},
   "source": [
    "Tabular dades dels fluxos amb les seves reaccions del model 1:"
   ]
  },
  {
   "cell_type": "code",
   "execution_count": 52,
   "id": "40294d38",
   "metadata": {
    "tags": []
   },
   "outputs": [
    {
     "data": {
      "text/html": [
       "<div>\n",
       "<style scoped>\n",
       "    .dataframe tbody tr th:only-of-type {\n",
       "        vertical-align: middle;\n",
       "    }\n",
       "\n",
       "    .dataframe tbody tr th {\n",
       "        vertical-align: top;\n",
       "    }\n",
       "\n",
       "    .dataframe thead th {\n",
       "        text-align: right;\n",
       "    }\n",
       "</style>\n",
       "<table border=\"1\" class=\"dataframe\">\n",
       "  <thead>\n",
       "    <tr style=\"text-align: right;\">\n",
       "      <th></th>\n",
       "      <th>Flujos1</th>\n",
       "    </tr>\n",
       "  </thead>\n",
       "  <tbody>\n",
       "    <tr>\n",
       "      <th>13DAMPPOX</th>\n",
       "      <td>0.000000e+00</td>\n",
       "    </tr>\n",
       "    <tr>\n",
       "      <th>2HBO</th>\n",
       "      <td>-2.973861e+02</td>\n",
       "    </tr>\n",
       "    <tr>\n",
       "      <th>2HBt2</th>\n",
       "      <td>0.000000e+00</td>\n",
       "    </tr>\n",
       "    <tr>\n",
       "      <th>2HCO3_NAt</th>\n",
       "      <td>1.000000e+03</td>\n",
       "    </tr>\n",
       "    <tr>\n",
       "      <th>2OXOADOXm</th>\n",
       "      <td>0.000000e+00</td>\n",
       "    </tr>\n",
       "    <tr>\n",
       "      <th>...</th>\n",
       "      <td>...</td>\n",
       "    </tr>\n",
       "    <tr>\n",
       "      <th>sink_asp_L[c]</th>\n",
       "      <td>5.634757e+02</td>\n",
       "    </tr>\n",
       "    <tr>\n",
       "      <th>sink_glu_L[c]</th>\n",
       "      <td>-1.000000e+03</td>\n",
       "    </tr>\n",
       "    <tr>\n",
       "      <th>sink_pro_L[c]</th>\n",
       "      <td>-7.982576e+01</td>\n",
       "    </tr>\n",
       "    <tr>\n",
       "      <th>sink_4abut[l]</th>\n",
       "      <td>-2.252071e-27</td>\n",
       "    </tr>\n",
       "    <tr>\n",
       "      <th>DM_4glu56dihdind[c]</th>\n",
       "      <td>7.323032e+01</td>\n",
       "    </tr>\n",
       "  </tbody>\n",
       "</table>\n",
       "<p>4131 rows × 1 columns</p>\n",
       "</div>"
      ],
      "text/plain": [
       "                          Flujos1\n",
       "13DAMPPOX            0.000000e+00\n",
       "2HBO                -2.973861e+02\n",
       "2HBt2                0.000000e+00\n",
       "2HCO3_NAt            1.000000e+03\n",
       "2OXOADOXm            0.000000e+00\n",
       "...                           ...\n",
       "sink_asp_L[c]        5.634757e+02\n",
       "sink_glu_L[c]       -1.000000e+03\n",
       "sink_pro_L[c]       -7.982576e+01\n",
       "sink_4abut[l]       -2.252071e-27\n",
       "DM_4glu56dihdind[c]  7.323032e+01\n",
       "\n",
       "[4131 rows x 1 columns]"
      ]
     },
     "execution_count": 52,
     "metadata": {},
     "output_type": "execute_result"
    }
   ],
   "source": [
    "tabla_flujos1={'Flujos1':solutionmodel1.fluxes}\n",
    "tabla_flujos1=pd.DataFrame(tabla_flujos1)\n",
    "tabla_flujos1"
   ]
  },
  {
   "cell_type": "markdown",
   "id": "68e5541e",
   "metadata": {},
   "source": [
    "Tabular fluxos amb les reaccions del model 2"
   ]
  },
  {
   "cell_type": "code",
   "execution_count": 49,
   "id": "a28a5856",
   "metadata": {
    "tags": []
   },
   "outputs": [
    {
     "data": {
      "text/html": [
       "<div>\n",
       "<style scoped>\n",
       "    .dataframe tbody tr th:only-of-type {\n",
       "        vertical-align: middle;\n",
       "    }\n",
       "\n",
       "    .dataframe tbody tr th {\n",
       "        vertical-align: top;\n",
       "    }\n",
       "\n",
       "    .dataframe thead th {\n",
       "        text-align: right;\n",
       "    }\n",
       "</style>\n",
       "<table border=\"1\" class=\"dataframe\">\n",
       "  <thead>\n",
       "    <tr style=\"text-align: right;\">\n",
       "      <th></th>\n",
       "      <th>Flujos2</th>\n",
       "    </tr>\n",
       "  </thead>\n",
       "  <tbody>\n",
       "    <tr>\n",
       "      <th>10FTHF7GLUtl</th>\n",
       "      <td>0.000000</td>\n",
       "    </tr>\n",
       "    <tr>\n",
       "      <th>10FTHFtl</th>\n",
       "      <td>0.000000</td>\n",
       "    </tr>\n",
       "    <tr>\n",
       "      <th>13DAMPPOX</th>\n",
       "      <td>0.000000</td>\n",
       "    </tr>\n",
       "    <tr>\n",
       "      <th>2AMACHYD</th>\n",
       "      <td>0.000000</td>\n",
       "    </tr>\n",
       "    <tr>\n",
       "      <th>2HBO</th>\n",
       "      <td>-142.857143</td>\n",
       "    </tr>\n",
       "    <tr>\n",
       "      <th>...</th>\n",
       "      <td>...</td>\n",
       "    </tr>\n",
       "    <tr>\n",
       "      <th>sink_asp_L[c]</th>\n",
       "      <td>914.845969</td>\n",
       "    </tr>\n",
       "    <tr>\n",
       "      <th>sink_pro_L[c]</th>\n",
       "      <td>-96.399067</td>\n",
       "    </tr>\n",
       "    <tr>\n",
       "      <th>sink_4abut[l]</th>\n",
       "      <td>0.000000</td>\n",
       "    </tr>\n",
       "    <tr>\n",
       "      <th>DM_5cysdopa[c]</th>\n",
       "      <td>0.000000</td>\n",
       "    </tr>\n",
       "    <tr>\n",
       "      <th>DM_Lkynr[c]</th>\n",
       "      <td>0.000000</td>\n",
       "    </tr>\n",
       "  </tbody>\n",
       "</table>\n",
       "<p>4178 rows × 1 columns</p>\n",
       "</div>"
      ],
      "text/plain": [
       "                   Flujos2\n",
       "10FTHF7GLUtl      0.000000\n",
       "10FTHFtl          0.000000\n",
       "13DAMPPOX         0.000000\n",
       "2AMACHYD          0.000000\n",
       "2HBO           -142.857143\n",
       "...                    ...\n",
       "sink_asp_L[c]   914.845969\n",
       "sink_pro_L[c]   -96.399067\n",
       "sink_4abut[l]     0.000000\n",
       "DM_5cysdopa[c]    0.000000\n",
       "DM_Lkynr[c]       0.000000\n",
       "\n",
       "[4178 rows x 1 columns]"
      ]
     },
     "execution_count": 49,
     "metadata": {},
     "output_type": "execute_result"
    }
   ],
   "source": [
    "tabla_flujos2={'Flujos2':solutionmodel2.fluxes}\n",
    "tabla_flujos2=pd.DataFrame(tabla_flujos2)\n",
    "tabla_flujos2"
   ]
  },
  {
   "cell_type": "markdown",
   "id": "46f8ae2d",
   "metadata": {},
   "source": [
    "Fer una taula conjunta de les reaccions i fluxos del model 1  i 2"
   ]
  },
  {
   "cell_type": "code",
   "execution_count": 65,
   "id": "0fdd9eb7",
   "metadata": {
    "tags": []
   },
   "outputs": [
    {
     "data": {
      "text/html": [
       "<div>\n",
       "<style scoped>\n",
       "    .dataframe tbody tr th:only-of-type {\n",
       "        vertical-align: middle;\n",
       "    }\n",
       "\n",
       "    .dataframe tbody tr th {\n",
       "        vertical-align: top;\n",
       "    }\n",
       "\n",
       "    .dataframe thead th {\n",
       "        text-align: right;\n",
       "    }\n",
       "</style>\n",
       "<table border=\"1\" class=\"dataframe\">\n",
       "  <thead>\n",
       "    <tr style=\"text-align: right;\">\n",
       "      <th></th>\n",
       "      <th>Flujos1</th>\n",
       "      <th>Flujos2</th>\n",
       "    </tr>\n",
       "  </thead>\n",
       "  <tbody>\n",
       "    <tr>\n",
       "      <th>13DAMPPOX</th>\n",
       "      <td>0.000000</td>\n",
       "      <td>0.000000</td>\n",
       "    </tr>\n",
       "    <tr>\n",
       "      <th>2HBO</th>\n",
       "      <td>-297.386146</td>\n",
       "      <td>-142.857143</td>\n",
       "    </tr>\n",
       "    <tr>\n",
       "      <th>2HBt2</th>\n",
       "      <td>0.000000</td>\n",
       "      <td>0.000000</td>\n",
       "    </tr>\n",
       "    <tr>\n",
       "      <th>2HCO3_NAt</th>\n",
       "      <td>1000.000000</td>\n",
       "      <td>0.000000</td>\n",
       "    </tr>\n",
       "    <tr>\n",
       "      <th>2OXOADOXm</th>\n",
       "      <td>0.000000</td>\n",
       "      <td>0.000000</td>\n",
       "    </tr>\n",
       "    <tr>\n",
       "      <th>...</th>\n",
       "      <td>...</td>\n",
       "      <td>...</td>\n",
       "    </tr>\n",
       "    <tr>\n",
       "      <th>sink_lys_L[c]</th>\n",
       "      <td>NaN</td>\n",
       "      <td>-56.232427</td>\n",
       "    </tr>\n",
       "    <tr>\n",
       "      <th>sink_met_L[c]</th>\n",
       "      <td>NaN</td>\n",
       "      <td>-36.953773</td>\n",
       "    </tr>\n",
       "    <tr>\n",
       "      <th>sink_asn_L[c]</th>\n",
       "      <td>NaN</td>\n",
       "      <td>-67.478912</td>\n",
       "    </tr>\n",
       "    <tr>\n",
       "      <th>DM_5cysdopa[c]</th>\n",
       "      <td>NaN</td>\n",
       "      <td>0.000000</td>\n",
       "    </tr>\n",
       "    <tr>\n",
       "      <th>DM_Lkynr[c]</th>\n",
       "      <td>NaN</td>\n",
       "      <td>0.000000</td>\n",
       "    </tr>\n",
       "  </tbody>\n",
       "</table>\n",
       "<p>4461 rows × 2 columns</p>\n",
       "</div>"
      ],
      "text/plain": [
       "                    Flujos1     Flujos2\n",
       "13DAMPPOX          0.000000    0.000000\n",
       "2HBO            -297.386146 -142.857143\n",
       "2HBt2              0.000000    0.000000\n",
       "2HCO3_NAt       1000.000000    0.000000\n",
       "2OXOADOXm          0.000000    0.000000\n",
       "...                     ...         ...\n",
       "sink_lys_L[c]           NaN  -56.232427\n",
       "sink_met_L[c]           NaN  -36.953773\n",
       "sink_asn_L[c]           NaN  -67.478912\n",
       "DM_5cysdopa[c]          NaN    0.000000\n",
       "DM_Lkynr[c]             NaN    0.000000\n",
       "\n",
       "[4461 rows x 2 columns]"
      ]
     },
     "execution_count": 65,
     "metadata": {},
     "output_type": "execute_result"
    }
   ],
   "source": [
    "fluxes=pd.concat([tabla_flujos1, tabla_flujos2], axis=1) #al poner el axis=1 agregas en horizontal (ppones una columna mas)\n",
    "fluxes                                                     #si pones axis=0 agregas verticalmente, pones los datos a bajo (todo en una colmna)"
   ]
  },
  {
   "cell_type": "markdown",
   "id": "ed5d03f9",
   "metadata": {},
   "source": [
    "HISTOGRAMA:"
   ]
  },
  {
   "cell_type": "code",
   "execution_count": 55,
   "id": "9b18333a",
   "metadata": {
    "tags": []
   },
   "outputs": [
    {
     "data": {
      "image/png": "[encoded data removed]",
      "text/plain": [
       "<Figure size 640x480 with 1 Axes>"
      ]
     },
     "metadata": {},
     "output_type": "display_data"
    }
   ],
   "source": [
    "plt.hist(fluxes['Flujos1'], bins=30, color='dodgerblue', alpha=0.7, label='Modelo 1')\n",
    "plt.hist(fluxes['Flujos2'], bins=30, color='indianred', alpha=0.7, label='Modelo 2')\n",
    "plt.title('Models Conjunts')\n",
    "plt.xlabel('Valor Fluxe')\n",
    "plt.ylabel('Nª rxns')\n",
    "plt.legend(loc='upper right')\n",
    "plt.grid(False)"
   ]
  },
  {
   "cell_type": "code",
   "execution_count": 194,
   "id": "527d9e01",
   "metadata": {},
   "outputs": [
    {
     "data": {
      "image/png": "[encoded data removed]",
      "text/plain": [
       "<Figure size 640x480 with 1 Axes>"
      ]
     },
     "metadata": {},
     "output_type": "display_data"
    }
   ],
   "source": [
    "hist_1=plt.hist(fluxes['Flujos1'], bins=30, color='dodgerblue', alpha=0.7)\n",
    "plt.title('Model 1')\n",
    "plt.xlabel('Valor Fluxe')\n",
    "plt.ylabel('Nº rxns')\n",
    "plt.grid(False)"
   ]
  },
  {
   "cell_type": "code",
   "execution_count": 196,
   "id": "6408330d",
   "metadata": {},
   "outputs": [
    {
     "data": {
      "image/png": "[encoded data removed]",
      "text/plain": [
       "<Figure size 640x480 with 1 Axes>"
      ]
     },
     "metadata": {},
     "output_type": "display_data"
    }
   ],
   "source": [
    "hist_2=plt.hist(fluxes['Flujos2'], bins=30, color='indianred', alpha=0.7)\n",
    "plt.title('Model 2')\n",
    "plt.xlabel('Valor Fluxe')\n",
    "plt.ylabel('Nº rxns')\n",
    "plt.grid(False)"
   ]
  },
  {
   "cell_type": "markdown",
   "id": "eacbe74c",
   "metadata": {},
   "source": [
    "# Transformació i visualització de dades"
   ]
  },
  {
   "cell_type": "code",
   "execution_count": 48,
   "id": "7d948e75",
   "metadata": {},
   "outputs": [],
   "source": [
    "def flux_transformer(v):\n",
    "    '''\n",
    "    This function transforms fluxes into log2 scale with three additions:\n",
    "    - zero values are kept.\n",
    "    - values between 0 and 2 are adjusted to fit below one.\n",
    "    - negative fluxes are considered. \n",
    "    '''\n",
    "\n",
    "    def adjusted(v):\n",
    "        new = (np.log2(v + 0.125) + 3) / 4\n",
    "        return np.min([new, 1])\n",
    "\n",
    "    if v == 0:\n",
    "        vprime = 0\n",
    "    elif v > 0:\n",
    "        if v < 2:\n",
    "            vprime = adjusted(v)\n",
    "        else:\n",
    "            vprime = np.log2(v)\n",
    "    elif v < 0:\n",
    "        v = np.abs(v)\n",
    "        if v < 2:\n",
    "            vprime = -adjusted(v)\n",
    "        else:\n",
    "            vprime = -np.log2(v)\n",
    "    else:\n",
    "        raise ValueError('found value not considered')\n",
    "\n",
    "    return vprime"
   ]
  },
  {
   "cell_type": "code",
   "execution_count": 60,
   "id": "3df673d0",
   "metadata": {},
   "outputs": [
    {
     "data": {
      "text/html": [
       "<div>\n",
       "<style scoped>\n",
       "    .dataframe tbody tr th:only-of-type {\n",
       "        vertical-align: middle;\n",
       "    }\n",
       "\n",
       "    .dataframe tbody tr th {\n",
       "        vertical-align: top;\n",
       "    }\n",
       "\n",
       "    .dataframe thead th {\n",
       "        text-align: right;\n",
       "    }\n",
       "</style>\n",
       "<table border=\"1\" class=\"dataframe\">\n",
       "  <thead>\n",
       "    <tr style=\"text-align: right;\">\n",
       "      <th></th>\n",
       "      <th>Flujos1</th>\n",
       "    </tr>\n",
       "  </thead>\n",
       "  <tbody>\n",
       "    <tr>\n",
       "      <th>13DAMPPOX</th>\n",
       "      <td>0.000000</td>\n",
       "    </tr>\n",
       "    <tr>\n",
       "      <th>2HBO</th>\n",
       "      <td>-8.216194</td>\n",
       "    </tr>\n",
       "    <tr>\n",
       "      <th>2HBt2</th>\n",
       "      <td>0.000000</td>\n",
       "    </tr>\n",
       "    <tr>\n",
       "      <th>2HCO3_NAt</th>\n",
       "      <td>9.965784</td>\n",
       "    </tr>\n",
       "    <tr>\n",
       "      <th>2OXOADOXm</th>\n",
       "      <td>0.000000</td>\n",
       "    </tr>\n",
       "    <tr>\n",
       "      <th>...</th>\n",
       "      <td>...</td>\n",
       "    </tr>\n",
       "    <tr>\n",
       "      <th>sink_asp_L[c]</th>\n",
       "      <td>9.138210</td>\n",
       "    </tr>\n",
       "    <tr>\n",
       "      <th>sink_glu_L[c]</th>\n",
       "      <td>-9.965784</td>\n",
       "    </tr>\n",
       "    <tr>\n",
       "      <th>sink_pro_L[c]</th>\n",
       "      <td>-6.318782</td>\n",
       "    </tr>\n",
       "    <tr>\n",
       "      <th>sink_4abut[l]</th>\n",
       "      <td>-0.000000</td>\n",
       "    </tr>\n",
       "    <tr>\n",
       "      <th>DM_4glu56dihdind[c]</th>\n",
       "      <td>6.194369</td>\n",
       "    </tr>\n",
       "  </tbody>\n",
       "</table>\n",
       "<p>4131 rows × 1 columns</p>\n",
       "</div>"
      ],
      "text/plain": [
       "                      Flujos1\n",
       "13DAMPPOX            0.000000\n",
       "2HBO                -8.216194\n",
       "2HBt2                0.000000\n",
       "2HCO3_NAt            9.965784\n",
       "2OXOADOXm            0.000000\n",
       "...                       ...\n",
       "sink_asp_L[c]        9.138210\n",
       "sink_glu_L[c]       -9.965784\n",
       "sink_pro_L[c]       -6.318782\n",
       "sink_4abut[l]       -0.000000\n",
       "DM_4glu56dihdind[c]  6.194369\n",
       "\n",
       "[4131 rows x 1 columns]"
      ]
     },
     "execution_count": 60,
     "metadata": {},
     "output_type": "execute_result"
    }
   ],
   "source": [
    "flujos_t1 = tabla_flujos1.applymap(flux_transformer)\n",
    "flujos_t1"
   ]
  },
  {
   "cell_type": "code",
   "execution_count": 64,
   "id": "890ec7a2",
   "metadata": {},
   "outputs": [
    {
     "data": {
      "text/html": [
       "<div>\n",
       "<style scoped>\n",
       "    .dataframe tbody tr th:only-of-type {\n",
       "        vertical-align: middle;\n",
       "    }\n",
       "\n",
       "    .dataframe tbody tr th {\n",
       "        vertical-align: top;\n",
       "    }\n",
       "\n",
       "    .dataframe thead th {\n",
       "        text-align: right;\n",
       "    }\n",
       "</style>\n",
       "<table border=\"1\" class=\"dataframe\">\n",
       "  <thead>\n",
       "    <tr style=\"text-align: right;\">\n",
       "      <th></th>\n",
       "      <th>Flujos2</th>\n",
       "    </tr>\n",
       "  </thead>\n",
       "  <tbody>\n",
       "    <tr>\n",
       "      <th>10FTHF7GLUtl</th>\n",
       "      <td>0.000000</td>\n",
       "    </tr>\n",
       "    <tr>\n",
       "      <th>10FTHFtl</th>\n",
       "      <td>0.000000</td>\n",
       "    </tr>\n",
       "    <tr>\n",
       "      <th>13DAMPPOX</th>\n",
       "      <td>0.000000</td>\n",
       "    </tr>\n",
       "    <tr>\n",
       "      <th>2AMACHYD</th>\n",
       "      <td>0.000000</td>\n",
       "    </tr>\n",
       "    <tr>\n",
       "      <th>2HBO</th>\n",
       "      <td>-7.158429</td>\n",
       "    </tr>\n",
       "    <tr>\n",
       "      <th>...</th>\n",
       "      <td>...</td>\n",
       "    </tr>\n",
       "    <tr>\n",
       "      <th>sink_asp_L[c]</th>\n",
       "      <td>9.837385</td>\n",
       "    </tr>\n",
       "    <tr>\n",
       "      <th>sink_pro_L[c]</th>\n",
       "      <td>-6.590947</td>\n",
       "    </tr>\n",
       "    <tr>\n",
       "      <th>sink_4abut[l]</th>\n",
       "      <td>0.000000</td>\n",
       "    </tr>\n",
       "    <tr>\n",
       "      <th>DM_5cysdopa[c]</th>\n",
       "      <td>0.000000</td>\n",
       "    </tr>\n",
       "    <tr>\n",
       "      <th>DM_Lkynr[c]</th>\n",
       "      <td>0.000000</td>\n",
       "    </tr>\n",
       "  </tbody>\n",
       "</table>\n",
       "<p>4178 rows × 1 columns</p>\n",
       "</div>"
      ],
      "text/plain": [
       "                 Flujos2\n",
       "10FTHF7GLUtl    0.000000\n",
       "10FTHFtl        0.000000\n",
       "13DAMPPOX       0.000000\n",
       "2AMACHYD        0.000000\n",
       "2HBO           -7.158429\n",
       "...                  ...\n",
       "sink_asp_L[c]   9.837385\n",
       "sink_pro_L[c]  -6.590947\n",
       "sink_4abut[l]   0.000000\n",
       "DM_5cysdopa[c]  0.000000\n",
       "DM_Lkynr[c]     0.000000\n",
       "\n",
       "[4178 rows x 1 columns]"
      ]
     },
     "execution_count": 64,
     "metadata": {},
     "output_type": "execute_result"
    }
   ],
   "source": [
    "flujos_t2 = tabla_flujos2.applymap(flux_transformer)\n",
    "flujos_t2"
   ]
  },
  {
   "cell_type": "code",
   "execution_count": 69,
   "id": "a2fd6250",
   "metadata": {},
   "outputs": [
    {
     "data": {
      "text/html": [
       "<div>\n",
       "<style scoped>\n",
       "    .dataframe tbody tr th:only-of-type {\n",
       "        vertical-align: middle;\n",
       "    }\n",
       "\n",
       "    .dataframe tbody tr th {\n",
       "        vertical-align: top;\n",
       "    }\n",
       "\n",
       "    .dataframe thead th {\n",
       "        text-align: right;\n",
       "    }\n",
       "</style>\n",
       "<table border=\"1\" class=\"dataframe\">\n",
       "  <thead>\n",
       "    <tr style=\"text-align: right;\">\n",
       "      <th></th>\n",
       "      <th>Flujos1</th>\n",
       "      <th>Flujos2</th>\n",
       "    </tr>\n",
       "  </thead>\n",
       "  <tbody>\n",
       "    <tr>\n",
       "      <th>13DAMPPOX</th>\n",
       "      <td>0.000000</td>\n",
       "      <td>0.000000</td>\n",
       "    </tr>\n",
       "    <tr>\n",
       "      <th>2HBO</th>\n",
       "      <td>-8.216194</td>\n",
       "      <td>-7.158429</td>\n",
       "    </tr>\n",
       "    <tr>\n",
       "      <th>2HBt2</th>\n",
       "      <td>0.000000</td>\n",
       "      <td>0.000000</td>\n",
       "    </tr>\n",
       "    <tr>\n",
       "      <th>2HCO3_NAt</th>\n",
       "      <td>9.965784</td>\n",
       "      <td>0.000000</td>\n",
       "    </tr>\n",
       "    <tr>\n",
       "      <th>2OXOADOXm</th>\n",
       "      <td>0.000000</td>\n",
       "      <td>0.000000</td>\n",
       "    </tr>\n",
       "    <tr>\n",
       "      <th>...</th>\n",
       "      <td>...</td>\n",
       "      <td>...</td>\n",
       "    </tr>\n",
       "    <tr>\n",
       "      <th>sink_lys_L[c]</th>\n",
       "      <td>NaN</td>\n",
       "      <td>-5.813330</td>\n",
       "    </tr>\n",
       "    <tr>\n",
       "      <th>sink_met_L[c]</th>\n",
       "      <td>NaN</td>\n",
       "      <td>-5.207650</td>\n",
       "    </tr>\n",
       "    <tr>\n",
       "      <th>sink_asn_L[c]</th>\n",
       "      <td>NaN</td>\n",
       "      <td>-6.076365</td>\n",
       "    </tr>\n",
       "    <tr>\n",
       "      <th>DM_5cysdopa[c]</th>\n",
       "      <td>NaN</td>\n",
       "      <td>0.000000</td>\n",
       "    </tr>\n",
       "    <tr>\n",
       "      <th>DM_Lkynr[c]</th>\n",
       "      <td>NaN</td>\n",
       "      <td>0.000000</td>\n",
       "    </tr>\n",
       "  </tbody>\n",
       "</table>\n",
       "<p>4461 rows × 2 columns</p>\n",
       "</div>"
      ],
      "text/plain": [
       "                 Flujos1   Flujos2\n",
       "13DAMPPOX       0.000000  0.000000\n",
       "2HBO           -8.216194 -7.158429\n",
       "2HBt2           0.000000  0.000000\n",
       "2HCO3_NAt       9.965784  0.000000\n",
       "2OXOADOXm       0.000000  0.000000\n",
       "...                  ...       ...\n",
       "sink_lys_L[c]        NaN -5.813330\n",
       "sink_met_L[c]        NaN -5.207650\n",
       "sink_asn_L[c]        NaN -6.076365\n",
       "DM_5cysdopa[c]       NaN  0.000000\n",
       "DM_Lkynr[c]          NaN  0.000000\n",
       "\n",
       "[4461 rows x 2 columns]"
      ]
     },
     "execution_count": 69,
     "metadata": {},
     "output_type": "execute_result"
    }
   ],
   "source": [
    "flujos_t = pd.concat([flujos_t1, flujos_t2], axis=1)\n",
    "flujos_t"
   ]
  },
  {
   "cell_type": "code",
   "execution_count": 73,
   "id": "b2d2004a",
   "metadata": {},
   "outputs": [
    {
     "data": {
      "image/png": "[encoded data removed]",
      "text/plain": [
       "<Figure size 640x480 with 1 Axes>"
      ]
     },
     "metadata": {},
     "output_type": "display_data"
    }
   ],
   "source": [
    "plt.hist(flujos_t['Flujos1'], bins=30, color='dodgerblue', alpha=0.7, label='Modelo 1')\n",
    "plt.hist(flujos_t['Flujos2'], bins=30, color='indianred', alpha=0.7, label='Modelo 2')\n",
    "plt.title('Models Conjunts')\n",
    "plt.xlabel('Valor Fluxe')\n",
    "plt.ylabel('Nª rxns')\n",
    "plt.legend(loc='upper right')\n",
    "plt.grid(False)"
   ]
  }
 ],
 "metadata": {
  "kernelspec": {
   "display_name": "Python 3 (ipykernel)",
   "language": "python",
   "name": "python3"
  },
  "language_info": {
   "codemirror_mode": {
    "name": "ipython",
    "version": 3
   },
   "file_extension": ".py",
   "mimetype": "text/x-python",
   "name": "python",
   "nbconvert_exporter": "python",
   "pygments_lexer": "ipython3",
   "version": "3.11.5"
  },
  "widgets": {
   "application/vnd.jupyter.widget-state+json": {
    "state": {},
    "version_major": 2,
    "version_minor": 0
   }
  }
 },
 "nbformat": 4,
 "nbformat_minor": 5
}
